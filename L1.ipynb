{
 "cells": [
  {
   "cell_type": "code",
   "execution_count": 1,
   "id": "02706dbf-f9f5-45db-8ae0-0e6fc5d464b2",
   "metadata": {},
   "outputs": [],
   "source": [
    "import pandas as pd"
   ]
  },
  {
   "cell_type": "code",
   "execution_count": 2,
   "id": "b78d19d7-641f-4bfc-ad1c-8a746680c487",
   "metadata": {},
   "outputs": [],
   "source": [
    "from scipy import stats\n",
    "import numpy as np\n",
    "\n",
    "## Remove outliers using Z score\n",
    "\n",
    "def drop_coordinates_outliers(data):\n",
    "    data = data.copy()\n",
    "    print('Data shape before removing outliers: ', data.shape)\n",
    "    data = data[((data.lat > 0.0)&(data.lon> 0.0))]\n",
    "    z_lat, z_lon = np.abs(stats.zscore(data.lat)), np.abs(stats.zscore(data.lon))\n",
    "    \n",
    "    threshold = 2.5\n",
    "    lat_outliers = np.where(z_lat > threshold)\n",
    "    lon_outliers = np.where(z_lon > threshold)\n",
    "    \n",
    "    data_no_outliers = data.loc[~data.index.isin(np.concatenate((lat_outliers[0], lon_outliers[0])))].reset_index(drop=True)\n",
    "    print('Data shape after removing outliers: ', data.shape)\n",
    "    return data_no_outliers"
   ]
  },
  {
   "cell_type": "markdown",
   "id": "bd0018ec-824e-43ca-8595-12c373e580d6",
   "metadata": {},
   "source": [
    "### First of all we need to know the bounds of area which we will use for training"
   ]
  },
  {
   "cell_type": "code",
   "execution_count": 3,
   "id": "f7a78ef5-f8f7-4a25-9764-41d84426fd8f",
   "metadata": {},
   "outputs": [],
   "source": [
    "valid = pd.read_csv('./valid.csv')\n",
    "valid = valid.drop_duplicates()\n",
    "\n",
    "valid['hour'] = pd.to_datetime(valid['hour'], unit='s')"
   ]
  },
  {
   "cell_type": "code",
   "execution_count": 4,
   "id": "758c5c76-5e43-43ec-b9dc-18c69755811a",
   "metadata": {},
   "outputs": [
    {
     "name": "stdout",
     "output_type": "stream",
     "text": [
      "Data shape before removing outliers:  (709, 6)\n",
      "Data shape after removing outliers:  (686, 6)\n"
     ]
    },
    {
     "data": {
      "text/html": [
       "<div>\n",
       "<style scoped>\n",
       "    .dataframe tbody tr th:only-of-type {\n",
       "        vertical-align: middle;\n",
       "    }\n",
       "\n",
       "    .dataframe tbody tr th {\n",
       "        vertical-align: top;\n",
       "    }\n",
       "\n",
       "    .dataframe thead th {\n",
       "        text-align: right;\n",
       "    }\n",
       "</style>\n",
       "<table border=\"1\" class=\"dataframe\">\n",
       "  <thead>\n",
       "    <tr style=\"text-align: right;\">\n",
       "      <th></th>\n",
       "      <th>hour</th>\n",
       "      <th>lat</th>\n",
       "      <th>lon</th>\n",
       "      <th>point</th>\n",
       "      <th>sum</th>\n",
       "      <th>error</th>\n",
       "    </tr>\n",
       "  </thead>\n",
       "  <tbody>\n",
       "    <tr>\n",
       "      <th>0</th>\n",
       "      <td>2020-02-23 09:00:00</td>\n",
       "      <td>59.926986</td>\n",
       "      <td>30.318141</td>\n",
       "      <td>0101000020E6100000202C93AD71513E4070B5CC78A7F6...</td>\n",
       "      <td>5</td>\n",
       "      <td>0.421402</td>\n",
       "    </tr>\n",
       "    <tr>\n",
       "      <th>1</th>\n",
       "      <td>2020-02-20 19:00:00</td>\n",
       "      <td>59.924735</td>\n",
       "      <td>30.241784</td>\n",
       "      <td>0101000020E6100000C5FE0F8FE53D3E4033438EB75DF6...</td>\n",
       "      <td>14</td>\n",
       "      <td>0.310291</td>\n",
       "    </tr>\n",
       "    <tr>\n",
       "      <th>2</th>\n",
       "      <td>2020-02-09 15:00:00</td>\n",
       "      <td>60.002300</td>\n",
       "      <td>30.295683</td>\n",
       "      <td>0101000020E6100000AB00D6E0B14B3E40CB88A75E4B00...</td>\n",
       "      <td>5</td>\n",
       "      <td>3.754735</td>\n",
       "    </tr>\n",
       "    <tr>\n",
       "      <th>3</th>\n",
       "      <td>2020-02-17 17:00:00</td>\n",
       "      <td>59.935988</td>\n",
       "      <td>30.324878</td>\n",
       "      <td>0101000020E61000005DECCB372B533E40E4A1F770CEF7...</td>\n",
       "      <td>7</td>\n",
       "      <td>0.504735</td>\n",
       "    </tr>\n",
       "    <tr>\n",
       "      <th>4</th>\n",
       "      <td>2020-02-27 05:00:00</td>\n",
       "      <td>59.933737</td>\n",
       "      <td>30.306912</td>\n",
       "      <td>0101000020E6100000669634C7914E3E407AB3D8B484F7...</td>\n",
       "      <td>14</td>\n",
       "      <td>1.554735</td>\n",
       "    </tr>\n",
       "  </tbody>\n",
       "</table>\n",
       "</div>"
      ],
      "text/plain": [
       "                 hour        lat        lon  \\\n",
       "0 2020-02-23 09:00:00  59.926986  30.318141   \n",
       "1 2020-02-20 19:00:00  59.924735  30.241784   \n",
       "2 2020-02-09 15:00:00  60.002300  30.295683   \n",
       "3 2020-02-17 17:00:00  59.935988  30.324878   \n",
       "4 2020-02-27 05:00:00  59.933737  30.306912   \n",
       "\n",
       "                                               point  sum     error  \n",
       "0  0101000020E6100000202C93AD71513E4070B5CC78A7F6...    5  0.421402  \n",
       "1  0101000020E6100000C5FE0F8FE53D3E4033438EB75DF6...   14  0.310291  \n",
       "2  0101000020E6100000AB00D6E0B14B3E40CB88A75E4B00...    5  3.754735  \n",
       "3  0101000020E61000005DECCB372B533E40E4A1F770CEF7...    7  0.504735  \n",
       "4  0101000020E6100000669634C7914E3E407AB3D8B484F7...   14  1.554735  "
      ]
     },
     "execution_count": 4,
     "metadata": {},
     "output_type": "execute_result"
    }
   ],
   "source": [
    "valid_no_outliers = drop_coordinates_outliers(data=valid.copy())\n",
    "valid.head(5)"
   ]
  },
  {
   "cell_type": "code",
   "execution_count": 5,
   "id": "e612c88f-b827-4219-b971-5959102801dc",
   "metadata": {},
   "outputs": [],
   "source": [
    "LAT_MIN_BOUND, LAT_MAX_BOUND = valid_no_outliers.lat.min(), valid_no_outliers.lat.max()\n",
    "LON_MIN_BOUND, LON_MAX_BOUND = valid_no_outliers.lon.min(), valid_no_outliers.lon.max()"
   ]
  },
  {
   "cell_type": "code",
   "execution_count": 6,
   "id": "4622af89-b433-4b90-9b84-c4b73e71b837",
   "metadata": {},
   "outputs": [
    {
     "name": "stdout",
     "output_type": "stream",
     "text": [
      "Rectangle of interest:  59.82893394227072 60.03933228251395 30.14296935863054 30.53598229543283\n"
     ]
    }
   ],
   "source": [
    "print('Rectangle of interest: ', LAT_MIN_BOUND, LAT_MAX_BOUND, LON_MIN_BOUND, LON_MAX_BOUND)"
   ]
  },
  {
   "cell_type": "markdown",
   "id": "d7142112-512b-4d0e-90eb-818928258c59",
   "metadata": {},
   "source": [
    "## Read and process train data according to rectangle of interest"
   ]
  },
  {
   "cell_type": "code",
   "execution_count": 7,
   "id": "5318331e-9c59-4ce1-b708-145526df08d8",
   "metadata": {},
   "outputs": [
    {
     "name": "stdout",
     "output_type": "stream",
     "text": [
      "Train before dropping duplicates:  (8526526, 12)\n",
      "Train after dropping duplicates:  (8456776, 12)\n",
      "Train after filtering out rare cubes:  (8454375, 12)\n"
     ]
    }
   ],
   "source": [
    "train = pd.read_csv('./train_data.zip')\n",
    "print('Train before dropping duplicates: ', train.shape)\n",
    "\n",
    "train = train.drop_duplicates()\n",
    "print('Train after dropping duplicates: ', train.shape)\n",
    "\n",
    "# Filter all locations with less than 5 events in it \n",
    "train = train.groupby(\"point\").filter(lambda x: len(x) > 5)\n",
    "print('Train after filtering out rare cubes: ', train.shape)\n",
    "\n",
    "# Convert unix timestamp to normal time\n",
    "train['timestamp'] = pd.to_datetime(train['timestamp'], unit='s')\n",
    "train = train.reset_index(drop=True)"
   ]
  },
  {
   "cell_type": "code",
   "execution_count": 8,
   "id": "552bf19f-f06d-4062-a7d4-da6c795566f6",
   "metadata": {},
   "outputs": [
    {
     "name": "stdout",
     "output_type": "stream",
     "text": [
      "Train after removing cubes which are out of rectangle of interest:  (8295361, 12)\n"
     ]
    }
   ],
   "source": [
    "# Drop all cubes that are not included in rectangle of interest\n",
    "train_processed = train[((train.lat <= LAT_MAX_BOUND)&(train.lat >= LAT_MIN_BOUND)&(train.lon <= LON_MAX_BOUND)&(train.lon >= LON_MIN_BOUND))]\n",
    "print('Train after removing cubes which are out of rectangle of interest: ', train_processed.shape)"
   ]
  },
  {
   "cell_type": "code",
   "execution_count": 9,
   "id": "cef58c8d-8e1d-4413-88ef-8e1114205ba0",
   "metadata": {},
   "outputs": [
    {
     "data": {
      "text/html": [
       "<div>\n",
       "<style scoped>\n",
       "    .dataframe tbody tr th:only-of-type {\n",
       "        vertical-align: middle;\n",
       "    }\n",
       "\n",
       "    .dataframe tbody tr th {\n",
       "        vertical-align: top;\n",
       "    }\n",
       "\n",
       "    .dataframe thead th {\n",
       "        text-align: right;\n",
       "    }\n",
       "</style>\n",
       "<table border=\"1\" class=\"dataframe\">\n",
       "  <thead>\n",
       "    <tr style=\"text-align: right;\">\n",
       "      <th></th>\n",
       "      <th>timestamp</th>\n",
       "      <th>lon</th>\n",
       "      <th>lat</th>\n",
       "      <th>likescount</th>\n",
       "      <th>commentscount</th>\n",
       "      <th>symbols_cnt</th>\n",
       "      <th>words_cnt</th>\n",
       "      <th>hashtags_cnt</th>\n",
       "      <th>mentions_cnt</th>\n",
       "      <th>links_cnt</th>\n",
       "      <th>emoji_cnt</th>\n",
       "      <th>point</th>\n",
       "    </tr>\n",
       "  </thead>\n",
       "  <tbody>\n",
       "    <tr>\n",
       "      <th>0</th>\n",
       "      <td>2019-08-12 11:00:00</td>\n",
       "      <td>30.329370</td>\n",
       "      <td>59.940488</td>\n",
       "      <td>63</td>\n",
       "      <td>4</td>\n",
       "      <td>52</td>\n",
       "      <td>6</td>\n",
       "      <td>0</td>\n",
       "      <td>0</td>\n",
       "      <td>0</td>\n",
       "      <td>0</td>\n",
       "      <td>0101000020E6100000DBC1F19351543E4006FC5DE561F8...</td>\n",
       "    </tr>\n",
       "    <tr>\n",
       "      <th>1</th>\n",
       "      <td>2019-08-12 00:00:00</td>\n",
       "      <td>30.342845</td>\n",
       "      <td>59.869542</td>\n",
       "      <td>44</td>\n",
       "      <td>0</td>\n",
       "      <td>40</td>\n",
       "      <td>0</td>\n",
       "      <td>4</td>\n",
       "      <td>0</td>\n",
       "      <td>0</td>\n",
       "      <td>0</td>\n",
       "      <td>0101000020E6100000544263A8C4573E40C27FCF284DEF...</td>\n",
       "    </tr>\n",
       "    <tr>\n",
       "      <th>2</th>\n",
       "      <td>2019-08-12 00:00:00</td>\n",
       "      <td>30.322632</td>\n",
       "      <td>60.039332</td>\n",
       "      <td>30</td>\n",
       "      <td>0</td>\n",
       "      <td>77</td>\n",
       "      <td>7</td>\n",
       "      <td>0</td>\n",
       "      <td>0</td>\n",
       "      <td>0</td>\n",
       "      <td>1</td>\n",
       "      <td>0101000020E61000009E01B90998523E40888919D70805...</td>\n",
       "    </tr>\n",
       "    <tr>\n",
       "      <th>3</th>\n",
       "      <td>2019-08-12 00:00:00</td>\n",
       "      <td>30.322632</td>\n",
       "      <td>59.938238</td>\n",
       "      <td>13</td>\n",
       "      <td>0</td>\n",
       "      <td>634</td>\n",
       "      <td>17</td>\n",
       "      <td>32</td>\n",
       "      <td>0</td>\n",
       "      <td>0</td>\n",
       "      <td>7</td>\n",
       "      <td>0101000020E61000009E01B90998523E40CEB8CE2B18F8...</td>\n",
       "    </tr>\n",
       "    <tr>\n",
       "      <th>4</th>\n",
       "      <td>2019-08-12 00:00:00</td>\n",
       "      <td>30.309158</td>\n",
       "      <td>59.932612</td>\n",
       "      <td>8</td>\n",
       "      <td>0</td>\n",
       "      <td>0</td>\n",
       "      <td>0</td>\n",
       "      <td>0</td>\n",
       "      <td>0</td>\n",
       "      <td>0</td>\n",
       "      <td>0</td>\n",
       "      <td>0101000020E6100000268147F5244F3E40494A4ED65FF7...</td>\n",
       "    </tr>\n",
       "  </tbody>\n",
       "</table>\n",
       "</div>"
      ],
      "text/plain": [
       "            timestamp        lon        lat  likescount  commentscount  \\\n",
       "0 2019-08-12 11:00:00  30.329370  59.940488          63              4   \n",
       "1 2019-08-12 00:00:00  30.342845  59.869542          44              0   \n",
       "2 2019-08-12 00:00:00  30.322632  60.039332          30              0   \n",
       "3 2019-08-12 00:00:00  30.322632  59.938238          13              0   \n",
       "4 2019-08-12 00:00:00  30.309158  59.932612           8              0   \n",
       "\n",
       "   symbols_cnt  words_cnt  hashtags_cnt  mentions_cnt  links_cnt  emoji_cnt  \\\n",
       "0           52          6             0             0          0          0   \n",
       "1           40          0             4             0          0          0   \n",
       "2           77          7             0             0          0          1   \n",
       "3          634         17            32             0          0          7   \n",
       "4            0          0             0             0          0          0   \n",
       "\n",
       "                                               point  \n",
       "0  0101000020E6100000DBC1F19351543E4006FC5DE561F8...  \n",
       "1  0101000020E6100000544263A8C4573E40C27FCF284DEF...  \n",
       "2  0101000020E61000009E01B90998523E40888919D70805...  \n",
       "3  0101000020E61000009E01B90998523E40CEB8CE2B18F8...  \n",
       "4  0101000020E6100000268147F5244F3E40494A4ED65FF7...  "
      ]
     },
     "execution_count": 9,
     "metadata": {},
     "output_type": "execute_result"
    }
   ],
   "source": [
    "train_processed.head(5)"
   ]
  },
  {
   "cell_type": "code",
   "execution_count": 10,
   "id": "20541aab-f762-420a-99f3-88fb4a39ee99",
   "metadata": {},
   "outputs": [],
   "source": [
    "min_lat, max_lat = train_processed.lat.min(), train_processed.lat.max()\n",
    "min_lon, max_lon = train_processed.lon.min(), train_processed.lon.max()"
   ]
  },
  {
   "cell_type": "code",
   "execution_count": 11,
   "id": "c8f85896-0516-40ec-a449-ae15011ad544",
   "metadata": {},
   "outputs": [
    {
     "name": "stdout",
     "output_type": "stream",
     "text": [
      "Rectangle of interest in train data:  59.82893394227072 60.03933228251395 30.14521514684084 30.53598229543283\n"
     ]
    }
   ],
   "source": [
    "print('Rectangle of interest in train data: ', min_lat, max_lat, min_lon, max_lon)"
   ]
  },
  {
   "cell_type": "markdown",
   "id": "2c206e19-2dcc-417d-a4ee-79ffb6be3225",
   "metadata": {},
   "source": [
    "## Move coordinates to \"image\" grid"
   ]
  },
  {
   "cell_type": "code",
   "execution_count": 12,
   "id": "ec5ddb5f-19cd-41b0-bf3e-5d2518f73d7b",
   "metadata": {},
   "outputs": [],
   "source": [
    "def lat_to_grid(inp):\n",
    "    return round((LAT_MAX_BOUND - inp) / 0.0005)\n",
    "\n",
    "def lon_to_grid(inp):\n",
    "    return round((LON_MAX_BOUND - inp) / 0.0005)"
   ]
  },
  {
   "cell_type": "code",
   "execution_count": 13,
   "id": "00725d7d-9eb7-47ed-89e0-cac2ae309317",
   "metadata": {
    "tags": []
   },
   "outputs": [
    {
     "name": "stderr",
     "output_type": "stream",
     "text": [
      "/data/home/spushkov/.conda/envs/ent_rel_env/lib/python3.8/site-packages/pandas/core/indexing.py:1667: SettingWithCopyWarning: \n",
      "A value is trying to be set on a copy of a slice from a DataFrame.\n",
      "Try using .loc[row_indexer,col_indexer] = value instead\n",
      "\n",
      "See the caveats in the documentation: https://pandas.pydata.org/pandas-docs/stable/user_guide/indexing.html#returning-a-view-versus-a-copy\n",
      "  self.obj[key] = value\n"
     ]
    }
   ],
   "source": [
    "train_processed.loc[:, 'lat_gird'] = train_processed['lat'].apply(lambda x: lat_to_grid(x))\n",
    "train_processed.loc[:, 'lon_gird'] = train_processed['lon'].apply(lambda x: lon_to_grid(x))"
   ]
  },
  {
   "cell_type": "code",
   "execution_count": 14,
   "id": "2f225254-6cfe-4666-aa13-b4712fad9e31",
   "metadata": {},
   "outputs": [
    {
     "data": {
      "text/html": [
       "<div>\n",
       "<style scoped>\n",
       "    .dataframe tbody tr th:only-of-type {\n",
       "        vertical-align: middle;\n",
       "    }\n",
       "\n",
       "    .dataframe tbody tr th {\n",
       "        vertical-align: top;\n",
       "    }\n",
       "\n",
       "    .dataframe thead th {\n",
       "        text-align: right;\n",
       "    }\n",
       "</style>\n",
       "<table border=\"1\" class=\"dataframe\">\n",
       "  <thead>\n",
       "    <tr style=\"text-align: right;\">\n",
       "      <th></th>\n",
       "      <th>timestamp</th>\n",
       "      <th>lon</th>\n",
       "      <th>lat</th>\n",
       "      <th>likescount</th>\n",
       "      <th>commentscount</th>\n",
       "      <th>symbols_cnt</th>\n",
       "      <th>words_cnt</th>\n",
       "      <th>hashtags_cnt</th>\n",
       "      <th>mentions_cnt</th>\n",
       "      <th>links_cnt</th>\n",
       "      <th>emoji_cnt</th>\n",
       "      <th>point</th>\n",
       "      <th>lat_gird</th>\n",
       "      <th>lon_gird</th>\n",
       "    </tr>\n",
       "  </thead>\n",
       "  <tbody>\n",
       "    <tr>\n",
       "      <th>0</th>\n",
       "      <td>2019-08-12 11:00:00</td>\n",
       "      <td>30.329370</td>\n",
       "      <td>59.940488</td>\n",
       "      <td>63</td>\n",
       "      <td>4</td>\n",
       "      <td>52</td>\n",
       "      <td>6</td>\n",
       "      <td>0</td>\n",
       "      <td>0</td>\n",
       "      <td>0</td>\n",
       "      <td>0</td>\n",
       "      <td>0101000020E6100000DBC1F19351543E4006FC5DE561F8...</td>\n",
       "      <td>198</td>\n",
       "      <td>413</td>\n",
       "    </tr>\n",
       "    <tr>\n",
       "      <th>1</th>\n",
       "      <td>2019-08-12 00:00:00</td>\n",
       "      <td>30.342845</td>\n",
       "      <td>59.869542</td>\n",
       "      <td>44</td>\n",
       "      <td>0</td>\n",
       "      <td>40</td>\n",
       "      <td>0</td>\n",
       "      <td>4</td>\n",
       "      <td>0</td>\n",
       "      <td>0</td>\n",
       "      <td>0</td>\n",
       "      <td>0101000020E6100000544263A8C4573E40C27FCF284DEF...</td>\n",
       "      <td>340</td>\n",
       "      <td>386</td>\n",
       "    </tr>\n",
       "    <tr>\n",
       "      <th>2</th>\n",
       "      <td>2019-08-12 00:00:00</td>\n",
       "      <td>30.322632</td>\n",
       "      <td>60.039332</td>\n",
       "      <td>30</td>\n",
       "      <td>0</td>\n",
       "      <td>77</td>\n",
       "      <td>7</td>\n",
       "      <td>0</td>\n",
       "      <td>0</td>\n",
       "      <td>0</td>\n",
       "      <td>1</td>\n",
       "      <td>0101000020E61000009E01B90998523E40888919D70805...</td>\n",
       "      <td>0</td>\n",
       "      <td>427</td>\n",
       "    </tr>\n",
       "  </tbody>\n",
       "</table>\n",
       "</div>"
      ],
      "text/plain": [
       "            timestamp        lon        lat  likescount  commentscount  \\\n",
       "0 2019-08-12 11:00:00  30.329370  59.940488          63              4   \n",
       "1 2019-08-12 00:00:00  30.342845  59.869542          44              0   \n",
       "2 2019-08-12 00:00:00  30.322632  60.039332          30              0   \n",
       "\n",
       "   symbols_cnt  words_cnt  hashtags_cnt  mentions_cnt  links_cnt  emoji_cnt  \\\n",
       "0           52          6             0             0          0          0   \n",
       "1           40          0             4             0          0          0   \n",
       "2           77          7             0             0          0          1   \n",
       "\n",
       "                                               point  lat_gird  lon_gird  \n",
       "0  0101000020E6100000DBC1F19351543E4006FC5DE561F8...       198       413  \n",
       "1  0101000020E6100000544263A8C4573E40C27FCF284DEF...       340       386  \n",
       "2  0101000020E61000009E01B90998523E40888919D70805...         0       427  "
      ]
     },
     "execution_count": 14,
     "metadata": {},
     "output_type": "execute_result"
    }
   ],
   "source": [
    "train_processed.head(3)"
   ]
  },
  {
   "cell_type": "code",
   "execution_count": 15,
   "id": "cc628e76-b483-4cd5-9c18-25efbfb14586",
   "metadata": {},
   "outputs": [
    {
     "data": {
      "text/html": [
       "<div>\n",
       "<style scoped>\n",
       "    .dataframe tbody tr th:only-of-type {\n",
       "        vertical-align: middle;\n",
       "    }\n",
       "\n",
       "    .dataframe tbody tr th {\n",
       "        vertical-align: top;\n",
       "    }\n",
       "\n",
       "    .dataframe thead th {\n",
       "        text-align: right;\n",
       "    }\n",
       "</style>\n",
       "<table border=\"1\" class=\"dataframe\">\n",
       "  <thead>\n",
       "    <tr style=\"text-align: right;\">\n",
       "      <th></th>\n",
       "      <th>timestamp</th>\n",
       "      <th>point</th>\n",
       "      <th>num_of_posts</th>\n",
       "    </tr>\n",
       "  </thead>\n",
       "  <tbody>\n",
       "    <tr>\n",
       "      <th>0</th>\n",
       "      <td>2019-01-01 00:00:00</td>\n",
       "      <td>0101000020E610000002BF48199F3F3E4010C569574E02...</td>\n",
       "      <td>1</td>\n",
       "    </tr>\n",
       "    <tr>\n",
       "      <th>2094695</th>\n",
       "      <td>2019-09-06 13:00:00</td>\n",
       "      <td>0101000020E6100000B8194F56B7663E4041CA35D0FCFC...</td>\n",
       "      <td>1</td>\n",
       "    </tr>\n",
       "    <tr>\n",
       "      <th>2094696</th>\n",
       "      <td>2019-09-06 13:00:00</td>\n",
       "      <td>0101000020E6100000B8194F56B7663E4053FFA7E47BF3...</td>\n",
       "      <td>1</td>\n",
       "    </tr>\n",
       "    <tr>\n",
       "      <th>2094698</th>\n",
       "      <td>2019-09-06 13:00:00</td>\n",
       "      <td>0101000020E6100000B8FFF2B7CB443E408991431816F7...</td>\n",
       "      <td>1</td>\n",
       "    </tr>\n",
       "    <tr>\n",
       "      <th>2094699</th>\n",
       "      <td>2019-09-06 13:00:00</td>\n",
       "      <td>0101000020E6100000BE54A7FF7E423E400D42027446FD...</td>\n",
       "      <td>1</td>\n",
       "    </tr>\n",
       "    <tr>\n",
       "      <th>...</th>\n",
       "      <td>...</td>\n",
       "      <td>...</td>\n",
       "      <td>...</td>\n",
       "    </tr>\n",
       "    <tr>\n",
       "      <th>1646443</th>\n",
       "      <td>2019-07-21 20:00:00</td>\n",
       "      <td>0101000020E6100000597DBB518C333E400262E887FEFD...</td>\n",
       "      <td>377</td>\n",
       "    </tr>\n",
       "    <tr>\n",
       "      <th>2562728</th>\n",
       "      <td>2019-10-19 17:00:00</td>\n",
       "      <td>0101000020E610000050D352C225383E4030E11C588EFC...</td>\n",
       "      <td>393</td>\n",
       "    </tr>\n",
       "    <tr>\n",
       "      <th>2846146</th>\n",
       "      <td>2019-11-16 17:00:00</td>\n",
       "      <td>0101000020E610000050D352C225383E4030E11C588EFC...</td>\n",
       "      <td>401</td>\n",
       "    </tr>\n",
       "    <tr>\n",
       "      <th>1646846</th>\n",
       "      <td>2019-07-21 21:00:00</td>\n",
       "      <td>0101000020E6100000597DBB518C333E400262E887FEFD...</td>\n",
       "      <td>411</td>\n",
       "    </tr>\n",
       "    <tr>\n",
       "      <th>2845545</th>\n",
       "      <td>2019-11-16 16:00:00</td>\n",
       "      <td>0101000020E610000050D352C225383E4030E11C588EFC...</td>\n",
       "      <td>540</td>\n",
       "    </tr>\n",
       "  </tbody>\n",
       "</table>\n",
       "<p>3571093 rows × 3 columns</p>\n",
       "</div>"
      ],
      "text/plain": [
       "                  timestamp  \\\n",
       "0       2019-01-01 00:00:00   \n",
       "2094695 2019-09-06 13:00:00   \n",
       "2094696 2019-09-06 13:00:00   \n",
       "2094698 2019-09-06 13:00:00   \n",
       "2094699 2019-09-06 13:00:00   \n",
       "...                     ...   \n",
       "1646443 2019-07-21 20:00:00   \n",
       "2562728 2019-10-19 17:00:00   \n",
       "2846146 2019-11-16 17:00:00   \n",
       "1646846 2019-07-21 21:00:00   \n",
       "2845545 2019-11-16 16:00:00   \n",
       "\n",
       "                                                     point  num_of_posts  \n",
       "0        0101000020E610000002BF48199F3F3E4010C569574E02...             1  \n",
       "2094695  0101000020E6100000B8194F56B7663E4041CA35D0FCFC...             1  \n",
       "2094696  0101000020E6100000B8194F56B7663E4053FFA7E47BF3...             1  \n",
       "2094698  0101000020E6100000B8FFF2B7CB443E408991431816F7...             1  \n",
       "2094699  0101000020E6100000BE54A7FF7E423E400D42027446FD...             1  \n",
       "...                                                    ...           ...  \n",
       "1646443  0101000020E6100000597DBB518C333E400262E887FEFD...           377  \n",
       "2562728  0101000020E610000050D352C225383E4030E11C588EFC...           393  \n",
       "2846146  0101000020E610000050D352C225383E4030E11C588EFC...           401  \n",
       "1646846  0101000020E6100000597DBB518C333E400262E887FEFD...           411  \n",
       "2845545  0101000020E610000050D352C225383E4030E11C588EFC...           540  \n",
       "\n",
       "[3571093 rows x 3 columns]"
      ]
     },
     "execution_count": 15,
     "metadata": {},
     "output_type": "execute_result"
    }
   ],
   "source": [
    "train_processed_x = train_processed.groupby(by=['timestamp', 'point']).size().reset_index(name='num_of_posts')\n",
    "train_processed_x.sort_values('num_of_posts')"
   ]
  },
  {
   "cell_type": "markdown",
   "id": "1b630812-5535-495b-a141-acd5648104c8",
   "metadata": {},
   "source": [
    "### Add lat and lon to grouped dataframe"
   ]
  },
  {
   "cell_type": "code",
   "execution_count": 16,
   "id": "a7046674-b830-44fc-9094-73b07a17bca5",
   "metadata": {},
   "outputs": [],
   "source": [
    "tp = train_processed.drop_duplicates(['lon', 'lat', 'point'])"
   ]
  },
  {
   "cell_type": "code",
   "execution_count": 17,
   "id": "ddd3c02a-6183-4a22-939e-3eb6dbc7a3ee",
   "metadata": {},
   "outputs": [],
   "source": [
    "train_processed_x = pd.merge(left=tp[['lon', 'lat', 'point']], right=train_processed_x, on='point', how='right')"
   ]
  },
  {
   "cell_type": "code",
   "execution_count": 18,
   "id": "3336c2bb-3c70-43dd-8784-0e72f434a2ca",
   "metadata": {},
   "outputs": [
    {
     "data": {
      "text/html": [
       "<div>\n",
       "<style scoped>\n",
       "    .dataframe tbody tr th:only-of-type {\n",
       "        vertical-align: middle;\n",
       "    }\n",
       "\n",
       "    .dataframe tbody tr th {\n",
       "        vertical-align: top;\n",
       "    }\n",
       "\n",
       "    .dataframe thead th {\n",
       "        text-align: right;\n",
       "    }\n",
       "</style>\n",
       "<table border=\"1\" class=\"dataframe\">\n",
       "  <thead>\n",
       "    <tr style=\"text-align: right;\">\n",
       "      <th></th>\n",
       "      <th>lon</th>\n",
       "      <th>lat</th>\n",
       "      <th>point</th>\n",
       "      <th>timestamp</th>\n",
       "      <th>num_of_posts</th>\n",
       "    </tr>\n",
       "  </thead>\n",
       "  <tbody>\n",
       "    <tr>\n",
       "      <th>0</th>\n",
       "      <td>30.248521</td>\n",
       "      <td>60.018016</td>\n",
       "      <td>0101000020E610000002BF48199F3F3E4010C569574E02...</td>\n",
       "      <td>2019-01-01</td>\n",
       "      <td>1</td>\n",
       "    </tr>\n",
       "    <tr>\n",
       "      <th>1</th>\n",
       "      <td>30.248521</td>\n",
       "      <td>59.850372</td>\n",
       "      <td>0101000020E610000002BF48199F3F3E40586790FFD8EC...</td>\n",
       "      <td>2019-01-01</td>\n",
       "      <td>1</td>\n",
       "    </tr>\n",
       "    <tr>\n",
       "      <th>2</th>\n",
       "      <td>30.239538</td>\n",
       "      <td>59.965226</td>\n",
       "      <td>0101000020E61000000614FD60523D3E400086058A8CFB...</td>\n",
       "      <td>2019-01-01</td>\n",
       "      <td>1</td>\n",
       "    </tr>\n",
       "    <tr>\n",
       "      <th>3</th>\n",
       "      <td>30.239538</td>\n",
       "      <td>59.858267</td>\n",
       "      <td>0101000020E61000000614FD60523D3E4074DD5BB2DBED...</td>\n",
       "      <td>2019-01-01</td>\n",
       "      <td>2</td>\n",
       "    </tr>\n",
       "    <tr>\n",
       "      <th>4</th>\n",
       "      <td>30.239538</td>\n",
       "      <td>60.037089</td>\n",
       "      <td>0101000020E61000000614FD60523D3E40D800D455BF04...</td>\n",
       "      <td>2019-01-01</td>\n",
       "      <td>1</td>\n",
       "    </tr>\n",
       "  </tbody>\n",
       "</table>\n",
       "</div>"
      ],
      "text/plain": [
       "         lon        lat                                              point  \\\n",
       "0  30.248521  60.018016  0101000020E610000002BF48199F3F3E4010C569574E02...   \n",
       "1  30.248521  59.850372  0101000020E610000002BF48199F3F3E40586790FFD8EC...   \n",
       "2  30.239538  59.965226  0101000020E61000000614FD60523D3E400086058A8CFB...   \n",
       "3  30.239538  59.858267  0101000020E61000000614FD60523D3E4074DD5BB2DBED...   \n",
       "4  30.239538  60.037089  0101000020E61000000614FD60523D3E40D800D455BF04...   \n",
       "\n",
       "   timestamp  num_of_posts  \n",
       "0 2019-01-01             1  \n",
       "1 2019-01-01             1  \n",
       "2 2019-01-01             1  \n",
       "3 2019-01-01             2  \n",
       "4 2019-01-01             1  "
      ]
     },
     "execution_count": 18,
     "metadata": {},
     "output_type": "execute_result"
    }
   ],
   "source": [
    "train_processed_x.head()"
   ]
  },
  {
   "cell_type": "code",
   "execution_count": 19,
   "id": "4fc52c5d-7540-4618-ace6-dd227c8feb40",
   "metadata": {},
   "outputs": [],
   "source": [
    "year_month_day_format = '%Y-%m-%d'\n",
    "train_processed_x['Ymd'] = train_processed_x['timestamp'].apply(lambda x: x.strftime(year_month_day_format))"
   ]
  },
  {
   "cell_type": "markdown",
   "id": "ad6bcdae-e9e0-401e-a23f-8ce24771e305",
   "metadata": {},
   "source": [
    "### Make an image at certain timestamp "
   ]
  },
  {
   "cell_type": "code",
   "execution_count": 20,
   "id": "079ef84b-c090-45b0-bee5-2ad063202a3a",
   "metadata": {},
   "outputs": [
    {
     "data": {
      "text/html": [
       "<div>\n",
       "<style scoped>\n",
       "    .dataframe tbody tr th:only-of-type {\n",
       "        vertical-align: middle;\n",
       "    }\n",
       "\n",
       "    .dataframe tbody tr th {\n",
       "        vertical-align: top;\n",
       "    }\n",
       "\n",
       "    .dataframe thead th {\n",
       "        text-align: right;\n",
       "    }\n",
       "</style>\n",
       "<table border=\"1\" class=\"dataframe\">\n",
       "  <thead>\n",
       "    <tr style=\"text-align: right;\">\n",
       "      <th></th>\n",
       "      <th>lon</th>\n",
       "      <th>lat</th>\n",
       "      <th>point</th>\n",
       "      <th>timestamp</th>\n",
       "      <th>num_of_posts</th>\n",
       "      <th>Ymd</th>\n",
       "    </tr>\n",
       "  </thead>\n",
       "  <tbody>\n",
       "    <tr>\n",
       "      <th>3565849</th>\n",
       "      <td>30.248521</td>\n",
       "      <td>60.009036</td>\n",
       "      <td>0101000020E610000002BF48199F3F3E4042A0141A2801...</td>\n",
       "      <td>2020-01-31 13:00:00</td>\n",
       "      <td>1</td>\n",
       "      <td>2020-01-31</td>\n",
       "    </tr>\n",
       "    <tr>\n",
       "      <th>3565850</th>\n",
       "      <td>30.248521</td>\n",
       "      <td>59.851500</td>\n",
       "      <td>0101000020E610000002BF48199F3F3E40892F7FF5FDEC...</td>\n",
       "      <td>2020-01-31 13:00:00</td>\n",
       "      <td>1</td>\n",
       "      <td>2020-01-31</td>\n",
       "    </tr>\n",
       "    <tr>\n",
       "      <th>3565851</th>\n",
       "      <td>30.248521</td>\n",
       "      <td>60.022505</td>\n",
       "      <td>0101000020E610000002BF48199F3F3E408F79686EE102...</td>\n",
       "      <td>2020-01-31 13:00:00</td>\n",
       "      <td>1</td>\n",
       "      <td>2020-01-31</td>\n",
       "    </tr>\n",
       "    <tr>\n",
       "      <th>3565852</th>\n",
       "      <td>30.381023</td>\n",
       "      <td>59.924735</td>\n",
       "      <td>0101000020E610000003D9A4B78A613E4033438EB75DF6...</td>\n",
       "      <td>2020-01-31 13:00:00</td>\n",
       "      <td>1</td>\n",
       "      <td>2020-01-31</td>\n",
       "    </tr>\n",
       "    <tr>\n",
       "      <th>3565853</th>\n",
       "      <td>30.513524</td>\n",
       "      <td>59.908975</td>\n",
       "      <td>0101000020E610000003F3005676833E40DAABFA4A59F4...</td>\n",
       "      <td>2020-01-31 13:00:00</td>\n",
       "      <td>1</td>\n",
       "      <td>2020-01-31</td>\n",
       "    </tr>\n",
       "    <tr>\n",
       "      <th>...</th>\n",
       "      <td>...</td>\n",
       "      <td>...</td>\n",
       "      <td>...</td>\n",
       "      <td>...</td>\n",
       "      <td>...</td>\n",
       "      <td>...</td>\n",
       "    </tr>\n",
       "    <tr>\n",
       "      <th>3566388</th>\n",
       "      <td>30.257505</td>\n",
       "      <td>59.896587</td>\n",
       "      <td>0101000020E6100000FE6994D1EB413E401F04E95BC3F2...</td>\n",
       "      <td>2020-01-31 13:00:00</td>\n",
       "      <td>1</td>\n",
       "      <td>2020-01-31</td>\n",
       "    </tr>\n",
       "    <tr>\n",
       "      <th>3566389</th>\n",
       "      <td>30.257505</td>\n",
       "      <td>60.010159</td>\n",
       "      <td>0101000020E6100000FE6994D1EB413E40A3B0DDE24C01...</td>\n",
       "      <td>2020-01-31 13:00:00</td>\n",
       "      <td>15</td>\n",
       "      <td>2020-01-31</td>\n",
       "    </tr>\n",
       "    <tr>\n",
       "      <th>3566390</th>\n",
       "      <td>30.390006</td>\n",
       "      <td>59.884194</td>\n",
       "      <td>0101000020E6100000FF83F06FD7633E409E5212462DF1...</td>\n",
       "      <td>2020-01-31 13:00:00</td>\n",
       "      <td>1</td>\n",
       "      <td>2020-01-31</td>\n",
       "    </tr>\n",
       "    <tr>\n",
       "      <th>3566391</th>\n",
       "      <td>30.390006</td>\n",
       "      <td>60.024749</td>\n",
       "      <td>0101000020E6100000FF83F06FD7633E40A0E9FCF72A03...</td>\n",
       "      <td>2020-01-31 13:00:00</td>\n",
       "      <td>1</td>\n",
       "      <td>2020-01-31</td>\n",
       "    </tr>\n",
       "    <tr>\n",
       "      <th>3566392</th>\n",
       "      <td>30.390006</td>\n",
       "      <td>59.844732</td>\n",
       "      <td>0101000020E6100000FF83F06FD7633E40FBF1162D20EC...</td>\n",
       "      <td>2020-01-31 13:00:00</td>\n",
       "      <td>1</td>\n",
       "      <td>2020-01-31</td>\n",
       "    </tr>\n",
       "  </tbody>\n",
       "</table>\n",
       "<p>544 rows × 6 columns</p>\n",
       "</div>"
      ],
      "text/plain": [
       "               lon        lat  \\\n",
       "3565849  30.248521  60.009036   \n",
       "3565850  30.248521  59.851500   \n",
       "3565851  30.248521  60.022505   \n",
       "3565852  30.381023  59.924735   \n",
       "3565853  30.513524  59.908975   \n",
       "...            ...        ...   \n",
       "3566388  30.257505  59.896587   \n",
       "3566389  30.257505  60.010159   \n",
       "3566390  30.390006  59.884194   \n",
       "3566391  30.390006  60.024749   \n",
       "3566392  30.390006  59.844732   \n",
       "\n",
       "                                                     point  \\\n",
       "3565849  0101000020E610000002BF48199F3F3E4042A0141A2801...   \n",
       "3565850  0101000020E610000002BF48199F3F3E40892F7FF5FDEC...   \n",
       "3565851  0101000020E610000002BF48199F3F3E408F79686EE102...   \n",
       "3565852  0101000020E610000003D9A4B78A613E4033438EB75DF6...   \n",
       "3565853  0101000020E610000003F3005676833E40DAABFA4A59F4...   \n",
       "...                                                    ...   \n",
       "3566388  0101000020E6100000FE6994D1EB413E401F04E95BC3F2...   \n",
       "3566389  0101000020E6100000FE6994D1EB413E40A3B0DDE24C01...   \n",
       "3566390  0101000020E6100000FF83F06FD7633E409E5212462DF1...   \n",
       "3566391  0101000020E6100000FF83F06FD7633E40A0E9FCF72A03...   \n",
       "3566392  0101000020E6100000FF83F06FD7633E40FBF1162D20EC...   \n",
       "\n",
       "                  timestamp  num_of_posts         Ymd  \n",
       "3565849 2020-01-31 13:00:00             1  2020-01-31  \n",
       "3565850 2020-01-31 13:00:00             1  2020-01-31  \n",
       "3565851 2020-01-31 13:00:00             1  2020-01-31  \n",
       "3565852 2020-01-31 13:00:00             1  2020-01-31  \n",
       "3565853 2020-01-31 13:00:00             1  2020-01-31  \n",
       "...                     ...           ...         ...  \n",
       "3566388 2020-01-31 13:00:00             1  2020-01-31  \n",
       "3566389 2020-01-31 13:00:00            15  2020-01-31  \n",
       "3566390 2020-01-31 13:00:00             1  2020-01-31  \n",
       "3566391 2020-01-31 13:00:00             1  2020-01-31  \n",
       "3566392 2020-01-31 13:00:00             1  2020-01-31  \n",
       "\n",
       "[544 rows x 6 columns]"
      ]
     },
     "execution_count": 20,
     "metadata": {},
     "output_type": "execute_result"
    }
   ],
   "source": [
    "train_processed_x[(train_processed_x.timestamp=='2020-01-31 13:00:00')]"
   ]
  },
  {
   "cell_type": "code",
   "execution_count": 155,
   "id": "df448c74-b725-419f-869d-76805ef889ab",
   "metadata": {
    "tags": []
   },
   "outputs": [],
   "source": [
    "def generate_image(spec_timestamp, input_data):\n",
    "    data = np.zeros((round((LON_MAX_BOUND-LON_MIN_BOUND) / 0.0005)+1, round((LAT_MAX_BOUND-LAT_MIN_BOUND) / 0.0005)+1), dtype=np.uint8)\n",
    "    for _, row in input_data[(input_data.timestamp==spec_timestamp)][['lat', 'lon', 'num_of_posts']].iterrows():\n",
    "        lon, lat, n_posts = row.lon, row.lat, int(row.num_of_posts)\n",
    "        try:\n",
    "            data[round((LON_MAX_BOUND-lon) / 0.0005), round((LAT_MAX_BOUND-lat) / 0.0005)] = n_posts * 100 # Multiplied by 100 in order to make visualization brighter\n",
    "        except Exception as e:\n",
    "            print(e)\n",
    "            print(lon, lat)\n",
    "            print(round((LON_MAX_BOUND-lon) / 0.0005), round((LAT_MAX_BOUND-lat) / 0.0005))\n",
    "    return data"
   ]
  },
  {
   "cell_type": "code",
   "execution_count": 157,
   "id": "5d19242f-034d-42f3-95e0-37fd6ec2b7e2",
   "metadata": {
    "tags": []
   },
   "outputs": [
    {
     "data": {
      "text/plain": [
       "(787, 422)"
      ]
     },
     "execution_count": 157,
     "metadata": {},
     "output_type": "execute_result"
    }
   ],
   "source": [
    "data = generate_image('2020-01-31 13:00:00', input_data=train_processed_x)\n",
    "data.shape"
   ]
  },
  {
   "cell_type": "code",
   "execution_count": 158,
   "id": "a1062361-6aff-4e62-8b8b-ecf89e88edca",
   "metadata": {},
   "outputs": [
    {
     "data": {
      "image/png": "[encoded data removed]",
      "text/plain": [
       "<Figure size 432x288 with 1 Axes>"
      ]
     },
     "metadata": {
      "needs_background": "light"
     },
     "output_type": "display_data"
    }
   ],
   "source": [
    "import numpy as np\n",
    "from matplotlib import pyplot as plt\n",
    "plt.imshow(data, interpolation='nearest')\n",
    "plt.show()"
   ]
  },
  {
   "cell_type": "code",
   "execution_count": 64,
   "id": "0cdd3e7f-7945-46f6-ae95-41d67547a0ed",
   "metadata": {},
   "outputs": [
    {
     "data": {
      "text/plain": [
       "(787, 422)"
      ]
     },
     "execution_count": 64,
     "metadata": {},
     "output_type": "execute_result"
    }
   ],
   "source": [
    "data.shape"
   ]
  },
  {
   "cell_type": "code",
   "execution_count": 112,
   "id": "b9d6003f-3c91-4102-a37b-8faccfec7830",
   "metadata": {},
   "outputs": [
    {
     "data": {
      "text/plain": [
       "34"
      ]
     },
     "execution_count": 112,
     "metadata": {},
     "output_type": "execute_result"
    }
   ],
   "source": [
    "# For image normalization\n",
    "pixels_norm = train_processed_x[(train_processed_x.timestamp=='2020-01-31 13:00:00')].num_of_posts.max()\n",
    "pixels_norm "
   ]
  },
  {
   "cell_type": "code",
   "execution_count": 172,
   "id": "09c82e2c-5c7e-4ed4-96ef-42742d18bde3",
   "metadata": {},
   "outputs": [],
   "source": [
    "from tqdm import tqdm\n",
    "from datetime import date, timedelta\n",
    "\n",
    "def daterange(start_date, end_date):\n",
    "    for n in range(int((end_date - start_date) / np.timedelta64(1, 'h'))):\n",
    "        yield start_date + timedelta(hours=n)\n",
    "\n",
    "def generate_image_set(data, start_date=pd.Timestamp('2020-01-25T23')):\n",
    "    train_3d_images = []\n",
    "    ground_truth = []\n",
    "    end_date = data.timestamp.max()\n",
    "    \n",
    "    end_date = end_date-timedelta(hours=5+1)\n",
    "    \n",
    "    for single_date in tqdm(daterange(start_date, end_date), total=len(list(daterange(start_date, end_date)))):\n",
    "        three_d_image = []\n",
    "        inner_end_date = single_date + timedelta(hours=5)\n",
    "        ground_truth.append(generate_image(spec_timestamp=single_date + timedelta(hours=6), input_data=data))\n",
    "        for inner_single_data in daterange(single_date, inner_end_date):\n",
    "            three_d_image.append(generate_image(spec_timestamp=inner_single_data, input_data=data))\n",
    "        train_3d_images.append(three_d_image)\n",
    "    return train_3d_images, ground_truth"
   ]
  },
  {
   "cell_type": "code",
   "execution_count": 173,
   "id": "4bfd3414-2ee5-4c11-9ecd-d6cba2af3c8f",
   "metadata": {},
   "outputs": [
    {
     "name": "stderr",
     "output_type": "stream",
     "text": [
      "100%|██████████| 138/138 [00:30<00:00,  4.57it/s]\n"
     ]
    }
   ],
   "source": [
    "train_X, train_y = generate_image_set(data=train_processed_x)"
   ]
  },
  {
   "cell_type": "code",
   "execution_count": 167,
   "id": "06d2a823-5fb4-41fb-9f40-8fbcaff9dea9",
   "metadata": {},
   "outputs": [],
   "source": [
    "s_date = pd.Timestamp('2020-01-25T23')"
   ]
  },
  {
   "cell_type": "code",
   "execution_count": 168,
   "id": "891b6cf5-8194-4f78-874c-e15fb24df70c",
   "metadata": {},
   "outputs": [
    {
     "data": {
      "text/plain": [
       "Timestamp('2020-01-26 04:00:00')"
      ]
     },
     "execution_count": 168,
     "metadata": {},
     "output_type": "execute_result"
    }
   ],
   "source": [
    "s_date+timedelta(hours=5)"
   ]
  },
  {
   "cell_type": "code",
   "execution_count": 174,
   "id": "28995da5-d681-4321-9b88-7dec4dc85aea",
   "metadata": {},
   "outputs": [
    {
     "data": {
      "text/plain": [
       "(138, 5, 787, 422)"
      ]
     },
     "execution_count": 174,
     "metadata": {},
     "output_type": "execute_result"
    }
   ],
   "source": [
    "np.array(train_X).shape"
   ]
  },
  {
   "cell_type": "code",
   "execution_count": 175,
   "id": "a2bfc4eb-0b72-45bb-9539-fd79565917c4",
   "metadata": {},
   "outputs": [
    {
     "data": {
      "text/plain": [
       "(138, 787, 422)"
      ]
     },
     "execution_count": 175,
     "metadata": {},
     "output_type": "execute_result"
    }
   ],
   "source": [
    "np.array(train_y).shape"
   ]
  },
  {
   "cell_type": "code",
   "execution_count": 221,
   "id": "66e9ace4-72db-4ffc-b477-c3de3b66e14a",
   "metadata": {},
   "outputs": [],
   "source": [
    "from tensorflow.keras.layers import Input, Conv2D, Conv3D, Concatenate, MaxPooling2D, UpSampling2D\n",
    "import keras \n",
    "\n",
    "def get_unet_model(img_size):\n",
    "\n",
    "    inputs = keras.Input(shape=img_size+(5, 1))\n",
    "    \n",
    "    # --- Encoder ---\n",
    "    # first conv layer\n",
    "    conv_layer_1_1 = Conv3D(10, (1, 1, 3), activation='elu', padding='valid')(inputs)\n",
    "    conv_layer_1_2 = Conv3D(20, (1, 1, 3), activation='elu', padding='valid')(conv_layer_1_1)\n",
    "    conv_layer_1_3 = Conv3D(40, (3, 3, 1), activation='elu', padding='same')(conv_layer_1_2)\n",
    "    \n",
    "    conv_layer_2_1 = Conv3D(20, (3, 3, 1), activation='elu', padding='same')(conv_layer_1_3)\n",
    "    conv_layer_2_2 = Conv3D(10, (3, 3, 1), activation='elu', padding='same')(conv_layer_2_1)\n",
    "    outputs = Conv3D(1, (3, 3, 1), activation='elu', padding='same')(conv_layer_2_2)\n",
    "    \n",
    "    model = keras.Model(inputs, outputs)\n",
    "    return model"
   ]
  },
  {
   "cell_type": "code",
   "execution_count": 207,
   "id": "71f25c87-7c13-4539-b1db-3214d15188ba",
   "metadata": {},
   "outputs": [],
   "source": [
    "# ! pip install pydot\n",
    "# keras.utils.plot_model(model, show_shapes=True, show_layer_names=True)"
   ]
  },
  {
   "cell_type": "code",
   "execution_count": 208,
   "id": "5fc07795-70ab-4945-8f63-234445967e98",
   "metadata": {},
   "outputs": [],
   "source": [
    "from tensorflow import keras\n",
    "import tensorflow as tf\n",
    "\n",
    "\n",
    "class ImgSequence(keras.utils.Sequence):\n",
    "    \n",
    "    def __init__(self, batch_size, img_size, images_paths, target_paths):\n",
    "        self.batch_size = batch_size\n",
    "        self.img_size = img_size\n",
    "        self.images_paths = images_paths\n",
    "        self.target_paths = target_paths\n",
    "        \n",
    "    \n",
    "    def __len__(self):\n",
    "        length = 0\n",
    "        # Each item in the sequence has a size of batch_size, this method returns the number of batches. Shoud be integer!\n",
    "        # TODO: length calculation\n",
    "        length = len(self.images_paths) // self.batch_size\n",
    "        return length\n",
    "    \n",
    "    def __getitem__(self, idx):\n",
    "        x = np.zeros((self.batch_size, ) + self.img_size + (3, ), dtype=\"float32\")\n",
    "        y = np.zeros((self.batch_size, ) + self.img_size + (1, ), dtype=\"uint8\")\n",
    "        \"\"\"\n",
    "        This method returns the batches themselves including images (x) and masks (y) as np.arrays.\n",
    "        Correspondingly x contains the batch_size of the pet images, y the true segmentation of the images from x.\n",
    "        Note:\n",
    "\n",
    "                img / 255.0 for images, so that each value is adjacent to the interval [0, 1] \n",
    "                \n",
    "        \"\"\"\n",
    "        \n",
    "        # TODO x and y calculation\n",
    "        batch_x = self.images_paths[idx * self.batch_size:(idx + 1) * self.batch_size]\n",
    "        batch_y = self.target_paths[idx * self.batch_size:(idx + 1) * self.batch_size]\n",
    "        \n",
    "        x = np.array([np.array(file_name).reshape((787, 422, -1, 1)) / float(pixels_norm*100) for file_name in batch_x])\n",
    "        y = np.array([np.expand_dims(np.array(file_name), axis=(2, 3)) / float(pixels_norm*100) for file_name in batch_y])\n",
    "        \n",
    "        return x, y \n",
    "        \n",
    "\n",
    "        "
   ]
  },
  {
   "cell_type": "code",
   "execution_count": 209,
   "id": "a8282abf-c460-4426-96a8-b6cf605f853a",
   "metadata": {},
   "outputs": [],
   "source": [
    "# Instantiate data Sequences for each split\n",
    "batch_size = 16\n",
    "train_gen = ImgSequence(batch_size=batch_size, img_size=(787, 422), images_paths=train_X[:120], target_paths=train_y[:120])\n",
    "valid_gen = ImgSequence(batch_size=batch_size, img_size=(787, 422), images_paths=train_X[120:], target_paths=train_y[120:])"
   ]
  },
  {
   "cell_type": "code",
   "execution_count": 222,
   "id": "3699fa0a-c5e1-4052-9a8a-a7123b7e84fe",
   "metadata": {},
   "outputs": [],
   "source": [
    "# Free up RAM in case the model definition cells were run multiple times\n",
    "keras.backend.clear_session()\n",
    "model = get_unet_model((787, 422))"
   ]
  },
  {
   "cell_type": "code",
   "execution_count": 224,
   "id": "d2b56b1d-d475-411a-8e34-40366f6da363",
   "metadata": {},
   "outputs": [
    {
     "name": "stdout",
     "output_type": "stream",
     "text": [
      "Epoch 1/3\n",
      "7/7 [==============================] - ETA: 0s - loss: 0.0087WARNING:tensorflow:5 out of the last 13 calls to <function Model.make_test_function.<locals>.test_function at 0x7f6438091040> triggered tf.function retracing. Tracing is expensive and the excessive number of tracings could be due to (1) creating @tf.function repeatedly in a loop, (2) passing tensors with different shapes, (3) passing Python objects instead of tensors. For (1), please define your @tf.function outside of the loop. For (2), @tf.function has reduce_retracing=True option that can avoid unnecessary retracing. For (3), please refer to https://www.tensorflow.org/guide/function#controlling_retracing and https://www.tensorflow.org/api_docs/python/tf/function for  more details.\n",
      "7/7 [==============================] - 21s 3s/step - loss: 0.0087 - val_loss: 0.0105\n",
      "Epoch 2/3\n",
      "7/7 [==============================] - 20s 3s/step - loss: 0.0066 - val_loss: 0.0028\n",
      "Epoch 3/3\n",
      "7/7 [==============================] - 20s 3s/step - loss: 0.0043 - val_loss: 0.0056\n"
     ]
    },
    {
     "data": {
      "text/plain": [
       "<keras.callbacks.History at 0x7f637ef1d370>"
      ]
     },
     "execution_count": 224,
     "metadata": {},
     "output_type": "execute_result"
    }
   ],
   "source": [
    "model.compile(optimizer=tf.keras.optimizers.Adadelta(learning_rate=0.5, name=\"Adadelta\"), loss=tf.keras.losses.MeanAbsoluteError())\n",
    "\n",
    "\n",
    "# Train the model, doing validation at the end of each epoch.\n",
    "epochs = 3\n",
    "model.fit(train_gen, validation_data=valid_gen, epochs=epochs)"
   ]
  },
  {
   "cell_type": "code",
   "execution_count": null,
   "id": "8c0c379f-664f-46ff-9689-ddf8dec1d6d4",
   "metadata": {},
   "outputs": [],
   "source": [
    "model.save(\"/model.h5\")"
   ]
  },
  {
   "cell_type": "code",
   "execution_count": 223,
   "id": "50c14898-2db0-4913-aff9-8080abc1898e",
   "metadata": {},
   "outputs": [
    {
     "name": "stdout",
     "output_type": "stream",
     "text": [
      "Model: \"model\"\n",
      "_________________________________________________________________\n",
      " Layer (type)                Output Shape              Param #   \n",
      "=================================================================\n",
      " input_1 (InputLayer)        [(None, 787, 422, 5, 1)]  0         \n",
      "                                                                 \n",
      " conv3d (Conv3D)             (None, 787, 422, 3, 10)   40        \n",
      "                                                                 \n",
      " conv3d_1 (Conv3D)           (None, 787, 422, 1, 20)   620       \n",
      "                                                                 \n",
      " conv3d_2 (Conv3D)           (None, 787, 422, 1, 40)   7240      \n",
      "                                                                 \n",
      " conv3d_3 (Conv3D)           (None, 787, 422, 1, 20)   7220      \n",
      "                                                                 \n",
      " conv3d_4 (Conv3D)           (None, 787, 422, 1, 10)   1810      \n",
      "                                                                 \n",
      " conv3d_5 (Conv3D)           (None, 787, 422, 1, 1)    91        \n",
      "                                                                 \n",
      "=================================================================\n",
      "Total params: 17,021\n",
      "Trainable params: 17,021\n",
      "Non-trainable params: 0\n",
      "_________________________________________________________________\n"
     ]
    }
   ],
   "source": [
    "model.summary()"
   ]
  },
  {
   "cell_type": "code",
   "execution_count": 225,
   "id": "57d4c9f4-60ea-4157-acf3-885e0fcbdda4",
   "metadata": {},
   "outputs": [
    {
     "name": "stdout",
     "output_type": "stream",
     "text": [
      "WARNING:tensorflow:6 out of the last 13 calls to <function Model.make_predict_function.<locals>.predict_function at 0x7f642079fa60> triggered tf.function retracing. Tracing is expensive and the excessive number of tracings could be due to (1) creating @tf.function repeatedly in a loop, (2) passing tensors with different shapes, (3) passing Python objects instead of tensors. For (1), please define your @tf.function outside of the loop. For (2), @tf.function has reduce_retracing=True option that can avoid unnecessary retracing. For (3), please refer to https://www.tensorflow.org/guide/function#controlling_retracing and https://www.tensorflow.org/api_docs/python/tf/function for  more details.\n",
      "1/1 [==============================] - 2s 2s/step\n"
     ]
    }
   ],
   "source": [
    "\n",
    "val_preds = model.predict(valid_gen)"
   ]
  },
  {
   "cell_type": "code",
   "execution_count": 229,
   "id": "7be791eb-9553-4803-b6b0-70d0657b1638",
   "metadata": {},
   "outputs": [
    {
     "data": {
      "text/plain": [
       "(16, 787, 422, 1, 1)"
      ]
     },
     "execution_count": 229,
     "metadata": {},
     "output_type": "execute_result"
    }
   ],
   "source": [
    "val_preds.shape"
   ]
  },
  {
   "cell_type": "code",
   "execution_count": 231,
   "id": "51b1c95c-287e-4c38-a095-3c43bb15d544",
   "metadata": {},
   "outputs": [
    {
     "data": {
      "text/plain": [
       "(787, 422, 1)"
      ]
     },
     "execution_count": 231,
     "metadata": {},
     "output_type": "execute_result"
    }
   ],
   "source": [
    "np.squeeze(val_preds[0], axis=2).shape"
   ]
  },
  {
   "cell_type": "code",
   "execution_count": 230,
   "id": "cf1c424e-ccab-4a74-b9c5-a6626cb337e7",
   "metadata": {},
   "outputs": [
    {
     "data": {
      "image/png": "[encoded data removed]",
      "text/plain": [
       "<Figure size 432x288 with 1 Axes>"
      ]
     },
     "metadata": {
      "needs_background": "light"
     },
     "output_type": "display_data"
    }
   ],
   "source": [
    "import numpy as np\n",
    "from matplotlib import pyplot as plt\n",
    "plt.imshow(np.squeeze(val_preds[0], axis=2), interpolation='nearest')\n",
    "plt.show()"
   ]
  },
  {
   "cell_type": "code",
   "execution_count": 232,
   "id": "f2c7c205-bc3f-47a0-8194-488bb104750c",
   "metadata": {},
   "outputs": [
    {
     "data": {
      "image/png": "[encoded data removed]",
      "text/plain": [
       "<Figure size 432x288 with 1 Axes>"
      ]
     },
     "metadata": {
      "needs_background": "light"
     },
     "output_type": "display_data"
    }
   ],
   "source": [
    "import numpy as np\n",
    "from matplotlib import pyplot as plt\n",
    "plt.imshow(np.squeeze(val_preds[10], axis=2), interpolation='nearest')\n",
    "plt.show()"
   ]
  },
  {
   "cell_type": "code",
   "execution_count": 233,
   "id": "15110cba-d014-4d54-92fd-3519bb831bda",
   "metadata": {
    "tags": []
   },
   "outputs": [
    {
     "data": {
      "text/plain": [
       "array([[-2.888175 ],\n",
       "       [-4.1756983],\n",
       "       [-4.358679 ],\n",
       "       [-4.4144874],\n",
       "       [-4.389985 ],\n",
       "       [-4.3957033],\n",
       "       [-4.3965664],\n",
       "       [-4.3904724],\n",
       "       [-4.3970566],\n",
       "       [-4.386566 ],\n",
       "       [-4.3954363],\n",
       "       [-4.394949 ],\n",
       "       [-4.3940125],\n",
       "       [-4.3913755],\n",
       "       [-4.392247 ],\n",
       "       [-4.395049 ],\n",
       "       [-4.392748 ],\n",
       "       [-4.392578 ],\n",
       "       [-4.390973 ],\n",
       "       [-4.3981533],\n",
       "       [-4.394966 ],\n",
       "       [-4.387309 ],\n",
       "       [-4.391568 ],\n",
       "       [-4.395562 ],\n",
       "       [-4.393244 ],\n",
       "       [-4.3909492],\n",
       "       [-4.3968487],\n",
       "       [-4.390362 ],\n",
       "       [-4.398136 ],\n",
       "       [-4.3940763],\n",
       "       [-4.385393 ],\n",
       "       [-4.3904486],\n",
       "       [-4.396035 ],\n",
       "       [-4.403268 ],\n",
       "       [-4.388097 ],\n",
       "       [-4.380554 ],\n",
       "       [-4.387308 ],\n",
       "       [-4.4024744],\n",
       "       [-4.387336 ],\n",
       "       [-4.3931828],\n",
       "       [-4.363611 ],\n",
       "       [-4.407604 ],\n",
       "       [-4.4415703],\n",
       "       [-4.3562565],\n",
       "       [-4.369482 ],\n",
       "       [-4.38507  ],\n",
       "       [-4.4053745],\n",
       "       [-4.3925924],\n",
       "       [-4.387208 ],\n",
       "       [-4.390333 ],\n",
       "       [-4.3949423],\n",
       "       [-4.3989334],\n",
       "       [-4.3916473],\n",
       "       [-4.39867  ],\n",
       "       [-4.3870363],\n",
       "       [-4.3951826],\n",
       "       [-4.3923683],\n",
       "       [-4.394437 ],\n",
       "       [-4.394231 ],\n",
       "       [-4.39087  ],\n",
       "       [-4.3953695],\n",
       "       [-4.3984127],\n",
       "       [-4.3879137],\n",
       "       [-4.3971596],\n",
       "       [-4.3906727],\n",
       "       [-4.3962708],\n",
       "       [-4.3921547],\n",
       "       [-4.387434 ],\n",
       "       [-4.3911552],\n",
       "       [-4.401641 ],\n",
       "       [-4.3930473],\n",
       "       [-4.387389 ],\n",
       "       [-4.3938446],\n",
       "       [-4.391055 ],\n",
       "       [-4.401222 ],\n",
       "       [-4.382921 ],\n",
       "       [-4.3955784],\n",
       "       [-4.393675 ],\n",
       "       [-4.39375  ],\n",
       "       [-4.3976088],\n",
       "       [-4.38871  ],\n",
       "       [-4.3912334],\n",
       "       [-4.3957653],\n",
       "       [-4.3989897],\n",
       "       [-4.3919544],\n",
       "       [-4.3892355],\n",
       "       [-4.398553 ],\n",
       "       [-4.383996 ],\n",
       "       [-4.393483 ],\n",
       "       [-4.3941584],\n",
       "       [-4.398012 ],\n",
       "       [-4.388502 ],\n",
       "       [-4.393111 ],\n",
       "       [-4.394004 ],\n",
       "       [-4.3958454],\n",
       "       [-4.3956013],\n",
       "       [-4.3890924],\n",
       "       [-4.394268 ],\n",
       "       [-4.392722 ],\n",
       "       [-4.39783  ],\n",
       "       [-4.3899584],\n",
       "       [-4.389535 ],\n",
       "       [-4.390397 ],\n",
       "       [-4.3994436],\n",
       "       [-4.400422 ],\n",
       "       [-4.3854027],\n",
       "       [-4.3922234],\n",
       "       [-4.3894014],\n",
       "       [-4.3972874],\n",
       "       [-4.3850775],\n",
       "       [-4.391844 ],\n",
       "       [-4.4009695],\n",
       "       [-4.397072 ],\n",
       "       [-4.388277 ],\n",
       "       [-4.379752 ],\n",
       "       [-4.401887 ],\n",
       "       [-4.393445 ],\n",
       "       [-4.3948364],\n",
       "       [-4.388257 ],\n",
       "       [-4.385848 ],\n",
       "       [-4.393405 ],\n",
       "       [-4.4024506],\n",
       "       [-4.3998966],\n",
       "       [-4.3606434],\n",
       "       [-4.4062557],\n",
       "       [-4.400383 ],\n",
       "       [-4.3957005],\n",
       "       [-4.3730516],\n",
       "       [-4.3788605],\n",
       "       [-4.399803 ],\n",
       "       [-4.3963537],\n",
       "       [-4.4015846],\n",
       "       [-4.3698473],\n",
       "       [-4.3958797],\n",
       "       [-4.397753 ],\n",
       "       [-4.3932457],\n",
       "       [-4.390485 ],\n",
       "       [-4.401415 ],\n",
       "       [-4.3885717],\n",
       "       [-4.3974752],\n",
       "       [-4.386611 ],\n",
       "       [-4.3947363],\n",
       "       [-4.393799 ],\n",
       "       [-4.3940773],\n",
       "       [-4.39355  ],\n",
       "       [-4.39355  ],\n",
       "       [-4.39355  ],\n",
       "       [-4.39355  ],\n",
       "       [-4.39355  ],\n",
       "       [-4.390006 ],\n",
       "       [-4.3958216],\n",
       "       [-4.390831 ],\n",
       "       [-4.3941793],\n",
       "       [-4.407305 ],\n",
       "       [-4.377552 ],\n",
       "       [-4.3937817],\n",
       "       [-4.3906784],\n",
       "       [-4.4002113],\n",
       "       [-4.3954773],\n",
       "       [-4.381793 ],\n",
       "       [-4.3925114],\n",
       "       [-4.394781 ],\n",
       "       [-4.3952274],\n",
       "       [-4.40069  ],\n",
       "       [-4.3859177],\n",
       "       [-4.3886137],\n",
       "       [-4.3984156],\n",
       "       [-4.3950243],\n",
       "       [-4.3897495],\n",
       "       [-4.398038 ],\n",
       "       [-4.3905   ],\n",
       "       [-4.3935194],\n",
       "       [-4.3917656],\n",
       "       [-4.393441 ],\n",
       "       [-4.3972826],\n",
       "       [-4.3888416],\n",
       "       [-4.3897114],\n",
       "       [-4.395508 ],\n",
       "       [-4.4054127],\n",
       "       [-4.385536 ],\n",
       "       [-4.3980074],\n",
       "       [-4.388646 ],\n",
       "       [-4.393671 ],\n",
       "       [-4.3923674],\n",
       "       [-4.394787 ],\n",
       "       [-4.3897905],\n",
       "       [-4.397276 ],\n",
       "       [-4.3930454],\n",
       "       [-4.39349  ],\n",
       "       [-4.39262  ],\n",
       "       [-4.395728 ],\n",
       "       [-4.3925066],\n",
       "       [-4.39023  ],\n",
       "       [-4.3934   ],\n",
       "       [-4.392748 ],\n",
       "       [-4.393816 ],\n",
       "       [-4.3976765],\n",
       "       [-4.3835087],\n",
       "       [-4.395609 ],\n",
       "       [-4.3939238],\n",
       "       [-4.404129 ],\n",
       "       [-4.3844624],\n",
       "       [-4.3903856],\n",
       "       [-4.388135 ],\n",
       "       [-4.4008284],\n",
       "       [-4.392582 ],\n",
       "       [-4.3972006],\n",
       "       [-4.3788404],\n",
       "       [-4.403857 ],\n",
       "       [-4.402154 ],\n",
       "       [-4.386423 ],\n",
       "       [-4.3844604],\n",
       "       [-4.3892574],\n",
       "       [-4.4003067],\n",
       "       [-4.383149 ],\n",
       "       [-4.3916073],\n",
       "       [-4.3978806],\n",
       "       [-4.3912563],\n",
       "       [-4.400487 ],\n",
       "       [-4.3823786],\n",
       "       [-4.3932495],\n",
       "       [-4.3952513],\n",
       "       [-4.397477 ],\n",
       "       [-4.3908787],\n",
       "       [-4.393257 ],\n",
       "       [-4.391593 ],\n",
       "       [-4.394764 ],\n",
       "       [-4.39361  ],\n",
       "       [-4.3931427],\n",
       "       [-4.3955755],\n",
       "       [-4.3891277],\n",
       "       [-4.394413 ],\n",
       "       [-4.3933926],\n",
       "       [-4.397876 ],\n",
       "       [-4.386204 ],\n",
       "       [-4.3957996],\n",
       "       [-4.3954554],\n",
       "       [-4.393984 ],\n",
       "       [-4.39042  ],\n",
       "       [-4.388031 ],\n",
       "       [-4.3954916],\n",
       "       [-4.406597 ],\n",
       "       [-4.381484 ],\n",
       "       [-4.395548 ],\n",
       "       [-4.38682  ],\n",
       "       [-4.3939667],\n",
       "       [-4.392228 ],\n",
       "       [-4.391017 ],\n",
       "       [-4.391906 ],\n",
       "       [-4.3887405],\n",
       "       [-4.396744 ],\n",
       "       [-4.399314 ],\n",
       "       [-4.392268 ],\n",
       "       [-4.3901215],\n",
       "       [-4.3845243],\n",
       "       [-4.398531 ],\n",
       "       [-4.393118 ],\n",
       "       [-4.3944798],\n",
       "       [-4.3942804],\n",
       "       [-4.3908653],\n",
       "       [-4.3921537],\n",
       "       [-4.3983545],\n",
       "       [-4.3893995],\n",
       "       [-4.391079 ],\n",
       "       [-4.3973837],\n",
       "       [-4.389414 ],\n",
       "       [-4.39458  ],\n",
       "       [-4.3976603],\n",
       "       [-4.386147 ],\n",
       "       [-4.3987145],\n",
       "       [-4.3904166],\n",
       "       [-4.3920684],\n",
       "       [-4.395649 ],\n",
       "       [-4.3903155],\n",
       "       [-4.3979454],\n",
       "       [-4.3898354],\n",
       "       [-4.3885274],\n",
       "       [-4.3910484],\n",
       "       [-4.397401 ],\n",
       "       [-4.4004707],\n",
       "       [-4.393014 ],\n",
       "       [-4.379574 ],\n",
       "       [-4.3997383],\n",
       "       [-4.394413 ],\n",
       "       [-4.390297 ],\n",
       "       [-4.3908978],\n",
       "       [-4.3978405],\n",
       "       [-4.386533 ],\n",
       "       [-4.4044085],\n",
       "       [-4.3904285],\n",
       "       [-4.376109 ],\n",
       "       [-4.3947496],\n",
       "       [-4.4074802],\n",
       "       [-4.4032183],\n",
       "       [-4.3648396],\n",
       "       [-4.385051 ],\n",
       "       [-4.411503 ],\n",
       "       [-4.386426 ],\n",
       "       [-4.3923817],\n",
       "       [-4.3809395],\n",
       "       [-4.402648 ],\n",
       "       [-4.391227 ],\n",
       "       [-4.391183 ],\n",
       "       [-4.394227 ],\n",
       "       [-4.3917847],\n",
       "       [-4.3973684],\n",
       "       [-4.3924885],\n",
       "       [-4.384389 ],\n",
       "       [-4.3968563],\n",
       "       [-4.3937836],\n",
       "       [-4.392704 ],\n",
       "       [-4.4063206],\n",
       "       [-4.374215 ],\n",
       "       [-4.3943996],\n",
       "       [-4.396597 ],\n",
       "       [-4.3949003],\n",
       "       [-4.3967285],\n",
       "       [-4.386861 ],\n",
       "       [-4.4013443],\n",
       "       [-4.3860865],\n",
       "       [-4.396557 ],\n",
       "       [-4.393837 ],\n",
       "       [-4.391283 ],\n",
       "       [-4.3904705],\n",
       "       [-4.3950396],\n",
       "       [-4.3929615],\n",
       "       [-4.398141 ],\n",
       "       [-4.3861265],\n",
       "       [-4.3918476],\n",
       "       [-4.3992968],\n",
       "       [-4.3905735],\n",
       "       [-4.390196 ],\n",
       "       [-4.398837 ],\n",
       "       [-4.3892565],\n",
       "       [-4.395196 ],\n",
       "       [-4.395981 ],\n",
       "       [-4.3891335],\n",
       "       [-4.401717 ],\n",
       "       [-4.378231 ],\n",
       "       [-4.4001694],\n",
       "       [-4.399762 ],\n",
       "       [-4.390727 ],\n",
       "       [-4.387618 ],\n",
       "       [-4.3902607],\n",
       "       [-4.394513 ],\n",
       "       [-4.397004 ],\n",
       "       [-4.3954325],\n",
       "       [-4.3918095],\n",
       "       [-4.390605 ],\n",
       "       [-4.3984222],\n",
       "       [-4.3927994],\n",
       "       [-4.394765 ],\n",
       "       [-4.387514 ],\n",
       "       [-4.394246 ],\n",
       "       [-4.393877 ],\n",
       "       [-4.39421  ],\n",
       "       [-4.392627 ],\n",
       "       [-4.3928976],\n",
       "       [-4.3987207],\n",
       "       [-4.3904915],\n",
       "       [-4.3968983],\n",
       "       [-4.3865767],\n",
       "       [-4.397319 ],\n",
       "       [-4.397868 ],\n",
       "       [-4.3874893],\n",
       "       [-4.390292 ],\n",
       "       [-4.395897 ],\n",
       "       [-4.3970213],\n",
       "       [-4.390888 ],\n",
       "       [-4.383872 ],\n",
       "       [-4.390093 ],\n",
       "       [-4.4016285],\n",
       "       [-4.4020414],\n",
       "       [-4.3835707],\n",
       "       [-4.37663  ],\n",
       "       [-4.403387 ],\n",
       "       [-4.401471 ],\n",
       "       [-4.3968706],\n",
       "       [-4.337487 ],\n",
       "       [-4.4285784],\n",
       "       [-4.39902  ],\n",
       "       [-4.3894835],\n",
       "       [-4.3709517],\n",
       "       [-4.380989 ],\n",
       "       [-4.3978033],\n",
       "       [-4.400443 ],\n",
       "       [-4.3914623],\n",
       "       [-4.3887615],\n",
       "       [-4.3972855],\n",
       "       [-4.398245 ],\n",
       "       [-4.391507 ],\n",
       "       [-4.385977 ],\n",
       "       [-4.388382 ],\n",
       "       [-4.3974333],\n",
       "       [-4.3976173],\n",
       "       [-4.3903036],\n",
       "       [-4.394353 ],\n",
       "       [-4.392558 ],\n",
       "       [-4.3942842],\n",
       "       [-4.395319 ],\n",
       "       [-4.395602 ],\n",
       "       [-4.3890934],\n",
       "       [-4.3946867],\n",
       "       [-4.3936234],\n",
       "       [-4.394724 ],\n",
       "       [-4.389016 ],\n",
       "       [-4.397542 ],\n",
       "       [-4.391903 ],\n",
       "       [-4.3935204],\n",
       "       [-4.395194 ],\n",
       "       [-4.387786 ],\n",
       "       [-4.392256 ],\n",
       "       [-4.404829 ],\n",
       "       [-4.3905277],\n",
       "       [-4.38682  ],\n",
       "       [-4.3903227],\n",
       "       [-4.3961926],\n",
       "       [-4.39336  ],\n",
       "       [-4.419773 ],\n",
       "       [-4.343439 ],\n",
       "       [-4.3795333],\n",
       "       [-2.8014693]], dtype=float32)"
      ]
     },
     "execution_count": 233,
     "metadata": {},
     "output_type": "execute_result"
    }
   ],
   "source": [
    "np.squeeze(val_preds[0], axis=2).sum(0)"
   ]
  },
  {
   "cell_type": "code",
   "execution_count": null,
   "id": "71c30bcd-0513-4ba5-bcf4-b2ed142e29dc",
   "metadata": {},
   "outputs": [],
   "source": []
  }
 ],
 "metadata": {
  "kernelspec": {
   "display_name": "Python [conda env:.conda-ent_rel_env]",
   "language": "python",
   "name": "conda-env-.conda-ent_rel_env-py"
  },
  "language_info": {
   "codemirror_mode": {
    "name": "ipython",
    "version": 3
   },
   "file_extension": ".py",
   "mimetype": "text/x-python",
   "name": "python",
   "nbconvert_exporter": "python",
   "pygments_lexer": "ipython3",
   "version": "3.8.13"
  }
 },
 "nbformat": 4,
 "nbformat_minor": 5
}
