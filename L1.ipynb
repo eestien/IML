{
 "cells": [
  {
   "cell_type": "code",
   "execution_count": 1,
   "id": "02706dbf-f9f5-45db-8ae0-0e6fc5d464b2",
   "metadata": {},
   "outputs": [],
   "source": [
    "import pandas as pd"
   ]
  },
  {
   "cell_type": "code",
   "execution_count": 2,
   "id": "b78d19d7-641f-4bfc-ad1c-8a746680c487",
   "metadata": {},
   "outputs": [],
   "source": [
    "from scipy import stats\n",
    "import numpy as np\n",
    "\n",
    "## Remove outliers using Z score\n",
    "\n",
    "def drop_coordinates_outliers(data):\n",
    "    data = data.copy()\n",
    "    print('Data shape before removing outliers: ', data.shape)\n",
    "    data = data[((data.lat > 0.0)&(data.lon> 0.0))]\n",
    "    z_lat, z_lon = np.abs(stats.zscore(data.lat)), np.abs(stats.zscore(data.lon))\n",
    "    \n",
    "    threshold = 2.5\n",
    "    lat_outliers = np.where(z_lat > threshold)\n",
    "    lon_outliers = np.where(z_lon > threshold)\n",
    "    \n",
    "    data_no_outliers = data.loc[~data.index.isin(np.concatenate((lat_outliers[0], lon_outliers[0])))].reset_index(drop=True)\n",
    "    print('Data shape after removing outliers: ', data.shape)\n",
    "    return data_no_outliers"
   ]
  },
  {
   "cell_type": "markdown",
   "id": "bd0018ec-824e-43ca-8595-12c373e580d6",
   "metadata": {},
   "source": [
    "### First of all we need to know the bounds of area which we will use for training"
   ]
  },
  {
   "cell_type": "code",
   "execution_count": 3,
   "id": "f7a78ef5-f8f7-4a25-9764-41d84426fd8f",
   "metadata": {},
   "outputs": [],
   "source": [
    "valid = pd.read_csv('./valid.csv')\n",
    "valid = valid.drop_duplicates()\n",
    "\n",
    "valid['hour'] = pd.to_datetime(valid['hour'], unit='s')"
   ]
  },
  {
   "cell_type": "code",
   "execution_count": 4,
   "id": "758c5c76-5e43-43ec-b9dc-18c69755811a",
   "metadata": {},
   "outputs": [
    {
     "name": "stdout",
     "output_type": "stream",
     "text": [
      "Data shape before removing outliers:  (709, 6)\n",
      "Data shape after removing outliers:  (686, 6)\n"
     ]
    },
    {
     "data": {
      "text/html": [
       "<div>\n",
       "<style scoped>\n",
       "    .dataframe tbody tr th:only-of-type {\n",
       "        vertical-align: middle;\n",
       "    }\n",
       "\n",
       "    .dataframe tbody tr th {\n",
       "        vertical-align: top;\n",
       "    }\n",
       "\n",
       "    .dataframe thead th {\n",
       "        text-align: right;\n",
       "    }\n",
       "</style>\n",
       "<table border=\"1\" class=\"dataframe\">\n",
       "  <thead>\n",
       "    <tr style=\"text-align: right;\">\n",
       "      <th></th>\n",
       "      <th>hour</th>\n",
       "      <th>lat</th>\n",
       "      <th>lon</th>\n",
       "      <th>point</th>\n",
       "      <th>sum</th>\n",
       "      <th>error</th>\n",
       "    </tr>\n",
       "  </thead>\n",
       "  <tbody>\n",
       "    <tr>\n",
       "      <th>0</th>\n",
       "      <td>2020-02-23 09:00:00</td>\n",
       "      <td>59.926986</td>\n",
       "      <td>30.318141</td>\n",
       "      <td>0101000020E6100000202C93AD71513E4070B5CC78A7F6...</td>\n",
       "      <td>5</td>\n",
       "      <td>0.421402</td>\n",
       "    </tr>\n",
       "    <tr>\n",
       "      <th>1</th>\n",
       "      <td>2020-02-20 19:00:00</td>\n",
       "      <td>59.924735</td>\n",
       "      <td>30.241784</td>\n",
       "      <td>0101000020E6100000C5FE0F8FE53D3E4033438EB75DF6...</td>\n",
       "      <td>14</td>\n",
       "      <td>0.310291</td>\n",
       "    </tr>\n",
       "    <tr>\n",
       "      <th>2</th>\n",
       "      <td>2020-02-09 15:00:00</td>\n",
       "      <td>60.002300</td>\n",
       "      <td>30.295683</td>\n",
       "      <td>0101000020E6100000AB00D6E0B14B3E40CB88A75E4B00...</td>\n",
       "      <td>5</td>\n",
       "      <td>3.754735</td>\n",
       "    </tr>\n",
       "    <tr>\n",
       "      <th>3</th>\n",
       "      <td>2020-02-17 17:00:00</td>\n",
       "      <td>59.935988</td>\n",
       "      <td>30.324878</td>\n",
       "      <td>0101000020E61000005DECCB372B533E40E4A1F770CEF7...</td>\n",
       "      <td>7</td>\n",
       "      <td>0.504735</td>\n",
       "    </tr>\n",
       "    <tr>\n",
       "      <th>4</th>\n",
       "      <td>2020-02-27 05:00:00</td>\n",
       "      <td>59.933737</td>\n",
       "      <td>30.306912</td>\n",
       "      <td>0101000020E6100000669634C7914E3E407AB3D8B484F7...</td>\n",
       "      <td>14</td>\n",
       "      <td>1.554735</td>\n",
       "    </tr>\n",
       "  </tbody>\n",
       "</table>\n",
       "</div>"
      ],
      "text/plain": [
       "                 hour        lat        lon  \\\n",
       "0 2020-02-23 09:00:00  59.926986  30.318141   \n",
       "1 2020-02-20 19:00:00  59.924735  30.241784   \n",
       "2 2020-02-09 15:00:00  60.002300  30.295683   \n",
       "3 2020-02-17 17:00:00  59.935988  30.324878   \n",
       "4 2020-02-27 05:00:00  59.933737  30.306912   \n",
       "\n",
       "                                               point  sum     error  \n",
       "0  0101000020E6100000202C93AD71513E4070B5CC78A7F6...    5  0.421402  \n",
       "1  0101000020E6100000C5FE0F8FE53D3E4033438EB75DF6...   14  0.310291  \n",
       "2  0101000020E6100000AB00D6E0B14B3E40CB88A75E4B00...    5  3.754735  \n",
       "3  0101000020E61000005DECCB372B533E40E4A1F770CEF7...    7  0.504735  \n",
       "4  0101000020E6100000669634C7914E3E407AB3D8B484F7...   14  1.554735  "
      ]
     },
     "execution_count": 4,
     "metadata": {},
     "output_type": "execute_result"
    }
   ],
   "source": [
    "valid_no_outliers = drop_coordinates_outliers(data=valid.copy())\n",
    "valid.head(5)"
   ]
  },
  {
   "cell_type": "code",
   "execution_count": 5,
   "id": "e612c88f-b827-4219-b971-5959102801dc",
   "metadata": {},
   "outputs": [],
   "source": [
    "LAT_MIN_BOUND, LAT_MAX_BOUND = valid_no_outliers.lat.min(), valid_no_outliers.lat.max()\n",
    "LON_MIN_BOUND, LON_MAX_BOUND = valid_no_outliers.lon.min(), valid_no_outliers.lon.max()"
   ]
  },
  {
   "cell_type": "code",
   "execution_count": 6,
   "id": "4622af89-b433-4b90-9b84-c4b73e71b837",
   "metadata": {},
   "outputs": [
    {
     "name": "stdout",
     "output_type": "stream",
     "text": [
      "Rectangle of interest:  59.82893394227072 60.03933228251395 30.14296935863054 30.53598229543283\n"
     ]
    }
   ],
   "source": [
    "print('Rectangle of interest: ', LAT_MIN_BOUND, LAT_MAX_BOUND, LON_MIN_BOUND, LON_MAX_BOUND)"
   ]
  },
  {
   "cell_type": "markdown",
   "id": "d7142112-512b-4d0e-90eb-818928258c59",
   "metadata": {},
   "source": [
    "## Read and process train data according to rectangle of interest"
   ]
  },
  {
   "cell_type": "code",
   "execution_count": 7,
   "id": "5318331e-9c59-4ce1-b708-145526df08d8",
   "metadata": {},
   "outputs": [
    {
     "name": "stdout",
     "output_type": "stream",
     "text": [
      "Train before dropping duplicates:  (8526526, 12)\n",
      "Train after dropping duplicates:  (8456776, 12)\n",
      "Train after filtering out rare cubes:  (8454375, 12)\n"
     ]
    }
   ],
   "source": [
    "train = pd.read_csv('./train_data.zip')\n",
    "print('Train before dropping duplicates: ', train.shape)\n",
    "\n",
    "train = train.drop_duplicates()\n",
    "print('Train after dropping duplicates: ', train.shape)\n",
    "\n",
    "# Filter all locations with less than 5 events in it \n",
    "train = train.groupby(\"point\").filter(lambda x: len(x) > 5)\n",
    "print('Train after filtering out rare cubes: ', train.shape)\n",
    "\n",
    "# Convert unix timestamp to normal time\n",
    "train['timestamp'] = pd.to_datetime(train['timestamp'], unit='s')\n",
    "train = train.reset_index(drop=True)"
   ]
  },
  {
   "cell_type": "code",
   "execution_count": 8,
   "id": "552bf19f-f06d-4062-a7d4-da6c795566f6",
   "metadata": {},
   "outputs": [
    {
     "name": "stdout",
     "output_type": "stream",
     "text": [
      "Train after removing cubes which are out of rectangle of interest:  (8295361, 12)\n"
     ]
    }
   ],
   "source": [
    "# Drop all cubes that are not included in rectangle of interest\n",
    "train_processed = train[((train.lat <= LAT_MAX_BOUND)&(train.lat >= LAT_MIN_BOUND)&(train.lon <= LON_MAX_BOUND)&(train.lon >= LON_MIN_BOUND))]\n",
    "print('Train after removing cubes which are out of rectangle of interest: ', train_processed.shape)"
   ]
  },
  {
   "cell_type": "code",
   "execution_count": 9,
   "id": "cef58c8d-8e1d-4413-88ef-8e1114205ba0",
   "metadata": {},
   "outputs": [
    {
     "data": {
      "text/html": [
       "<div>\n",
       "<style scoped>\n",
       "    .dataframe tbody tr th:only-of-type {\n",
       "        vertical-align: middle;\n",
       "    }\n",
       "\n",
       "    .dataframe tbody tr th {\n",
       "        vertical-align: top;\n",
       "    }\n",
       "\n",
       "    .dataframe thead th {\n",
       "        text-align: right;\n",
       "    }\n",
       "</style>\n",
       "<table border=\"1\" class=\"dataframe\">\n",
       "  <thead>\n",
       "    <tr style=\"text-align: right;\">\n",
       "      <th></th>\n",
       "      <th>timestamp</th>\n",
       "      <th>lon</th>\n",
       "      <th>lat</th>\n",
       "      <th>likescount</th>\n",
       "      <th>commentscount</th>\n",
       "      <th>symbols_cnt</th>\n",
       "      <th>words_cnt</th>\n",
       "      <th>hashtags_cnt</th>\n",
       "      <th>mentions_cnt</th>\n",
       "      <th>links_cnt</th>\n",
       "      <th>emoji_cnt</th>\n",
       "      <th>point</th>\n",
       "    </tr>\n",
       "  </thead>\n",
       "  <tbody>\n",
       "    <tr>\n",
       "      <th>0</th>\n",
       "      <td>2019-08-12 11:00:00</td>\n",
       "      <td>30.329370</td>\n",
       "      <td>59.940488</td>\n",
       "      <td>63</td>\n",
       "      <td>4</td>\n",
       "      <td>52</td>\n",
       "      <td>6</td>\n",
       "      <td>0</td>\n",
       "      <td>0</td>\n",
       "      <td>0</td>\n",
       "      <td>0</td>\n",
       "      <td>0101000020E6100000DBC1F19351543E4006FC5DE561F8...</td>\n",
       "    </tr>\n",
       "    <tr>\n",
       "      <th>1</th>\n",
       "      <td>2019-08-12 00:00:00</td>\n",
       "      <td>30.342845</td>\n",
       "      <td>59.869542</td>\n",
       "      <td>44</td>\n",
       "      <td>0</td>\n",
       "      <td>40</td>\n",
       "      <td>0</td>\n",
       "      <td>4</td>\n",
       "      <td>0</td>\n",
       "      <td>0</td>\n",
       "      <td>0</td>\n",
       "      <td>0101000020E6100000544263A8C4573E40C27FCF284DEF...</td>\n",
       "    </tr>\n",
       "    <tr>\n",
       "      <th>2</th>\n",
       "      <td>2019-08-12 00:00:00</td>\n",
       "      <td>30.322632</td>\n",
       "      <td>60.039332</td>\n",
       "      <td>30</td>\n",
       "      <td>0</td>\n",
       "      <td>77</td>\n",
       "      <td>7</td>\n",
       "      <td>0</td>\n",
       "      <td>0</td>\n",
       "      <td>0</td>\n",
       "      <td>1</td>\n",
       "      <td>0101000020E61000009E01B90998523E40888919D70805...</td>\n",
       "    </tr>\n",
       "    <tr>\n",
       "      <th>3</th>\n",
       "      <td>2019-08-12 00:00:00</td>\n",
       "      <td>30.322632</td>\n",
       "      <td>59.938238</td>\n",
       "      <td>13</td>\n",
       "      <td>0</td>\n",
       "      <td>634</td>\n",
       "      <td>17</td>\n",
       "      <td>32</td>\n",
       "      <td>0</td>\n",
       "      <td>0</td>\n",
       "      <td>7</td>\n",
       "      <td>0101000020E61000009E01B90998523E40CEB8CE2B18F8...</td>\n",
       "    </tr>\n",
       "    <tr>\n",
       "      <th>4</th>\n",
       "      <td>2019-08-12 00:00:00</td>\n",
       "      <td>30.309158</td>\n",
       "      <td>59.932612</td>\n",
       "      <td>8</td>\n",
       "      <td>0</td>\n",
       "      <td>0</td>\n",
       "      <td>0</td>\n",
       "      <td>0</td>\n",
       "      <td>0</td>\n",
       "      <td>0</td>\n",
       "      <td>0</td>\n",
       "      <td>0101000020E6100000268147F5244F3E40494A4ED65FF7...</td>\n",
       "    </tr>\n",
       "  </tbody>\n",
       "</table>\n",
       "</div>"
      ],
      "text/plain": [
       "            timestamp        lon        lat  likescount  commentscount  \\\n",
       "0 2019-08-12 11:00:00  30.329370  59.940488          63              4   \n",
       "1 2019-08-12 00:00:00  30.342845  59.869542          44              0   \n",
       "2 2019-08-12 00:00:00  30.322632  60.039332          30              0   \n",
       "3 2019-08-12 00:00:00  30.322632  59.938238          13              0   \n",
       "4 2019-08-12 00:00:00  30.309158  59.932612           8              0   \n",
       "\n",
       "   symbols_cnt  words_cnt  hashtags_cnt  mentions_cnt  links_cnt  emoji_cnt  \\\n",
       "0           52          6             0             0          0          0   \n",
       "1           40          0             4             0          0          0   \n",
       "2           77          7             0             0          0          1   \n",
       "3          634         17            32             0          0          7   \n",
       "4            0          0             0             0          0          0   \n",
       "\n",
       "                                               point  \n",
       "0  0101000020E6100000DBC1F19351543E4006FC5DE561F8...  \n",
       "1  0101000020E6100000544263A8C4573E40C27FCF284DEF...  \n",
       "2  0101000020E61000009E01B90998523E40888919D70805...  \n",
       "3  0101000020E61000009E01B90998523E40CEB8CE2B18F8...  \n",
       "4  0101000020E6100000268147F5244F3E40494A4ED65FF7...  "
      ]
     },
     "execution_count": 9,
     "metadata": {},
     "output_type": "execute_result"
    }
   ],
   "source": [
    "train_processed.head(5)"
   ]
  },
  {
   "cell_type": "code",
   "execution_count": 10,
   "id": "20541aab-f762-420a-99f3-88fb4a39ee99",
   "metadata": {},
   "outputs": [],
   "source": [
    "min_lat, max_lat = train_processed.lat.min(), train_processed.lat.max()\n",
    "min_lon, max_lon = train_processed.lon.min(), train_processed.lon.max()"
   ]
  },
  {
   "cell_type": "code",
   "execution_count": 11,
   "id": "c8f85896-0516-40ec-a449-ae15011ad544",
   "metadata": {},
   "outputs": [
    {
     "name": "stdout",
     "output_type": "stream",
     "text": [
      "Rectangle of interest in train data:  59.82893394227072 60.03933228251395 30.14521514684084 30.53598229543283\n"
     ]
    }
   ],
   "source": [
    "print('Rectangle of interest in train data: ', min_lat, max_lat, min_lon, max_lon)"
   ]
  },
  {
   "cell_type": "markdown",
   "id": "2c206e19-2dcc-417d-a4ee-79ffb6be3225",
   "metadata": {},
   "source": [
    "## Move coordinates to \"image\" grid"
   ]
  },
  {
   "cell_type": "code",
   "execution_count": 12,
   "id": "ec5ddb5f-19cd-41b0-bf3e-5d2518f73d7b",
   "metadata": {},
   "outputs": [],
   "source": [
    "def lat_to_grid(inp):\n",
    "    return round((LAT_MAX_BOUND - inp) / 0.0005)\n",
    "\n",
    "def lon_to_grid(inp):\n",
    "    return round((LON_MAX_BOUND - inp) / 0.0005)"
   ]
  },
  {
   "cell_type": "code",
   "execution_count": 13,
   "id": "00725d7d-9eb7-47ed-89e0-cac2ae309317",
   "metadata": {
    "tags": []
   },
   "outputs": [
    {
     "name": "stderr",
     "output_type": "stream",
     "text": [
      "/data/home/spushkov/.conda/envs/ent_rel_env/lib/python3.8/site-packages/pandas/core/indexing.py:1667: SettingWithCopyWarning: \n",
      "A value is trying to be set on a copy of a slice from a DataFrame.\n",
      "Try using .loc[row_indexer,col_indexer] = value instead\n",
      "\n",
      "See the caveats in the documentation: https://pandas.pydata.org/pandas-docs/stable/user_guide/indexing.html#returning-a-view-versus-a-copy\n",
      "  self.obj[key] = value\n"
     ]
    }
   ],
   "source": [
    "train_processed.loc[:, 'lat_gird'] = train_processed['lat'].apply(lambda x: lat_to_grid(x))\n",
    "train_processed.loc[:, 'lon_gird'] = train_processed['lon'].apply(lambda x: lon_to_grid(x))"
   ]
  },
  {
   "cell_type": "code",
   "execution_count": 14,
   "id": "2f225254-6cfe-4666-aa13-b4712fad9e31",
   "metadata": {},
   "outputs": [
    {
     "data": {
      "text/html": [
       "<div>\n",
       "<style scoped>\n",
       "    .dataframe tbody tr th:only-of-type {\n",
       "        vertical-align: middle;\n",
       "    }\n",
       "\n",
       "    .dataframe tbody tr th {\n",
       "        vertical-align: top;\n",
       "    }\n",
       "\n",
       "    .dataframe thead th {\n",
       "        text-align: right;\n",
       "    }\n",
       "</style>\n",
       "<table border=\"1\" class=\"dataframe\">\n",
       "  <thead>\n",
       "    <tr style=\"text-align: right;\">\n",
       "      <th></th>\n",
       "      <th>timestamp</th>\n",
       "      <th>lon</th>\n",
       "      <th>lat</th>\n",
       "      <th>likescount</th>\n",
       "      <th>commentscount</th>\n",
       "      <th>symbols_cnt</th>\n",
       "      <th>words_cnt</th>\n",
       "      <th>hashtags_cnt</th>\n",
       "      <th>mentions_cnt</th>\n",
       "      <th>links_cnt</th>\n",
       "      <th>emoji_cnt</th>\n",
       "      <th>point</th>\n",
       "      <th>lat_gird</th>\n",
       "      <th>lon_gird</th>\n",
       "    </tr>\n",
       "  </thead>\n",
       "  <tbody>\n",
       "    <tr>\n",
       "      <th>0</th>\n",
       "      <td>2019-08-12 11:00:00</td>\n",
       "      <td>30.329370</td>\n",
       "      <td>59.940488</td>\n",
       "      <td>63</td>\n",
       "      <td>4</td>\n",
       "      <td>52</td>\n",
       "      <td>6</td>\n",
       "      <td>0</td>\n",
       "      <td>0</td>\n",
       "      <td>0</td>\n",
       "      <td>0</td>\n",
       "      <td>0101000020E6100000DBC1F19351543E4006FC5DE561F8...</td>\n",
       "      <td>198</td>\n",
       "      <td>413</td>\n",
       "    </tr>\n",
       "    <tr>\n",
       "      <th>1</th>\n",
       "      <td>2019-08-12 00:00:00</td>\n",
       "      <td>30.342845</td>\n",
       "      <td>59.869542</td>\n",
       "      <td>44</td>\n",
       "      <td>0</td>\n",
       "      <td>40</td>\n",
       "      <td>0</td>\n",
       "      <td>4</td>\n",
       "      <td>0</td>\n",
       "      <td>0</td>\n",
       "      <td>0</td>\n",
       "      <td>0101000020E6100000544263A8C4573E40C27FCF284DEF...</td>\n",
       "      <td>340</td>\n",
       "      <td>386</td>\n",
       "    </tr>\n",
       "    <tr>\n",
       "      <th>2</th>\n",
       "      <td>2019-08-12 00:00:00</td>\n",
       "      <td>30.322632</td>\n",
       "      <td>60.039332</td>\n",
       "      <td>30</td>\n",
       "      <td>0</td>\n",
       "      <td>77</td>\n",
       "      <td>7</td>\n",
       "      <td>0</td>\n",
       "      <td>0</td>\n",
       "      <td>0</td>\n",
       "      <td>1</td>\n",
       "      <td>0101000020E61000009E01B90998523E40888919D70805...</td>\n",
       "      <td>0</td>\n",
       "      <td>427</td>\n",
       "    </tr>\n",
       "  </tbody>\n",
       "</table>\n",
       "</div>"
      ],
      "text/plain": [
       "            timestamp        lon        lat  likescount  commentscount  \\\n",
       "0 2019-08-12 11:00:00  30.329370  59.940488          63              4   \n",
       "1 2019-08-12 00:00:00  30.342845  59.869542          44              0   \n",
       "2 2019-08-12 00:00:00  30.322632  60.039332          30              0   \n",
       "\n",
       "   symbols_cnt  words_cnt  hashtags_cnt  mentions_cnt  links_cnt  emoji_cnt  \\\n",
       "0           52          6             0             0          0          0   \n",
       "1           40          0             4             0          0          0   \n",
       "2           77          7             0             0          0          1   \n",
       "\n",
       "                                               point  lat_gird  lon_gird  \n",
       "0  0101000020E6100000DBC1F19351543E4006FC5DE561F8...       198       413  \n",
       "1  0101000020E6100000544263A8C4573E40C27FCF284DEF...       340       386  \n",
       "2  0101000020E61000009E01B90998523E40888919D70805...         0       427  "
      ]
     },
     "execution_count": 14,
     "metadata": {},
     "output_type": "execute_result"
    }
   ],
   "source": [
    "train_processed.head(3)"
   ]
  },
  {
   "cell_type": "code",
   "execution_count": 15,
   "id": "cc628e76-b483-4cd5-9c18-25efbfb14586",
   "metadata": {},
   "outputs": [
    {
     "data": {
      "text/html": [
       "<div>\n",
       "<style scoped>\n",
       "    .dataframe tbody tr th:only-of-type {\n",
       "        vertical-align: middle;\n",
       "    }\n",
       "\n",
       "    .dataframe tbody tr th {\n",
       "        vertical-align: top;\n",
       "    }\n",
       "\n",
       "    .dataframe thead th {\n",
       "        text-align: right;\n",
       "    }\n",
       "</style>\n",
       "<table border=\"1\" class=\"dataframe\">\n",
       "  <thead>\n",
       "    <tr style=\"text-align: right;\">\n",
       "      <th></th>\n",
       "      <th>timestamp</th>\n",
       "      <th>point</th>\n",
       "      <th>num_of_posts</th>\n",
       "    </tr>\n",
       "  </thead>\n",
       "  <tbody>\n",
       "    <tr>\n",
       "      <th>0</th>\n",
       "      <td>2019-01-01 00:00:00</td>\n",
       "      <td>0101000020E610000002BF48199F3F3E4010C569574E02...</td>\n",
       "      <td>1</td>\n",
       "    </tr>\n",
       "    <tr>\n",
       "      <th>2094695</th>\n",
       "      <td>2019-09-06 13:00:00</td>\n",
       "      <td>0101000020E6100000B8194F56B7663E4041CA35D0FCFC...</td>\n",
       "      <td>1</td>\n",
       "    </tr>\n",
       "    <tr>\n",
       "      <th>2094696</th>\n",
       "      <td>2019-09-06 13:00:00</td>\n",
       "      <td>0101000020E6100000B8194F56B7663E4053FFA7E47BF3...</td>\n",
       "      <td>1</td>\n",
       "    </tr>\n",
       "    <tr>\n",
       "      <th>2094698</th>\n",
       "      <td>2019-09-06 13:00:00</td>\n",
       "      <td>0101000020E6100000B8FFF2B7CB443E408991431816F7...</td>\n",
       "      <td>1</td>\n",
       "    </tr>\n",
       "    <tr>\n",
       "      <th>2094699</th>\n",
       "      <td>2019-09-06 13:00:00</td>\n",
       "      <td>0101000020E6100000BE54A7FF7E423E400D42027446FD...</td>\n",
       "      <td>1</td>\n",
       "    </tr>\n",
       "    <tr>\n",
       "      <th>...</th>\n",
       "      <td>...</td>\n",
       "      <td>...</td>\n",
       "      <td>...</td>\n",
       "    </tr>\n",
       "    <tr>\n",
       "      <th>1646443</th>\n",
       "      <td>2019-07-21 20:00:00</td>\n",
       "      <td>0101000020E6100000597DBB518C333E400262E887FEFD...</td>\n",
       "      <td>377</td>\n",
       "    </tr>\n",
       "    <tr>\n",
       "      <th>2562728</th>\n",
       "      <td>2019-10-19 17:00:00</td>\n",
       "      <td>0101000020E610000050D352C225383E4030E11C588EFC...</td>\n",
       "      <td>393</td>\n",
       "    </tr>\n",
       "    <tr>\n",
       "      <th>2846146</th>\n",
       "      <td>2019-11-16 17:00:00</td>\n",
       "      <td>0101000020E610000050D352C225383E4030E11C588EFC...</td>\n",
       "      <td>401</td>\n",
       "    </tr>\n",
       "    <tr>\n",
       "      <th>1646846</th>\n",
       "      <td>2019-07-21 21:00:00</td>\n",
       "      <td>0101000020E6100000597DBB518C333E400262E887FEFD...</td>\n",
       "      <td>411</td>\n",
       "    </tr>\n",
       "    <tr>\n",
       "      <th>2845545</th>\n",
       "      <td>2019-11-16 16:00:00</td>\n",
       "      <td>0101000020E610000050D352C225383E4030E11C588EFC...</td>\n",
       "      <td>540</td>\n",
       "    </tr>\n",
       "  </tbody>\n",
       "</table>\n",
       "<p>3571093 rows × 3 columns</p>\n",
       "</div>"
      ],
      "text/plain": [
       "                  timestamp  \\\n",
       "0       2019-01-01 00:00:00   \n",
       "2094695 2019-09-06 13:00:00   \n",
       "2094696 2019-09-06 13:00:00   \n",
       "2094698 2019-09-06 13:00:00   \n",
       "2094699 2019-09-06 13:00:00   \n",
       "...                     ...   \n",
       "1646443 2019-07-21 20:00:00   \n",
       "2562728 2019-10-19 17:00:00   \n",
       "2846146 2019-11-16 17:00:00   \n",
       "1646846 2019-07-21 21:00:00   \n",
       "2845545 2019-11-16 16:00:00   \n",
       "\n",
       "                                                     point  num_of_posts  \n",
       "0        0101000020E610000002BF48199F3F3E4010C569574E02...             1  \n",
       "2094695  0101000020E6100000B8194F56B7663E4041CA35D0FCFC...             1  \n",
       "2094696  0101000020E6100000B8194F56B7663E4053FFA7E47BF3...             1  \n",
       "2094698  0101000020E6100000B8FFF2B7CB443E408991431816F7...             1  \n",
       "2094699  0101000020E6100000BE54A7FF7E423E400D42027446FD...             1  \n",
       "...                                                    ...           ...  \n",
       "1646443  0101000020E6100000597DBB518C333E400262E887FEFD...           377  \n",
       "2562728  0101000020E610000050D352C225383E4030E11C588EFC...           393  \n",
       "2846146  0101000020E610000050D352C225383E4030E11C588EFC...           401  \n",
       "1646846  0101000020E6100000597DBB518C333E400262E887FEFD...           411  \n",
       "2845545  0101000020E610000050D352C225383E4030E11C588EFC...           540  \n",
       "\n",
       "[3571093 rows x 3 columns]"
      ]
     },
     "execution_count": 15,
     "metadata": {},
     "output_type": "execute_result"
    }
   ],
   "source": [
    "train_processed_x = train_processed.groupby(by=['timestamp', 'point']).size().reset_index(name='num_of_posts')\n",
    "train_processed_x.sort_values('num_of_posts')"
   ]
  },
  {
   "cell_type": "markdown",
   "id": "1b630812-5535-495b-a141-acd5648104c8",
   "metadata": {},
   "source": [
    "### Add lat and lon to grouped dataframe"
   ]
  },
  {
   "cell_type": "code",
   "execution_count": 16,
   "id": "a7046674-b830-44fc-9094-73b07a17bca5",
   "metadata": {},
   "outputs": [],
   "source": [
    "tp = train_processed.drop_duplicates(['lon', 'lat', 'point'])"
   ]
  },
  {
   "cell_type": "code",
   "execution_count": 17,
   "id": "ddd3c02a-6183-4a22-939e-3eb6dbc7a3ee",
   "metadata": {},
   "outputs": [],
   "source": [
    "train_processed_x = pd.merge(left=tp[['lon', 'lat', 'point']], right=train_processed_x, on='point', how='right')"
   ]
  },
  {
   "cell_type": "code",
   "execution_count": 18,
   "id": "3336c2bb-3c70-43dd-8784-0e72f434a2ca",
   "metadata": {},
   "outputs": [
    {
     "data": {
      "text/html": [
       "<div>\n",
       "<style scoped>\n",
       "    .dataframe tbody tr th:only-of-type {\n",
       "        vertical-align: middle;\n",
       "    }\n",
       "\n",
       "    .dataframe tbody tr th {\n",
       "        vertical-align: top;\n",
       "    }\n",
       "\n",
       "    .dataframe thead th {\n",
       "        text-align: right;\n",
       "    }\n",
       "</style>\n",
       "<table border=\"1\" class=\"dataframe\">\n",
       "  <thead>\n",
       "    <tr style=\"text-align: right;\">\n",
       "      <th></th>\n",
       "      <th>lon</th>\n",
       "      <th>lat</th>\n",
       "      <th>point</th>\n",
       "      <th>timestamp</th>\n",
       "      <th>num_of_posts</th>\n",
       "    </tr>\n",
       "  </thead>\n",
       "  <tbody>\n",
       "    <tr>\n",
       "      <th>0</th>\n",
       "      <td>30.248521</td>\n",
       "      <td>60.018016</td>\n",
       "      <td>0101000020E610000002BF48199F3F3E4010C569574E02...</td>\n",
       "      <td>2019-01-01</td>\n",
       "      <td>1</td>\n",
       "    </tr>\n",
       "    <tr>\n",
       "      <th>1</th>\n",
       "      <td>30.248521</td>\n",
       "      <td>59.850372</td>\n",
       "      <td>0101000020E610000002BF48199F3F3E40586790FFD8EC...</td>\n",
       "      <td>2019-01-01</td>\n",
       "      <td>1</td>\n",
       "    </tr>\n",
       "    <tr>\n",
       "      <th>2</th>\n",
       "      <td>30.239538</td>\n",
       "      <td>59.965226</td>\n",
       "      <td>0101000020E61000000614FD60523D3E400086058A8CFB...</td>\n",
       "      <td>2019-01-01</td>\n",
       "      <td>1</td>\n",
       "    </tr>\n",
       "    <tr>\n",
       "      <th>3</th>\n",
       "      <td>30.239538</td>\n",
       "      <td>59.858267</td>\n",
       "      <td>0101000020E61000000614FD60523D3E4074DD5BB2DBED...</td>\n",
       "      <td>2019-01-01</td>\n",
       "      <td>2</td>\n",
       "    </tr>\n",
       "    <tr>\n",
       "      <th>4</th>\n",
       "      <td>30.239538</td>\n",
       "      <td>60.037089</td>\n",
       "      <td>0101000020E61000000614FD60523D3E40D800D455BF04...</td>\n",
       "      <td>2019-01-01</td>\n",
       "      <td>1</td>\n",
       "    </tr>\n",
       "  </tbody>\n",
       "</table>\n",
       "</div>"
      ],
      "text/plain": [
       "         lon        lat                                              point  \\\n",
       "0  30.248521  60.018016  0101000020E610000002BF48199F3F3E4010C569574E02...   \n",
       "1  30.248521  59.850372  0101000020E610000002BF48199F3F3E40586790FFD8EC...   \n",
       "2  30.239538  59.965226  0101000020E61000000614FD60523D3E400086058A8CFB...   \n",
       "3  30.239538  59.858267  0101000020E61000000614FD60523D3E4074DD5BB2DBED...   \n",
       "4  30.239538  60.037089  0101000020E61000000614FD60523D3E40D800D455BF04...   \n",
       "\n",
       "   timestamp  num_of_posts  \n",
       "0 2019-01-01             1  \n",
       "1 2019-01-01             1  \n",
       "2 2019-01-01             1  \n",
       "3 2019-01-01             2  \n",
       "4 2019-01-01             1  "
      ]
     },
     "execution_count": 18,
     "metadata": {},
     "output_type": "execute_result"
    }
   ],
   "source": [
    "train_processed_x.head()"
   ]
  },
  {
   "cell_type": "code",
   "execution_count": 19,
   "id": "4fc52c5d-7540-4618-ace6-dd227c8feb40",
   "metadata": {},
   "outputs": [],
   "source": [
    "year_month_day_format = '%Y-%m-%d'\n",
    "train_processed_x['Ymd'] = train_processed_x['timestamp'].apply(lambda x: x.strftime(year_month_day_format))"
   ]
  },
  {
   "cell_type": "markdown",
   "id": "ad6bcdae-e9e0-401e-a23f-8ce24771e305",
   "metadata": {},
   "source": [
    "### Make an image at certain timestamp "
   ]
  },
  {
   "cell_type": "code",
   "execution_count": 20,
   "id": "079ef84b-c090-45b0-bee5-2ad063202a3a",
   "metadata": {},
   "outputs": [
    {
     "data": {
      "text/html": [
       "<div>\n",
       "<style scoped>\n",
       "    .dataframe tbody tr th:only-of-type {\n",
       "        vertical-align: middle;\n",
       "    }\n",
       "\n",
       "    .dataframe tbody tr th {\n",
       "        vertical-align: top;\n",
       "    }\n",
       "\n",
       "    .dataframe thead th {\n",
       "        text-align: right;\n",
       "    }\n",
       "</style>\n",
       "<table border=\"1\" class=\"dataframe\">\n",
       "  <thead>\n",
       "    <tr style=\"text-align: right;\">\n",
       "      <th></th>\n",
       "      <th>lon</th>\n",
       "      <th>lat</th>\n",
       "      <th>point</th>\n",
       "      <th>timestamp</th>\n",
       "      <th>num_of_posts</th>\n",
       "      <th>Ymd</th>\n",
       "    </tr>\n",
       "  </thead>\n",
       "  <tbody>\n",
       "    <tr>\n",
       "      <th>3565849</th>\n",
       "      <td>30.248521</td>\n",
       "      <td>60.009036</td>\n",
       "      <td>0101000020E610000002BF48199F3F3E4042A0141A2801...</td>\n",
       "      <td>2020-01-31 13:00:00</td>\n",
       "      <td>1</td>\n",
       "      <td>2020-01-31</td>\n",
       "    </tr>\n",
       "    <tr>\n",
       "      <th>3565850</th>\n",
       "      <td>30.248521</td>\n",
       "      <td>59.851500</td>\n",
       "      <td>0101000020E610000002BF48199F3F3E40892F7FF5FDEC...</td>\n",
       "      <td>2020-01-31 13:00:00</td>\n",
       "      <td>1</td>\n",
       "      <td>2020-01-31</td>\n",
       "    </tr>\n",
       "    <tr>\n",
       "      <th>3565851</th>\n",
       "      <td>30.248521</td>\n",
       "      <td>60.022505</td>\n",
       "      <td>0101000020E610000002BF48199F3F3E408F79686EE102...</td>\n",
       "      <td>2020-01-31 13:00:00</td>\n",
       "      <td>1</td>\n",
       "      <td>2020-01-31</td>\n",
       "    </tr>\n",
       "    <tr>\n",
       "      <th>3565852</th>\n",
       "      <td>30.381023</td>\n",
       "      <td>59.924735</td>\n",
       "      <td>0101000020E610000003D9A4B78A613E4033438EB75DF6...</td>\n",
       "      <td>2020-01-31 13:00:00</td>\n",
       "      <td>1</td>\n",
       "      <td>2020-01-31</td>\n",
       "    </tr>\n",
       "    <tr>\n",
       "      <th>3565853</th>\n",
       "      <td>30.513524</td>\n",
       "      <td>59.908975</td>\n",
       "      <td>0101000020E610000003F3005676833E40DAABFA4A59F4...</td>\n",
       "      <td>2020-01-31 13:00:00</td>\n",
       "      <td>1</td>\n",
       "      <td>2020-01-31</td>\n",
       "    </tr>\n",
       "    <tr>\n",
       "      <th>...</th>\n",
       "      <td>...</td>\n",
       "      <td>...</td>\n",
       "      <td>...</td>\n",
       "      <td>...</td>\n",
       "      <td>...</td>\n",
       "      <td>...</td>\n",
       "    </tr>\n",
       "    <tr>\n",
       "      <th>3566388</th>\n",
       "      <td>30.257505</td>\n",
       "      <td>59.896587</td>\n",
       "      <td>0101000020E6100000FE6994D1EB413E401F04E95BC3F2...</td>\n",
       "      <td>2020-01-31 13:00:00</td>\n",
       "      <td>1</td>\n",
       "      <td>2020-01-31</td>\n",
       "    </tr>\n",
       "    <tr>\n",
       "      <th>3566389</th>\n",
       "      <td>30.257505</td>\n",
       "      <td>60.010159</td>\n",
       "      <td>0101000020E6100000FE6994D1EB413E40A3B0DDE24C01...</td>\n",
       "      <td>2020-01-31 13:00:00</td>\n",
       "      <td>15</td>\n",
       "      <td>2020-01-31</td>\n",
       "    </tr>\n",
       "    <tr>\n",
       "      <th>3566390</th>\n",
       "      <td>30.390006</td>\n",
       "      <td>59.884194</td>\n",
       "      <td>0101000020E6100000FF83F06FD7633E409E5212462DF1...</td>\n",
       "      <td>2020-01-31 13:00:00</td>\n",
       "      <td>1</td>\n",
       "      <td>2020-01-31</td>\n",
       "    </tr>\n",
       "    <tr>\n",
       "      <th>3566391</th>\n",
       "      <td>30.390006</td>\n",
       "      <td>60.024749</td>\n",
       "      <td>0101000020E6100000FF83F06FD7633E40A0E9FCF72A03...</td>\n",
       "      <td>2020-01-31 13:00:00</td>\n",
       "      <td>1</td>\n",
       "      <td>2020-01-31</td>\n",
       "    </tr>\n",
       "    <tr>\n",
       "      <th>3566392</th>\n",
       "      <td>30.390006</td>\n",
       "      <td>59.844732</td>\n",
       "      <td>0101000020E6100000FF83F06FD7633E40FBF1162D20EC...</td>\n",
       "      <td>2020-01-31 13:00:00</td>\n",
       "      <td>1</td>\n",
       "      <td>2020-01-31</td>\n",
       "    </tr>\n",
       "  </tbody>\n",
       "</table>\n",
       "<p>544 rows × 6 columns</p>\n",
       "</div>"
      ],
      "text/plain": [
       "               lon        lat  \\\n",
       "3565849  30.248521  60.009036   \n",
       "3565850  30.248521  59.851500   \n",
       "3565851  30.248521  60.022505   \n",
       "3565852  30.381023  59.924735   \n",
       "3565853  30.513524  59.908975   \n",
       "...            ...        ...   \n",
       "3566388  30.257505  59.896587   \n",
       "3566389  30.257505  60.010159   \n",
       "3566390  30.390006  59.884194   \n",
       "3566391  30.390006  60.024749   \n",
       "3566392  30.390006  59.844732   \n",
       "\n",
       "                                                     point  \\\n",
       "3565849  0101000020E610000002BF48199F3F3E4042A0141A2801...   \n",
       "3565850  0101000020E610000002BF48199F3F3E40892F7FF5FDEC...   \n",
       "3565851  0101000020E610000002BF48199F3F3E408F79686EE102...   \n",
       "3565852  0101000020E610000003D9A4B78A613E4033438EB75DF6...   \n",
       "3565853  0101000020E610000003F3005676833E40DAABFA4A59F4...   \n",
       "...                                                    ...   \n",
       "3566388  0101000020E6100000FE6994D1EB413E401F04E95BC3F2...   \n",
       "3566389  0101000020E6100000FE6994D1EB413E40A3B0DDE24C01...   \n",
       "3566390  0101000020E6100000FF83F06FD7633E409E5212462DF1...   \n",
       "3566391  0101000020E6100000FF83F06FD7633E40A0E9FCF72A03...   \n",
       "3566392  0101000020E6100000FF83F06FD7633E40FBF1162D20EC...   \n",
       "\n",
       "                  timestamp  num_of_posts         Ymd  \n",
       "3565849 2020-01-31 13:00:00             1  2020-01-31  \n",
       "3565850 2020-01-31 13:00:00             1  2020-01-31  \n",
       "3565851 2020-01-31 13:00:00             1  2020-01-31  \n",
       "3565852 2020-01-31 13:00:00             1  2020-01-31  \n",
       "3565853 2020-01-31 13:00:00             1  2020-01-31  \n",
       "...                     ...           ...         ...  \n",
       "3566388 2020-01-31 13:00:00             1  2020-01-31  \n",
       "3566389 2020-01-31 13:00:00            15  2020-01-31  \n",
       "3566390 2020-01-31 13:00:00             1  2020-01-31  \n",
       "3566391 2020-01-31 13:00:00             1  2020-01-31  \n",
       "3566392 2020-01-31 13:00:00             1  2020-01-31  \n",
       "\n",
       "[544 rows x 6 columns]"
      ]
     },
     "execution_count": 20,
     "metadata": {},
     "output_type": "execute_result"
    }
   ],
   "source": [
    "train_processed_x[(train_processed_x.timestamp=='2020-01-31 13:00:00')]"
   ]
  },
  {
   "cell_type": "code",
   "execution_count": 101,
   "id": "df448c74-b725-419f-869d-76805ef889ab",
   "metadata": {
    "tags": []
   },
   "outputs": [],
   "source": [
    "def generate_image(spec_timestamp):\n",
    "    data = np.zeros((round((LON_MAX_BOUND-LON_MIN_BOUND) / 0.0005)+1, round((LAT_MAX_BOUND-LAT_MIN_BOUND) / 0.0005)+1), dtype=np.uint8)\n",
    "    for _, row in train_processed_x[(train_processed_x.timestamp==spec_timestamp)][['lat', 'lon', 'num_of_posts']].iterrows():\n",
    "        lon, lat, n_posts = row.lon, row.lat, int(row.num_of_posts)\n",
    "        try:\n",
    "            data[round((LON_MAX_BOUND-lon) / 0.0005), round((LAT_MAX_BOUND-lat) / 0.0005)] = n_posts * 100 # Multiplied by 100 in order to make visualization brighter\n",
    "        except Exception as e:\n",
    "            print(e)\n",
    "            print(lon, lat)\n",
    "            print(round((LON_MAX_BOUND-lon) / 0.0005), round((LAT_MAX_BOUND-lat) / 0.0005))\n",
    "    return data"
   ]
  },
  {
   "cell_type": "code",
   "execution_count": 102,
   "id": "5d19242f-034d-42f3-95e0-37fd6ec2b7e2",
   "metadata": {
    "tags": []
   },
   "outputs": [
    {
     "data": {
      "text/plain": [
       "(787, 422)"
      ]
     },
     "execution_count": 102,
     "metadata": {},
     "output_type": "execute_result"
    }
   ],
   "source": [
    "data = generate_image('2020-01-31 13:00:00')\n",
    "data.shape"
   ]
  },
  {
   "cell_type": "code",
   "execution_count": 103,
   "id": "a1062361-6aff-4e62-8b8b-ecf89e88edca",
   "metadata": {},
   "outputs": [
    {
     "data": {
      "image/png": "[encoded data removed]",
      "text/plain": [
       "<Figure size 432x288 with 1 Axes>"
      ]
     },
     "metadata": {
      "needs_background": "light"
     },
     "output_type": "display_data"
    }
   ],
   "source": [
    "import numpy as np\n",
    "from matplotlib import pyplot as plt\n",
    "plt.imshow(data, interpolation='nearest')\n",
    "plt.show()"
   ]
  },
  {
   "cell_type": "code",
   "execution_count": 64,
   "id": "0cdd3e7f-7945-46f6-ae95-41d67547a0ed",
   "metadata": {},
   "outputs": [
    {
     "data": {
      "text/plain": [
       "(787, 422)"
      ]
     },
     "execution_count": 64,
     "metadata": {},
     "output_type": "execute_result"
    }
   ],
   "source": [
    "data.shape"
   ]
  },
  {
   "cell_type": "code",
   "execution_count": 112,
   "id": "b9d6003f-3c91-4102-a37b-8faccfec7830",
   "metadata": {},
   "outputs": [
    {
     "data": {
      "text/plain": [
       "34"
      ]
     },
     "execution_count": 112,
     "metadata": {},
     "output_type": "execute_result"
    }
   ],
   "source": [
    "# For image normalization\n",
    "pixels_norm = train_processed_x[(train_processed_x.timestamp=='2020-01-31 13:00:00')].num_of_posts.max()\n",
    "pixels_norm "
   ]
  },
  {
   "cell_type": "code",
   "execution_count": 105,
   "id": "09c82e2c-5c7e-4ed4-96ef-42742d18bde3",
   "metadata": {},
   "outputs": [],
   "source": [
    "from datetime import date, timedelta\n",
    "\n",
    "def daterange(start_date, end_date):\n",
    "    for n in range(int((end_date - start_date) / np.timedelta64(1, 'h'))):\n",
    "        yield start_date + timedelta(hours=n)\n",
    "\n",
    "train_3d_images = []\n",
    "ground_truth = []\n",
    "start_date = pd.Timestamp('2020-01-30T23')\n",
    "end_date = train_processed_x.timestamp.max()\n",
    "for single_date in daterange(start_date, end_date):\n",
    "    three_d_image = []\n",
    "    inner_end_date = single_date + timedelta(hours=5)\n",
    "    ground_truth.append(generate_image(single_date + timedelta(hours=6)))\n",
    "    for inner_single_data in daterange(single_date, inner_end_date):\n",
    "        data = generate_image(inner_single_data)\n",
    "        three_d_image.append(data)\n",
    "    train_3d_images.append(three_d_image)\n",
    "    \n",
    "    # print(single_date, data.shape)\n",
    "    # print(data.sum(0).sum(0))\n",
    "    # # print(single_date.strftime(\"%Y-%m-%d-\"))"
   ]
  },
  {
   "cell_type": "code",
   "execution_count": 106,
   "id": "28995da5-d681-4321-9b88-7dec4dc85aea",
   "metadata": {},
   "outputs": [
    {
     "data": {
      "text/plain": [
       "(24, 5, 787, 422)"
      ]
     },
     "execution_count": 106,
     "metadata": {},
     "output_type": "execute_result"
    }
   ],
   "source": [
    "np.array(train_3d_images).shape"
   ]
  },
  {
   "cell_type": "code",
   "execution_count": 107,
   "id": "af53f48e-59f3-4b57-9e63-ca61396e938d",
   "metadata": {},
   "outputs": [
    {
     "data": {
      "text/plain": [
       "(5, 787, 422)"
      ]
     },
     "execution_count": 107,
     "metadata": {},
     "output_type": "execute_result"
    }
   ],
   "source": [
    "np.array(train_3d_images[0]).shape"
   ]
  },
  {
   "cell_type": "code",
   "execution_count": 108,
   "id": "a2bfc4eb-0b72-45bb-9539-fd79565917c4",
   "metadata": {},
   "outputs": [
    {
     "data": {
      "text/plain": [
       "(24, 787, 422)"
      ]
     },
     "execution_count": 108,
     "metadata": {},
     "output_type": "execute_result"
    }
   ],
   "source": [
    "np.array(ground_truth).shape"
   ]
  },
  {
   "cell_type": "code",
   "execution_count": 109,
   "id": "66e9ace4-72db-4ffc-b477-c3de3b66e14a",
   "metadata": {},
   "outputs": [],
   "source": [
    "from tensorflow.keras.layers import Input, Conv2D, Concatenate, MaxPooling2D, UpSampling2D\n",
    "import keras \n",
    "\n",
    "def get_unet_model(img_size, num_classes):\n",
    "\n",
    "    inputs = keras.Input(shape=img_size+(5,))\n",
    "    \n",
    "    # --- Encoder ---\n",
    "    # first conv layer\n",
    "    conv_layer_1_1 = Conv2D(10, 3, activation='relu', padding='same')(inputs)\n",
    "    conv_layer_1_2 = Conv2D(20, 3, activation='relu', padding='same')(conv_layer_1_1)\n",
    "    conv_layer_1_3 = Conv2D(40, 3, activation='relu', padding='same')(conv_layer_1_2)\n",
    "    \n",
    "    conv_layer_2_1 = Conv2D(20, 3, activation='relu', padding='same')(conv_layer_1_3)\n",
    "    conv_layer_2_2 = Conv2D(10, 3, activation='relu', padding='same')(conv_layer_2_1)\n",
    "    outputs = Conv2D(1, 3, activation='relu', padding='same')(conv_layer_2_2)\n",
    "    \n",
    "    model = keras.Model(inputs, outputs)\n",
    "    return model\n",
    "\n",
    "\n",
    "# Free up RAM in case the model definition cells were run multiple times\n",
    "keras.backend.clear_session()\n",
    "model = get_unet_model((787, 422), 1)"
   ]
  },
  {
   "cell_type": "code",
   "execution_count": 53,
   "id": "71f25c87-7c13-4539-b1db-3214d15188ba",
   "metadata": {},
   "outputs": [
    {
     "name": "stdout",
     "output_type": "stream",
     "text": [
      "Collecting pydot\n",
      "  Downloading pydot-1.4.2-py2.py3-none-any.whl (21 kB)\n",
      "Requirement already satisfied: pyparsing>=2.1.4 in /data/home/spushkov/.conda/envs/ent_rel_env/lib/python3.8/site-packages (from pydot) (3.0.8)\n",
      "Installing collected packages: pydot\n",
      "Successfully installed pydot-1.4.2\n",
      "\u001b[33mWARNING: You are using pip version 22.0.4; however, version 22.3.1 is available.\n",
      "You should consider upgrading via the '/data/home/spushkov/.conda/envs/ent_rel_env/bin/python -m pip install --upgrade pip' command.\u001b[0m\u001b[33m\n",
      "\u001b[0m"
     ]
    }
   ],
   "source": [
    "! pip install pydot"
   ]
  },
  {
   "cell_type": "code",
   "execution_count": 110,
   "id": "a5caf6cf-4410-4edb-b54f-121e95559154",
   "metadata": {},
   "outputs": [
    {
     "name": "stdout",
     "output_type": "stream",
     "text": [
      "You must install pydot (`pip install pydot`) and install graphviz (see instructions at https://graphviz.gitlab.io/download/) for plot_model to work.\n"
     ]
    }
   ],
   "source": [
    "keras.utils.plot_model(model, show_shapes=True, show_layer_names=True)"
   ]
  },
  {
   "cell_type": "code",
   "execution_count": 113,
   "id": "5fc07795-70ab-4945-8f63-234445967e98",
   "metadata": {},
   "outputs": [],
   "source": [
    "from tensorflow import keras\n",
    "import tensorflow as tf\n",
    "\n",
    "\n",
    "class ImgSequence(keras.utils.Sequence):\n",
    "    \n",
    "    def __init__(self, batch_size, img_size, images_paths, target_paths):\n",
    "        self.batch_size = batch_size\n",
    "        self.img_size = img_size\n",
    "        self.images_paths = images_paths\n",
    "        self.target_paths = target_paths\n",
    "        \n",
    "    \n",
    "    def __len__(self):\n",
    "        length = 0\n",
    "        # Each item in the sequence has a size of batch_size, this method returns the number of batches. Shoud be integer!\n",
    "        # TODO: length calculation\n",
    "        length = len(self.images_paths) // self.batch_size\n",
    "        return length\n",
    "    \n",
    "    def __getitem__(self, idx):\n",
    "        x = np.zeros((self.batch_size, ) + self.img_size + (3, ), dtype=\"float32\")\n",
    "        y = np.zeros((self.batch_size, ) + self.img_size + (1, ), dtype=\"uint8\")\n",
    "        \"\"\"\n",
    "        This method returns the batches themselves including images (x) and masks (y) as np.arrays.\n",
    "        Correspondingly x contains the batch_size of the pet images, y the true segmentation of the images from x.\n",
    "        Note:\n",
    "\n",
    "                img / 255.0 for images, so that each value is adjacent to the interval [0, 1] \n",
    "                \n",
    "        \"\"\"\n",
    "        \n",
    "        # TODO x and y calculation\n",
    "        batch_x = self.images_paths[idx * self.batch_size:(idx + 1) * self.batch_size]\n",
    "        batch_y = self.target_paths[idx * self.batch_size:(idx + 1) * self.batch_size]\n",
    "        \n",
    "        x = np.array([np.array(file_name).reshape((787, 422, -1)) / float(pixels_norm*100) for file_name in batch_x])\n",
    "        y = np.array([np.expand_dims(np.array(file_name), axis=2) / float(pixels_norm*100) for file_name in batch_y])\n",
    "        return x, y \n",
    "        \n",
    "\n",
    "        "
   ]
  },
  {
   "cell_type": "code",
   "execution_count": 114,
   "id": "a8282abf-c460-4426-96a8-b6cf605f853a",
   "metadata": {},
   "outputs": [],
   "source": [
    "# Instantiate data Sequences for each split\n",
    "batch_size = 1\n",
    "train_gen = ImgSequence(batch_size=batch_size, img_size=(787, 422), images_paths=train_3d_images[:20], target_paths=ground_truth[:20])\n",
    "valid_gen = ImgSequence(batch_size=batch_size, img_size=(787, 422), images_paths=train_3d_images[20:], target_paths=ground_truth[20:])"
   ]
  },
  {
   "cell_type": "code",
   "execution_count": 115,
   "id": "34ed719b-062d-4465-a6af-32fd86a3a6b8",
   "metadata": {},
   "outputs": [
    {
     "data": {
      "text/plain": [
       "<__main__.ImgSequence at 0x7f646060fc40>"
      ]
     },
     "execution_count": 115,
     "metadata": {},
     "output_type": "execute_result"
    }
   ],
   "source": [
    "train_gen"
   ]
  },
  {
   "cell_type": "code",
   "execution_count": 116,
   "id": "81b6ac17-6a52-4aad-bafd-a74e00ed467b",
   "metadata": {},
   "outputs": [
    {
     "name": "stdout",
     "output_type": "stream",
     "text": [
      "Epoch 1/3\n",
      "20/20 [==============================] - 7s 310ms/step - loss: 0.0000e+00 - val_loss: 0.0000e+00\n",
      "Epoch 2/3\n",
      "20/20 [==============================] - 6s 324ms/step - loss: 0.0000e+00 - val_loss: 0.0000e+00\n",
      "Epoch 3/3\n",
      "20/20 [==============================] - 7s 323ms/step - loss: 0.0000e+00 - val_loss: 0.0000e+00\n"
     ]
    },
    {
     "data": {
      "text/plain": [
       "<keras.callbacks.History at 0x7f64606053d0>"
      ]
     },
     "execution_count": 116,
     "metadata": {},
     "output_type": "execute_result"
    }
   ],
   "source": [
    "model.compile(optimizer=\"rmsprop\", loss=\"sparse_categorical_crossentropy\")\n",
    "\n",
    "\n",
    "# Train the model, doing validation at the end of each epoch.\n",
    "epochs = 3\n",
    "model.fit(train_gen, validation_data=valid_gen, epochs=epochs)"
   ]
  },
  {
   "cell_type": "code",
   "execution_count": 117,
   "id": "57d4c9f4-60ea-4157-acf3-885e0fcbdda4",
   "metadata": {},
   "outputs": [
    {
     "name": "stdout",
     "output_type": "stream",
     "text": [
      "4/4 [==============================] - 1s 106ms/step\n"
     ]
    }
   ],
   "source": [
    "\n",
    "val_preds = model.predict(valid_gen)"
   ]
  },
  {
   "cell_type": "code",
   "execution_count": 118,
   "id": "cf1c424e-ccab-4a74-b9c5-a6626cb337e7",
   "metadata": {},
   "outputs": [
    {
     "data": {
      "image/png": "[encoded data removed]",
      "text/plain": [
       "<Figure size 432x288 with 1 Axes>"
      ]
     },
     "metadata": {
      "needs_background": "light"
     },
     "output_type": "display_data"
    }
   ],
   "source": [
    "import numpy as np\n",
    "from matplotlib import pyplot as plt\n",
    "plt.imshow(val_preds[0], interpolation='nearest')\n",
    "plt.show()"
   ]
  },
  {
   "cell_type": "code",
   "execution_count": 119,
   "id": "f2c7c205-bc3f-47a0-8194-488bb104750c",
   "metadata": {},
   "outputs": [
    {
     "data": {
      "image/png": "[encoded data removed]",
      "text/plain": [
       "<Figure size 432x288 with 1 Axes>"
      ]
     },
     "metadata": {
      "needs_background": "light"
     },
     "output_type": "display_data"
    }
   ],
   "source": [
    "import numpy as np\n",
    "from matplotlib import pyplot as plt\n",
    "plt.imshow(val_preds[3], interpolation='nearest')\n",
    "plt.show()"
   ]
  },
  {
   "cell_type": "code",
   "execution_count": null,
   "id": "71c30bcd-0513-4ba5-bcf4-b2ed142e29dc",
   "metadata": {},
   "outputs": [],
   "source": []
  }
 ],
 "metadata": {
  "kernelspec": {
   "display_name": "Python [conda env:.conda-ent_rel_env]",
   "language": "python",
   "name": "conda-env-.conda-ent_rel_env-py"
  },
  "language_info": {
   "codemirror_mode": {
    "name": "ipython",
    "version": 3
   },
   "file_extension": ".py",
   "mimetype": "text/x-python",
   "name": "python",
   "nbconvert_exporter": "python",
   "pygments_lexer": "ipython3",
   "version": "3.8.13"
  }
 },
 "nbformat": 4,
 "nbformat_minor": 5
}
