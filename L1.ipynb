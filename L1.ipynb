{
 "cells": [
  {
   "cell_type": "code",
   "execution_count": 2,
   "id": "02706dbf-f9f5-45db-8ae0-0e6fc5d464b2",
   "metadata": {},
   "outputs": [],
   "source": [
    "import pandas as pd"
   ]
  },
  {
   "cell_type": "code",
   "execution_count": 40,
   "id": "b78d19d7-641f-4bfc-ad1c-8a746680c487",
   "metadata": {},
   "outputs": [],
   "source": [
    "from scipy import stats\n",
    "import numpy as np\n",
    "\n",
    "## Remove outliers using Z score\n",
    "\n",
    "def drop_coordinates_outliers(data):\n",
    "    data = data.copy()\n",
    "    print('Data shape before removing outliers: ', data.shape)\n",
    "    data = data[((data.lat > 0.0)&(data.lon> 0.0))]\n",
    "    z_lat, z_lon = np.abs(stats.zscore(data.lat)), np.abs(stats.zscore(data.lon))\n",
    "    \n",
    "    threshold = 2.5\n",
    "    lat_outliers = np.where(z_lat > threshold)\n",
    "    lon_outliers = np.where(z_lon > threshold)\n",
    "    \n",
    "    data_no_outliers = data.loc[~data.index.isin(np.concatenate((lat_outliers[0], lon_outliers[0])))].reset_index(drop=True)\n",
    "    print('Data shape after removing outliers: ', data.shape)\n",
    "    return data_no_outliers"
   ]
  },
  {
   "cell_type": "markdown",
   "id": "bd0018ec-824e-43ca-8595-12c373e580d6",
   "metadata": {},
   "source": [
    "### First of all we need to know the bounds of area which we will use for training"
   ]
  },
  {
   "cell_type": "code",
   "execution_count": 41,
   "id": "f7a78ef5-f8f7-4a25-9764-41d84426fd8f",
   "metadata": {},
   "outputs": [],
   "source": [
    "valid = pd.read_csv('./valid.csv')\n",
    "valid = valid.drop_duplicates()\n",
    "\n",
    "valid['hour'] = pd.to_datetime(valid['hour'], unit='s')"
   ]
  },
  {
   "cell_type": "code",
   "execution_count": 42,
   "id": "758c5c76-5e43-43ec-b9dc-18c69755811a",
   "metadata": {},
   "outputs": [
    {
     "name": "stdout",
     "output_type": "stream",
     "text": [
      "Data shape before removing outliers:  (709, 6)\n",
      "Data shape after removing outliers:  (686, 6)\n"
     ]
    },
    {
     "data": {
      "text/html": [
       "<div>\n",
       "<style scoped>\n",
       "    .dataframe tbody tr th:only-of-type {\n",
       "        vertical-align: middle;\n",
       "    }\n",
       "\n",
       "    .dataframe tbody tr th {\n",
       "        vertical-align: top;\n",
       "    }\n",
       "\n",
       "    .dataframe thead th {\n",
       "        text-align: right;\n",
       "    }\n",
       "</style>\n",
       "<table border=\"1\" class=\"dataframe\">\n",
       "  <thead>\n",
       "    <tr style=\"text-align: right;\">\n",
       "      <th></th>\n",
       "      <th>hour</th>\n",
       "      <th>lat</th>\n",
       "      <th>lon</th>\n",
       "      <th>point</th>\n",
       "      <th>sum</th>\n",
       "      <th>error</th>\n",
       "    </tr>\n",
       "  </thead>\n",
       "  <tbody>\n",
       "    <tr>\n",
       "      <th>0</th>\n",
       "      <td>2020-02-23 09:00:00</td>\n",
       "      <td>59.926986</td>\n",
       "      <td>30.318141</td>\n",
       "      <td>0101000020E6100000202C93AD71513E4070B5CC78A7F6...</td>\n",
       "      <td>5</td>\n",
       "      <td>0.421402</td>\n",
       "    </tr>\n",
       "    <tr>\n",
       "      <th>1</th>\n",
       "      <td>2020-02-20 19:00:00</td>\n",
       "      <td>59.924735</td>\n",
       "      <td>30.241784</td>\n",
       "      <td>0101000020E6100000C5FE0F8FE53D3E4033438EB75DF6...</td>\n",
       "      <td>14</td>\n",
       "      <td>0.310291</td>\n",
       "    </tr>\n",
       "    <tr>\n",
       "      <th>2</th>\n",
       "      <td>2020-02-09 15:00:00</td>\n",
       "      <td>60.002300</td>\n",
       "      <td>30.295683</td>\n",
       "      <td>0101000020E6100000AB00D6E0B14B3E40CB88A75E4B00...</td>\n",
       "      <td>5</td>\n",
       "      <td>3.754735</td>\n",
       "    </tr>\n",
       "    <tr>\n",
       "      <th>3</th>\n",
       "      <td>2020-02-17 17:00:00</td>\n",
       "      <td>59.935988</td>\n",
       "      <td>30.324878</td>\n",
       "      <td>0101000020E61000005DECCB372B533E40E4A1F770CEF7...</td>\n",
       "      <td>7</td>\n",
       "      <td>0.504735</td>\n",
       "    </tr>\n",
       "    <tr>\n",
       "      <th>4</th>\n",
       "      <td>2020-02-27 05:00:00</td>\n",
       "      <td>59.933737</td>\n",
       "      <td>30.306912</td>\n",
       "      <td>0101000020E6100000669634C7914E3E407AB3D8B484F7...</td>\n",
       "      <td>14</td>\n",
       "      <td>1.554735</td>\n",
       "    </tr>\n",
       "  </tbody>\n",
       "</table>\n",
       "</div>"
      ],
      "text/plain": [
       "                 hour        lat        lon  \\\n",
       "0 2020-02-23 09:00:00  59.926986  30.318141   \n",
       "1 2020-02-20 19:00:00  59.924735  30.241784   \n",
       "2 2020-02-09 15:00:00  60.002300  30.295683   \n",
       "3 2020-02-17 17:00:00  59.935988  30.324878   \n",
       "4 2020-02-27 05:00:00  59.933737  30.306912   \n",
       "\n",
       "                                               point  sum     error  \n",
       "0  0101000020E6100000202C93AD71513E4070B5CC78A7F6...    5  0.421402  \n",
       "1  0101000020E6100000C5FE0F8FE53D3E4033438EB75DF6...   14  0.310291  \n",
       "2  0101000020E6100000AB00D6E0B14B3E40CB88A75E4B00...    5  3.754735  \n",
       "3  0101000020E61000005DECCB372B533E40E4A1F770CEF7...    7  0.504735  \n",
       "4  0101000020E6100000669634C7914E3E407AB3D8B484F7...   14  1.554735  "
      ]
     },
     "execution_count": 42,
     "metadata": {},
     "output_type": "execute_result"
    }
   ],
   "source": [
    "valid_no_outliers = drop_coordinates_outliers(data=valid.copy())\n",
    "valid.head(5)"
   ]
  },
  {
   "cell_type": "code",
   "execution_count": 43,
   "id": "e612c88f-b827-4219-b971-5959102801dc",
   "metadata": {},
   "outputs": [],
   "source": [
    "LAT_MIN_BOUND, LAT_MAX_BOUND = valid_no_outliers.lat.min(), valid_no_outliers.lat.max()\n",
    "LON_MIN_BOUND, LON_MAX_BOUND = valid_no_outliers.lon.min(), valid_no_outliers.lon.max()"
   ]
  },
  {
   "cell_type": "code",
   "execution_count": 44,
   "id": "2662770f-4ae4-4602-b717-dc660fbc638f",
   "metadata": {},
   "outputs": [
    {
     "name": "stdout",
     "output_type": "stream",
     "text": [
      "Rectangle of interest:  59.82893394227072 60.03933228251395 30.14296935863054 30.53598229543283\n"
     ]
    }
   ],
   "source": [
    "print('Rectangle of interest: ', LAT_MIN_BOUND, LAT_MAX_BOUND, LON_MIN_BOUND, LON_MAX_BOUND)"
   ]
  },
  {
   "cell_type": "markdown",
   "id": "d7142112-512b-4d0e-90eb-818928258c59",
   "metadata": {},
   "source": [
    "## Read and process train data according to rectangle of interest"
   ]
  },
  {
   "cell_type": "code",
   "execution_count": 8,
   "id": "5318331e-9c59-4ce1-b708-145526df08d8",
   "metadata": {},
   "outputs": [
    {
     "name": "stdout",
     "output_type": "stream",
     "text": [
      "Train before dropping duplicates:  (8526526, 12)\n",
      "Train after dropping duplicates:  (8456776, 12)\n",
      "Train after filtering out rare cubes:  (8454375, 12)\n"
     ]
    }
   ],
   "source": [
    "train = pd.read_csv('./train_data.zip')\n",
    "print('Train before dropping duplicates: ', train.shape)\n",
    "\n",
    "train = train.drop_duplicates()\n",
    "print('Train after dropping duplicates: ', train.shape)\n",
    "\n",
    "# Filter all locations with less than 5 events in it \n",
    "train = train.groupby(\"point\").filter(lambda x: len(x) > 5)\n",
    "print('Train after filtering out rare cubes: ', train.shape)\n",
    "\n",
    "# Convert unix timestamp to normal time\n",
    "train['timestamp'] = pd.to_datetime(train['timestamp'], unit='s')\n",
    "train = train.reset_index(drop=True)"
   ]
  },
  {
   "cell_type": "code",
   "execution_count": 9,
   "id": "552bf19f-f06d-4062-a7d4-da6c795566f6",
   "metadata": {},
   "outputs": [
    {
     "name": "stdout",
     "output_type": "stream",
     "text": [
      "Train after removing cubes which are out of rectangle of interest:  (8295361, 12)\n"
     ]
    }
   ],
   "source": [
    "# Drop all cubes that are not included in rectangle of interest\n",
    "train_processed = train[((train.lat <= LAT_MAX_BOUND)&(train.lat >= LAT_MIN_BOUND)&(train.lon <= LON_MAX_BOUND)&(train.lon >= LON_MIN_BOUND))]\n",
    "print('Train after removing cubes which are out of rectangle of interest: ', train_processed.shape)"
   ]
  },
  {
   "cell_type": "code",
   "execution_count": 45,
   "id": "cef58c8d-8e1d-4413-88ef-8e1114205ba0",
   "metadata": {},
   "outputs": [
    {
     "data": {
      "text/html": [
       "<div>\n",
       "<style scoped>\n",
       "    .dataframe tbody tr th:only-of-type {\n",
       "        vertical-align: middle;\n",
       "    }\n",
       "\n",
       "    .dataframe tbody tr th {\n",
       "        vertical-align: top;\n",
       "    }\n",
       "\n",
       "    .dataframe thead th {\n",
       "        text-align: right;\n",
       "    }\n",
       "</style>\n",
       "<table border=\"1\" class=\"dataframe\">\n",
       "  <thead>\n",
       "    <tr style=\"text-align: right;\">\n",
       "      <th></th>\n",
       "      <th>timestamp</th>\n",
       "      <th>lon</th>\n",
       "      <th>lat</th>\n",
       "      <th>likescount</th>\n",
       "      <th>commentscount</th>\n",
       "      <th>symbols_cnt</th>\n",
       "      <th>words_cnt</th>\n",
       "      <th>hashtags_cnt</th>\n",
       "      <th>mentions_cnt</th>\n",
       "      <th>links_cnt</th>\n",
       "      <th>emoji_cnt</th>\n",
       "      <th>point</th>\n",
       "      <th>lat_gird</th>\n",
       "      <th>lon_gird</th>\n",
       "    </tr>\n",
       "  </thead>\n",
       "  <tbody>\n",
       "    <tr>\n",
       "      <th>0</th>\n",
       "      <td>2019-08-12 11:00:00</td>\n",
       "      <td>30.329370</td>\n",
       "      <td>59.940488</td>\n",
       "      <td>63</td>\n",
       "      <td>4</td>\n",
       "      <td>52</td>\n",
       "      <td>6</td>\n",
       "      <td>0</td>\n",
       "      <td>0</td>\n",
       "      <td>0</td>\n",
       "      <td>0</td>\n",
       "      <td>0101000020E6100000DBC1F19351543E4006FC5DE561F8...</td>\n",
       "      <td>198</td>\n",
       "      <td>413</td>\n",
       "    </tr>\n",
       "    <tr>\n",
       "      <th>1</th>\n",
       "      <td>2019-08-12 00:00:00</td>\n",
       "      <td>30.342845</td>\n",
       "      <td>59.869542</td>\n",
       "      <td>44</td>\n",
       "      <td>0</td>\n",
       "      <td>40</td>\n",
       "      <td>0</td>\n",
       "      <td>4</td>\n",
       "      <td>0</td>\n",
       "      <td>0</td>\n",
       "      <td>0</td>\n",
       "      <td>0101000020E6100000544263A8C4573E40C27FCF284DEF...</td>\n",
       "      <td>340</td>\n",
       "      <td>386</td>\n",
       "    </tr>\n",
       "    <tr>\n",
       "      <th>2</th>\n",
       "      <td>2019-08-12 00:00:00</td>\n",
       "      <td>30.322632</td>\n",
       "      <td>60.039332</td>\n",
       "      <td>30</td>\n",
       "      <td>0</td>\n",
       "      <td>77</td>\n",
       "      <td>7</td>\n",
       "      <td>0</td>\n",
       "      <td>0</td>\n",
       "      <td>0</td>\n",
       "      <td>1</td>\n",
       "      <td>0101000020E61000009E01B90998523E40888919D70805...</td>\n",
       "      <td>0</td>\n",
       "      <td>427</td>\n",
       "    </tr>\n",
       "    <tr>\n",
       "      <th>3</th>\n",
       "      <td>2019-08-12 00:00:00</td>\n",
       "      <td>30.322632</td>\n",
       "      <td>59.938238</td>\n",
       "      <td>13</td>\n",
       "      <td>0</td>\n",
       "      <td>634</td>\n",
       "      <td>17</td>\n",
       "      <td>32</td>\n",
       "      <td>0</td>\n",
       "      <td>0</td>\n",
       "      <td>7</td>\n",
       "      <td>0101000020E61000009E01B90998523E40CEB8CE2B18F8...</td>\n",
       "      <td>202</td>\n",
       "      <td>427</td>\n",
       "    </tr>\n",
       "    <tr>\n",
       "      <th>4</th>\n",
       "      <td>2019-08-12 00:00:00</td>\n",
       "      <td>30.309158</td>\n",
       "      <td>59.932612</td>\n",
       "      <td>8</td>\n",
       "      <td>0</td>\n",
       "      <td>0</td>\n",
       "      <td>0</td>\n",
       "      <td>0</td>\n",
       "      <td>0</td>\n",
       "      <td>0</td>\n",
       "      <td>0</td>\n",
       "      <td>0101000020E6100000268147F5244F3E40494A4ED65FF7...</td>\n",
       "      <td>213</td>\n",
       "      <td>454</td>\n",
       "    </tr>\n",
       "  </tbody>\n",
       "</table>\n",
       "</div>"
      ],
      "text/plain": [
       "            timestamp        lon        lat  likescount  commentscount  \\\n",
       "0 2019-08-12 11:00:00  30.329370  59.940488          63              4   \n",
       "1 2019-08-12 00:00:00  30.342845  59.869542          44              0   \n",
       "2 2019-08-12 00:00:00  30.322632  60.039332          30              0   \n",
       "3 2019-08-12 00:00:00  30.322632  59.938238          13              0   \n",
       "4 2019-08-12 00:00:00  30.309158  59.932612           8              0   \n",
       "\n",
       "   symbols_cnt  words_cnt  hashtags_cnt  mentions_cnt  links_cnt  emoji_cnt  \\\n",
       "0           52          6             0             0          0          0   \n",
       "1           40          0             4             0          0          0   \n",
       "2           77          7             0             0          0          1   \n",
       "3          634         17            32             0          0          7   \n",
       "4            0          0             0             0          0          0   \n",
       "\n",
       "                                               point  lat_gird  lon_gird  \n",
       "0  0101000020E6100000DBC1F19351543E4006FC5DE561F8...       198       413  \n",
       "1  0101000020E6100000544263A8C4573E40C27FCF284DEF...       340       386  \n",
       "2  0101000020E61000009E01B90998523E40888919D70805...         0       427  \n",
       "3  0101000020E61000009E01B90998523E40CEB8CE2B18F8...       202       427  \n",
       "4  0101000020E6100000268147F5244F3E40494A4ED65FF7...       213       454  "
      ]
     },
     "execution_count": 45,
     "metadata": {},
     "output_type": "execute_result"
    }
   ],
   "source": [
    "train_processed.head(5)"
   ]
  },
  {
   "cell_type": "code",
   "execution_count": 46,
   "id": "20541aab-f762-420a-99f3-88fb4a39ee99",
   "metadata": {},
   "outputs": [],
   "source": [
    "min_lat, max_lat = train_processed.lat.min(), train_processed.lat.max()\n",
    "min_lon, max_lon = train_processed.lon.min(), train_processed.lon.max()"
   ]
  },
  {
   "cell_type": "code",
   "execution_count": 12,
   "id": "c8f85896-0516-40ec-a449-ae15011ad544",
   "metadata": {},
   "outputs": [
    {
     "name": "stdout",
     "output_type": "stream",
     "text": [
      "Rectangle of interest in train data:  59.82893394227072 60.03933228251395 30.14521514684084 30.53598229543283\n"
     ]
    }
   ],
   "source": [
    "print('Rectangle of interest in train data: ', min_lat, max_lat, min_lon, max_lon)"
   ]
  },
  {
   "cell_type": "markdown",
   "id": "2c206e19-2dcc-417d-a4ee-79ffb6be3225",
   "metadata": {},
   "source": [
    "## Move coordinates to \"image\" grid"
   ]
  },
  {
   "cell_type": "code",
   "execution_count": 13,
   "id": "ec5ddb5f-19cd-41b0-bf3e-5d2518f73d7b",
   "metadata": {},
   "outputs": [],
   "source": [
    "def lat_to_grid(inp):\n",
    "    return round((LAT_MAX_BOUND - inp) / 0.0005)\n",
    "\n",
    "def lon_to_grid(inp):\n",
    "    return round((LON_MAX_BOUND - inp) / 0.0005)"
   ]
  },
  {
   "cell_type": "code",
   "execution_count": 14,
   "id": "00725d7d-9eb7-47ed-89e0-cac2ae309317",
   "metadata": {
    "tags": []
   },
   "outputs": [
    {
     "name": "stderr",
     "output_type": "stream",
     "text": [
      "/data/home/spushkov/.conda/envs/ent_rel_env/lib/python3.8/site-packages/pandas/core/indexing.py:1667: SettingWithCopyWarning: \n",
      "A value is trying to be set on a copy of a slice from a DataFrame.\n",
      "Try using .loc[row_indexer,col_indexer] = value instead\n",
      "\n",
      "See the caveats in the documentation: https://pandas.pydata.org/pandas-docs/stable/user_guide/indexing.html#returning-a-view-versus-a-copy\n",
      "  self.obj[key] = value\n"
     ]
    }
   ],
   "source": [
    "train_processed.loc[:, 'lat_gird'] = train_processed['lat'].apply(lambda x: lat_to_grid(x))\n",
    "train_processed.loc[:, 'lon_gird'] = train_processed['lon'].apply(lambda x: lon_to_grid(x))"
   ]
  },
  {
   "cell_type": "code",
   "execution_count": 18,
   "id": "2f225254-6cfe-4666-aa13-b4712fad9e31",
   "metadata": {},
   "outputs": [
    {
     "data": {
      "text/html": [
       "<div>\n",
       "<style scoped>\n",
       "    .dataframe tbody tr th:only-of-type {\n",
       "        vertical-align: middle;\n",
       "    }\n",
       "\n",
       "    .dataframe tbody tr th {\n",
       "        vertical-align: top;\n",
       "    }\n",
       "\n",
       "    .dataframe thead th {\n",
       "        text-align: right;\n",
       "    }\n",
       "</style>\n",
       "<table border=\"1\" class=\"dataframe\">\n",
       "  <thead>\n",
       "    <tr style=\"text-align: right;\">\n",
       "      <th></th>\n",
       "      <th>timestamp</th>\n",
       "      <th>lon</th>\n",
       "      <th>lat</th>\n",
       "      <th>likescount</th>\n",
       "      <th>commentscount</th>\n",
       "      <th>symbols_cnt</th>\n",
       "      <th>words_cnt</th>\n",
       "      <th>hashtags_cnt</th>\n",
       "      <th>mentions_cnt</th>\n",
       "      <th>links_cnt</th>\n",
       "      <th>emoji_cnt</th>\n",
       "      <th>point</th>\n",
       "      <th>lat_gird</th>\n",
       "      <th>lon_gird</th>\n",
       "    </tr>\n",
       "  </thead>\n",
       "  <tbody>\n",
       "    <tr>\n",
       "      <th>0</th>\n",
       "      <td>2019-08-12 11:00:00</td>\n",
       "      <td>30.329370</td>\n",
       "      <td>59.940488</td>\n",
       "      <td>63</td>\n",
       "      <td>4</td>\n",
       "      <td>52</td>\n",
       "      <td>6</td>\n",
       "      <td>0</td>\n",
       "      <td>0</td>\n",
       "      <td>0</td>\n",
       "      <td>0</td>\n",
       "      <td>0101000020E6100000DBC1F19351543E4006FC5DE561F8...</td>\n",
       "      <td>198</td>\n",
       "      <td>413</td>\n",
       "    </tr>\n",
       "    <tr>\n",
       "      <th>1</th>\n",
       "      <td>2019-08-12 00:00:00</td>\n",
       "      <td>30.342845</td>\n",
       "      <td>59.869542</td>\n",
       "      <td>44</td>\n",
       "      <td>0</td>\n",
       "      <td>40</td>\n",
       "      <td>0</td>\n",
       "      <td>4</td>\n",
       "      <td>0</td>\n",
       "      <td>0</td>\n",
       "      <td>0</td>\n",
       "      <td>0101000020E6100000544263A8C4573E40C27FCF284DEF...</td>\n",
       "      <td>340</td>\n",
       "      <td>386</td>\n",
       "    </tr>\n",
       "    <tr>\n",
       "      <th>2</th>\n",
       "      <td>2019-08-12 00:00:00</td>\n",
       "      <td>30.322632</td>\n",
       "      <td>60.039332</td>\n",
       "      <td>30</td>\n",
       "      <td>0</td>\n",
       "      <td>77</td>\n",
       "      <td>7</td>\n",
       "      <td>0</td>\n",
       "      <td>0</td>\n",
       "      <td>0</td>\n",
       "      <td>1</td>\n",
       "      <td>0101000020E61000009E01B90998523E40888919D70805...</td>\n",
       "      <td>0</td>\n",
       "      <td>427</td>\n",
       "    </tr>\n",
       "  </tbody>\n",
       "</table>\n",
       "</div>"
      ],
      "text/plain": [
       "            timestamp        lon        lat  likescount  commentscount  \\\n",
       "0 2019-08-12 11:00:00  30.329370  59.940488          63              4   \n",
       "1 2019-08-12 00:00:00  30.342845  59.869542          44              0   \n",
       "2 2019-08-12 00:00:00  30.322632  60.039332          30              0   \n",
       "\n",
       "   symbols_cnt  words_cnt  hashtags_cnt  mentions_cnt  links_cnt  emoji_cnt  \\\n",
       "0           52          6             0             0          0          0   \n",
       "1           40          0             4             0          0          0   \n",
       "2           77          7             0             0          0          1   \n",
       "\n",
       "                                               point  lat_gird  lon_gird  \n",
       "0  0101000020E6100000DBC1F19351543E4006FC5DE561F8...       198       413  \n",
       "1  0101000020E6100000544263A8C4573E40C27FCF284DEF...       340       386  \n",
       "2  0101000020E61000009E01B90998523E40888919D70805...         0       427  "
      ]
     },
     "execution_count": 18,
     "metadata": {},
     "output_type": "execute_result"
    }
   ],
   "source": [
    "train_processed.head(3)"
   ]
  },
  {
   "cell_type": "code",
   "execution_count": 19,
   "id": "cc628e76-b483-4cd5-9c18-25efbfb14586",
   "metadata": {},
   "outputs": [
    {
     "data": {
      "text/html": [
       "<div>\n",
       "<style scoped>\n",
       "    .dataframe tbody tr th:only-of-type {\n",
       "        vertical-align: middle;\n",
       "    }\n",
       "\n",
       "    .dataframe tbody tr th {\n",
       "        vertical-align: top;\n",
       "    }\n",
       "\n",
       "    .dataframe thead th {\n",
       "        text-align: right;\n",
       "    }\n",
       "</style>\n",
       "<table border=\"1\" class=\"dataframe\">\n",
       "  <thead>\n",
       "    <tr style=\"text-align: right;\">\n",
       "      <th></th>\n",
       "      <th>timestamp</th>\n",
       "      <th>point</th>\n",
       "      <th>num_of_posts</th>\n",
       "    </tr>\n",
       "  </thead>\n",
       "  <tbody>\n",
       "    <tr>\n",
       "      <th>0</th>\n",
       "      <td>2019-01-01 00:00:00</td>\n",
       "      <td>0101000020E610000002BF48199F3F3E4010C569574E02...</td>\n",
       "      <td>1</td>\n",
       "    </tr>\n",
       "    <tr>\n",
       "      <th>2094695</th>\n",
       "      <td>2019-09-06 13:00:00</td>\n",
       "      <td>0101000020E6100000B8194F56B7663E4041CA35D0FCFC...</td>\n",
       "      <td>1</td>\n",
       "    </tr>\n",
       "    <tr>\n",
       "      <th>2094696</th>\n",
       "      <td>2019-09-06 13:00:00</td>\n",
       "      <td>0101000020E6100000B8194F56B7663E4053FFA7E47BF3...</td>\n",
       "      <td>1</td>\n",
       "    </tr>\n",
       "    <tr>\n",
       "      <th>2094698</th>\n",
       "      <td>2019-09-06 13:00:00</td>\n",
       "      <td>0101000020E6100000B8FFF2B7CB443E408991431816F7...</td>\n",
       "      <td>1</td>\n",
       "    </tr>\n",
       "    <tr>\n",
       "      <th>2094699</th>\n",
       "      <td>2019-09-06 13:00:00</td>\n",
       "      <td>0101000020E6100000BE54A7FF7E423E400D42027446FD...</td>\n",
       "      <td>1</td>\n",
       "    </tr>\n",
       "    <tr>\n",
       "      <th>...</th>\n",
       "      <td>...</td>\n",
       "      <td>...</td>\n",
       "      <td>...</td>\n",
       "    </tr>\n",
       "    <tr>\n",
       "      <th>1646443</th>\n",
       "      <td>2019-07-21 20:00:00</td>\n",
       "      <td>0101000020E6100000597DBB518C333E400262E887FEFD...</td>\n",
       "      <td>377</td>\n",
       "    </tr>\n",
       "    <tr>\n",
       "      <th>2562728</th>\n",
       "      <td>2019-10-19 17:00:00</td>\n",
       "      <td>0101000020E610000050D352C225383E4030E11C588EFC...</td>\n",
       "      <td>393</td>\n",
       "    </tr>\n",
       "    <tr>\n",
       "      <th>2846146</th>\n",
       "      <td>2019-11-16 17:00:00</td>\n",
       "      <td>0101000020E610000050D352C225383E4030E11C588EFC...</td>\n",
       "      <td>401</td>\n",
       "    </tr>\n",
       "    <tr>\n",
       "      <th>1646846</th>\n",
       "      <td>2019-07-21 21:00:00</td>\n",
       "      <td>0101000020E6100000597DBB518C333E400262E887FEFD...</td>\n",
       "      <td>411</td>\n",
       "    </tr>\n",
       "    <tr>\n",
       "      <th>2845545</th>\n",
       "      <td>2019-11-16 16:00:00</td>\n",
       "      <td>0101000020E610000050D352C225383E4030E11C588EFC...</td>\n",
       "      <td>540</td>\n",
       "    </tr>\n",
       "  </tbody>\n",
       "</table>\n",
       "<p>3571093 rows × 3 columns</p>\n",
       "</div>"
      ],
      "text/plain": [
       "                  timestamp  \\\n",
       "0       2019-01-01 00:00:00   \n",
       "2094695 2019-09-06 13:00:00   \n",
       "2094696 2019-09-06 13:00:00   \n",
       "2094698 2019-09-06 13:00:00   \n",
       "2094699 2019-09-06 13:00:00   \n",
       "...                     ...   \n",
       "1646443 2019-07-21 20:00:00   \n",
       "2562728 2019-10-19 17:00:00   \n",
       "2846146 2019-11-16 17:00:00   \n",
       "1646846 2019-07-21 21:00:00   \n",
       "2845545 2019-11-16 16:00:00   \n",
       "\n",
       "                                                     point  num_of_posts  \n",
       "0        0101000020E610000002BF48199F3F3E4010C569574E02...             1  \n",
       "2094695  0101000020E6100000B8194F56B7663E4041CA35D0FCFC...             1  \n",
       "2094696  0101000020E6100000B8194F56B7663E4053FFA7E47BF3...             1  \n",
       "2094698  0101000020E6100000B8FFF2B7CB443E408991431816F7...             1  \n",
       "2094699  0101000020E6100000BE54A7FF7E423E400D42027446FD...             1  \n",
       "...                                                    ...           ...  \n",
       "1646443  0101000020E6100000597DBB518C333E400262E887FEFD...           377  \n",
       "2562728  0101000020E610000050D352C225383E4030E11C588EFC...           393  \n",
       "2846146  0101000020E610000050D352C225383E4030E11C588EFC...           401  \n",
       "1646846  0101000020E6100000597DBB518C333E400262E887FEFD...           411  \n",
       "2845545  0101000020E610000050D352C225383E4030E11C588EFC...           540  \n",
       "\n",
       "[3571093 rows x 3 columns]"
      ]
     },
     "execution_count": 19,
     "metadata": {},
     "output_type": "execute_result"
    }
   ],
   "source": [
    "train_processed_x = train_processed.groupby(by=['timestamp', 'point']).size().reset_index(name='num_of_posts')\n",
    "train_processed_x.sort_values('num_of_posts')"
   ]
  },
  {
   "cell_type": "markdown",
   "id": "1b630812-5535-495b-a141-acd5648104c8",
   "metadata": {},
   "source": [
    "### Add lat and lon to grouped dataframe"
   ]
  },
  {
   "cell_type": "code",
   "execution_count": 20,
   "id": "a7046674-b830-44fc-9094-73b07a17bca5",
   "metadata": {},
   "outputs": [],
   "source": [
    "tp = train_processed.drop_duplicates(['lon', 'lat', 'point'])"
   ]
  },
  {
   "cell_type": "code",
   "execution_count": 21,
   "id": "ddd3c02a-6183-4a22-939e-3eb6dbc7a3ee",
   "metadata": {},
   "outputs": [],
   "source": [
    "train_processed_x = pd.merge(left=tp[['lon', 'lat', 'point']], right=train_processed_x, on='point', how='right')"
   ]
  },
  {
   "cell_type": "code",
   "execution_count": 47,
   "id": "3336c2bb-3c70-43dd-8784-0e72f434a2ca",
   "metadata": {},
   "outputs": [
    {
     "data": {
      "text/html": [
       "<div>\n",
       "<style scoped>\n",
       "    .dataframe tbody tr th:only-of-type {\n",
       "        vertical-align: middle;\n",
       "    }\n",
       "\n",
       "    .dataframe tbody tr th {\n",
       "        vertical-align: top;\n",
       "    }\n",
       "\n",
       "    .dataframe thead th {\n",
       "        text-align: right;\n",
       "    }\n",
       "</style>\n",
       "<table border=\"1\" class=\"dataframe\">\n",
       "  <thead>\n",
       "    <tr style=\"text-align: right;\">\n",
       "      <th></th>\n",
       "      <th>lon</th>\n",
       "      <th>lat</th>\n",
       "      <th>point</th>\n",
       "      <th>timestamp</th>\n",
       "      <th>num_of_posts</th>\n",
       "    </tr>\n",
       "  </thead>\n",
       "  <tbody>\n",
       "    <tr>\n",
       "      <th>0</th>\n",
       "      <td>30.248521</td>\n",
       "      <td>60.018016</td>\n",
       "      <td>0101000020E610000002BF48199F3F3E4010C569574E02...</td>\n",
       "      <td>2019-01-01</td>\n",
       "      <td>1</td>\n",
       "    </tr>\n",
       "    <tr>\n",
       "      <th>1</th>\n",
       "      <td>30.248521</td>\n",
       "      <td>59.850372</td>\n",
       "      <td>0101000020E610000002BF48199F3F3E40586790FFD8EC...</td>\n",
       "      <td>2019-01-01</td>\n",
       "      <td>1</td>\n",
       "    </tr>\n",
       "    <tr>\n",
       "      <th>2</th>\n",
       "      <td>30.239538</td>\n",
       "      <td>59.965226</td>\n",
       "      <td>0101000020E61000000614FD60523D3E400086058A8CFB...</td>\n",
       "      <td>2019-01-01</td>\n",
       "      <td>1</td>\n",
       "    </tr>\n",
       "    <tr>\n",
       "      <th>3</th>\n",
       "      <td>30.239538</td>\n",
       "      <td>59.858267</td>\n",
       "      <td>0101000020E61000000614FD60523D3E4074DD5BB2DBED...</td>\n",
       "      <td>2019-01-01</td>\n",
       "      <td>2</td>\n",
       "    </tr>\n",
       "    <tr>\n",
       "      <th>4</th>\n",
       "      <td>30.239538</td>\n",
       "      <td>60.037089</td>\n",
       "      <td>0101000020E61000000614FD60523D3E40D800D455BF04...</td>\n",
       "      <td>2019-01-01</td>\n",
       "      <td>1</td>\n",
       "    </tr>\n",
       "  </tbody>\n",
       "</table>\n",
       "</div>"
      ],
      "text/plain": [
       "         lon        lat                                              point  \\\n",
       "0  30.248521  60.018016  0101000020E610000002BF48199F3F3E4010C569574E02...   \n",
       "1  30.248521  59.850372  0101000020E610000002BF48199F3F3E40586790FFD8EC...   \n",
       "2  30.239538  59.965226  0101000020E61000000614FD60523D3E400086058A8CFB...   \n",
       "3  30.239538  59.858267  0101000020E61000000614FD60523D3E4074DD5BB2DBED...   \n",
       "4  30.239538  60.037089  0101000020E61000000614FD60523D3E40D800D455BF04...   \n",
       "\n",
       "   timestamp  num_of_posts  \n",
       "0 2019-01-01             1  \n",
       "1 2019-01-01             1  \n",
       "2 2019-01-01             1  \n",
       "3 2019-01-01             2  \n",
       "4 2019-01-01             1  "
      ]
     },
     "execution_count": 47,
     "metadata": {},
     "output_type": "execute_result"
    }
   ],
   "source": [
    "train_processed_x.head()"
   ]
  },
  {
   "cell_type": "code",
   "execution_count": 21,
   "id": "4fc52c5d-7540-4618-ace6-dd227c8feb40",
   "metadata": {},
   "outputs": [],
   "source": [
    "year_month_day_format = '%Y-%m-%d'\n",
    "train_processed_x['Ymd'] = train_processed_x['timestamp'].apply(lambda x: x.strftime(year_month_day_format))"
   ]
  },
  {
   "cell_type": "markdown",
   "id": "ad6bcdae-e9e0-401e-a23f-8ce24771e305",
   "metadata": {},
   "source": [
    "### Make an image at certain timestamp "
   ]
  },
  {
   "cell_type": "code",
   "execution_count": 22,
   "id": "079ef84b-c090-45b0-bee5-2ad063202a3a",
   "metadata": {},
   "outputs": [
    {
     "data": {
      "text/html": [
       "<div>\n",
       "<style scoped>\n",
       "    .dataframe tbody tr th:only-of-type {\n",
       "        vertical-align: middle;\n",
       "    }\n",
       "\n",
       "    .dataframe tbody tr th {\n",
       "        vertical-align: top;\n",
       "    }\n",
       "\n",
       "    .dataframe thead th {\n",
       "        text-align: right;\n",
       "    }\n",
       "</style>\n",
       "<table border=\"1\" class=\"dataframe\">\n",
       "  <thead>\n",
       "    <tr style=\"text-align: right;\">\n",
       "      <th></th>\n",
       "      <th>lon</th>\n",
       "      <th>lat</th>\n",
       "      <th>point</th>\n",
       "      <th>timestamp</th>\n",
       "      <th>num_of_posts</th>\n",
       "      <th>Ymd</th>\n",
       "    </tr>\n",
       "  </thead>\n",
       "  <tbody>\n",
       "    <tr>\n",
       "      <th>3565849</th>\n",
       "      <td>30.248521</td>\n",
       "      <td>60.009036</td>\n",
       "      <td>0101000020E610000002BF48199F3F3E4042A0141A2801...</td>\n",
       "      <td>2020-01-31 13:00:00</td>\n",
       "      <td>1</td>\n",
       "      <td>2020-01-31</td>\n",
       "    </tr>\n",
       "    <tr>\n",
       "      <th>3565850</th>\n",
       "      <td>30.248521</td>\n",
       "      <td>59.851500</td>\n",
       "      <td>0101000020E610000002BF48199F3F3E40892F7FF5FDEC...</td>\n",
       "      <td>2020-01-31 13:00:00</td>\n",
       "      <td>1</td>\n",
       "      <td>2020-01-31</td>\n",
       "    </tr>\n",
       "    <tr>\n",
       "      <th>3565851</th>\n",
       "      <td>30.248521</td>\n",
       "      <td>60.022505</td>\n",
       "      <td>0101000020E610000002BF48199F3F3E408F79686EE102...</td>\n",
       "      <td>2020-01-31 13:00:00</td>\n",
       "      <td>1</td>\n",
       "      <td>2020-01-31</td>\n",
       "    </tr>\n",
       "    <tr>\n",
       "      <th>3565852</th>\n",
       "      <td>30.381023</td>\n",
       "      <td>59.924735</td>\n",
       "      <td>0101000020E610000003D9A4B78A613E4033438EB75DF6...</td>\n",
       "      <td>2020-01-31 13:00:00</td>\n",
       "      <td>1</td>\n",
       "      <td>2020-01-31</td>\n",
       "    </tr>\n",
       "    <tr>\n",
       "      <th>3565853</th>\n",
       "      <td>30.513524</td>\n",
       "      <td>59.908975</td>\n",
       "      <td>0101000020E610000003F3005676833E40DAABFA4A59F4...</td>\n",
       "      <td>2020-01-31 13:00:00</td>\n",
       "      <td>1</td>\n",
       "      <td>2020-01-31</td>\n",
       "    </tr>\n",
       "    <tr>\n",
       "      <th>...</th>\n",
       "      <td>...</td>\n",
       "      <td>...</td>\n",
       "      <td>...</td>\n",
       "      <td>...</td>\n",
       "      <td>...</td>\n",
       "      <td>...</td>\n",
       "    </tr>\n",
       "    <tr>\n",
       "      <th>3566388</th>\n",
       "      <td>30.257505</td>\n",
       "      <td>59.896587</td>\n",
       "      <td>0101000020E6100000FE6994D1EB413E401F04E95BC3F2...</td>\n",
       "      <td>2020-01-31 13:00:00</td>\n",
       "      <td>1</td>\n",
       "      <td>2020-01-31</td>\n",
       "    </tr>\n",
       "    <tr>\n",
       "      <th>3566389</th>\n",
       "      <td>30.257505</td>\n",
       "      <td>60.010159</td>\n",
       "      <td>0101000020E6100000FE6994D1EB413E40A3B0DDE24C01...</td>\n",
       "      <td>2020-01-31 13:00:00</td>\n",
       "      <td>15</td>\n",
       "      <td>2020-01-31</td>\n",
       "    </tr>\n",
       "    <tr>\n",
       "      <th>3566390</th>\n",
       "      <td>30.390006</td>\n",
       "      <td>59.884194</td>\n",
       "      <td>0101000020E6100000FF83F06FD7633E409E5212462DF1...</td>\n",
       "      <td>2020-01-31 13:00:00</td>\n",
       "      <td>1</td>\n",
       "      <td>2020-01-31</td>\n",
       "    </tr>\n",
       "    <tr>\n",
       "      <th>3566391</th>\n",
       "      <td>30.390006</td>\n",
       "      <td>60.024749</td>\n",
       "      <td>0101000020E6100000FF83F06FD7633E40A0E9FCF72A03...</td>\n",
       "      <td>2020-01-31 13:00:00</td>\n",
       "      <td>1</td>\n",
       "      <td>2020-01-31</td>\n",
       "    </tr>\n",
       "    <tr>\n",
       "      <th>3566392</th>\n",
       "      <td>30.390006</td>\n",
       "      <td>59.844732</td>\n",
       "      <td>0101000020E6100000FF83F06FD7633E40FBF1162D20EC...</td>\n",
       "      <td>2020-01-31 13:00:00</td>\n",
       "      <td>1</td>\n",
       "      <td>2020-01-31</td>\n",
       "    </tr>\n",
       "  </tbody>\n",
       "</table>\n",
       "<p>544 rows × 6 columns</p>\n",
       "</div>"
      ],
      "text/plain": [
       "               lon        lat  \\\n",
       "3565849  30.248521  60.009036   \n",
       "3565850  30.248521  59.851500   \n",
       "3565851  30.248521  60.022505   \n",
       "3565852  30.381023  59.924735   \n",
       "3565853  30.513524  59.908975   \n",
       "...            ...        ...   \n",
       "3566388  30.257505  59.896587   \n",
       "3566389  30.257505  60.010159   \n",
       "3566390  30.390006  59.884194   \n",
       "3566391  30.390006  60.024749   \n",
       "3566392  30.390006  59.844732   \n",
       "\n",
       "                                                     point  \\\n",
       "3565849  0101000020E610000002BF48199F3F3E4042A0141A2801...   \n",
       "3565850  0101000020E610000002BF48199F3F3E40892F7FF5FDEC...   \n",
       "3565851  0101000020E610000002BF48199F3F3E408F79686EE102...   \n",
       "3565852  0101000020E610000003D9A4B78A613E4033438EB75DF6...   \n",
       "3565853  0101000020E610000003F3005676833E40DAABFA4A59F4...   \n",
       "...                                                    ...   \n",
       "3566388  0101000020E6100000FE6994D1EB413E401F04E95BC3F2...   \n",
       "3566389  0101000020E6100000FE6994D1EB413E40A3B0DDE24C01...   \n",
       "3566390  0101000020E6100000FF83F06FD7633E409E5212462DF1...   \n",
       "3566391  0101000020E6100000FF83F06FD7633E40A0E9FCF72A03...   \n",
       "3566392  0101000020E6100000FF83F06FD7633E40FBF1162D20EC...   \n",
       "\n",
       "                  timestamp  num_of_posts         Ymd  \n",
       "3565849 2020-01-31 13:00:00             1  2020-01-31  \n",
       "3565850 2020-01-31 13:00:00             1  2020-01-31  \n",
       "3565851 2020-01-31 13:00:00             1  2020-01-31  \n",
       "3565852 2020-01-31 13:00:00             1  2020-01-31  \n",
       "3565853 2020-01-31 13:00:00             1  2020-01-31  \n",
       "...                     ...           ...         ...  \n",
       "3566388 2020-01-31 13:00:00             1  2020-01-31  \n",
       "3566389 2020-01-31 13:00:00            15  2020-01-31  \n",
       "3566390 2020-01-31 13:00:00             1  2020-01-31  \n",
       "3566391 2020-01-31 13:00:00             1  2020-01-31  \n",
       "3566392 2020-01-31 13:00:00             1  2020-01-31  \n",
       "\n",
       "[544 rows x 6 columns]"
      ]
     },
     "execution_count": 22,
     "metadata": {},
     "output_type": "execute_result"
    }
   ],
   "source": [
    "train_processed_x[(train_processed_x.timestamp=='2020-01-31 13:00:00')]"
   ]
  },
  {
   "cell_type": "code",
   "execution_count": 23,
   "id": "df448c74-b725-419f-869d-76805ef889ab",
   "metadata": {
    "tags": []
   },
   "outputs": [],
   "source": [
    "def generate_image(spec_timestamp, input_data):\n",
    "    data = np.zeros((round((LON_MAX_BOUND-LON_MIN_BOUND) / 0.0005)+1, round((LAT_MAX_BOUND-LAT_MIN_BOUND) / 0.0005)+1), dtype=np.uint8)\n",
    "    for _, row in input_data[(input_data.timestamp==spec_timestamp)][['lat', 'lon', 'num_of_posts']].iterrows():\n",
    "        lon, lat, n_posts = row.lon, row.lat, int(row.num_of_posts)\n",
    "        try:\n",
    "            data[round((LON_MAX_BOUND-lon) / 0.0005), round((LAT_MAX_BOUND-lat) / 0.0005)] = n_posts * 100 # Multiplied by 100 in order to make visualization brighter\n",
    "        except Exception as e:\n",
    "            print(e)\n",
    "            print(lon, lat)\n",
    "            print(round((LON_MAX_BOUND-lon) / 0.0005), round((LAT_MAX_BOUND-lat) / 0.0005))\n",
    "    return data"
   ]
  },
  {
   "cell_type": "code",
   "execution_count": 24,
   "id": "5d19242f-034d-42f3-95e0-37fd6ec2b7e2",
   "metadata": {
    "tags": []
   },
   "outputs": [
    {
     "data": {
      "text/plain": [
       "(787, 422)"
      ]
     },
     "execution_count": 24,
     "metadata": {},
     "output_type": "execute_result"
    }
   ],
   "source": [
    "data = generate_image('2020-01-31 13:00:00', input_data=train_processed_x)\n",
    "data.shape"
   ]
  },
  {
   "cell_type": "code",
   "execution_count": 25,
   "id": "a1062361-6aff-4e62-8b8b-ecf89e88edca",
   "metadata": {},
   "outputs": [
    {
     "data": {
      "image/png": "[encoded data removed]",
      "text/plain": [
       "<Figure size 432x288 with 1 Axes>"
      ]
     },
     "metadata": {
      "needs_background": "light"
     },
     "output_type": "display_data"
    }
   ],
   "source": [
    "import numpy as np\n",
    "from matplotlib import pyplot as plt\n",
    "plt.imshow(data, interpolation='nearest')\n",
    "plt.show()"
   ]
  },
  {
   "cell_type": "code",
   "execution_count": 104,
   "id": "0cdd3e7f-7945-46f6-ae95-41d67547a0ed",
   "metadata": {},
   "outputs": [
    {
     "data": {
      "text/plain": [
       "(787, 422)"
      ]
     },
     "execution_count": 104,
     "metadata": {},
     "output_type": "execute_result"
    }
   ],
   "source": [
    "data.shape"
   ]
  },
  {
   "cell_type": "code",
   "execution_count": 61,
   "id": "66632597-bb5b-45db-bc63-22b5dfb807db",
   "metadata": {},
   "outputs": [
    {
     "data": {
      "text/plain": [
       "Timestamp('2020-01-31 19:00:00')"
      ]
     },
     "execution_count": 61,
     "metadata": {},
     "output_type": "execute_result"
    }
   ],
   "source": [
    "train_processed_x.timestamp.max()"
   ]
  },
  {
   "cell_type": "code",
   "execution_count": 25,
   "id": "b9d6003f-3c91-4102-a37b-8faccfec7830",
   "metadata": {},
   "outputs": [
    {
     "data": {
      "text/plain": [
       "540"
      ]
     },
     "execution_count": 25,
     "metadata": {},
     "output_type": "execute_result"
    }
   ],
   "source": [
    "# For image normalization\n",
    "pixels_norm = train_processed_x.num_of_posts.max() # [(train_processed_x.timestamp=='2020-01-31 13:00:00')].num_of_posts.max()\n",
    "pixels_norm "
   ]
  },
  {
   "cell_type": "code",
   "execution_count": 75,
   "id": "09c82e2c-5c7e-4ed4-96ef-42742d18bde3",
   "metadata": {},
   "outputs": [],
   "source": [
    "from tqdm import tqdm\n",
    "from datetime import date, timedelta\n",
    "\n",
    "def daterange(start_date, end_date):\n",
    "    for n in range(int((end_date - start_date) / np.timedelta64(1, 'h'))):\n",
    "        yield start_date + timedelta(hours=n)\n",
    "\n",
    "def generate_image_set(data, start_date=pd.Timestamp('2020-01-25T23'), end_date=pd.Timestamp('2020-01-25T23')):\n",
    "    train_3d_images = []\n",
    "    ground_truth = []\n",
    "    # end_date = data.timestamp.max()\n",
    "    \n",
    "    end_date = end_date-timedelta(hours=5-1)\n",
    "    \n",
    "    for single_date in tqdm(daterange(start_date, end_date), total=len(list(daterange(start_date, end_date)))):\n",
    "        three_d_image = []\n",
    "        inner_end_date = single_date + timedelta(hours=5)\n",
    "        ground_truth.append(generate_image(spec_timestamp=inner_end_date, input_data=data))\n",
    "        for inner_single_data in daterange(single_date, inner_end_date):\n",
    "            three_d_image.append(generate_image(spec_timestamp=inner_single_data, input_data=data))\n",
    "        train_3d_images.append(three_d_image)\n",
    "    return train_3d_images, ground_truth, single_date"
   ]
  },
  {
   "cell_type": "code",
   "execution_count": 70,
   "id": "a49de00f-232d-40a2-a557-1228e457f68d",
   "metadata": {},
   "outputs": [
    {
     "name": "stdout",
     "output_type": "stream",
     "text": [
      "9503\n",
      "0\n",
      "2375\n",
      "4750\n",
      "7125\n",
      "9500\n"
     ]
    }
   ],
   "source": [
    "all_dates_hourly = list(daterange(train_processed_x.timestamp.min(), train_processed_x.timestamp.max()))\n",
    "print(len(all_dates_hourly))\n",
    "for i in range(0, len(all_dates_hourly), len(all_dates_hourly) // 4):\n",
    "    print(i)"
   ]
  },
  {
   "cell_type": "code",
   "execution_count": 82,
   "id": "9d7ec6de-2eba-4aeb-90eb-ebac2887b976",
   "metadata": {},
   "outputs": [
    {
     "data": {
      "text/plain": [
       "Timestamp('2019-10-24 21:00:00')"
      ]
     },
     "execution_count": 82,
     "metadata": {},
     "output_type": "execute_result"
    }
   ],
   "source": [
    "all_dates_hourly[7125]"
   ]
  },
  {
   "cell_type": "code",
   "execution_count": 76,
   "id": "4bfd3414-2ee5-4c11-9ecd-d6cba2af3c8f",
   "metadata": {},
   "outputs": [
    {
     "name": "stderr",
     "output_type": "stream",
     "text": [
      "100%|██████████| 2371/2371 [08:03<00:00,  4.90it/s]\n"
     ]
    },
    {
     "name": "stdout",
     "output_type": "stream",
     "text": [
      "2019-04-09 18:00:00\n"
     ]
    }
   ],
   "source": [
    "\n",
    "train_X_0, train_y_0, last_date = generate_image_set(data=train_processed_x, start_date=pd.Timestamp('2019-01-01T00'), end_date=pd.Timestamp('2019-04-09T23'))\n",
    "np.save('./train_X_0.npy', train_X_0)\n",
    "np.save('./train_y_0.npy', train_y_0)\n",
    "print(last_date)"
   ]
  },
  {
   "cell_type": "code",
   "execution_count": 81,
   "id": "c20850a7-630c-409e-be92-b64d29eebbe4",
   "metadata": {},
   "outputs": [
    {
     "name": "stderr",
     "output_type": "stream",
     "text": [
      "100%|██████████| 2375/2375 [08:32<00:00,  4.63it/s]\n"
     ]
    },
    {
     "name": "stdout",
     "output_type": "stream",
     "text": [
      "2019-07-17 17:00:00\n"
     ]
    }
   ],
   "source": [
    "train_X_1, train_y_1, last_date = generate_image_set(data=train_processed_x, start_date=pd.Timestamp('2019-04-09T19'), end_date=pd.Timestamp('2019-07-17T22'))\n",
    "np.save('./train_X_1.npy', train_X_1)\n",
    "np.save('./train_y_1.npy', train_y_1)\n",
    "print(last_date)"
   ]
  },
  {
   "cell_type": "code",
   "execution_count": 83,
   "id": "186e43ea-50ce-4e93-9892-960fc677b0f1",
   "metadata": {},
   "outputs": [
    {
     "name": "stderr",
     "output_type": "stream",
     "text": [
      "100%|██████████| 2375/2375 [09:22<00:00,  4.22it/s]\n"
     ]
    },
    {
     "name": "stdout",
     "output_type": "stream",
     "text": [
      "2019-10-24 16:00:00\n"
     ]
    }
   ],
   "source": [
    "train_X_2, train_y_2, last_date = generate_image_set(data=train_processed_x, start_date=pd.Timestamp('2019-07-17T18'), end_date=pd.Timestamp('2019-10-24T21'))\n",
    "np.save('./train_X_2.npy', train_X_2)\n",
    "np.save('./train_y_2.npy', train_y_2)\n",
    "print(last_date)"
   ]
  },
  {
   "cell_type": "code",
   "execution_count": 85,
   "id": "61cb23ea-aaf8-4ea2-9134-313d8fe3e926",
   "metadata": {},
   "outputs": [
    {
     "name": "stderr",
     "output_type": "stream",
     "text": [
      "100%|██████████| 2374/2374 [09:11<00:00,  4.30it/s]\n"
     ]
    },
    {
     "name": "stdout",
     "output_type": "stream",
     "text": [
      "2020-01-31 14:00:00\n"
     ]
    }
   ],
   "source": [
    "train_X_3, train_y_3, last_date = generate_image_set(data=train_processed_x, start_date=pd.Timestamp('2019-10-24T17'), end_date=pd.Timestamp('2020-01-31T19'))\n",
    "np.save('./train_X_3.npy', train_X_3)\n",
    "np.save('./train_y_3.npy', train_y_3)\n",
    "print(last_date)"
   ]
  },
  {
   "cell_type": "code",
   "execution_count": 32,
   "id": "758b4d5a-4f2b-410e-9923-3b8878a71157",
   "metadata": {},
   "outputs": [],
   "source": [
    "train_X_0, train_X_1, train_X_2, train_X_3 = np.load('./train_X_0.npy'), np.load('./train_X_1.npy'), np.load('./train_X_2.npy'), np.load('./train_X_3.npy')"
   ]
  },
  {
   "cell_type": "code",
   "execution_count": 33,
   "id": "186e92c3-4ea7-4460-83a0-1ad08cd3c97c",
   "metadata": {},
   "outputs": [],
   "source": [
    "train_y_0, train_y_1, train_y_2, train_y_3 = np.load('./train_y_0.npy'), np.load('./train_y_1.npy'), np.load('./train_y_2.npy'), np.load('./train_y_3.npy')"
   ]
  },
  {
   "cell_type": "code",
   "execution_count": 87,
   "id": "e1362508-c46e-4923-b809-4e7f5fe8bfc8",
   "metadata": {},
   "outputs": [],
   "source": [
    "train_X = train_X_0+train_X_1+train_X_2+train_X_3"
   ]
  },
  {
   "cell_type": "code",
   "execution_count": 93,
   "id": "87afae99-1844-4d2e-a9df-8496cfe4e65c",
   "metadata": {},
   "outputs": [
    {
     "data": {
      "text/plain": [
       "(9495, 5, 787, 422)"
      ]
     },
     "execution_count": 93,
     "metadata": {},
     "output_type": "execute_result"
    }
   ],
   "source": [
    "np.array(train_X).shape"
   ]
  },
  {
   "cell_type": "code",
   "execution_count": 90,
   "id": "93c4e0e5-f66c-4feb-a092-5040bfcf4d1d",
   "metadata": {},
   "outputs": [],
   "source": [
    "train_y = train_y_0+train_y_1+train_y_2+train_y_3"
   ]
  },
  {
   "cell_type": "code",
   "execution_count": 94,
   "id": "fe76ee5c-a375-405d-8816-ffd48f69158d",
   "metadata": {},
   "outputs": [
    {
     "data": {
      "text/plain": [
       "(9495, 787, 422)"
      ]
     },
     "execution_count": 94,
     "metadata": {},
     "output_type": "execute_result"
    }
   ],
   "source": [
    "np.array(train_y).shape"
   ]
  },
  {
   "cell_type": "code",
   "execution_count": 268,
   "id": "66e9ace4-72db-4ffc-b477-c3de3b66e14a",
   "metadata": {},
   "outputs": [],
   "source": [
    "from tensorflow.keras.layers import Input, Conv2D, Conv3D, Concatenate, MaxPooling2D, UpSampling2D\n",
    "import keras \n",
    "\n",
    "def get_unet_model(img_size):\n",
    "\n",
    "    inputs = keras.Input(shape=img_size+(5, 1))\n",
    "    \n",
    "    # --- Encoder ---\n",
    "    # first conv layer\n",
    "    conv_layer_1_1 = Conv3D(10, (1, 1, 3), activation='elu', padding='valid')(inputs)\n",
    "    conv_layer_1_2 = Conv3D(20, (1, 1, 3), activation='elu', padding='valid')(conv_layer_1_1)\n",
    "    conv_layer_1_3 = Conv3D(40, (3, 3, 1), activation='elu', padding='same')(conv_layer_1_2)\n",
    "    \n",
    "    conv_layer_2_1 = Conv3D(20, (3, 3, 1), activation='elu', padding='same')(conv_layer_1_3)\n",
    "    conv_layer_2_2 = Conv3D(10, (3, 3, 1), activation='elu', padding='same')(conv_layer_2_1)\n",
    "    outputs = Conv3D(1, 1, activation='elu', padding='same')(conv_layer_2_2)\n",
    "    \n",
    "    model = keras.Model(inputs, outputs)\n",
    "    return model"
   ]
  },
  {
   "cell_type": "code",
   "execution_count": null,
   "id": "71f25c87-7c13-4539-b1db-3214d15188ba",
   "metadata": {},
   "outputs": [],
   "source": [
    "# ! pip install pydot\n",
    "# keras.utils.plot_model(model, show_shapes=True, show_layer_names=True)"
   ]
  },
  {
   "cell_type": "code",
   "execution_count": 222,
   "id": "5fc07795-70ab-4945-8f63-234445967e98",
   "metadata": {},
   "outputs": [],
   "source": [
    "from tensorflow import keras\n",
    "import tensorflow as tf\n",
    "\n",
    "\n",
    "class ImgSequence(keras.utils.Sequence):\n",
    "    \n",
    "    def __init__(self, batch_size, img_size, images_paths, target_paths):\n",
    "        self.batch_size = batch_size\n",
    "        self.img_size = img_size\n",
    "        self.images_paths = images_paths\n",
    "        self.target_paths = target_paths\n",
    "        \n",
    "    \n",
    "    def __len__(self):\n",
    "        length = 0\n",
    "        # Each item in the sequence has a size of batch_size, this method returns the number of batches. Shoud be integer!\n",
    "        # TODO: length calculation\n",
    "        length = len(self.images_paths) // self.batch_size\n",
    "        return length\n",
    "    \n",
    "    def __getitem__(self, idx):\n",
    "        # x = np.zeros((self.batch_size, ) + self.img_size + (3, ), dtype=\"float32\")\n",
    "        # y = np.zeros((self.batch_size, ) + self.img_size + (1, ), dtype=\"uint8\")\n",
    "        \"\"\"\n",
    "        This method returns the batches themselves including images (x) and masks (y) as np.arrays.\n",
    "        Correspondingly x contains the batch_size of the pet images, y the true segmentation of the images from x.\n",
    "        Note:\n",
    "\n",
    "                img / 255.0 for images, so that each value is adjacent to the interval [0, 1] \n",
    "                \n",
    "        \"\"\"\n",
    "        \n",
    "        # TODO x and y calculation\n",
    "        batch_x = self.images_paths[idx * self.batch_size:(idx + 1) * self.batch_size]\n",
    "        batch_y = self.target_paths[idx * self.batch_size:(idx + 1) * self.batch_size]\n",
    "        \n",
    "        x = np.array([np.array(file_name).reshape((787, 422, -1, 1)) / float(pixels_norm*100) for file_name in batch_x])\n",
    "        y = np.array([np.expand_dims(np.array(file_name), axis=(2, 3)) / float(pixels_norm*100) for file_name in batch_y])\n",
    "        return x, y \n",
    "        \n",
    "\n",
    "        "
   ]
  },
  {
   "cell_type": "code",
   "execution_count": 303,
   "id": "a8282abf-c460-4426-96a8-b6cf605f853a",
   "metadata": {},
   "outputs": [],
   "source": [
    "# Instantiate data Sequences for each split\n",
    "batch_size = 16\n",
    "train_gen = ImgSequence(batch_size=batch_size, img_size=(787, 422), images_paths=train_X[:100], target_paths=train_y[:100])\n",
    "valid_gen = ImgSequence(batch_size=batch_size, img_size=(787, 422), images_paths=train_X[100:132], target_paths=train_y[100:132])"
   ]
  },
  {
   "cell_type": "code",
   "execution_count": 269,
   "id": "3699fa0a-c5e1-4052-9a8a-a7123b7e84fe",
   "metadata": {},
   "outputs": [],
   "source": [
    "# Free up RAM in case the model definition cells were run multiple times\n",
    "keras.backend.clear_session()\n",
    "model2 = get_unet_model((787, 422))"
   ]
  },
  {
   "cell_type": "code",
   "execution_count": 270,
   "id": "d2b56b1d-d475-411a-8e34-40366f6da363",
   "metadata": {},
   "outputs": [
    {
     "name": "stdout",
     "output_type": "stream",
     "text": [
      "Epoch 1/3\n",
      "6/6 [==============================] - 17s 3s/step - loss: 1.2701e-04 - val_loss: 9.6221e-05\n",
      "Epoch 2/3\n",
      "6/6 [==============================] - 16s 3s/step - loss: 1.4144e-04 - val_loss: 1.0537e-04\n",
      "Epoch 3/3\n",
      "6/6 [==============================] - 17s 3s/step - loss: 1.4279e-04 - val_loss: 1.1440e-04\n"
     ]
    },
    {
     "data": {
      "text/plain": [
       "<keras.callbacks.History at 0x7fa8f15e1190>"
      ]
     },
     "execution_count": 270,
     "metadata": {},
     "output_type": "execute_result"
    }
   ],
   "source": [
    "model2.compile(optimizer=tf.keras.optimizers.Adadelta(learning_rate=0.5, name=\"Adadelta\"), loss=tf.keras.losses.MeanAbsoluteError())\n",
    "\n",
    "\n",
    "# Train the model, doing validation at the end of each epoch.\n",
    "epochs = 3\n",
    "model2.fit(train_gen, validation_data=valid_gen, epochs=epochs)"
   ]
  },
  {
   "cell_type": "code",
   "execution_count": 151,
   "id": "8c0c379f-664f-46ff-9689-ddf8dec1d6d4",
   "metadata": {},
   "outputs": [],
   "source": [
    "# model.save(\"./model.h5\")\n",
    "# model = keras.models.load_model('./model.h5')"
   ]
  },
  {
   "cell_type": "code",
   "execution_count": 271,
   "id": "50c14898-2db0-4913-aff9-8080abc1898e",
   "metadata": {},
   "outputs": [
    {
     "name": "stdout",
     "output_type": "stream",
     "text": [
      "Model: \"model\"\n",
      "_________________________________________________________________\n",
      " Layer (type)                Output Shape              Param #   \n",
      "=================================================================\n",
      " input_1 (InputLayer)        [(None, 787, 422, 5, 1)]  0         \n",
      "                                                                 \n",
      " conv3d (Conv3D)             (None, 787, 422, 3, 10)   40        \n",
      "                                                                 \n",
      " conv3d_1 (Conv3D)           (None, 787, 422, 1, 20)   620       \n",
      "                                                                 \n",
      " conv3d_2 (Conv3D)           (None, 787, 422, 1, 20)   3620      \n",
      "                                                                 \n",
      " conv3d_3 (Conv3D)           (None, 787, 422, 1, 40)   7240      \n",
      "                                                                 \n",
      " conv3d_4 (Conv3D)           (None, 787, 422, 1, 20)   7220      \n",
      "                                                                 \n",
      " conv3d_5 (Conv3D)           (None, 787, 422, 1, 10)   1810      \n",
      "                                                                 \n",
      " conv3d_6 (Conv3D)           (None, 787, 422, 1, 1)    11        \n",
      "                                                                 \n",
      "=================================================================\n",
      "Total params: 20,561\n",
      "Trainable params: 20,561\n",
      "Non-trainable params: 0\n",
      "_________________________________________________________________\n"
     ]
    }
   ],
   "source": [
    "model2.summary()"
   ]
  },
  {
   "cell_type": "code",
   "execution_count": 304,
   "id": "57d4c9f4-60ea-4157-acf3-885e0fcbdda4",
   "metadata": {},
   "outputs": [
    {
     "name": "stdout",
     "output_type": "stream",
     "text": [
      "2/2 [==============================] - 2s 918ms/step\n"
     ]
    }
   ],
   "source": [
    "\n",
    "val_preds = model2.predict(valid_gen)"
   ]
  },
  {
   "cell_type": "code",
   "execution_count": 305,
   "id": "85c46221-66d9-4218-b0f0-3bf5488639f5",
   "metadata": {},
   "outputs": [
    {
     "data": {
      "text/plain": [
       "(16, 787, 422, 5, 1)"
      ]
     },
     "execution_count": 305,
     "metadata": {},
     "output_type": "execute_result"
    }
   ],
   "source": [
    "valid_gen.__getitem__(0)[0].shape"
   ]
  },
  {
   "cell_type": "code",
   "execution_count": 306,
   "id": "7be791eb-9553-4803-b6b0-70d0657b1638",
   "metadata": {},
   "outputs": [
    {
     "name": "stdout",
     "output_type": "stream",
     "text": [
      "1/1 [==============================] - 0s 151ms/step\n"
     ]
    }
   ],
   "source": [
    "preds2 = model2.predict(np.expand_dims((valid_gen.__getitem__(1)[0][0]), axis=0))"
   ]
  },
  {
   "cell_type": "code",
   "execution_count": 323,
   "id": "321fdf12-3f4b-4d2c-8906-7174c8d46ae1",
   "metadata": {},
   "outputs": [],
   "source": [
    "true = valid_gen.__getitem__(1)[1][0][:, :, 0, 0]"
   ]
  },
  {
   "cell_type": "code",
   "execution_count": 331,
   "id": "995345c6-43af-45d4-af54-d575aa8cec70",
   "metadata": {},
   "outputs": [],
   "source": [
    "pred = preds2[0, :, :, 0, 0]"
   ]
  },
  {
   "cell_type": "code",
   "execution_count": 365,
   "id": "c97d5384-3106-4e05-b6ae-a18b5b98b5d7",
   "metadata": {},
   "outputs": [
    {
     "data": {
      "text/plain": [
       "0.9956172586485939"
      ]
     },
     "execution_count": 365,
     "metadata": {},
     "output_type": "execute_result"
    }
   ],
   "source": [
    "abs(pred - true.mean()) / pred.mean()"
   ]
  },
  {
   "cell_type": "code",
   "execution_count": 367,
   "id": "e0c8883b-b6f5-43e7-90b2-a84a889edbe3",
   "metadata": {},
   "outputs": [
    {
     "data": {
      "text/plain": [
       "array([1., 5., 5.])"
      ]
     },
     "execution_count": 367,
     "metadata": {},
     "output_type": "execute_result"
    }
   ],
   "source": [
    "(np.array([10, 18, 20]) - np.array([6, 8, 10])) / np.array([4, 2, 2])"
   ]
  },
  {
   "cell_type": "code",
   "execution_count": 364,
   "id": "1f90ee50-6c65-4d06-800c-7003386ffaa6",
   "metadata": {},
   "outputs": [
    {
     "data": {
      "text/plain": [
       "4.842157054951458e-07"
      ]
     },
     "execution_count": 364,
     "metadata": {},
     "output_type": "execute_result"
    }
   ],
   "source": [
    "true.mean()"
   ]
  },
  {
   "cell_type": "code",
   "execution_count": 374,
   "id": "a7e136f7-6ed6-4989-b6ce-b918ee56d2e1",
   "metadata": {},
   "outputs": [
    {
     "name": "stderr",
     "output_type": "stream",
     "text": [
      "/tmp/ipykernel_840692/3900899342.py:1: RuntimeWarning: invalid value encountered in true_divide\n",
      "  x = abs(pred - true)/pred\n"
     ]
    }
   ],
   "source": [
    "x = abs(pred - true)/pred"
   ]
  },
  {
   "cell_type": "code",
   "execution_count": 414,
   "id": "77caae16-9031-4aa7-955f-fa24f69f5225",
   "metadata": {},
   "outputs": [
    {
     "data": {
      "text/plain": [
       "array([], shape=(0, 2), dtype=int64)"
      ]
     },
     "execution_count": 414,
     "metadata": {},
     "output_type": "execute_result"
    }
   ],
   "source": [
    "np.argwhere(np.isnan(pred))"
   ]
  },
  {
   "cell_type": "code",
   "execution_count": 425,
   "id": "7e24ea56-95ae-41b5-8355-50b528f9affb",
   "metadata": {},
   "outputs": [
    {
     "data": {
      "text/plain": [
       "array([], shape=(0, 2), dtype=int64)"
      ]
     },
     "execution_count": 425,
     "metadata": {},
     "output_type": "execute_result"
    }
   ],
   "source": [
    "np.argwhere(np.isnan(np.nan_to_num(x, nan=0)))"
   ]
  },
  {
   "cell_type": "code",
   "execution_count": 419,
   "id": "560fb07d-1a25-4f35-bf43-83a0686cbf8f",
   "metadata": {},
   "outputs": [
    {
     "data": {
      "text/plain": [
       "array([0., 0., 0., 0.])"
      ]
     },
     "execution_count": 419,
     "metadata": {},
     "output_type": "execute_result"
    }
   ],
   "source": [
    "true[395][41:45]"
   ]
  },
  {
   "cell_type": "code",
   "execution_count": 420,
   "id": "725a2b83-a6ff-4c63-946a-18ef01281e8c",
   "metadata": {},
   "outputs": [
    {
     "data": {
      "text/plain": [
       "array([-1.6033649e-05,  3.5614736e-04,  0.0000000e+00,  1.5630417e-04],\n",
       "      dtype=float32)"
      ]
     },
     "execution_count": 420,
     "metadata": {},
     "output_type": "execute_result"
    }
   ],
   "source": [
    "pred[395][41:45]"
   ]
  },
  {
   "cell_type": "code",
   "execution_count": 424,
   "id": "a7fca73a-c51a-49fb-9ac1-a286fba84569",
   "metadata": {},
   "outputs": [
    {
     "name": "stderr",
     "output_type": "stream",
     "text": [
      "/tmp/ipykernel_840692/451706818.py:1: RuntimeWarning: invalid value encountered in true_divide\n",
      "  abs(np.array([0]) - np.array([0])) / np.array([0])\n"
     ]
    },
    {
     "data": {
      "text/plain": [
       "array([nan])"
      ]
     },
     "execution_count": 424,
     "metadata": {},
     "output_type": "execute_result"
    }
   ],
   "source": [
    "abs(np.array([0]) - np.array([0])) / np.array([0])"
   ]
  },
  {
   "cell_type": "code",
   "execution_count": 410,
   "id": "a285054a-327d-4fcc-97f8-870e2ce170a0",
   "metadata": {},
   "outputs": [
    {
     "data": {
      "text/plain": [
       "332114"
      ]
     },
     "execution_count": 410,
     "metadata": {},
     "output_type": "execute_result"
    }
   ],
   "source": [
    "787 * 422"
   ]
  },
  {
   "cell_type": "code",
   "execution_count": 409,
   "id": "1ea881b6-e5b1-4442-b953-87db8e1abb2b",
   "metadata": {},
   "outputs": [
    {
     "data": {
      "text/plain": [
       "(787, 422)"
      ]
     },
     "execution_count": 409,
     "metadata": {},
     "output_type": "execute_result"
    }
   ],
   "source": [
    "x.shape"
   ]
  },
  {
   "cell_type": "code",
   "execution_count": 426,
   "id": "d2c4c77f-4205-48ce-971b-b31807443e26",
   "metadata": {},
   "outputs": [
    {
     "data": {
      "text/plain": [
       "0.9889564473347306"
      ]
     },
     "execution_count": 426,
     "metadata": {},
     "output_type": "execute_result"
    }
   ],
   "source": [
    "np.mean(np.nan_to_num(x, nan=0))"
   ]
  },
  {
   "cell_type": "code",
   "execution_count": 391,
   "id": "e3dea7f0-b211-414a-b4be-fc6e83c9c6cf",
   "metadata": {
    "collapsed": true,
    "jupyter": {
     "outputs_hidden": true
    },
    "tags": []
   },
   "outputs": [
    {
     "name": "stdout",
     "output_type": "stream",
     "text": [
      "31 [0.         0.         0.         0.         0.         0.\n",
      " 0.         0.         0.         0.         0.         0.\n",
      " 0.         0.         0.         0.         0.         0.\n",
      " 0.         0.         0.         0.         0.         0.\n",
      " 0.         0.         0.         0.         0.         0.\n",
      " 0.         0.         0.         0.         0.         0.\n",
      " 0.         0.         0.         0.         0.         0.\n",
      " 0.         0.         0.         0.         0.         0.\n",
      " 0.         0.         0.         0.         0.         0.\n",
      " 0.         0.         0.         0.         0.         0.\n",
      " 0.         0.         0.         0.         0.         0.\n",
      " 0.         0.         0.         0.         0.         0.\n",
      " 0.         0.         0.         0.         0.         0.\n",
      " 0.         0.         0.         0.         0.         0.\n",
      " 0.         0.         0.         0.         0.         0.\n",
      " 0.         0.         0.         0.         0.         0.\n",
      " 0.         0.         0.         0.         0.         0.\n",
      " 0.         0.         0.         0.         0.         0.\n",
      " 0.         0.         0.         0.         0.         0.\n",
      " 0.         0.         0.         0.         0.         0.\n",
      " 0.         0.         0.         0.         0.         0.\n",
      " 0.         0.         0.         0.         0.         0.\n",
      " 0.         0.         0.         0.         0.         0.\n",
      " 0.         0.         0.         0.         0.         0.\n",
      " 0.         0.         0.         0.         0.         0.\n",
      " 0.         0.         0.         0.         0.         0.\n",
      " 0.         0.         0.         0.         0.         0.\n",
      " 0.         0.         0.         0.         0.         0.\n",
      " 0.         0.         0.         0.         0.         0.\n",
      " 0.         0.         0.         0.         0.         0.\n",
      " 0.         0.         0.         0.         0.         0.\n",
      " 0.         0.         0.         0.         0.         0.\n",
      " 0.         0.         0.         0.         0.         0.\n",
      " 0.         0.         0.         0.         0.         0.\n",
      " 0.         0.         0.         0.         0.         0.\n",
      " 0.         0.         0.         0.         0.         0.\n",
      " 0.         0.         0.         0.         0.         0.\n",
      " 0.         0.         0.         0.         0.         0.\n",
      " 0.         0.         0.         0.         0.         0.\n",
      " 0.         0.         0.         0.         0.         0.\n",
      " 0.         0.         0.         0.         0.         0.\n",
      " 0.         0.         0.         0.         0.         0.\n",
      " 0.         0.         0.         0.         0.         0.\n",
      " 0.         0.         0.         0.         0.         0.\n",
      " 0.         0.         0.         0.         0.         0.\n",
      " 0.         0.         0.         0.         0.         0.\n",
      " 0.         0.         0.         0.00185185 0.         0.\n",
      " 0.         0.         0.         0.         0.         0.\n",
      " 0.         0.         0.         0.         0.         0.\n",
      " 0.         0.         0.         0.         0.         0.\n",
      " 0.         0.         0.         0.         0.         0.\n",
      " 0.         0.         0.         0.         0.         0.\n",
      " 0.         0.         0.         0.         0.         0.\n",
      " 0.         0.         0.         0.         0.         0.\n",
      " 0.         0.         0.         0.         0.         0.\n",
      " 0.         0.         0.         0.         0.         0.\n",
      " 0.         0.         0.         0.         0.         0.\n",
      " 0.         0.         0.         0.         0.         0.\n",
      " 0.         0.         0.         0.         0.         0.\n",
      " 0.         0.         0.         0.         0.         0.\n",
      " 0.         0.         0.         0.         0.         0.\n",
      " 0.         0.         0.         0.         0.         0.\n",
      " 0.         0.         0.         0.         0.         0.\n",
      " 0.         0.         0.         0.         0.         0.\n",
      " 0.         0.         0.         0.         0.         0.\n",
      " 0.         0.         0.         0.         0.         0.\n",
      " 0.         0.         0.         0.         0.         0.\n",
      " 0.         0.         0.         0.         0.         0.\n",
      " 0.         0.         0.         0.         0.         0.\n",
      " 0.         0.         0.         0.         0.         0.\n",
      " 0.         0.        ]\n"
     ]
    }
   ],
   "source": [
    "for i in range(true.shape[0]):\n",
    "    if true[i].sum() > 0:\n",
    "        print(i, true[i])\n",
    "        break"
   ]
  },
  {
   "cell_type": "code",
   "execution_count": 397,
   "id": "94d81578-75e5-4f33-95ae-7d921360dcf4",
   "metadata": {},
   "outputs": [
    {
     "data": {
      "text/plain": [
       "238"
      ]
     },
     "execution_count": 397,
     "metadata": {},
     "output_type": "execute_result"
    }
   ],
   "source": [
    "pred[31].argmax()"
   ]
  },
  {
   "cell_type": "code",
   "execution_count": 396,
   "id": "a3423779-4add-496e-8b91-7d7352a6dc43",
   "metadata": {},
   "outputs": [
    {
     "data": {
      "text/plain": [
       "-2.3424625e-05"
      ]
     },
     "execution_count": 396,
     "metadata": {},
     "output_type": "execute_result"
    }
   ],
   "source": [
    "pred[31].min()"
   ]
  },
  {
   "cell_type": "code",
   "execution_count": 403,
   "id": "ffb2014c-11d5-4f78-97a2-cb93262e23a5",
   "metadata": {},
   "outputs": [
    {
     "data": {
      "text/plain": [
       "0.001851851851851852"
      ]
     },
     "execution_count": 403,
     "metadata": {},
     "output_type": "execute_result"
    }
   ],
   "source": [
    "true[31][279]"
   ]
  },
  {
   "cell_type": "code",
   "execution_count": 404,
   "id": "d833658b-c10c-4d3b-bb19-515d80c350b4",
   "metadata": {},
   "outputs": [
    {
     "data": {
      "text/plain": [
       "0.0"
      ]
     },
     "execution_count": 404,
     "metadata": {},
     "output_type": "execute_result"
    }
   ],
   "source": [
    "true[31][0]"
   ]
  },
  {
   "cell_type": "code",
   "execution_count": 405,
   "id": "62dadb11-0014-4f74-8675-e536f6d6ff94",
   "metadata": {},
   "outputs": [
    {
     "data": {
      "text/plain": [
       "array([279, 421, 156, 133, 134, 135, 136, 137, 138, 139, 140, 141, 142,\n",
       "       143, 144, 145, 146, 147, 148, 149, 150, 151, 152, 153, 154, 132,\n",
       "       131, 130, 117, 107, 108, 109, 110, 111, 112, 113, 114, 115, 116,\n",
       "       118, 129, 119, 120, 121, 122, 123, 124, 125, 126, 127, 128, 155,\n",
       "       157, 105, 158, 185, 186, 187, 188, 189, 190, 191, 192, 193, 194,\n",
       "       195, 196, 197, 198, 199, 200, 201, 202, 203, 204, 205, 206, 207,\n",
       "       184, 183, 182, 169, 159, 160, 161, 162, 163, 164, 165, 166, 167,\n",
       "       168, 170, 181, 171, 172, 173, 174, 175, 176, 177, 178, 179, 180,\n",
       "       106, 104, 209,  51,  27,  28,  29,  30,  31,  32,  33,  34,  35,\n",
       "        36,  37,  38,  39,  40,  41,  42,  43,  44,  45,  46,  47,  48,\n",
       "        49,  26,  25,  24,  11,   1,   2,   3,   4,   5,   6,   7,   8,\n",
       "         9,  10,  12,  23,  13,  14,  15,  16,  17,  18,  19,  20,  21,\n",
       "        22,  50,  52, 103,  53,  80,  81,  82,  83,  84,  85,  86,  87,\n",
       "        88,  89,  90,  91,  92,  93,  94,  95,  96,  97,  98,  99, 100,\n",
       "       101, 102,  79,  78,  77,  64,  54,  55,  56,  57,  58,  59,  60,\n",
       "        61,  62,  63,  65,  76,  66,  67,  68,  69,  70,  71,  72,  73,\n",
       "        74,  75, 208, 210, 420, 368, 344, 345, 346, 347, 348, 349, 350,\n",
       "       351, 352, 353, 354, 355, 356, 357, 358, 359, 360, 361, 362, 363,\n",
       "       364, 365, 366, 343, 342, 341, 328, 318, 319, 320, 321, 322, 323,\n",
       "       324, 325, 326, 327, 329, 340, 330, 331, 332, 333, 334, 335, 336,\n",
       "       337, 338, 339, 367, 369, 211, 370, 397, 398, 399, 400, 401, 402,\n",
       "       403, 404, 405, 406, 407, 408, 409, 410, 411, 412, 413, 414, 415,\n",
       "       416, 417, 418, 419, 396, 395, 394, 381, 371, 372, 373, 374, 375,\n",
       "       376, 377, 378, 379, 380, 382, 393, 383, 384, 385, 386, 387, 388,\n",
       "       389, 390, 391, 392, 317, 316, 315, 314, 238, 239, 240, 241, 242,\n",
       "       243, 244, 245, 246, 247, 248, 249, 250, 251, 252, 253, 254, 255,\n",
       "       256, 257, 258, 259, 260, 237, 236, 235, 222, 212, 213, 214, 215,\n",
       "       216, 217, 218, 219, 220, 221, 223, 234, 224, 225, 226, 227, 228,\n",
       "       229, 230, 231, 232, 233, 261, 262, 263, 302, 292, 293, 294, 295,\n",
       "       296, 297, 298, 299, 300, 301, 303, 290, 304, 305, 306, 307, 308,\n",
       "       309, 310, 311, 312, 313, 291, 289, 264, 275, 265, 266, 267, 268,\n",
       "       269, 270, 271, 272, 273, 274, 276, 288, 277, 278, 280, 281, 282,\n",
       "       283, 284, 285, 286, 287,   0])"
      ]
     },
     "execution_count": 405,
     "metadata": {},
     "output_type": "execute_result"
    }
   ],
   "source": [
    "np.argsort(true[31])[::-1]"
   ]
  },
  {
   "cell_type": "code",
   "execution_count": 406,
   "id": "185624df-1840-4f4d-952a-b5a2eb412da7",
   "metadata": {},
   "outputs": [
    {
     "data": {
      "text/plain": [
       "array([238, 236, 239, 299, 323, 404, 286, 241, 405, 257, 407, 319, 295,\n",
       "       290,  85, 139, 217, 137, 306, 235, 144, 406, 240, 289, 222, 255,\n",
       "       224, 158,  50, 223,  88, 220, 146, 136, 408, 145, 230, 229, 288,\n",
       "        40, 141, 292,  44, 302, 142, 259, 140, 156, 388, 304,  34, 135,\n",
       "       216, 325,  84,  51, 151, 382,  41, 154, 253,  35, 147,  45, 411,\n",
       "       389, 383, 252, 410, 161, 163, 164, 165, 162, 167, 160,  14, 150,\n",
       "       149, 148, 166, 210, 168, 198, 191, 192, 193, 194, 195, 196, 197,\n",
       "       199, 189, 200, 201, 202, 203, 204, 205, 206, 190, 188, 169, 177,\n",
       "       170, 171, 172, 173, 174, 175, 176, 178, 187, 179, 180, 182, 183,\n",
       "       184, 185, 186, 181, 124, 134,  58,  60,  61,  62,  63,  64,  65,\n",
       "        66,  67,  68,  69,  70,  71,  72,  73,  74,  75,  76,  77,  78,\n",
       "        59,  57,  80,  56,  18,  19,  20,  21,  22,  23,  24,  25,  26,\n",
       "        27,  28,  29,  30,  31,  32,  52,  53,  54,  55,  79,  81, 133,\n",
       "       112, 114, 115, 116, 117, 118, 119, 120, 121, 122, 123, 208, 125,\n",
       "       126, 127, 128, 129, 130, 131, 132, 113, 111,  15, 110,  91,  92,\n",
       "        93,  94,  95,  96,  97,  98,  99, 100, 101, 102, 103, 104, 105,\n",
       "       106, 107, 108, 109, 207,  17, 209, 350, 343, 344, 345, 346, 347,\n",
       "       348, 349, 351, 341, 352, 353, 354, 355, 356, 357, 358, 342, 340,\n",
       "       311, 329, 313, 314, 315, 316, 326, 327, 328, 331, 339, 332, 333,\n",
       "       334, 335, 336, 337, 338, 359, 360, 361, 398, 391, 392, 393, 394,\n",
       "       395, 396, 397, 399, 362, 400, 412, 413, 414, 415, 416, 417, 390,\n",
       "       380, 379, 378, 363, 364, 365, 366, 367, 368, 369, 370, 371, 372,\n",
       "       373, 374, 375, 376, 377, 312, 330, 310, 264, 248, 249, 250, 251,\n",
       "       261, 309, 263, 265, 246, 266, 267, 268, 269, 270, 271, 272, 247,\n",
       "       245, 274, 225, 211, 212, 213, 214, 215,  13,  16, 226, 244, 227,\n",
       "       228,  12,  11,  10,   9,   8, 273, 262, 275, 278,   4,   5,   6,\n",
       "         7, 283, 282, 281, 280, 279, 284, 277, 276,   3, 418,  43,  42,\n",
       "       381, 403,   2, 384, 419,  33, 159, 243, 386,  36,  90, 385, 409,\n",
       "       420, 285,  87, 260, 153,  82, 308, 300,  38,  83, 318, 294, 401,\n",
       "       143,  37,  46, 387,   1, 301, 402, 305, 324, 321, 297, 155, 152,\n",
       "       219, 303, 256,  47, 307, 221, 254,  48,  39,  86, 258, 231, 157,\n",
       "        49, 317, 421, 287,  89, 293, 232,   0, 242, 218, 138, 298, 322,\n",
       "       234, 296, 320, 237, 233, 291])"
      ]
     },
     "execution_count": 406,
     "metadata": {},
     "output_type": "execute_result"
    }
   ],
   "source": [
    "np.argsort(pred[31])[::-1]"
   ]
  },
  {
   "cell_type": "code",
   "execution_count": 361,
   "id": "88ce658c-c6d7-4fa2-8a76-aaace25b416f",
   "metadata": {},
   "outputs": [
    {
     "data": {
      "text/plain": [
       "0.12499999999999997"
      ]
     },
     "execution_count": 361,
     "metadata": {},
     "output_type": "execute_result"
    }
   ],
   "source": [
    "abs(0.8 - 0.8) / 0.8"
   ]
  },
  {
   "cell_type": "code",
   "execution_count": 299,
   "id": "b16ca488-d74f-4e4d-b8eb-6c4096120b14",
   "metadata": {},
   "outputs": [
    {
     "data": {
      "text/plain": [
       "array([[0., 0., 0., ..., 0., 0., 0.],\n",
       "       [0., 0., 0., ..., 0., 0., 0.],\n",
       "       [0., 0., 0., ..., 0., 0., 0.],\n",
       "       ...,\n",
       "       [0., 0., 0., ..., 0., 0., 0.],\n",
       "       [0., 0., 0., ..., 0., 0., 0.],\n",
       "       [0., 0., 0., ..., 0., 0., 0.]])"
      ]
     },
     "execution_count": 299,
     "metadata": {},
     "output_type": "execute_result"
    }
   ],
   "source": [
    "valid_gen.__getitem__(1)[1][0, :, :, 0, 0]"
   ]
  },
  {
   "cell_type": "code",
   "execution_count": 169,
   "id": "cf1c424e-ccab-4a74-b9c5-a6626cb337e7",
   "metadata": {},
   "outputs": [
    {
     "data": {
      "image/png": "[encoded data removed]",
      "text/plain": [
       "<Figure size 432x288 with 1 Axes>"
      ]
     },
     "metadata": {
      "needs_background": "light"
     },
     "output_type": "display_data"
    }
   ],
   "source": [
    "import numpy as np\n",
    "from matplotlib import pyplot as plt\n",
    "plt.imshow(train_y[-120:][0], interpolation='nearest')\n",
    "plt.show()"
   ]
  },
  {
   "cell_type": "code",
   "execution_count": 334,
   "id": "81368e20-21ff-486a-a50d-cd2fed25e67b",
   "metadata": {},
   "outputs": [
    {
     "data": {
      "image/png": "[encoded data removed]",
      "text/plain": [
       "<Figure size 432x288 with 1 Axes>"
      ]
     },
     "metadata": {
      "needs_background": "light"
     },
     "output_type": "display_data"
    }
   ],
   "source": [
    "valid_gen.__getitem__(1)[1][0, :, :, 0, 0]\n",
    "import numpy as np\n",
    "from matplotlib import pyplot as plt\n",
    "plt.imshow(true, interpolation='nearest')\n",
    "plt.show()"
   ]
  },
  {
   "cell_type": "code",
   "execution_count": 296,
   "id": "ca2727be-1367-42c0-b23e-410426d13aab",
   "metadata": {},
   "outputs": [
    {
     "data": {
      "image/png": "[encoded data removed]",
      "text/plain": [
       "<Figure size 432x288 with 1 Axes>"
      ]
     },
     "metadata": {
      "needs_background": "light"
     },
     "output_type": "display_data"
    }
   ],
   "source": [
    "import numpy as np\n",
    "from matplotlib import pyplot as plt\n",
    "plt.imshow(valid_gen.__getitem__(1)[1][0, :, :, 0, 0], interpolation='nearest')\n",
    "plt.show()"
   ]
  },
  {
   "cell_type": "code",
   "execution_count": 279,
   "id": "f2c7c205-bc3f-47a0-8194-488bb104750c",
   "metadata": {},
   "outputs": [
    {
     "data": {
      "image/png": "[encoded data removed]",
      "text/plain": [
       "<Figure size 432x288 with 1 Axes>"
      ]
     },
     "metadata": {
      "needs_background": "light"
     },
     "output_type": "display_data"
    }
   ],
   "source": [
    "import numpy as np\n",
    "from matplotlib import pyplot as plt\n",
    "plt.imshow(np.squeeze(preds2[0], axis=2)*100, interpolation='nearest')\n",
    "plt.show()"
   ]
  },
  {
   "cell_type": "code",
   "execution_count": 182,
   "id": "71c30bcd-0513-4ba5-bcf4-b2ed142e29dc",
   "metadata": {},
   "outputs": [
    {
     "data": {
      "text/plain": [
       "array([[-3.9500916],\n",
       "       [-5.1042213],\n",
       "       [-5.1566477],\n",
       "       [-5.150398 ],\n",
       "       [-5.150473 ],\n",
       "       [-5.1503243],\n",
       "       [-5.150615 ],\n",
       "       [-5.1507993],\n",
       "       [-5.1508746],\n",
       "       [-5.149775 ],\n",
       "       [-5.1503854],\n",
       "       [-5.1509824],\n",
       "       [-5.1507697],\n",
       "       [-5.150171 ],\n",
       "       [-5.150559 ],\n",
       "       [-5.1506753],\n",
       "       [-5.150458 ],\n",
       "       [-5.150762 ],\n",
       "       [-5.1497903],\n",
       "       [-5.150087 ],\n",
       "       [-5.150582 ],\n",
       "       [-5.1513906],\n",
       "       [-5.150003 ],\n",
       "       [-5.1509023],\n",
       "       [-5.1505895],\n",
       "       [-5.15052  ],\n",
       "       [-5.150659 ],\n",
       "       [-5.1504283],\n",
       "       [-5.1505103],\n",
       "       [-5.1508126],\n",
       "       [-5.1500163],\n",
       "       [-5.150431 ],\n",
       "       [-5.150458 ],\n",
       "       [-5.1506467],\n",
       "       [-5.149964 ],\n",
       "       [-5.149709 ],\n",
       "       [-5.1507087],\n",
       "       [-5.1522   ],\n",
       "       [-5.150787 ],\n",
       "       [-5.1490674],\n",
       "       [-5.1473565],\n",
       "       [-5.1503415],\n",
       "       [-5.153519 ],\n",
       "       [-5.1513677],\n",
       "       [-5.147989 ],\n",
       "       [-5.150727 ],\n",
       "       [-5.151712 ],\n",
       "       [-5.15185  ],\n",
       "       [-5.149425 ],\n",
       "       [-5.15013  ],\n",
       "       [-5.1501565],\n",
       "       [-5.1516585],\n",
       "       [-5.1503234],\n",
       "       [-5.1503196],\n",
       "       [-5.1505933],\n",
       "       [-5.150747 ],\n",
       "       [-5.1503854],\n",
       "       [-5.1499925],\n",
       "       [-5.150391 ],\n",
       "       [-5.1509852],\n",
       "       [-5.15101  ],\n",
       "       [-5.150295 ],\n",
       "       [-5.150559 ],\n",
       "       [-5.1504836],\n",
       "       [-5.15043  ],\n",
       "       [-5.1504083],\n",
       "       [-5.150759 ],\n",
       "       [-5.15052  ],\n",
       "       [-5.1500525],\n",
       "       [-5.1505427],\n",
       "       [-5.150516 ],\n",
       "       [-5.1506495],\n",
       "       [-5.149904 ],\n",
       "       [-5.1502643],\n",
       "       [-5.151357 ],\n",
       "       [-5.150849 ],\n",
       "       [-5.1500716],\n",
       "       [-5.1505275],\n",
       "       [-5.150244 ],\n",
       "       [-5.1507497],\n",
       "       [-5.150491 ],\n",
       "       [-5.1509624],\n",
       "       [-5.1503987],\n",
       "       [-5.150516 ],\n",
       "       [-5.1503367],\n",
       "       [-5.150145 ],\n",
       "       [-5.150806 ],\n",
       "       [-5.1506076],\n",
       "       [-5.150452 ],\n",
       "       [-5.1499877],\n",
       "       [-5.1510587],\n",
       "       [-5.1505275],\n",
       "       [-5.150515 ],\n",
       "       [-5.1508927],\n",
       "       [-5.1506143],\n",
       "       [-5.1504674],\n",
       "       [-5.150454 ],\n",
       "       [-5.15008  ],\n",
       "       [-5.1506486],\n",
       "       [-5.15113  ],\n",
       "       [-5.150827 ],\n",
       "       [-5.1496015],\n",
       "       [-5.1502852],\n",
       "       [-5.1511607],\n",
       "       [-5.151254 ],\n",
       "       [-5.1501136],\n",
       "       [-5.1496224],\n",
       "       [-5.150966 ],\n",
       "       [-5.1508718],\n",
       "       [-5.150294 ],\n",
       "       [-5.1502185],\n",
       "       [-5.150306 ],\n",
       "       [-5.1508765],\n",
       "       [-5.1500726],\n",
       "       [-5.150225 ],\n",
       "       [-5.1511283],\n",
       "       [-5.150553 ],\n",
       "       [-5.150907 ],\n",
       "       [-5.1502576],\n",
       "       [-5.150308 ],\n",
       "       [-5.1503444],\n",
       "       [-5.151007 ],\n",
       "       [-5.151071 ],\n",
       "       [-5.1489024],\n",
       "       [-5.1498275],\n",
       "       [-5.1521792],\n",
       "       [-5.150516 ],\n",
       "       [-5.1512713],\n",
       "       [-5.1469607],\n",
       "       [-5.150191 ],\n",
       "       [-5.152489 ],\n",
       "       [-5.1527104],\n",
       "       [-5.1482377],\n",
       "       [-5.150021 ],\n",
       "       [-5.1510243],\n",
       "       [-5.1510653],\n",
       "       [-5.150392 ],\n",
       "       [-5.150081 ],\n",
       "       [-5.150251 ],\n",
       "       [-5.1511197],\n",
       "       [-5.150083 ],\n",
       "       [-5.1505017],\n",
       "       [-5.1510606],\n",
       "       [-5.150451 ],\n",
       "       [-5.150103 ],\n",
       "       [-5.1508193],\n",
       "       [-5.150491 ],\n",
       "       [-5.150929 ],\n",
       "       [-5.1504407],\n",
       "       [-5.150538 ],\n",
       "       [-5.150718 ],\n",
       "       [-5.149756 ],\n",
       "       [-5.150272 ],\n",
       "       [-5.151751 ],\n",
       "       [-5.1512275],\n",
       "       [-5.149655 ],\n",
       "       [-5.1501327],\n",
       "       [-5.150579 ],\n",
       "       [-5.1505733],\n",
       "       [-5.1504216],\n",
       "       [-5.150244 ],\n",
       "       [-5.15056  ],\n",
       "       [-5.1507583],\n",
       "       [-5.1502185],\n",
       "       [-5.1504483],\n",
       "       [-5.1509585],\n",
       "       [-5.1506486],\n",
       "       [-5.1501365],\n",
       "       [-5.1500916],\n",
       "       [-5.150847 ],\n",
       "       [-5.1505837],\n",
       "       [-5.1507716],\n",
       "       [-5.15072  ],\n",
       "       [-5.1506114],\n",
       "       [-5.150642 ],\n",
       "       [-5.1503615],\n",
       "       [-5.15046  ],\n",
       "       [-5.1505427],\n",
       "       [-5.1506715],\n",
       "       [-5.150162 ],\n",
       "       [-5.1500325],\n",
       "       [-5.1506686],\n",
       "       [-5.1513667],\n",
       "       [-5.1502643],\n",
       "       [-5.1505494],\n",
       "       [-5.1501784],\n",
       "       [-5.150458 ],\n",
       "       [-5.15064  ],\n",
       "       [-5.150906 ],\n",
       "       [-5.149774 ],\n",
       "       [-5.150563 ],\n",
       "       [-5.151237 ],\n",
       "       [-5.1507344],\n",
       "       [-5.150042 ],\n",
       "       [-5.1500497],\n",
       "       [-5.150603 ],\n",
       "       [-5.1511493],\n",
       "       [-5.1508737],\n",
       "       [-5.150164 ],\n",
       "       [-5.150125 ],\n",
       "       [-5.150764 ],\n",
       "       [-5.150314 ],\n",
       "       [-5.1503444],\n",
       "       [-5.1500106],\n",
       "       [-5.1509852],\n",
       "       [-5.1506476],\n",
       "       [-5.1504483],\n",
       "       [-5.1497846],\n",
       "       [-5.149941 ],\n",
       "       [-5.151077 ],\n",
       "       [-5.150575 ],\n",
       "       [-5.1485972],\n",
       "       [-5.151137 ],\n",
       "       [-5.151694 ],\n",
       "       [-5.150924 ],\n",
       "       [-5.15004  ],\n",
       "       [-5.1506267],\n",
       "       [-5.1503415],\n",
       "       [-5.1504045],\n",
       "       [-5.150604 ],\n",
       "       [-5.150294 ],\n",
       "       [-5.1504292],\n",
       "       [-5.1508317],\n",
       "       [-5.1509805],\n",
       "       [-5.1506553],\n",
       "       [-5.149984 ],\n",
       "       [-5.150268 ],\n",
       "       [-5.150663 ],\n",
       "       [-5.1505876],\n",
       "       [-5.1505   ],\n",
       "       [-5.1505275],\n",
       "       [-5.1504474],\n",
       "       [-5.1506066],\n",
       "       [-5.1505456],\n",
       "       [-5.1505675],\n",
       "       [-5.150085 ],\n",
       "       [-5.1504207],\n",
       "       [-5.1513934],\n",
       "       [-5.1503644],\n",
       "       [-5.15004  ],\n",
       "       [-5.150312 ],\n",
       "       [-5.150805 ],\n",
       "       [-5.1505094],\n",
       "       [-5.1506333],\n",
       "       [-5.1503463],\n",
       "       [-5.1505857],\n",
       "       [-5.150641 ],\n",
       "       [-5.150164 ],\n",
       "       [-5.150374 ],\n",
       "       [-5.150643 ],\n",
       "       [-5.151159 ],\n",
       "       [-5.1504264],\n",
       "       [-5.150307 ],\n",
       "       [-5.1504626],\n",
       "       [-5.1505685],\n",
       "       [-5.150475 ],\n",
       "       [-5.1505437],\n",
       "       [-5.1505437],\n",
       "       [-5.1505437],\n",
       "       [-5.150475 ],\n",
       "       [-5.15023  ],\n",
       "       [-5.1503863],\n",
       "       [-5.1509395],\n",
       "       [-5.150624 ],\n",
       "       [-5.150747 ],\n",
       "       [-5.1501374],\n",
       "       [-5.1509585],\n",
       "       [-5.1501536],\n",
       "       [-5.1504207],\n",
       "       [-5.1506686],\n",
       "       [-5.1506457],\n",
       "       [-5.1507382],\n",
       "       [-5.1504865],\n",
       "       [-5.150292 ],\n",
       "       [-5.150707 ],\n",
       "       [-5.1508183],\n",
       "       [-5.1495576],\n",
       "       [-5.150409 ],\n",
       "       [-5.1511045],\n",
       "       [-5.151277 ],\n",
       "       [-5.1495395],\n",
       "       [-5.1503425],\n",
       "       [-5.150927 ],\n",
       "       [-5.1506734],\n",
       "       [-5.150656 ],\n",
       "       [-5.150416 ],\n",
       "       [-5.150122 ],\n",
       "       [-5.1499867],\n",
       "       [-5.1508126],\n",
       "       [-5.151377 ],\n",
       "       [-5.1482644],\n",
       "       [-5.1498466],\n",
       "       [-5.1514173],\n",
       "       [-5.1532044],\n",
       "       [-5.1490865],\n",
       "       [-5.148804 ],\n",
       "       [-5.149532 ],\n",
       "       [-5.152331 ],\n",
       "       [-5.1510415],\n",
       "       [-5.149587 ],\n",
       "       [-5.1504397],\n",
       "       [-5.150851 ],\n",
       "       [-5.151358 ],\n",
       "       [-5.1501412],\n",
       "       [-5.149981 ],\n",
       "       [-5.1501193],\n",
       "       [-5.1509614],\n",
       "       [-5.1504283],\n",
       "       [-5.1503444],\n",
       "       [-5.1506076],\n",
       "       [-5.1505084],\n",
       "       [-5.150353 ],\n",
       "       [-5.1506505],\n",
       "       [-5.150538 ],\n",
       "       [-5.150722 ],\n",
       "       [-5.1506886],\n",
       "       [-5.150377 ],\n",
       "       [-5.1507716],\n",
       "       [-5.1503778],\n",
       "       [-5.1506276],\n",
       "       [-5.1506476],\n",
       "       [-5.1507173],\n",
       "       [-5.149861 ],\n",
       "       [-5.150617 ],\n",
       "       [-5.1510816],\n",
       "       [-5.1511045],\n",
       "       [-5.1500697],\n",
       "       [-5.14875  ],\n",
       "       [-5.1504397],\n",
       "       [-5.151632 ],\n",
       "       [-5.1515565],\n",
       "       [-5.1490207],\n",
       "       [-5.150103 ],\n",
       "       [-5.1511693],\n",
       "       [-5.1512713],\n",
       "       [-5.1503997],\n",
       "       [-5.1506305],\n",
       "       [-5.1506515],\n",
       "       [-5.150045 ],\n",
       "       [-5.15037  ],\n",
       "       [-5.150663 ],\n",
       "       [-5.1508307],\n",
       "       [-5.1503654],\n",
       "       [-5.1505437],\n",
       "       [-5.1505437],\n",
       "       [-5.150512 ],\n",
       "       [-5.150719 ],\n",
       "       [-5.149757 ],\n",
       "       [-5.1504245],\n",
       "       [-5.151088 ],\n",
       "       [-5.151299 ],\n",
       "       [-5.1498914],\n",
       "       [-5.1505523],\n",
       "       [-5.150553 ],\n",
       "       [-5.1505437],\n",
       "       [-5.150583 ],\n",
       "       [-5.150686 ],\n",
       "       [-5.150396 ],\n",
       "       [-5.1506953],\n",
       "       [-5.149565 ],\n",
       "       [-5.15039  ],\n",
       "       [-5.1510224],\n",
       "       [-5.1510987],\n",
       "       [-5.1504436],\n",
       "       [-5.1503158],\n",
       "       [-5.150576 ],\n",
       "       [-5.150266 ],\n",
       "       [-5.150327 ],\n",
       "       [-5.150759 ],\n",
       "       [-5.1503367],\n",
       "       [-5.15039  ],\n",
       "       [-5.150905 ],\n",
       "       [-5.1506753],\n",
       "       [-5.151362 ],\n",
       "       [-5.148895 ],\n",
       "       [-5.149447 ],\n",
       "       [-5.1513343],\n",
       "       [-5.151632 ],\n",
       "       [-5.1482463],\n",
       "       [-5.1500916],\n",
       "       [-5.1517234],\n",
       "       [-5.1512265],\n",
       "       [-5.1496778],\n",
       "       [-5.1499877],\n",
       "       [-5.1507487],\n",
       "       [-5.1525292],\n",
       "       [-5.1490674],\n",
       "       [-5.1495585],\n",
       "       [-5.150677 ],\n",
       "       [-5.1516786],\n",
       "       [-5.1505055],\n",
       "       [-5.150027 ],\n",
       "       [-5.150371 ],\n",
       "       [-5.150594 ],\n",
       "       [-5.151276 ],\n",
       "       [-5.1504683],\n",
       "       [-5.1506276],\n",
       "       [-5.150186 ],\n",
       "       [-5.150269 ],\n",
       "       [-5.1503806],\n",
       "       [-5.1508336],\n",
       "       [-5.150373 ],\n",
       "       [-5.1505904],\n",
       "       [-5.1509013],\n",
       "       [-5.1509433],\n",
       "       [-5.1502233],\n",
       "       [-5.150162 ],\n",
       "       [-5.150162 ],\n",
       "       [-5.1509967],\n",
       "       [-5.150123 ],\n",
       "       [-5.150377 ],\n",
       "       [-5.1507516],\n",
       "       [-5.151049 ],\n",
       "       [-5.1505685],\n",
       "       [-5.1500983],\n",
       "       [-5.1504464],\n",
       "       [-5.150724 ],\n",
       "       [-5.150642 ],\n",
       "       [-5.1503463],\n",
       "       [-5.0214643],\n",
       "       [-5.034056 ],\n",
       "       [-4.740618 ]], dtype=float32)"
      ]
     },
     "execution_count": 182,
     "metadata": {},
     "output_type": "execute_result"
    }
   ],
   "source": [
    "np.squeeze(val_preds[10], axis=2).sum(0)"
   ]
  },
  {
   "cell_type": "code",
   "execution_count": null,
   "id": "7b7fca5f-afe1-4065-8db7-e2a83fe368b7",
   "metadata": {},
   "outputs": [],
   "source": []
  }
 ],
 "metadata": {
  "kernelspec": {
   "display_name": "Python [conda env:.conda-ent_rel_env]",
   "language": "python",
   "name": "conda-env-.conda-ent_rel_env-py"
  },
  "language_info": {
   "codemirror_mode": {
    "name": "ipython",
    "version": 3
   },
   "file_extension": ".py",
   "mimetype": "text/x-python",
   "name": "python",
   "nbconvert_exporter": "python",
   "pygments_lexer": "ipython3",
   "version": "3.8.13"
  }
 },
 "nbformat": 4,
 "nbformat_minor": 5
}
