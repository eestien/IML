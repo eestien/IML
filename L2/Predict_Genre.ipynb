{
 "cells": [
  {
   "cell_type": "code",
   "execution_count": 68,
   "metadata": {
    "id": "xcQ8YEIM-QET"
   },
   "outputs": [],
   "source": [
    "import pandas as pd\n",
    "from os import path\n",
    "from tqdm import tqdm\n",
    "import numpy as np \n",
    "from matplotlib import pyplot as plt\n",
    "import seaborn as sns\n",
    "np.random.seed(5)"
   ]
  },
  {
   "cell_type": "code",
   "execution_count": 283,
   "metadata": {
    "colab": {
     "base_uri": "https://localhost:8080/"
    },
    "id": "1cf8LRk3_603",
    "outputId": "629a8be6-c5c3-49d9-9cab-290cf6b3ef8d"
   },
   "outputs": [
    {
     "name": "stderr",
     "output_type": "stream",
     "text": [
      "/data/home/spushkov/.conda/envs/ent_rel_env/lib/python3.8/site-packages/IPython/core/interactiveshell.py:3369: DtypeWarning: Columns (3) have mixed types.Specify dtype option on import or set low_memory=False.\n",
      "  exec(code_obj, self.user_global_ns, self.user_ns)\n"
     ]
    }
   ],
   "source": [
    "kaggle_movies_df = pd.read_csv('https://raw.githubusercontent.com/sahildit/IMDB-Movies-Extensive-Dataset-Analysis/master/data1/IMDb%20movies.csv', sep=',', encoding='utf-8')"
   ]
  },
  {
   "cell_type": "code",
   "execution_count": 284,
   "metadata": {
    "id": "y1WlAUJsXEY1"
   },
   "outputs": [],
   "source": [
    "kaggle_movies_df = kaggle_movies_df.dropna(subset=['description'])\n",
    "\n",
    "kaggle_movies_df = kaggle_movies_df[['imdb_title_id', 'title', 'original_title', 'description', 'genre', 'year']]\n",
    "kaggle_movies_df['genres_list'] = kaggle_movies_df['genre'].str.split(\", \")\n",
    "kaggle_movies_df['first_genre'] = kaggle_movies_df.genres_list.apply(lambda x: x[0])\n"
   ]
  },
  {
   "cell_type": "code",
   "execution_count": 285,
   "metadata": {
    "colab": {
     "base_uri": "https://localhost:8080/",
     "height": 814
    },
    "id": "MYkOmKnYXQn0",
    "outputId": "8f160e35-b70f-4552-d5a3-0afb78cfc222"
   },
   "outputs": [
    {
     "data": {
      "text/html": [
       "<div>\n",
       "<style scoped>\n",
       "    .dataframe tbody tr th:only-of-type {\n",
       "        vertical-align: middle;\n",
       "    }\n",
       "\n",
       "    .dataframe tbody tr th {\n",
       "        vertical-align: top;\n",
       "    }\n",
       "\n",
       "    .dataframe thead th {\n",
       "        text-align: right;\n",
       "    }\n",
       "</style>\n",
       "<table border=\"1\" class=\"dataframe\">\n",
       "  <thead>\n",
       "    <tr style=\"text-align: right;\">\n",
       "      <th></th>\n",
       "      <th>imdb_title_id</th>\n",
       "      <th>title</th>\n",
       "      <th>original_title</th>\n",
       "      <th>description</th>\n",
       "      <th>genre</th>\n",
       "      <th>year</th>\n",
       "      <th>genres_list</th>\n",
       "      <th>first_genre</th>\n",
       "    </tr>\n",
       "  </thead>\n",
       "  <tbody>\n",
       "    <tr>\n",
       "      <th>0</th>\n",
       "      <td>tt0000009</td>\n",
       "      <td>Miss Jerry</td>\n",
       "      <td>Miss Jerry</td>\n",
       "      <td>The adventures of a female reporter in the 1890s.</td>\n",
       "      <td>Romance</td>\n",
       "      <td>1894</td>\n",
       "      <td>[Romance]</td>\n",
       "      <td>Romance</td>\n",
       "    </tr>\n",
       "    <tr>\n",
       "      <th>1</th>\n",
       "      <td>tt0000574</td>\n",
       "      <td>The Story of the Kelly Gang</td>\n",
       "      <td>The Story of the Kelly Gang</td>\n",
       "      <td>True story of notorious Australian outlaw Ned ...</td>\n",
       "      <td>Biography, Crime, Drama</td>\n",
       "      <td>1906</td>\n",
       "      <td>[Biography, Crime, Drama]</td>\n",
       "      <td>Biography</td>\n",
       "    </tr>\n",
       "    <tr>\n",
       "      <th>2</th>\n",
       "      <td>tt0001892</td>\n",
       "      <td>Den sorte drøm</td>\n",
       "      <td>Den sorte drøm</td>\n",
       "      <td>Two men of high rank are both wooing the beaut...</td>\n",
       "      <td>Drama</td>\n",
       "      <td>1911</td>\n",
       "      <td>[Drama]</td>\n",
       "      <td>Drama</td>\n",
       "    </tr>\n",
       "    <tr>\n",
       "      <th>3</th>\n",
       "      <td>tt0002101</td>\n",
       "      <td>Cleopatra</td>\n",
       "      <td>Cleopatra</td>\n",
       "      <td>The fabled queen of Egypt's affair with Roman ...</td>\n",
       "      <td>Drama, History</td>\n",
       "      <td>1912</td>\n",
       "      <td>[Drama, History]</td>\n",
       "      <td>Drama</td>\n",
       "    </tr>\n",
       "    <tr>\n",
       "      <th>4</th>\n",
       "      <td>tt0002130</td>\n",
       "      <td>L'Inferno</td>\n",
       "      <td>L'Inferno</td>\n",
       "      <td>Loosely adapted from Dante's Divine Comedy and...</td>\n",
       "      <td>Adventure, Drama, Fantasy</td>\n",
       "      <td>1911</td>\n",
       "      <td>[Adventure, Drama, Fantasy]</td>\n",
       "      <td>Adventure</td>\n",
       "    </tr>\n",
       "    <tr>\n",
       "      <th>...</th>\n",
       "      <td>...</td>\n",
       "      <td>...</td>\n",
       "      <td>...</td>\n",
       "      <td>...</td>\n",
       "      <td>...</td>\n",
       "      <td>...</td>\n",
       "      <td>...</td>\n",
       "      <td>...</td>\n",
       "    </tr>\n",
       "    <tr>\n",
       "      <th>85848</th>\n",
       "      <td>tt9905462</td>\n",
       "      <td>Pengalila</td>\n",
       "      <td>Pengalila</td>\n",
       "      <td>An unusual bond between a sixty year old Dalit...</td>\n",
       "      <td>Drama</td>\n",
       "      <td>2019</td>\n",
       "      <td>[Drama]</td>\n",
       "      <td>Drama</td>\n",
       "    </tr>\n",
       "    <tr>\n",
       "      <th>85849</th>\n",
       "      <td>tt9906644</td>\n",
       "      <td>Manoharam</td>\n",
       "      <td>Manoharam</td>\n",
       "      <td>Manoharan is a poster artist struggling to fin...</td>\n",
       "      <td>Comedy, Drama</td>\n",
       "      <td>2019</td>\n",
       "      <td>[Comedy, Drama]</td>\n",
       "      <td>Comedy</td>\n",
       "    </tr>\n",
       "    <tr>\n",
       "      <th>85850</th>\n",
       "      <td>tt9908390</td>\n",
       "      <td>Le lion</td>\n",
       "      <td>Le lion</td>\n",
       "      <td>A psychiatric hospital patient pretends to be ...</td>\n",
       "      <td>Comedy</td>\n",
       "      <td>2020</td>\n",
       "      <td>[Comedy]</td>\n",
       "      <td>Comedy</td>\n",
       "    </tr>\n",
       "    <tr>\n",
       "      <th>85851</th>\n",
       "      <td>tt9911196</td>\n",
       "      <td>De Beentjes van Sint-Hildegard</td>\n",
       "      <td>De Beentjes van Sint-Hildegard</td>\n",
       "      <td>A middle-aged veterinary surgeon believes his ...</td>\n",
       "      <td>Comedy, Drama</td>\n",
       "      <td>2020</td>\n",
       "      <td>[Comedy, Drama]</td>\n",
       "      <td>Comedy</td>\n",
       "    </tr>\n",
       "    <tr>\n",
       "      <th>85854</th>\n",
       "      <td>tt9914942</td>\n",
       "      <td>La vida sense la Sara Amat</td>\n",
       "      <td>La vida sense la Sara Amat</td>\n",
       "      <td>Pep, a 13-year-old boy, is in love with a girl...</td>\n",
       "      <td>Drama</td>\n",
       "      <td>2019</td>\n",
       "      <td>[Drama]</td>\n",
       "      <td>Drama</td>\n",
       "    </tr>\n",
       "  </tbody>\n",
       "</table>\n",
       "<p>83740 rows × 8 columns</p>\n",
       "</div>"
      ],
      "text/plain": [
       "      imdb_title_id                           title  \\\n",
       "0         tt0000009                      Miss Jerry   \n",
       "1         tt0000574     The Story of the Kelly Gang   \n",
       "2         tt0001892                  Den sorte drøm   \n",
       "3         tt0002101                       Cleopatra   \n",
       "4         tt0002130                       L'Inferno   \n",
       "...             ...                             ...   \n",
       "85848     tt9905462                       Pengalila   \n",
       "85849     tt9906644                       Manoharam   \n",
       "85850     tt9908390                         Le lion   \n",
       "85851     tt9911196  De Beentjes van Sint-Hildegard   \n",
       "85854     tt9914942      La vida sense la Sara Amat   \n",
       "\n",
       "                       original_title  \\\n",
       "0                          Miss Jerry   \n",
       "1         The Story of the Kelly Gang   \n",
       "2                      Den sorte drøm   \n",
       "3                           Cleopatra   \n",
       "4                           L'Inferno   \n",
       "...                               ...   \n",
       "85848                       Pengalila   \n",
       "85849                       Manoharam   \n",
       "85850                         Le lion   \n",
       "85851  De Beentjes van Sint-Hildegard   \n",
       "85854      La vida sense la Sara Amat   \n",
       "\n",
       "                                             description  \\\n",
       "0      The adventures of a female reporter in the 1890s.   \n",
       "1      True story of notorious Australian outlaw Ned ...   \n",
       "2      Two men of high rank are both wooing the beaut...   \n",
       "3      The fabled queen of Egypt's affair with Roman ...   \n",
       "4      Loosely adapted from Dante's Divine Comedy and...   \n",
       "...                                                  ...   \n",
       "85848  An unusual bond between a sixty year old Dalit...   \n",
       "85849  Manoharan is a poster artist struggling to fin...   \n",
       "85850  A psychiatric hospital patient pretends to be ...   \n",
       "85851  A middle-aged veterinary surgeon believes his ...   \n",
       "85854  Pep, a 13-year-old boy, is in love with a girl...   \n",
       "\n",
       "                           genre  year                  genres_list  \\\n",
       "0                        Romance  1894                    [Romance]   \n",
       "1        Biography, Crime, Drama  1906    [Biography, Crime, Drama]   \n",
       "2                          Drama  1911                      [Drama]   \n",
       "3                 Drama, History  1912             [Drama, History]   \n",
       "4      Adventure, Drama, Fantasy  1911  [Adventure, Drama, Fantasy]   \n",
       "...                          ...   ...                          ...   \n",
       "85848                      Drama  2019                      [Drama]   \n",
       "85849              Comedy, Drama  2019              [Comedy, Drama]   \n",
       "85850                     Comedy  2020                     [Comedy]   \n",
       "85851              Comedy, Drama  2020              [Comedy, Drama]   \n",
       "85854                      Drama  2019                      [Drama]   \n",
       "\n",
       "      first_genre  \n",
       "0         Romance  \n",
       "1       Biography  \n",
       "2           Drama  \n",
       "3           Drama  \n",
       "4       Adventure  \n",
       "...           ...  \n",
       "85848       Drama  \n",
       "85849      Comedy  \n",
       "85850      Comedy  \n",
       "85851      Comedy  \n",
       "85854       Drama  \n",
       "\n",
       "[83740 rows x 8 columns]"
      ]
     },
     "execution_count": 285,
     "metadata": {},
     "output_type": "execute_result"
    }
   ],
   "source": [
    "kaggle_movies_df"
   ]
  },
  {
   "cell_type": "code",
   "execution_count": 286,
   "metadata": {
    "id": "r3XdwBTpXRsO"
   },
   "outputs": [],
   "source": [
    "title_ids_grouped_by_year = kaggle_movies_df.groupby('year').imdb_title_id.apply(list)"
   ]
  },
  {
   "cell_type": "code",
   "execution_count": 287,
   "metadata": {
    "colab": {
     "base_uri": "https://localhost:8080/"
    },
    "id": "KUFaPs5nXvGt",
    "outputId": "cd1a0629-6855-4c4d-f6f1-44b27b3279c3"
   },
   "outputs": [
    {
     "data": {
      "text/plain": [
       "year\n",
       "1894                                                   [tt0000009]\n",
       "1906                                                   [tt0000574]\n",
       "1911             [tt0001892, tt0002130, tt0191323, tt0194248, t...\n",
       "1912             [tt0002101, tt0002199, tt0002452, tt0002461, t...\n",
       "1913             [tt0002445, tt0002646, tt0002844, tt0003014, t...\n",
       "                                       ...                        \n",
       "2017             [tt2226597, tt2238758, tt2239822, tt2241475, t...\n",
       "2018             [tt2226440, tt2231461, tt2233979, tt2237324, t...\n",
       "2019             [tt2257284, tt2274648, tt2275629, tt2275743, t...\n",
       "2020             [tt2420124, tt2573372, tt2702920, tt2819446, t...\n",
       "TV Movie 2019                                          [tt8206668]\n",
       "Name: imdb_title_id, Length: 168, dtype: object"
      ]
     },
     "execution_count": 287,
     "metadata": {},
     "output_type": "execute_result"
    }
   ],
   "source": [
    "title_ids_grouped_by_year"
   ]
  },
  {
   "cell_type": "code",
   "execution_count": 288,
   "metadata": {
    "id": "60_yaMS0XczH"
   },
   "outputs": [],
   "source": [
    "def define_paths_to_imgs_kaggle(data, path_to_folder=\"./Poster/\"):\n",
    "\n",
    "    list_of_available_posters = []\n",
    "    for y, t in tqdm(data.iteritems(), total=len(data)):\n",
    "\n",
    "        for id_ in t:\n",
    "            if path.exists(path.join(path_to_folder, f\"{y}/{id_}/{id_}.jpg\")):\n",
    "                list_of_available_posters.append({'imdb_title_id': id_, 'img_path': path.join(path_to_folder, f\"{y}/{id_}/{id_}.jpg\")})\n",
    "    img_paths_df = pd.DataFrame(list_of_available_posters)\n",
    "    return img_paths_df\n"
   ]
  },
  {
   "cell_type": "code",
   "execution_count": 289,
   "metadata": {
    "colab": {
     "base_uri": "https://localhost:8080/"
    },
    "id": "NXIqkhHiXmtn",
    "outputId": "fda60248-67c2-464b-f1af-7045bb5c7f65"
   },
   "outputs": [
    {
     "name": "stderr",
     "output_type": "stream",
     "text": [
      "100%|██████████| 168/168 [00:18<00:00,  9.12it/s]\n"
     ]
    }
   ],
   "source": [
    "img_paths_df = define_paths_to_imgs_kaggle(title_ids_grouped_by_year)"
   ]
  },
  {
   "cell_type": "code",
   "execution_count": 290,
   "metadata": {
    "colab": {
     "base_uri": "https://localhost:8080/",
     "height": 423
    },
    "id": "bD5Gk4MDXqkL",
    "outputId": "78ed4c10-7ebe-45a3-a676-0fd5643ac465"
   },
   "outputs": [
    {
     "data": {
      "text/html": [
       "<div>\n",
       "<style scoped>\n",
       "    .dataframe tbody tr th:only-of-type {\n",
       "        vertical-align: middle;\n",
       "    }\n",
       "\n",
       "    .dataframe tbody tr th {\n",
       "        vertical-align: top;\n",
       "    }\n",
       "\n",
       "    .dataframe thead th {\n",
       "        text-align: right;\n",
       "    }\n",
       "</style>\n",
       "<table border=\"1\" class=\"dataframe\">\n",
       "  <thead>\n",
       "    <tr style=\"text-align: right;\">\n",
       "      <th></th>\n",
       "      <th>imdb_title_id</th>\n",
       "      <th>img_path</th>\n",
       "    </tr>\n",
       "  </thead>\n",
       "  <tbody>\n",
       "    <tr>\n",
       "      <th>0</th>\n",
       "      <td>tt0000574</td>\n",
       "      <td>./Poster/1906/tt0000574/tt0000574.jpg</td>\n",
       "    </tr>\n",
       "    <tr>\n",
       "      <th>1</th>\n",
       "      <td>tt0002130</td>\n",
       "      <td>./Poster/1911/tt0002130/tt0002130.jpg</td>\n",
       "    </tr>\n",
       "    <tr>\n",
       "      <th>2</th>\n",
       "      <td>tt0002101</td>\n",
       "      <td>./Poster/1912/tt0002101/tt0002101.jpg</td>\n",
       "    </tr>\n",
       "    <tr>\n",
       "      <th>3</th>\n",
       "      <td>tt0002461</td>\n",
       "      <td>./Poster/1912/tt0002461/tt0002461.jpg</td>\n",
       "    </tr>\n",
       "    <tr>\n",
       "      <th>4</th>\n",
       "      <td>tt0002844</td>\n",
       "      <td>./Poster/1913/tt0002844/tt0002844.jpg</td>\n",
       "    </tr>\n",
       "    <tr>\n",
       "      <th>...</th>\n",
       "      <td>...</td>\n",
       "      <td>...</td>\n",
       "    </tr>\n",
       "    <tr>\n",
       "      <th>29808</th>\n",
       "      <td>tt8580274</td>\n",
       "      <td>./Poster/2020/tt8580274/tt8580274.jpg</td>\n",
       "    </tr>\n",
       "    <tr>\n",
       "      <th>29809</th>\n",
       "      <td>tt8850222</td>\n",
       "      <td>./Poster/2020/tt8850222/tt8850222.jpg</td>\n",
       "    </tr>\n",
       "    <tr>\n",
       "      <th>29810</th>\n",
       "      <td>tt9484998</td>\n",
       "      <td>./Poster/2020/tt9484998/tt9484998.jpg</td>\n",
       "    </tr>\n",
       "    <tr>\n",
       "      <th>29811</th>\n",
       "      <td>tt9777644</td>\n",
       "      <td>./Poster/2020/tt9777644/tt9777644.jpg</td>\n",
       "    </tr>\n",
       "    <tr>\n",
       "      <th>29812</th>\n",
       "      <td>tt9794630</td>\n",
       "      <td>./Poster/2020/tt9794630/tt9794630.jpg</td>\n",
       "    </tr>\n",
       "  </tbody>\n",
       "</table>\n",
       "<p>29813 rows × 2 columns</p>\n",
       "</div>"
      ],
      "text/plain": [
       "      imdb_title_id                               img_path\n",
       "0         tt0000574  ./Poster/1906/tt0000574/tt0000574.jpg\n",
       "1         tt0002130  ./Poster/1911/tt0002130/tt0002130.jpg\n",
       "2         tt0002101  ./Poster/1912/tt0002101/tt0002101.jpg\n",
       "3         tt0002461  ./Poster/1912/tt0002461/tt0002461.jpg\n",
       "4         tt0002844  ./Poster/1913/tt0002844/tt0002844.jpg\n",
       "...             ...                                    ...\n",
       "29808     tt8580274  ./Poster/2020/tt8580274/tt8580274.jpg\n",
       "29809     tt8850222  ./Poster/2020/tt8850222/tt8850222.jpg\n",
       "29810     tt9484998  ./Poster/2020/tt9484998/tt9484998.jpg\n",
       "29811     tt9777644  ./Poster/2020/tt9777644/tt9777644.jpg\n",
       "29812     tt9794630  ./Poster/2020/tt9794630/tt9794630.jpg\n",
       "\n",
       "[29813 rows x 2 columns]"
      ]
     },
     "execution_count": 290,
     "metadata": {},
     "output_type": "execute_result"
    }
   ],
   "source": [
    "img_paths_df"
   ]
  },
  {
   "cell_type": "code",
   "execution_count": 291,
   "metadata": {
    "id": "K9UpUoYcXrrD"
   },
   "outputs": [],
   "source": [
    "kaggle_preprocessed = pd.merge(left=kaggle_movies_df, right=img_paths_df, on='imdb_title_id', how='inner')"
   ]
  },
  {
   "cell_type": "code",
   "execution_count": 292,
   "metadata": {
    "id": "PHLvHKWwZLYN"
   },
   "outputs": [
    {
     "data": {
      "text/html": [
       "<div>\n",
       "<style scoped>\n",
       "    .dataframe tbody tr th:only-of-type {\n",
       "        vertical-align: middle;\n",
       "    }\n",
       "\n",
       "    .dataframe tbody tr th {\n",
       "        vertical-align: top;\n",
       "    }\n",
       "\n",
       "    .dataframe thead th {\n",
       "        text-align: right;\n",
       "    }\n",
       "</style>\n",
       "<table border=\"1\" class=\"dataframe\">\n",
       "  <thead>\n",
       "    <tr style=\"text-align: right;\">\n",
       "      <th></th>\n",
       "      <th>imdb_title_id</th>\n",
       "      <th>title</th>\n",
       "      <th>original_title</th>\n",
       "      <th>description</th>\n",
       "      <th>genre</th>\n",
       "      <th>year</th>\n",
       "      <th>genres_list</th>\n",
       "      <th>first_genre</th>\n",
       "      <th>img_path</th>\n",
       "    </tr>\n",
       "  </thead>\n",
       "  <tbody>\n",
       "    <tr>\n",
       "      <th>0</th>\n",
       "      <td>tt0000574</td>\n",
       "      <td>The Story of the Kelly Gang</td>\n",
       "      <td>The Story of the Kelly Gang</td>\n",
       "      <td>True story of notorious Australian outlaw Ned ...</td>\n",
       "      <td>Biography, Crime, Drama</td>\n",
       "      <td>1906</td>\n",
       "      <td>[Biography, Crime, Drama]</td>\n",
       "      <td>Biography</td>\n",
       "      <td>./Poster/1906/tt0000574/tt0000574.jpg</td>\n",
       "    </tr>\n",
       "    <tr>\n",
       "      <th>1</th>\n",
       "      <td>tt0002101</td>\n",
       "      <td>Cleopatra</td>\n",
       "      <td>Cleopatra</td>\n",
       "      <td>The fabled queen of Egypt's affair with Roman ...</td>\n",
       "      <td>Drama, History</td>\n",
       "      <td>1912</td>\n",
       "      <td>[Drama, History]</td>\n",
       "      <td>Drama</td>\n",
       "      <td>./Poster/1912/tt0002101/tt0002101.jpg</td>\n",
       "    </tr>\n",
       "    <tr>\n",
       "      <th>2</th>\n",
       "      <td>tt0002130</td>\n",
       "      <td>L'Inferno</td>\n",
       "      <td>L'Inferno</td>\n",
       "      <td>Loosely adapted from Dante's Divine Comedy and...</td>\n",
       "      <td>Adventure, Drama, Fantasy</td>\n",
       "      <td>1911</td>\n",
       "      <td>[Adventure, Drama, Fantasy]</td>\n",
       "      <td>Adventure</td>\n",
       "      <td>./Poster/1911/tt0002130/tt0002130.jpg</td>\n",
       "    </tr>\n",
       "    <tr>\n",
       "      <th>3</th>\n",
       "      <td>tt0002461</td>\n",
       "      <td>Richard III</td>\n",
       "      <td>Richard III</td>\n",
       "      <td>Richard of Gloucester uses manipulation and mu...</td>\n",
       "      <td>Drama</td>\n",
       "      <td>1912</td>\n",
       "      <td>[Drama]</td>\n",
       "      <td>Drama</td>\n",
       "      <td>./Poster/1912/tt0002461/tt0002461.jpg</td>\n",
       "    </tr>\n",
       "    <tr>\n",
       "      <th>4</th>\n",
       "      <td>tt0002844</td>\n",
       "      <td>Fantômas - À l'ombre de la guillotine</td>\n",
       "      <td>Fantômas - À l'ombre de la guillotine</td>\n",
       "      <td>Inspector Juve is tasked to investigate and ca...</td>\n",
       "      <td>Crime, Drama</td>\n",
       "      <td>1913</td>\n",
       "      <td>[Crime, Drama]</td>\n",
       "      <td>Crime</td>\n",
       "      <td>./Poster/1913/tt0002844/tt0002844.jpg</td>\n",
       "    </tr>\n",
       "    <tr>\n",
       "      <th>...</th>\n",
       "      <td>...</td>\n",
       "      <td>...</td>\n",
       "      <td>...</td>\n",
       "      <td>...</td>\n",
       "      <td>...</td>\n",
       "      <td>...</td>\n",
       "      <td>...</td>\n",
       "      <td>...</td>\n",
       "      <td>...</td>\n",
       "    </tr>\n",
       "    <tr>\n",
       "      <th>29808</th>\n",
       "      <td>tt8850222</td>\n",
       "      <td>Peninsula</td>\n",
       "      <td>Train to Busan 2</td>\n",
       "      <td>Sequel to the 2016 South Korean zombie film</td>\n",
       "      <td>Action, Horror, Thriller</td>\n",
       "      <td>2020</td>\n",
       "      <td>[Action, Horror, Thriller]</td>\n",
       "      <td>Action</td>\n",
       "      <td>./Poster/2020/tt8850222/tt8850222.jpg</td>\n",
       "    </tr>\n",
       "    <tr>\n",
       "      <th>29809</th>\n",
       "      <td>tt8946378</td>\n",
       "      <td>Cena con delitto - Knives Out</td>\n",
       "      <td>Knives Out</td>\n",
       "      <td>A detective investigates the death of a patria...</td>\n",
       "      <td>Comedy, Crime, Drama</td>\n",
       "      <td>2019</td>\n",
       "      <td>[Comedy, Crime, Drama]</td>\n",
       "      <td>Comedy</td>\n",
       "      <td>./Poster/2019/tt8946378/tt8946378.jpg</td>\n",
       "    </tr>\n",
       "    <tr>\n",
       "      <th>29810</th>\n",
       "      <td>tt9484998</td>\n",
       "      <td>Palm Springs</td>\n",
       "      <td>Palm Springs</td>\n",
       "      <td>When carefree Nyles and reluctant maid of hono...</td>\n",
       "      <td>Comedy, Fantasy, Mystery</td>\n",
       "      <td>2020</td>\n",
       "      <td>[Comedy, Fantasy, Mystery]</td>\n",
       "      <td>Comedy</td>\n",
       "      <td>./Poster/2020/tt9484998/tt9484998.jpg</td>\n",
       "    </tr>\n",
       "    <tr>\n",
       "      <th>29811</th>\n",
       "      <td>tt9777644</td>\n",
       "      <td>Da 5 Bloods - Come fratelli</td>\n",
       "      <td>Da 5 Bloods</td>\n",
       "      <td>Four African American vets battle the forces o...</td>\n",
       "      <td>Adventure, Drama, War</td>\n",
       "      <td>2020</td>\n",
       "      <td>[Adventure, Drama, War]</td>\n",
       "      <td>Adventure</td>\n",
       "      <td>./Poster/2020/tt9777644/tt9777644.jpg</td>\n",
       "    </tr>\n",
       "    <tr>\n",
       "      <th>29812</th>\n",
       "      <td>tt9794630</td>\n",
       "      <td>The Vanished</td>\n",
       "      <td>Hour of Lead</td>\n",
       "      <td>Story of a husband and wife that will stop at ...</td>\n",
       "      <td>Action, Mystery, Thriller</td>\n",
       "      <td>2020</td>\n",
       "      <td>[Action, Mystery, Thriller]</td>\n",
       "      <td>Action</td>\n",
       "      <td>./Poster/2020/tt9794630/tt9794630.jpg</td>\n",
       "    </tr>\n",
       "  </tbody>\n",
       "</table>\n",
       "<p>29813 rows × 9 columns</p>\n",
       "</div>"
      ],
      "text/plain": [
       "      imdb_title_id                                  title  \\\n",
       "0         tt0000574            The Story of the Kelly Gang   \n",
       "1         tt0002101                              Cleopatra   \n",
       "2         tt0002130                              L'Inferno   \n",
       "3         tt0002461                            Richard III   \n",
       "4         tt0002844  Fantômas - À l'ombre de la guillotine   \n",
       "...             ...                                    ...   \n",
       "29808     tt8850222                              Peninsula   \n",
       "29809     tt8946378          Cena con delitto - Knives Out   \n",
       "29810     tt9484998                           Palm Springs   \n",
       "29811     tt9777644            Da 5 Bloods - Come fratelli   \n",
       "29812     tt9794630                           The Vanished   \n",
       "\n",
       "                              original_title  \\\n",
       "0                The Story of the Kelly Gang   \n",
       "1                                  Cleopatra   \n",
       "2                                  L'Inferno   \n",
       "3                                Richard III   \n",
       "4      Fantômas - À l'ombre de la guillotine   \n",
       "...                                      ...   \n",
       "29808                       Train to Busan 2   \n",
       "29809                             Knives Out   \n",
       "29810                           Palm Springs   \n",
       "29811                            Da 5 Bloods   \n",
       "29812                           Hour of Lead   \n",
       "\n",
       "                                             description  \\\n",
       "0      True story of notorious Australian outlaw Ned ...   \n",
       "1      The fabled queen of Egypt's affair with Roman ...   \n",
       "2      Loosely adapted from Dante's Divine Comedy and...   \n",
       "3      Richard of Gloucester uses manipulation and mu...   \n",
       "4      Inspector Juve is tasked to investigate and ca...   \n",
       "...                                                  ...   \n",
       "29808        Sequel to the 2016 South Korean zombie film   \n",
       "29809  A detective investigates the death of a patria...   \n",
       "29810  When carefree Nyles and reluctant maid of hono...   \n",
       "29811  Four African American vets battle the forces o...   \n",
       "29812  Story of a husband and wife that will stop at ...   \n",
       "\n",
       "                           genre  year                  genres_list  \\\n",
       "0        Biography, Crime, Drama  1906    [Biography, Crime, Drama]   \n",
       "1                 Drama, History  1912             [Drama, History]   \n",
       "2      Adventure, Drama, Fantasy  1911  [Adventure, Drama, Fantasy]   \n",
       "3                          Drama  1912                      [Drama]   \n",
       "4                   Crime, Drama  1913               [Crime, Drama]   \n",
       "...                          ...   ...                          ...   \n",
       "29808   Action, Horror, Thriller  2020   [Action, Horror, Thriller]   \n",
       "29809       Comedy, Crime, Drama  2019       [Comedy, Crime, Drama]   \n",
       "29810   Comedy, Fantasy, Mystery  2020   [Comedy, Fantasy, Mystery]   \n",
       "29811      Adventure, Drama, War  2020      [Adventure, Drama, War]   \n",
       "29812  Action, Mystery, Thriller  2020  [Action, Mystery, Thriller]   \n",
       "\n",
       "      first_genre                               img_path  \n",
       "0       Biography  ./Poster/1906/tt0000574/tt0000574.jpg  \n",
       "1           Drama  ./Poster/1912/tt0002101/tt0002101.jpg  \n",
       "2       Adventure  ./Poster/1911/tt0002130/tt0002130.jpg  \n",
       "3           Drama  ./Poster/1912/tt0002461/tt0002461.jpg  \n",
       "4           Crime  ./Poster/1913/tt0002844/tt0002844.jpg  \n",
       "...           ...                                    ...  \n",
       "29808      Action  ./Poster/2020/tt8850222/tt8850222.jpg  \n",
       "29809      Comedy  ./Poster/2019/tt8946378/tt8946378.jpg  \n",
       "29810      Comedy  ./Poster/2020/tt9484998/tt9484998.jpg  \n",
       "29811   Adventure  ./Poster/2020/tt9777644/tt9777644.jpg  \n",
       "29812      Action  ./Poster/2020/tt9794630/tt9794630.jpg  \n",
       "\n",
       "[29813 rows x 9 columns]"
      ]
     },
     "execution_count": 292,
     "metadata": {},
     "output_type": "execute_result"
    }
   ],
   "source": [
    "kaggle_preprocessed"
   ]
  },
  {
   "cell_type": "code",
   "execution_count": 313,
   "metadata": {
    "id": "s6bfamnoZO5F"
   },
   "outputs": [],
   "source": [
    "manually_parsed = pd.read_csv('./our_data/manually_parsed_movies.csv')"
   ]
  },
  {
   "cell_type": "code",
   "execution_count": 314,
   "metadata": {
    "id": "bhEAsOhuZMSp"
   },
   "outputs": [],
   "source": [
    "manually_parsed = manually_parsed.rename({'id': 'imdb_title_id', 'plot': 'description', 'genre': 'first_genre', 'image': 'img_path'}, axis=1)"
   ]
  },
  {
   "cell_type": "code",
   "execution_count": 315,
   "metadata": {
    "id": "7hLw37vJdhbi"
   },
   "outputs": [],
   "source": [
    "manually_parsed = manually_parsed.drop_duplicates()"
   ]
  },
  {
   "cell_type": "code",
   "execution_count": 316,
   "metadata": {
    "colab": {
     "base_uri": "https://localhost:8080/",
     "height": 641
    },
    "id": "NsuOPOyUfdq-",
    "outputId": "70bf3b34-c2b4-4128-ffdd-efffeafc8769"
   },
   "outputs": [
    {
     "data": {
      "text/html": [
       "<div>\n",
       "<style scoped>\n",
       "    .dataframe tbody tr th:only-of-type {\n",
       "        vertical-align: middle;\n",
       "    }\n",
       "\n",
       "    .dataframe tbody tr th {\n",
       "        vertical-align: top;\n",
       "    }\n",
       "\n",
       "    .dataframe thead th {\n",
       "        text-align: right;\n",
       "    }\n",
       "</style>\n",
       "<table border=\"1\" class=\"dataframe\">\n",
       "  <thead>\n",
       "    <tr style=\"text-align: right;\">\n",
       "      <th></th>\n",
       "      <th>imdb_title_id</th>\n",
       "      <th>img_path</th>\n",
       "      <th>title</th>\n",
       "      <th>first_genre</th>\n",
       "      <th>description</th>\n",
       "    </tr>\n",
       "  </thead>\n",
       "  <tbody>\n",
       "    <tr>\n",
       "      <th>0</th>\n",
       "      <td>tt9592704</td>\n",
       "      <td>https://m.media-amazon.com/images/M/MV5BNWMwNm...</td>\n",
       "      <td>Supernoobs</td>\n",
       "      <td>Fantasy</td>\n",
       "      <td>Zen and Mem are experiencing their second snow...</td>\n",
       "    </tr>\n",
       "    <tr>\n",
       "      <th>1</th>\n",
       "      <td>tt9570536</td>\n",
       "      <td>https://m.media-amazon.com/images/M/MV5BNmJmNj...</td>\n",
       "      <td>Supernoobs</td>\n",
       "      <td>Fantasy</td>\n",
       "      <td>The Noobs crash land the Galacticus on a stran...</td>\n",
       "    </tr>\n",
       "    <tr>\n",
       "      <th>2</th>\n",
       "      <td>tt9570404</td>\n",
       "      <td>https://m.media-amazon.com/images/M/MV5BNjU2OD...</td>\n",
       "      <td>Supernoobs</td>\n",
       "      <td>Fantasy</td>\n",
       "      <td>Power's out in Cornbury. The Noobs just want t...</td>\n",
       "    </tr>\n",
       "    <tr>\n",
       "      <th>3</th>\n",
       "      <td>tt9570394</td>\n",
       "      <td>https://m.media-amazon.com/images/M/MV5BMjA3YT...</td>\n",
       "      <td>Supernoobs</td>\n",
       "      <td>Fantasy</td>\n",
       "      <td>The Noobs are given super underwater suits. Th...</td>\n",
       "    </tr>\n",
       "    <tr>\n",
       "      <th>4</th>\n",
       "      <td>tt9570280</td>\n",
       "      <td>https://m.media-amazon.com/images/M/MV5BODU2ZG...</td>\n",
       "      <td>Supernoobs</td>\n",
       "      <td>Fantasy</td>\n",
       "      <td>Mem and Zen fall under scrutiny from the Benev...</td>\n",
       "    </tr>\n",
       "    <tr>\n",
       "      <th>...</th>\n",
       "      <td>...</td>\n",
       "      <td>...</td>\n",
       "      <td>...</td>\n",
       "      <td>...</td>\n",
       "      <td>...</td>\n",
       "    </tr>\n",
       "    <tr>\n",
       "      <th>5264</th>\n",
       "      <td>tt4625048</td>\n",
       "      <td>https://m.media-amazon.com/images/M/MV5BMTgzOT...</td>\n",
       "      <td>Daredevil</td>\n",
       "      <td>Superhero</td>\n",
       "      <td>In the void left by Fisk's removal, a new thre...</td>\n",
       "    </tr>\n",
       "    <tr>\n",
       "      <th>5265</th>\n",
       "      <td>tt4586672</td>\n",
       "      <td>https://m.media-amazon.com/images/M/MV5BMTk5Mj...</td>\n",
       "      <td>Superseven Unchained</td>\n",
       "      <td>Superhero</td>\n",
       "      <td>T.H.E.Y. has programmed Sandra West to become ...</td>\n",
       "    </tr>\n",
       "    <tr>\n",
       "      <th>5266</th>\n",
       "      <td>tt4012658</td>\n",
       "      <td>https://m.media-amazon.com/images/M/MV5BYTNlYz...</td>\n",
       "      <td>Comic Splash: The web-series</td>\n",
       "      <td>Superhero</td>\n",
       "      <td>Tyler Simpson hosts an online TV show satirica...</td>\n",
       "    </tr>\n",
       "    <tr>\n",
       "      <th>5267</th>\n",
       "      <td>tt3179670</td>\n",
       "      <td>https://m.media-amazon.com/images/M/MV5BMGY5ZD...</td>\n",
       "      <td>The Sentry</td>\n",
       "      <td>Superhero</td>\n",
       "      <td>Bob Reynolds, a recovered alcoholic teetering ...</td>\n",
       "    </tr>\n",
       "    <tr>\n",
       "      <th>5268</th>\n",
       "      <td>tt1986832</td>\n",
       "      <td>https://m.media-amazon.com/images/M/MV5BMTYzMz...</td>\n",
       "      <td>Ever Last</td>\n",
       "      <td>Superhero</td>\n",
       "      <td>Kimberly Alves, an assistant bank manager, mee...</td>\n",
       "    </tr>\n",
       "  </tbody>\n",
       "</table>\n",
       "<p>4913 rows × 5 columns</p>\n",
       "</div>"
      ],
      "text/plain": [
       "     imdb_title_id                                           img_path  \\\n",
       "0        tt9592704  https://m.media-amazon.com/images/M/MV5BNWMwNm...   \n",
       "1        tt9570536  https://m.media-amazon.com/images/M/MV5BNmJmNj...   \n",
       "2        tt9570404  https://m.media-amazon.com/images/M/MV5BNjU2OD...   \n",
       "3        tt9570394  https://m.media-amazon.com/images/M/MV5BMjA3YT...   \n",
       "4        tt9570280  https://m.media-amazon.com/images/M/MV5BODU2ZG...   \n",
       "...            ...                                                ...   \n",
       "5264     tt4625048  https://m.media-amazon.com/images/M/MV5BMTgzOT...   \n",
       "5265     tt4586672  https://m.media-amazon.com/images/M/MV5BMTk5Mj...   \n",
       "5266     tt4012658  https://m.media-amazon.com/images/M/MV5BYTNlYz...   \n",
       "5267     tt3179670  https://m.media-amazon.com/images/M/MV5BMGY5ZD...   \n",
       "5268     tt1986832  https://m.media-amazon.com/images/M/MV5BMTYzMz...   \n",
       "\n",
       "                             title first_genre  \\\n",
       "0                       Supernoobs     Fantasy   \n",
       "1                       Supernoobs     Fantasy   \n",
       "2                       Supernoobs     Fantasy   \n",
       "3                       Supernoobs     Fantasy   \n",
       "4                       Supernoobs     Fantasy   \n",
       "...                            ...         ...   \n",
       "5264                     Daredevil   Superhero   \n",
       "5265          Superseven Unchained   Superhero   \n",
       "5266  Comic Splash: The web-series   Superhero   \n",
       "5267                    The Sentry   Superhero   \n",
       "5268                     Ever Last   Superhero   \n",
       "\n",
       "                                            description  \n",
       "0     Zen and Mem are experiencing their second snow...  \n",
       "1     The Noobs crash land the Galacticus on a stran...  \n",
       "2     Power's out in Cornbury. The Noobs just want t...  \n",
       "3     The Noobs are given super underwater suits. Th...  \n",
       "4     Mem and Zen fall under scrutiny from the Benev...  \n",
       "...                                                 ...  \n",
       "5264  In the void left by Fisk's removal, a new thre...  \n",
       "5265  T.H.E.Y. has programmed Sandra West to become ...  \n",
       "5266  Tyler Simpson hosts an online TV show satirica...  \n",
       "5267  Bob Reynolds, a recovered alcoholic teetering ...  \n",
       "5268  Kimberly Alves, an assistant bank manager, mee...  \n",
       "\n",
       "[4913 rows x 5 columns]"
      ]
     },
     "execution_count": 316,
     "metadata": {},
     "output_type": "execute_result"
    }
   ],
   "source": [
    "manually_parsed"
   ]
  },
  {
   "cell_type": "code",
   "execution_count": 317,
   "metadata": {
    "id": "K7ysK1WEdDaH"
   },
   "outputs": [],
   "source": [
    "def define_paths_to_imgs_custom(data, path_to_folder=\"./db_posters/\"):\n",
    "\n",
    "    list_of_available_posters = []\n",
    "    for _, t in tqdm(data[['imdb_title_id']].iterrows(), total=len(data[['imdb_title_id']])):\n",
    "  \n",
    "      if path.exists(path.join(path_to_folder, f\"{t.imdb_title_id}.jpg\")):\n",
    "          list_of_available_posters.append({'imdb_title_id': t.imdb_title_id, 'img_path': path.join(path_to_folder, f\"{t.imdb_title_id}.jpg\")})\n",
    "\n",
    "    img_paths_df = pd.DataFrame(list_of_available_posters)\n",
    "    return img_paths_df\n"
   ]
  },
  {
   "cell_type": "code",
   "execution_count": 318,
   "metadata": {
    "colab": {
     "base_uri": "https://localhost:8080/"
    },
    "id": "7aCGuC1_b82u",
    "outputId": "2d0999f8-fbe5-461b-dd20-5249231ed09d"
   },
   "outputs": [
    {
     "name": "stderr",
     "output_type": "stream",
     "text": [
      "100%|██████████| 4913/4913 [00:00<00:00, 14716.89it/s]\n"
     ]
    }
   ],
   "source": [
    "custom_img_paths_df = define_paths_to_imgs_custom(manually_parsed)"
   ]
  },
  {
   "cell_type": "code",
   "execution_count": 319,
   "metadata": {
    "colab": {
     "base_uri": "https://localhost:8080/",
     "height": 423
    },
    "id": "oSeoRd4Fe0Gv",
    "outputId": "df98c046-fff3-48e0-cc6d-f5ab8dc10370"
   },
   "outputs": [
    {
     "data": {
      "text/html": [
       "<div>\n",
       "<style scoped>\n",
       "    .dataframe tbody tr th:only-of-type {\n",
       "        vertical-align: middle;\n",
       "    }\n",
       "\n",
       "    .dataframe tbody tr th {\n",
       "        vertical-align: top;\n",
       "    }\n",
       "\n",
       "    .dataframe thead th {\n",
       "        text-align: right;\n",
       "    }\n",
       "</style>\n",
       "<table border=\"1\" class=\"dataframe\">\n",
       "  <thead>\n",
       "    <tr style=\"text-align: right;\">\n",
       "      <th></th>\n",
       "      <th>imdb_title_id</th>\n",
       "      <th>img_path</th>\n",
       "    </tr>\n",
       "  </thead>\n",
       "  <tbody>\n",
       "    <tr>\n",
       "      <th>0</th>\n",
       "      <td>tt15498166</td>\n",
       "      <td>./db_posters/tt15498166.jpg</td>\n",
       "    </tr>\n",
       "    <tr>\n",
       "      <th>1</th>\n",
       "      <td>tt10233448</td>\n",
       "      <td>./db_posters/tt10233448.jpg</td>\n",
       "    </tr>\n",
       "    <tr>\n",
       "      <th>2</th>\n",
       "      <td>tt1100089</td>\n",
       "      <td>./db_posters/tt1100089.jpg</td>\n",
       "    </tr>\n",
       "    <tr>\n",
       "      <th>3</th>\n",
       "      <td>tt0106611</td>\n",
       "      <td>./db_posters/tt0106611.jpg</td>\n",
       "    </tr>\n",
       "    <tr>\n",
       "      <th>4</th>\n",
       "      <td>tt1057500</td>\n",
       "      <td>./db_posters/tt1057500.jpg</td>\n",
       "    </tr>\n",
       "    <tr>\n",
       "      <th>...</th>\n",
       "      <td>...</td>\n",
       "      <td>...</td>\n",
       "    </tr>\n",
       "    <tr>\n",
       "      <th>580</th>\n",
       "      <td>tt5215750</td>\n",
       "      <td>./db_posters/tt5215750.jpg</td>\n",
       "    </tr>\n",
       "    <tr>\n",
       "      <th>581</th>\n",
       "      <td>tt4586672</td>\n",
       "      <td>./db_posters/tt4586672.jpg</td>\n",
       "    </tr>\n",
       "    <tr>\n",
       "      <th>582</th>\n",
       "      <td>tt4012658</td>\n",
       "      <td>./db_posters/tt4012658.jpg</td>\n",
       "    </tr>\n",
       "    <tr>\n",
       "      <th>583</th>\n",
       "      <td>tt3179670</td>\n",
       "      <td>./db_posters/tt3179670.jpg</td>\n",
       "    </tr>\n",
       "    <tr>\n",
       "      <th>584</th>\n",
       "      <td>tt1986832</td>\n",
       "      <td>./db_posters/tt1986832.jpg</td>\n",
       "    </tr>\n",
       "  </tbody>\n",
       "</table>\n",
       "<p>585 rows × 2 columns</p>\n",
       "</div>"
      ],
      "text/plain": [
       "    imdb_title_id                     img_path\n",
       "0      tt15498166  ./db_posters/tt15498166.jpg\n",
       "1      tt10233448  ./db_posters/tt10233448.jpg\n",
       "2       tt1100089   ./db_posters/tt1100089.jpg\n",
       "3       tt0106611   ./db_posters/tt0106611.jpg\n",
       "4       tt1057500   ./db_posters/tt1057500.jpg\n",
       "..            ...                          ...\n",
       "580     tt5215750   ./db_posters/tt5215750.jpg\n",
       "581     tt4586672   ./db_posters/tt4586672.jpg\n",
       "582     tt4012658   ./db_posters/tt4012658.jpg\n",
       "583     tt3179670   ./db_posters/tt3179670.jpg\n",
       "584     tt1986832   ./db_posters/tt1986832.jpg\n",
       "\n",
       "[585 rows x 2 columns]"
      ]
     },
     "execution_count": 319,
     "metadata": {},
     "output_type": "execute_result"
    }
   ],
   "source": [
    "custom_img_paths_df"
   ]
  },
  {
   "cell_type": "code",
   "execution_count": 320,
   "metadata": {
    "id": "gsIPTdQaiRsY"
   },
   "outputs": [],
   "source": [
    "manually_parsed = manually_parsed.drop(['img_path'], axis=1)"
   ]
  },
  {
   "cell_type": "code",
   "execution_count": 321,
   "metadata": {
    "id": "1mNf_aq0d2LB"
   },
   "outputs": [],
   "source": [
    "custom_preprocessed = pd.merge(left=manually_parsed, right=custom_img_paths_df, on='imdb_title_id', how='inner')"
   ]
  },
  {
   "cell_type": "code",
   "execution_count": 322,
   "metadata": {
    "colab": {
     "base_uri": "https://localhost:8080/",
     "height": 641
    },
    "id": "HMXPuqLBfHIG",
    "outputId": "c1a0a2d8-1d0a-489d-ae32-2fc224eccaa4"
   },
   "outputs": [],
   "source": [
    "custom_preprocessed = custom_preprocessed.drop_duplicates('imdb_title_id')"
   ]
  },
  {
   "cell_type": "code",
   "execution_count": 323,
   "metadata": {
    "colab": {
     "base_uri": "https://localhost:8080/"
    },
    "id": "BeXv_gM3tSdF",
    "outputId": "8e288c2f-c49a-496d-f45c-b9b4a29370cc"
   },
   "outputs": [
    {
     "data": {
      "text/plain": [
       "Superhero    207\n",
       "Sport        124\n",
       "Animation     99\n",
       "Crime         37\n",
       "Fantasy       34\n",
       "Biography     10\n",
       "History        4\n",
       "Music          4\n",
       "Name: first_genre, dtype: int64"
      ]
     },
     "execution_count": 323,
     "metadata": {},
     "output_type": "execute_result"
    }
   ],
   "source": [
    "custom_preprocessed.first_genre.value_counts()"
   ]
  },
  {
   "cell_type": "code",
   "execution_count": 324,
   "metadata": {
    "id": "IAcuSuzhfIM6"
   },
   "outputs": [],
   "source": [
    "final_dataset = pd.concat([kaggle_preprocessed[['imdb_title_id', 'img_path', 'title', 'first_genre', 'description']], custom_preprocessed], axis=0, ignore_index=True)\n",
    "final_dataset = final_dataset[~final_dataset.first_genre.isin(['Adult'])]"
   ]
  },
  {
   "cell_type": "code",
   "execution_count": 325,
   "metadata": {},
   "outputs": [
    {
     "data": {
      "text/html": [
       "<div>\n",
       "<style scoped>\n",
       "    .dataframe tbody tr th:only-of-type {\n",
       "        vertical-align: middle;\n",
       "    }\n",
       "\n",
       "    .dataframe tbody tr th {\n",
       "        vertical-align: top;\n",
       "    }\n",
       "\n",
       "    .dataframe thead th {\n",
       "        text-align: right;\n",
       "    }\n",
       "</style>\n",
       "<table border=\"1\" class=\"dataframe\">\n",
       "  <thead>\n",
       "    <tr style=\"text-align: right;\">\n",
       "      <th></th>\n",
       "      <th>imdb_title_id</th>\n",
       "      <th>img_path</th>\n",
       "      <th>title</th>\n",
       "      <th>first_genre</th>\n",
       "      <th>description</th>\n",
       "    </tr>\n",
       "  </thead>\n",
       "  <tbody>\n",
       "    <tr>\n",
       "      <th>0</th>\n",
       "      <td>tt0000574</td>\n",
       "      <td>./Poster/1906/tt0000574/tt0000574.jpg</td>\n",
       "      <td>The Story of the Kelly Gang</td>\n",
       "      <td>Biography</td>\n",
       "      <td>True story of notorious Australian outlaw Ned ...</td>\n",
       "    </tr>\n",
       "    <tr>\n",
       "      <th>1</th>\n",
       "      <td>tt0002101</td>\n",
       "      <td>./Poster/1912/tt0002101/tt0002101.jpg</td>\n",
       "      <td>Cleopatra</td>\n",
       "      <td>Drama</td>\n",
       "      <td>The fabled queen of Egypt's affair with Roman ...</td>\n",
       "    </tr>\n",
       "    <tr>\n",
       "      <th>2</th>\n",
       "      <td>tt0002130</td>\n",
       "      <td>./Poster/1911/tt0002130/tt0002130.jpg</td>\n",
       "      <td>L'Inferno</td>\n",
       "      <td>Adventure</td>\n",
       "      <td>Loosely adapted from Dante's Divine Comedy and...</td>\n",
       "    </tr>\n",
       "    <tr>\n",
       "      <th>3</th>\n",
       "      <td>tt0002461</td>\n",
       "      <td>./Poster/1912/tt0002461/tt0002461.jpg</td>\n",
       "      <td>Richard III</td>\n",
       "      <td>Drama</td>\n",
       "      <td>Richard of Gloucester uses manipulation and mu...</td>\n",
       "    </tr>\n",
       "    <tr>\n",
       "      <th>4</th>\n",
       "      <td>tt0002844</td>\n",
       "      <td>./Poster/1913/tt0002844/tt0002844.jpg</td>\n",
       "      <td>Fantômas - À l'ombre de la guillotine</td>\n",
       "      <td>Crime</td>\n",
       "      <td>Inspector Juve is tasked to investigate and ca...</td>\n",
       "    </tr>\n",
       "    <tr>\n",
       "      <th>...</th>\n",
       "      <td>...</td>\n",
       "      <td>...</td>\n",
       "      <td>...</td>\n",
       "      <td>...</td>\n",
       "      <td>...</td>\n",
       "    </tr>\n",
       "    <tr>\n",
       "      <th>30327</th>\n",
       "      <td>tt5215750</td>\n",
       "      <td>./db_posters/tt5215750.jpg</td>\n",
       "      <td>The Flash</td>\n",
       "      <td>Superhero</td>\n",
       "      <td>Zoom unleashes an army of Earth-2 meta-humans,...</td>\n",
       "    </tr>\n",
       "    <tr>\n",
       "      <th>30328</th>\n",
       "      <td>tt4586672</td>\n",
       "      <td>./db_posters/tt4586672.jpg</td>\n",
       "      <td>Superseven Unchained</td>\n",
       "      <td>Superhero</td>\n",
       "      <td>T.H.E.Y. has programmed Sandra West to become ...</td>\n",
       "    </tr>\n",
       "    <tr>\n",
       "      <th>30329</th>\n",
       "      <td>tt4012658</td>\n",
       "      <td>./db_posters/tt4012658.jpg</td>\n",
       "      <td>Comic Splash: The web-series</td>\n",
       "      <td>Superhero</td>\n",
       "      <td>Tyler Simpson hosts an online TV show satirica...</td>\n",
       "    </tr>\n",
       "    <tr>\n",
       "      <th>30330</th>\n",
       "      <td>tt3179670</td>\n",
       "      <td>./db_posters/tt3179670.jpg</td>\n",
       "      <td>The Sentry</td>\n",
       "      <td>Superhero</td>\n",
       "      <td>Bob Reynolds, a recovered alcoholic teetering ...</td>\n",
       "    </tr>\n",
       "    <tr>\n",
       "      <th>30331</th>\n",
       "      <td>tt1986832</td>\n",
       "      <td>./db_posters/tt1986832.jpg</td>\n",
       "      <td>Ever Last</td>\n",
       "      <td>Superhero</td>\n",
       "      <td>Kimberly Alves, an assistant bank manager, mee...</td>\n",
       "    </tr>\n",
       "  </tbody>\n",
       "</table>\n",
       "<p>30332 rows × 5 columns</p>\n",
       "</div>"
      ],
      "text/plain": [
       "      imdb_title_id                               img_path  \\\n",
       "0         tt0000574  ./Poster/1906/tt0000574/tt0000574.jpg   \n",
       "1         tt0002101  ./Poster/1912/tt0002101/tt0002101.jpg   \n",
       "2         tt0002130  ./Poster/1911/tt0002130/tt0002130.jpg   \n",
       "3         tt0002461  ./Poster/1912/tt0002461/tt0002461.jpg   \n",
       "4         tt0002844  ./Poster/1913/tt0002844/tt0002844.jpg   \n",
       "...             ...                                    ...   \n",
       "30327     tt5215750             ./db_posters/tt5215750.jpg   \n",
       "30328     tt4586672             ./db_posters/tt4586672.jpg   \n",
       "30329     tt4012658             ./db_posters/tt4012658.jpg   \n",
       "30330     tt3179670             ./db_posters/tt3179670.jpg   \n",
       "30331     tt1986832             ./db_posters/tt1986832.jpg   \n",
       "\n",
       "                                       title first_genre  \\\n",
       "0                The Story of the Kelly Gang   Biography   \n",
       "1                                  Cleopatra       Drama   \n",
       "2                                  L'Inferno   Adventure   \n",
       "3                                Richard III       Drama   \n",
       "4      Fantômas - À l'ombre de la guillotine       Crime   \n",
       "...                                      ...         ...   \n",
       "30327                              The Flash   Superhero   \n",
       "30328                   Superseven Unchained   Superhero   \n",
       "30329           Comic Splash: The web-series   Superhero   \n",
       "30330                             The Sentry   Superhero   \n",
       "30331                              Ever Last   Superhero   \n",
       "\n",
       "                                             description  \n",
       "0      True story of notorious Australian outlaw Ned ...  \n",
       "1      The fabled queen of Egypt's affair with Roman ...  \n",
       "2      Loosely adapted from Dante's Divine Comedy and...  \n",
       "3      Richard of Gloucester uses manipulation and mu...  \n",
       "4      Inspector Juve is tasked to investigate and ca...  \n",
       "...                                                  ...  \n",
       "30327  Zoom unleashes an army of Earth-2 meta-humans,...  \n",
       "30328  T.H.E.Y. has programmed Sandra West to become ...  \n",
       "30329  Tyler Simpson hosts an online TV show satirica...  \n",
       "30330  Bob Reynolds, a recovered alcoholic teetering ...  \n",
       "30331  Kimberly Alves, an assistant bank manager, mee...  \n",
       "\n",
       "[30332 rows x 5 columns]"
      ]
     },
     "execution_count": 325,
     "metadata": {},
     "output_type": "execute_result"
    }
   ],
   "source": [
    "final_dataset"
   ]
  },
  {
   "cell_type": "code",
   "execution_count": 326,
   "metadata": {
    "colab": {
     "base_uri": "https://localhost:8080/"
    },
    "id": "BYikMSRFkjVs",
    "outputId": "f65f3077-f123-47b2-f0c5-c47e7780ae89"
   },
   "outputs": [
    {
     "data": {
      "text/plain": [
       "Comedy         8522\n",
       "Drama          7757\n",
       "Action         4920\n",
       "Crime          2288\n",
       "Horror         1634\n",
       "Adventure      1498\n",
       "Animation      1052\n",
       "Biography       990\n",
       "Thriller        234\n",
       "Fantasy         210\n",
       "Superhero       207\n",
       "Western         191\n",
       "Mystery         167\n",
       "Romance         144\n",
       "Sport           127\n",
       "Family          124\n",
       "Sci-Fi          107\n",
       "Musical          71\n",
       "War              27\n",
       "Music            24\n",
       "History          19\n",
       "Film-Noir        18\n",
       "Documentary       1\n",
       "Name: first_genre, dtype: int64"
      ]
     },
     "execution_count": 326,
     "metadata": {},
     "output_type": "execute_result"
    }
   ],
   "source": [
    "final_dataset.first_genre.value_counts()"
   ]
  },
  {
   "cell_type": "code",
   "execution_count": 327,
   "metadata": {
    "id": "7MV_Oilmkl_C"
   },
   "outputs": [],
   "source": [
    "list_of_dfs = []\n",
    "for genre in final_dataset.first_genre.value_counts().index:\n",
    "    df = final_dataset[final_dataset['first_genre']==genre]\n",
    "    if len(df) >= 200:\n",
    "        list_of_dfs.append(df.sample(200))\n",
    "    else:\n",
    "        list_of_dfs.append(df)"
   ]
  },
  {
   "cell_type": "code",
   "execution_count": 328,
   "metadata": {
    "id": "vROos9KblZhg"
   },
   "outputs": [],
   "source": [
    "each_genre200 = pd.concat(list_of_dfs, axis=0, ignore_index=True)"
   ]
  },
  {
   "cell_type": "code",
   "execution_count": 329,
   "metadata": {
    "colab": {
     "base_uri": "https://localhost:8080/"
    },
    "id": "Ejjw4dx3lohC",
    "outputId": "9d02751e-dd63-437c-9cc5-bd391fa7bcd8"
   },
   "outputs": [
    {
     "data": {
      "text/plain": [
       "Comedy         200\n",
       "Drama          200\n",
       "Action         200\n",
       "Crime          200\n",
       "Horror         200\n",
       "Adventure      200\n",
       "Animation      200\n",
       "Biography      200\n",
       "Thriller       200\n",
       "Fantasy        200\n",
       "Superhero      200\n",
       "Western        191\n",
       "Mystery        167\n",
       "Romance        144\n",
       "Sport          127\n",
       "Family         124\n",
       "Sci-Fi         107\n",
       "Musical         71\n",
       "War             27\n",
       "Music           24\n",
       "History         19\n",
       "Film-Noir       18\n",
       "Documentary      1\n",
       "Name: first_genre, dtype: int64"
      ]
     },
     "execution_count": 329,
     "metadata": {},
     "output_type": "execute_result"
    }
   ],
   "source": [
    "each_genre200.first_genre.value_counts()"
   ]
  },
  {
   "cell_type": "code",
   "execution_count": 333,
   "metadata": {},
   "outputs": [],
   "source": [
    "each_genre200 = each_genre200[~(each_genre200.first_genre=='Documentary')]"
   ]
  },
  {
   "cell_type": "code",
   "execution_count": 334,
   "metadata": {
    "id": "s03hnIf9pMjQ"
   },
   "outputs": [],
   "source": [
    "each_genre200.to_csv(\"./our_data/each_genre200.csv\", index=False)"
   ]
  },
  {
   "cell_type": "code",
   "execution_count": 5,
   "metadata": {},
   "outputs": [],
   "source": [
    "each_genre200 = pd.read_csv(\"./our_data/each_genre200.csv\")"
   ]
  },
  {
   "cell_type": "code",
   "execution_count": 6,
   "metadata": {
    "colab": {
     "base_uri": "https://localhost:8080/",
     "height": 780
    },
    "id": "4BJ9KkozpxLE",
    "outputId": "530f0a77-6dcd-4aae-8cb1-30f2f1bd9f72"
   },
   "outputs": [
    {
     "data": {
      "text/html": [
       "<div>\n",
       "<style scoped>\n",
       "    .dataframe tbody tr th:only-of-type {\n",
       "        vertical-align: middle;\n",
       "    }\n",
       "\n",
       "    .dataframe tbody tr th {\n",
       "        vertical-align: top;\n",
       "    }\n",
       "\n",
       "    .dataframe thead th {\n",
       "        text-align: right;\n",
       "    }\n",
       "</style>\n",
       "<table border=\"1\" class=\"dataframe\">\n",
       "  <thead>\n",
       "    <tr style=\"text-align: right;\">\n",
       "      <th></th>\n",
       "      <th>imdb_title_id</th>\n",
       "      <th>img_path</th>\n",
       "      <th>title</th>\n",
       "      <th>first_genre</th>\n",
       "      <th>description</th>\n",
       "    </tr>\n",
       "  </thead>\n",
       "  <tbody>\n",
       "    <tr>\n",
       "      <th>0</th>\n",
       "      <td>tt0119863</td>\n",
       "      <td>./Poster/1997/tt0119863/tt0119863.jpg</td>\n",
       "      <td>Le pari</td>\n",
       "      <td>Comedy</td>\n",
       "      <td>Deux beaux-frères, Didier et Bernard se lancen...</td>\n",
       "    </tr>\n",
       "    <tr>\n",
       "      <th>1</th>\n",
       "      <td>tt0959306</td>\n",
       "      <td>./Poster/2014/tt0959306/tt0959306.jpg</td>\n",
       "      <td>Reach Me - La strada per il successo</td>\n",
       "      <td>Comedy</td>\n",
       "      <td>A self-help book changes the lives of differen...</td>\n",
       "    </tr>\n",
       "    <tr>\n",
       "      <th>2</th>\n",
       "      <td>tt0094921</td>\n",
       "      <td>./Poster/1988/tt0094921/tt0094921.jpg</td>\n",
       "      <td>Dall'altro lato della strada</td>\n",
       "      <td>Comedy</td>\n",
       "      <td>A Manhattan single meets a man through her Jew...</td>\n",
       "    </tr>\n",
       "    <tr>\n",
       "      <th>3</th>\n",
       "      <td>tt0061495</td>\n",
       "      <td>./Poster/1967/tt0061495/tt0061495.jpg</td>\n",
       "      <td>La collezionista</td>\n",
       "      <td>Comedy</td>\n",
       "      <td>A womanizing art dealer and a painter find the...</td>\n",
       "    </tr>\n",
       "    <tr>\n",
       "      <th>4</th>\n",
       "      <td>tt0083833</td>\n",
       "      <td>./Poster/1982/tt0083833/tt0083833.jpg</td>\n",
       "      <td>A cena con gli amici</td>\n",
       "      <td>Comedy</td>\n",
       "      <td>A group of college-age buddies struggle with t...</td>\n",
       "    </tr>\n",
       "    <tr>\n",
       "      <th>...</th>\n",
       "      <td>...</td>\n",
       "      <td>...</td>\n",
       "      <td>...</td>\n",
       "      <td>...</td>\n",
       "      <td>...</td>\n",
       "    </tr>\n",
       "    <tr>\n",
       "      <th>3214</th>\n",
       "      <td>tt0043251</td>\n",
       "      <td>./Poster/1951/tt0043251/tt0043251.jpg</td>\n",
       "      <td>La penna rossa</td>\n",
       "      <td>Film-Noir</td>\n",
       "      <td>Respectable citizens receive anonymous letters...</td>\n",
       "    </tr>\n",
       "    <tr>\n",
       "      <th>3215</th>\n",
       "      <td>tt0045205</td>\n",
       "      <td>./Poster/1952/tt0045205/tt0045205.jpg</td>\n",
       "      <td>So che mi ucciderai</td>\n",
       "      <td>Film-Noir</td>\n",
       "      <td>After an ambitious actor insinuates himself in...</td>\n",
       "    </tr>\n",
       "    <tr>\n",
       "      <th>3216</th>\n",
       "      <td>tt0046126</td>\n",
       "      <td>./Poster/1953/tt0046126/tt0046126.jpg</td>\n",
       "      <td>Niagara</td>\n",
       "      <td>Film-Noir</td>\n",
       "      <td>As two couples are visiting Niagara Falls, ten...</td>\n",
       "    </tr>\n",
       "    <tr>\n",
       "      <th>3217</th>\n",
       "      <td>tt0047976</td>\n",
       "      <td>./Poster/1955/tt0047976/tt0047976.jpg</td>\n",
       "      <td>Dementia</td>\n",
       "      <td>Film-Noir</td>\n",
       "      <td>This film, with no dialogue at all, follows a ...</td>\n",
       "    </tr>\n",
       "    <tr>\n",
       "      <th>3218</th>\n",
       "      <td>tt0048396</td>\n",
       "      <td>./Poster/1955/tt0048396/tt0048396.jpg</td>\n",
       "      <td>Murder Is My Beat</td>\n",
       "      <td>Film-Noir</td>\n",
       "      <td>A police detective helps a singer heading to p...</td>\n",
       "    </tr>\n",
       "  </tbody>\n",
       "</table>\n",
       "<p>3219 rows × 5 columns</p>\n",
       "</div>"
      ],
      "text/plain": [
       "     imdb_title_id                               img_path  \\\n",
       "0        tt0119863  ./Poster/1997/tt0119863/tt0119863.jpg   \n",
       "1        tt0959306  ./Poster/2014/tt0959306/tt0959306.jpg   \n",
       "2        tt0094921  ./Poster/1988/tt0094921/tt0094921.jpg   \n",
       "3        tt0061495  ./Poster/1967/tt0061495/tt0061495.jpg   \n",
       "4        tt0083833  ./Poster/1982/tt0083833/tt0083833.jpg   \n",
       "...            ...                                    ...   \n",
       "3214     tt0043251  ./Poster/1951/tt0043251/tt0043251.jpg   \n",
       "3215     tt0045205  ./Poster/1952/tt0045205/tt0045205.jpg   \n",
       "3216     tt0046126  ./Poster/1953/tt0046126/tt0046126.jpg   \n",
       "3217     tt0047976  ./Poster/1955/tt0047976/tt0047976.jpg   \n",
       "3218     tt0048396  ./Poster/1955/tt0048396/tt0048396.jpg   \n",
       "\n",
       "                                     title first_genre  \\\n",
       "0                                  Le pari      Comedy   \n",
       "1     Reach Me - La strada per il successo      Comedy   \n",
       "2             Dall'altro lato della strada      Comedy   \n",
       "3                         La collezionista      Comedy   \n",
       "4                     A cena con gli amici      Comedy   \n",
       "...                                    ...         ...   \n",
       "3214                        La penna rossa   Film-Noir   \n",
       "3215                   So che mi ucciderai   Film-Noir   \n",
       "3216                               Niagara   Film-Noir   \n",
       "3217                              Dementia   Film-Noir   \n",
       "3218                     Murder Is My Beat   Film-Noir   \n",
       "\n",
       "                                            description  \n",
       "0     Deux beaux-frères, Didier et Bernard se lancen...  \n",
       "1     A self-help book changes the lives of differen...  \n",
       "2     A Manhattan single meets a man through her Jew...  \n",
       "3     A womanizing art dealer and a painter find the...  \n",
       "4     A group of college-age buddies struggle with t...  \n",
       "...                                                 ...  \n",
       "3214  Respectable citizens receive anonymous letters...  \n",
       "3215  After an ambitious actor insinuates himself in...  \n",
       "3216  As two couples are visiting Niagara Falls, ten...  \n",
       "3217  This film, with no dialogue at all, follows a ...  \n",
       "3218  A police detective helps a singer heading to p...  \n",
       "\n",
       "[3219 rows x 5 columns]"
      ]
     },
     "execution_count": 6,
     "metadata": {},
     "output_type": "execute_result"
    }
   ],
   "source": [
    "each_genre200"
   ]
  },
  {
   "cell_type": "markdown",
   "metadata": {
    "id": "1itnlTB6mHE8"
   },
   "source": [
    "## Fine tuning"
   ]
  },
  {
   "cell_type": "code",
   "execution_count": 15,
   "metadata": {
    "id": "kh1HzYhElr3p"
   },
   "outputs": [],
   "source": [
    "from tensorflow.keras.preprocessing.image import load_img, array_to_img\n",
    "from tensorflow import keras\n",
    "import tensorflow as tf\n",
    "from keras.utils import to_categorical\n",
    "from tensorflow.keras.layers import Input, Conv2D, Concatenate, MaxPooling2D, Flatten, Dense, Activation, Dropout, GlobalAveragePooling2D\n",
    "\n",
    "from keras import Model, optimizers\n",
    "from keras.applications import xception\n",
    "import pandas as pd\n",
    "import numpy as np\n",
    "from sklearn import preprocessing\n",
    "from sklearn.model_selection import train_test_split\n",
    "import pickle\n",
    "\n",
    "\n",
    "class PosterSequence(keras.utils.Sequence):\n",
    "    \n",
    "    def __init__(self, batch_size, img_size, images_paths, labels):\n",
    "        self.batch_size = batch_size\n",
    "        self.img_size = img_size\n",
    "        self.images_paths = images_paths\n",
    "        self.labels = labels\n",
    "        self.num_classes = len(set(self.labels))\n",
    "    \n",
    "    def __len__(self):\n",
    "        length = len(self.images_paths) // self.batch_size\n",
    "        return length\n",
    "    \n",
    "    def __getitem__(self, idx):\n",
    "        x = np.zeros((self.batch_size, ) + self.img_size + (3, ), dtype=\"float32\")\n",
    "        y = np.zeros((self.batch_size, ) + (self.num_classes, ), dtype=\"uint8\")\n",
    "        \"\"\"\n",
    "        This method returns the batches themselves including images (x) and masks (y) as np.array\n",
    "            img / 255.0 for images, so that each value is adjacent to the interval [0, 1]\n",
    "        \"\"\"\n",
    "        \n",
    "        batch_x = self.images_paths[idx * self.batch_size:(idx + 1) * self.batch_size]\n",
    "        batch_y = self.labels[idx * self.batch_size:(idx + 1) * self.batch_size]\n",
    "        \n",
    "        x = np.array([keras.preprocessing.image.img_to_array(load_img(file_name, color_mode='rgb', target_size=self.img_size, interpolation='nearest', keep_aspect_ratio=False), dtype=\"float32\") / 255.0 for file_name in batch_x])\n",
    "        y = np.array([to_categorical(label, num_classes=self.num_classes) for label in batch_y])\n",
    "        return x, y "
   ]
  },
  {
   "cell_type": "code",
   "execution_count": 8,
   "metadata": {
    "id": "oYK21XPlnV8k"
   },
   "outputs": [],
   "source": [
    "le = preprocessing.LabelEncoder()\n",
    "le.fit(each_genre200['first_genre'])\n",
    "each_genre200['genre_encoded'] = le.transform(each_genre200['first_genre'])"
   ]
  },
  {
   "cell_type": "code",
   "execution_count": 41,
   "metadata": {
    "id": "KgX22ia2ncuP"
   },
   "outputs": [],
   "source": [
    "# X_train, X_test, y_train, y_test = train_test_split(each_genre200.img_path.values, each_genre200.genre_encoded.values, test_size=0.10, random_state=42)\n",
    "# X_train, X_val, y_train, y_val = train_test_split(X_train, y_train, test_size=0.20, random_state=42)\n",
    "X_train = each_genre200.img_path.values\n",
    "y_train = each_genre200.genre_encoded.values\n",
    "image_size = (200, 150)\n",
    "b_size = len(X_train)# 128\n",
    "train_gen = PosterSequence(b_size, image_size, X_train, y_train)\n",
    "# val_gen = PosterSequence(b_size, image_size, X_val, y_val)"
   ]
  },
  {
   "cell_type": "code",
   "execution_count": 42,
   "metadata": {
    "colab": {
     "base_uri": "https://localhost:8080/"
    },
    "id": "Tzs8pJsqnTNa",
    "outputId": "9adc3eb0-836c-4e0e-e0b0-aa3188191758"
   },
   "outputs": [
    {
     "name": "stdout",
     "output_type": "stream",
     "text": [
      "WARNING:tensorflow:`input_shape` is undefined or non-square, or `rows` is not in [96, 128, 160, 192, 224]. Weights for input shape (224, 224) will be loaded as the default.\n"
     ]
    }
   ],
   "source": [
    "path_to_gdrive = \"./\"\n",
    "keras.backend.clear_session()\n",
    "\n",
    "\n",
    "base_model = tf.keras.applications.MobileNetV2(input_shape=image_size+(3, ),\n",
    "                                                  include_top=False,\n",
    "                                                  weights='imagenet')\n"
   ]
  },
  {
   "cell_type": "code",
   "execution_count": 32,
   "metadata": {},
   "outputs": [
    {
     "data": {
      "text/plain": [
       "(200, 150, 3)"
      ]
     },
     "execution_count": 32,
     "metadata": {},
     "output_type": "execute_result"
    }
   ],
   "source": [
    "train_gen.__getitem__(0)[0][0].shape"
   ]
  },
  {
   "cell_type": "code",
   "execution_count": 43,
   "metadata": {
    "tags": []
   },
   "outputs": [
    {
     "name": "stdout",
     "output_type": "stream",
     "text": [
      "1/1 [==============================] - 19s 19s/step\n"
     ]
    }
   ],
   "source": [
    "prediction = base_model.predict(train_gen)"
   ]
  },
  {
   "cell_type": "code",
   "execution_count": 45,
   "metadata": {},
   "outputs": [],
   "source": [
    "np.save('extracted_feature.npy', prediction)"
   ]
  },
  {
   "cell_type": "code",
   "execution_count": 44,
   "metadata": {},
   "outputs": [
    {
     "data": {
      "text/plain": [
       "(3219, 7, 5, 1280)"
      ]
     },
     "execution_count": 44,
     "metadata": {},
     "output_type": "execute_result"
    }
   ],
   "source": [
    "prediction.shape# .flatten().shape"
   ]
  },
  {
   "cell_type": "code",
   "execution_count": 46,
   "metadata": {},
   "outputs": [],
   "source": [
    "prediction_reshaped  = prediction.reshape(len(X_train), -1)"
   ]
  },
  {
   "cell_type": "code",
   "execution_count": 47,
   "metadata": {},
   "outputs": [
    {
     "data": {
      "text/plain": [
       "(3219, 44800)"
      ]
     },
     "execution_count": 47,
     "metadata": {},
     "output_type": "execute_result"
    }
   ],
   "source": [
    "prediction_reshaped.shape"
   ]
  },
  {
   "cell_type": "code",
   "execution_count": 48,
   "metadata": {},
   "outputs": [],
   "source": [
    "np.save('extracted_feature.npy', prediction_reshaped)"
   ]
  },
  {
   "cell_type": "code",
   "execution_count": 49,
   "metadata": {},
   "outputs": [],
   "source": [
    "from sklearn.decomposition import PCA\n",
    "pca = PCA(n_components=150, svd_solver='full')\n",
    "comps = pca.fit(prediction_reshaped)"
   ]
  },
  {
   "cell_type": "code",
   "execution_count": 51,
   "metadata": {},
   "outputs": [],
   "source": [
    "comps = comps.transform(prediction_reshaped)"
   ]
  },
  {
   "cell_type": "code",
   "execution_count": 53,
   "metadata": {},
   "outputs": [
    {
     "data": {
      "text/plain": [
       "(3219, 150)"
      ]
     },
     "execution_count": 53,
     "metadata": {},
     "output_type": "execute_result"
    }
   ],
   "source": [
    "comps.shape"
   ]
  },
  {
   "cell_type": "code",
   "execution_count": 55,
   "metadata": {},
   "outputs": [],
   "source": [
    "pca_features = pd.concat([pd.DataFrame(comps), pd.DataFrame(y_train, columns=['label'])], axis=1)"
   ]
  },
  {
   "cell_type": "code",
   "execution_count": 60,
   "metadata": {},
   "outputs": [],
   "source": [
    "X_train, X_test, y_train, y_test = train_test_split(pca_features.drop('label', axis=1), pca_features.label.values, test_size=0.10, random_state=42, shuffle=True)"
   ]
  },
  {
   "cell_type": "code",
   "execution_count": 61,
   "metadata": {},
   "outputs": [
    {
     "name": "stderr",
     "output_type": "stream",
     "text": [
      "/data/home/spushkov/.conda/envs/ent_rel_env/lib/python3.8/site-packages/sklearn/linear_model/_logistic.py:444: ConvergenceWarning: lbfgs failed to converge (status=1):\n",
      "STOP: TOTAL NO. of ITERATIONS REACHED LIMIT.\n",
      "\n",
      "Increase the number of iterations (max_iter) or scale the data as shown in:\n",
      "    https://scikit-learn.org/stable/modules/preprocessing.html\n",
      "Please also refer to the documentation for alternative solver options:\n",
      "    https://scikit-learn.org/stable/modules/linear_model.html#logistic-regression\n",
      "  n_iter_i = _check_optimize_result(\n"
     ]
    }
   ],
   "source": [
    "#Fit Logistic Regression model:\n",
    "from sklearn.linear_model import LogisticRegression\n",
    "lr = LogisticRegression(multi_class='multinomial').fit(X_train, y_train)\n"
   ]
  },
  {
   "cell_type": "code",
   "execution_count": 62,
   "metadata": {},
   "outputs": [],
   "source": [
    "\n",
    "labels = pca_features['label'].value_counts().index"
   ]
  },
  {
   "cell_type": "code",
   "execution_count": 63,
   "metadata": {},
   "outputs": [],
   "source": [
    "from sklearn.metrics import confusion_matrix\n",
    "\n",
    "y_pred = lr.predict(X_test)\n",
    "# Creating  a confusion matrix,which compares the y_test and y_pred\n",
    "cm = confusion_matrix(y_test, y_pred, labels=labels)\n"
   ]
  },
  {
   "cell_type": "code",
   "execution_count": 64,
   "metadata": {},
   "outputs": [],
   "source": [
    "cm_df = pd.DataFrame(cm, index = labels, columns = labels)\n"
   ]
  },
  {
   "cell_type": "code",
   "execution_count": 69,
   "metadata": {},
   "outputs": [
    {
     "data": {
      "image/png": "[encoded data removed]",
      "text/plain": [
       "<Figure size 1080x1008 with 2 Axes>"
      ]
     },
     "metadata": {
      "needs_background": "light"
     },
     "output_type": "display_data"
    }
   ],
   "source": [
    "#Plotting the confusion matrix\n",
    "plt.figure(figsize=(15,14))\n",
    "sns.heatmap(cm_df, annot=True, fmt=\".0f\")\n",
    "plt.title('Confusion Matrix')\n",
    "plt.ylabel('Actal Values')\n",
    "plt.xlabel('Predicted Values')\n",
    "plt.show()"
   ]
  },
  {
   "cell_type": "code",
   "execution_count": 70,
   "metadata": {},
   "outputs": [],
   "source": [
    "from sklearn.metrics import roc_auc_score\n",
    "\n",
    "# Generate membership scores with .predict_proba\n",
    "y_pred_probs = lr.predict_proba(X_test)\n",
    "\n",
    "# Calculate ROC_AUC\n",
    "roc_auc = roc_auc_score(\n",
    "    y_test, y_pred_probs, multi_class=\"ovr\", average=\"weighted\"\n",
    "  )"
   ]
  },
  {
   "cell_type": "code",
   "execution_count": 71,
   "metadata": {},
   "outputs": [
    {
     "data": {
      "text/plain": [
       "0.7078504064786316"
      ]
     },
     "execution_count": 71,
     "metadata": {},
     "output_type": "execute_result"
    }
   ],
   "source": [
    "roc_auc"
   ]
  },
  {
   "cell_type": "code",
   "execution_count": 54,
   "metadata": {},
   "outputs": [
    {
     "name": "stderr",
     "output_type": "stream",
     "text": [
      "2022-11-25 17:29:42.277345: I tensorflow/core/platform/cpu_feature_guard.cc:193] This TensorFlow binary is optimized with oneAPI Deep Neural Network Library (oneDNN) to use the following CPU instructions in performance-critical operations:  SSE4.1 SSE4.2 AVX AVX2 AVX512F AVX512_VNNI FMA\n",
      "To enable them in other operations, rebuild TensorFlow with the appropriate compiler flags.\n"
     ]
    }
   ],
   "source": [
    "from tensorflow.keras.preprocessing.image import load_img"
   ]
  },
  {
   "cell_type": "code",
   "execution_count": 56,
   "metadata": {},
   "outputs": [],
   "source": [
    "import os"
   ]
  },
  {
   "cell_type": "code",
   "execution_count": 312,
   "metadata": {
    "tags": []
   },
   "outputs": [
    {
     "name": "stdout",
     "output_type": "stream",
     "text": [
      "./db_posters/tt0149460.jpg\n",
      "./db_posters/tt11680642.jpg\n",
      "./db_posters/tt14298658.jpg\n",
      "./db_posters/tt0448694.jpg\n",
      "./db_posters/tt3032476.jpg\n",
      "./db_posters/tt11291274.jpg\n",
      "./db_posters/tt7286456.jpg\n"
     ]
    },
    {
     "name": "stderr",
     "output_type": "stream",
     "text": [
      "/data/home/spushkov/.conda/envs/ent_rel_env/lib/python3.8/site-packages/PIL/Image.py:3011: DecompressionBombWarning: Image size (97200000 pixels) exceeds limit of 89478485 pixels, could be decompression bomb DOS attack.\n",
      "  warnings.warn(\n"
     ]
    },
    {
     "name": "stdout",
     "output_type": "stream",
     "text": [
      "./db_posters/tt8367814.jpg\n",
      "./db_posters/tt15255876.jpg\n"
     ]
    }
   ],
   "source": [
    "from PIL import Image\n",
    "for filename in final_dataset.img_path.values:# os.listdir('./db_posters/'):\n",
    "    if filename.endswith('.jpg'):\n",
    "        try:\n",
    "            img = Image.open(filename)  # open the image file\n",
    "            img.verify()  # verify that it is, in fact an image\n",
    "            load_img(filename, color_mode='rgb', target_size=(200, 150), interpolation='nearest', keep_aspect_ratio=False)\n",
    "        except (IOError, OSError, SyntaxError) as e:\n",
    "            print(filename)\n",
    "            os.remove(filename)\n",
    "            pass\n",
    "            "
   ]
  },
  {
   "cell_type": "code",
   "execution_count": 280,
   "metadata": {},
   "outputs": [
    {
     "data": {
      "text/plain": [
       "0"
      ]
     },
     "execution_count": 280,
     "metadata": {},
     "output_type": "execute_result"
    }
   ],
   "source": [
    "each_genre200.img_path.isna().sum()"
   ]
  },
  {
   "cell_type": "code",
   "execution_count": null,
   "metadata": {},
   "outputs": [],
   "source": []
  }
 ],
 "metadata": {
  "accelerator": "GPU",
  "colab": {
   "provenance": []
  },
  "gpuClass": "standard",
  "kernelspec": {
   "display_name": "Python [conda env:.conda-ent_rel_env]",
   "language": "python",
   "name": "conda-env-.conda-ent_rel_env-py"
  },
  "language_info": {
   "codemirror_mode": {
    "name": "ipython",
    "version": 3
   },
   "file_extension": ".py",
   "mimetype": "text/x-python",
   "name": "python",
   "nbconvert_exporter": "python",
   "pygments_lexer": "ipython3",
   "version": "3.8.13"
  }
 },
 "nbformat": 4,
 "nbformat_minor": 4
}
