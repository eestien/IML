{
 "cells": [
  {
   "cell_type": "code",
   "execution_count": 74,
   "metadata": {
    "id": "xcQ8YEIM-QET"
   },
   "outputs": [],
   "source": [
    "import pandas as pd\n",
    "from os import path\n",
    "from tqdm import tqdm\n",
    "import numpy as np \n",
    "from matplotlib import pyplot as plt\n",
    "import seaborn as sns\n",
    "np.random.seed(5)"
   ]
  },
  {
   "cell_type": "code",
   "execution_count": 75,
   "metadata": {
    "colab": {
     "base_uri": "https://localhost:8080/"
    },
    "id": "1cf8LRk3_603",
    "outputId": "629a8be6-c5c3-49d9-9cab-290cf6b3ef8d"
   },
   "outputs": [
    {
     "name": "stderr",
     "output_type": "stream",
     "text": [
      "/data/home/spushkov/.conda/envs/ent_rel_env/lib/python3.8/site-packages/IPython/core/interactiveshell.py:3369: DtypeWarning: Columns (3) have mixed types.Specify dtype option on import or set low_memory=False.\n",
      "  exec(code_obj, self.user_global_ns, self.user_ns)\n"
     ]
    }
   ],
   "source": [
    "kaggle_movies_df = pd.read_csv('https://raw.githubusercontent.com/sahildit/IMDB-Movies-Extensive-Dataset-Analysis/master/data1/IMDb%20movies.csv', sep=',', encoding='utf-8')"
   ]
  },
  {
   "cell_type": "code",
   "execution_count": 76,
   "metadata": {
    "id": "y1WlAUJsXEY1"
   },
   "outputs": [],
   "source": [
    "kaggle_movies_df = kaggle_movies_df.dropna(subset=['description'])\n",
    "\n",
    "kaggle_movies_df = kaggle_movies_df[['imdb_title_id', 'title', 'original_title', 'description', 'genre', 'year']]\n",
    "kaggle_movies_df['genres_list'] = kaggle_movies_df['genre'].str.split(\", \")\n",
    "kaggle_movies_df['first_genre'] = kaggle_movies_df.genres_list.apply(lambda x: x[0])\n"
   ]
  },
  {
   "cell_type": "code",
   "execution_count": 77,
   "metadata": {
    "colab": {
     "base_uri": "https://localhost:8080/",
     "height": 814
    },
    "id": "MYkOmKnYXQn0",
    "outputId": "8f160e35-b70f-4552-d5a3-0afb78cfc222"
   },
   "outputs": [
    {
     "data": {
      "text/html": [
       "<div>\n",
       "<style scoped>\n",
       "    .dataframe tbody tr th:only-of-type {\n",
       "        vertical-align: middle;\n",
       "    }\n",
       "\n",
       "    .dataframe tbody tr th {\n",
       "        vertical-align: top;\n",
       "    }\n",
       "\n",
       "    .dataframe thead th {\n",
       "        text-align: right;\n",
       "    }\n",
       "</style>\n",
       "<table border=\"1\" class=\"dataframe\">\n",
       "  <thead>\n",
       "    <tr style=\"text-align: right;\">\n",
       "      <th></th>\n",
       "      <th>imdb_title_id</th>\n",
       "      <th>title</th>\n",
       "      <th>original_title</th>\n",
       "      <th>description</th>\n",
       "      <th>genre</th>\n",
       "      <th>year</th>\n",
       "      <th>genres_list</th>\n",
       "      <th>first_genre</th>\n",
       "    </tr>\n",
       "  </thead>\n",
       "  <tbody>\n",
       "    <tr>\n",
       "      <th>0</th>\n",
       "      <td>tt0000009</td>\n",
       "      <td>Miss Jerry</td>\n",
       "      <td>Miss Jerry</td>\n",
       "      <td>The adventures of a female reporter in the 1890s.</td>\n",
       "      <td>Romance</td>\n",
       "      <td>1894</td>\n",
       "      <td>[Romance]</td>\n",
       "      <td>Romance</td>\n",
       "    </tr>\n",
       "    <tr>\n",
       "      <th>1</th>\n",
       "      <td>tt0000574</td>\n",
       "      <td>The Story of the Kelly Gang</td>\n",
       "      <td>The Story of the Kelly Gang</td>\n",
       "      <td>True story of notorious Australian outlaw Ned ...</td>\n",
       "      <td>Biography, Crime, Drama</td>\n",
       "      <td>1906</td>\n",
       "      <td>[Biography, Crime, Drama]</td>\n",
       "      <td>Biography</td>\n",
       "    </tr>\n",
       "    <tr>\n",
       "      <th>2</th>\n",
       "      <td>tt0001892</td>\n",
       "      <td>Den sorte drøm</td>\n",
       "      <td>Den sorte drøm</td>\n",
       "      <td>Two men of high rank are both wooing the beaut...</td>\n",
       "      <td>Drama</td>\n",
       "      <td>1911</td>\n",
       "      <td>[Drama]</td>\n",
       "      <td>Drama</td>\n",
       "    </tr>\n",
       "    <tr>\n",
       "      <th>3</th>\n",
       "      <td>tt0002101</td>\n",
       "      <td>Cleopatra</td>\n",
       "      <td>Cleopatra</td>\n",
       "      <td>The fabled queen of Egypt's affair with Roman ...</td>\n",
       "      <td>Drama, History</td>\n",
       "      <td>1912</td>\n",
       "      <td>[Drama, History]</td>\n",
       "      <td>Drama</td>\n",
       "    </tr>\n",
       "    <tr>\n",
       "      <th>4</th>\n",
       "      <td>tt0002130</td>\n",
       "      <td>L'Inferno</td>\n",
       "      <td>L'Inferno</td>\n",
       "      <td>Loosely adapted from Dante's Divine Comedy and...</td>\n",
       "      <td>Adventure, Drama, Fantasy</td>\n",
       "      <td>1911</td>\n",
       "      <td>[Adventure, Drama, Fantasy]</td>\n",
       "      <td>Adventure</td>\n",
       "    </tr>\n",
       "    <tr>\n",
       "      <th>...</th>\n",
       "      <td>...</td>\n",
       "      <td>...</td>\n",
       "      <td>...</td>\n",
       "      <td>...</td>\n",
       "      <td>...</td>\n",
       "      <td>...</td>\n",
       "      <td>...</td>\n",
       "      <td>...</td>\n",
       "    </tr>\n",
       "    <tr>\n",
       "      <th>85848</th>\n",
       "      <td>tt9905462</td>\n",
       "      <td>Pengalila</td>\n",
       "      <td>Pengalila</td>\n",
       "      <td>An unusual bond between a sixty year old Dalit...</td>\n",
       "      <td>Drama</td>\n",
       "      <td>2019</td>\n",
       "      <td>[Drama]</td>\n",
       "      <td>Drama</td>\n",
       "    </tr>\n",
       "    <tr>\n",
       "      <th>85849</th>\n",
       "      <td>tt9906644</td>\n",
       "      <td>Manoharam</td>\n",
       "      <td>Manoharam</td>\n",
       "      <td>Manoharan is a poster artist struggling to fin...</td>\n",
       "      <td>Comedy, Drama</td>\n",
       "      <td>2019</td>\n",
       "      <td>[Comedy, Drama]</td>\n",
       "      <td>Comedy</td>\n",
       "    </tr>\n",
       "    <tr>\n",
       "      <th>85850</th>\n",
       "      <td>tt9908390</td>\n",
       "      <td>Le lion</td>\n",
       "      <td>Le lion</td>\n",
       "      <td>A psychiatric hospital patient pretends to be ...</td>\n",
       "      <td>Comedy</td>\n",
       "      <td>2020</td>\n",
       "      <td>[Comedy]</td>\n",
       "      <td>Comedy</td>\n",
       "    </tr>\n",
       "    <tr>\n",
       "      <th>85851</th>\n",
       "      <td>tt9911196</td>\n",
       "      <td>De Beentjes van Sint-Hildegard</td>\n",
       "      <td>De Beentjes van Sint-Hildegard</td>\n",
       "      <td>A middle-aged veterinary surgeon believes his ...</td>\n",
       "      <td>Comedy, Drama</td>\n",
       "      <td>2020</td>\n",
       "      <td>[Comedy, Drama]</td>\n",
       "      <td>Comedy</td>\n",
       "    </tr>\n",
       "    <tr>\n",
       "      <th>85854</th>\n",
       "      <td>tt9914942</td>\n",
       "      <td>La vida sense la Sara Amat</td>\n",
       "      <td>La vida sense la Sara Amat</td>\n",
       "      <td>Pep, a 13-year-old boy, is in love with a girl...</td>\n",
       "      <td>Drama</td>\n",
       "      <td>2019</td>\n",
       "      <td>[Drama]</td>\n",
       "      <td>Drama</td>\n",
       "    </tr>\n",
       "  </tbody>\n",
       "</table>\n",
       "<p>83740 rows × 8 columns</p>\n",
       "</div>"
      ],
      "text/plain": [
       "      imdb_title_id                           title  \\\n",
       "0         tt0000009                      Miss Jerry   \n",
       "1         tt0000574     The Story of the Kelly Gang   \n",
       "2         tt0001892                  Den sorte drøm   \n",
       "3         tt0002101                       Cleopatra   \n",
       "4         tt0002130                       L'Inferno   \n",
       "...             ...                             ...   \n",
       "85848     tt9905462                       Pengalila   \n",
       "85849     tt9906644                       Manoharam   \n",
       "85850     tt9908390                         Le lion   \n",
       "85851     tt9911196  De Beentjes van Sint-Hildegard   \n",
       "85854     tt9914942      La vida sense la Sara Amat   \n",
       "\n",
       "                       original_title  \\\n",
       "0                          Miss Jerry   \n",
       "1         The Story of the Kelly Gang   \n",
       "2                      Den sorte drøm   \n",
       "3                           Cleopatra   \n",
       "4                           L'Inferno   \n",
       "...                               ...   \n",
       "85848                       Pengalila   \n",
       "85849                       Manoharam   \n",
       "85850                         Le lion   \n",
       "85851  De Beentjes van Sint-Hildegard   \n",
       "85854      La vida sense la Sara Amat   \n",
       "\n",
       "                                             description  \\\n",
       "0      The adventures of a female reporter in the 1890s.   \n",
       "1      True story of notorious Australian outlaw Ned ...   \n",
       "2      Two men of high rank are both wooing the beaut...   \n",
       "3      The fabled queen of Egypt's affair with Roman ...   \n",
       "4      Loosely adapted from Dante's Divine Comedy and...   \n",
       "...                                                  ...   \n",
       "85848  An unusual bond between a sixty year old Dalit...   \n",
       "85849  Manoharan is a poster artist struggling to fin...   \n",
       "85850  A psychiatric hospital patient pretends to be ...   \n",
       "85851  A middle-aged veterinary surgeon believes his ...   \n",
       "85854  Pep, a 13-year-old boy, is in love with a girl...   \n",
       "\n",
       "                           genre  year                  genres_list  \\\n",
       "0                        Romance  1894                    [Romance]   \n",
       "1        Biography, Crime, Drama  1906    [Biography, Crime, Drama]   \n",
       "2                          Drama  1911                      [Drama]   \n",
       "3                 Drama, History  1912             [Drama, History]   \n",
       "4      Adventure, Drama, Fantasy  1911  [Adventure, Drama, Fantasy]   \n",
       "...                          ...   ...                          ...   \n",
       "85848                      Drama  2019                      [Drama]   \n",
       "85849              Comedy, Drama  2019              [Comedy, Drama]   \n",
       "85850                     Comedy  2020                     [Comedy]   \n",
       "85851              Comedy, Drama  2020              [Comedy, Drama]   \n",
       "85854                      Drama  2019                      [Drama]   \n",
       "\n",
       "      first_genre  \n",
       "0         Romance  \n",
       "1       Biography  \n",
       "2           Drama  \n",
       "3           Drama  \n",
       "4       Adventure  \n",
       "...           ...  \n",
       "85848       Drama  \n",
       "85849      Comedy  \n",
       "85850      Comedy  \n",
       "85851      Comedy  \n",
       "85854       Drama  \n",
       "\n",
       "[83740 rows x 8 columns]"
      ]
     },
     "execution_count": 77,
     "metadata": {},
     "output_type": "execute_result"
    }
   ],
   "source": [
    "kaggle_movies_df"
   ]
  },
  {
   "cell_type": "code",
   "execution_count": 78,
   "metadata": {
    "id": "r3XdwBTpXRsO"
   },
   "outputs": [],
   "source": [
    "title_ids_grouped_by_year = kaggle_movies_df.groupby('year').imdb_title_id.apply(list)"
   ]
  },
  {
   "cell_type": "code",
   "execution_count": 79,
   "metadata": {
    "colab": {
     "base_uri": "https://localhost:8080/"
    },
    "id": "KUFaPs5nXvGt",
    "outputId": "cd1a0629-6855-4c4d-f6f1-44b27b3279c3"
   },
   "outputs": [
    {
     "data": {
      "text/plain": [
       "year\n",
       "1894                                                   [tt0000009]\n",
       "1906                                                   [tt0000574]\n",
       "1911             [tt0001892, tt0002130, tt0191323, tt0194248, t...\n",
       "1912             [tt0002101, tt0002199, tt0002452, tt0002461, t...\n",
       "1913             [tt0002445, tt0002646, tt0002844, tt0003014, t...\n",
       "                                       ...                        \n",
       "2017             [tt2226597, tt2238758, tt2239822, tt2241475, t...\n",
       "2018             [tt2226440, tt2231461, tt2233979, tt2237324, t...\n",
       "2019             [tt2257284, tt2274648, tt2275629, tt2275743, t...\n",
       "2020             [tt2420124, tt2573372, tt2702920, tt2819446, t...\n",
       "TV Movie 2019                                          [tt8206668]\n",
       "Name: imdb_title_id, Length: 168, dtype: object"
      ]
     },
     "execution_count": 79,
     "metadata": {},
     "output_type": "execute_result"
    }
   ],
   "source": [
    "title_ids_grouped_by_year"
   ]
  },
  {
   "cell_type": "code",
   "execution_count": 80,
   "metadata": {
    "id": "60_yaMS0XczH"
   },
   "outputs": [],
   "source": [
    "def define_paths_to_imgs_kaggle(data, path_to_folder=\"./Poster/\"):\n",
    "\n",
    "    list_of_available_posters = []\n",
    "    for y, t in tqdm(data.iteritems(), total=len(data)):\n",
    "\n",
    "        for id_ in t:\n",
    "            if path.exists(path.join(path_to_folder, f\"{y}/{id_}/{id_}.jpg\")):\n",
    "                list_of_available_posters.append({'imdb_title_id': id_, 'img_path': path.join(path_to_folder, f\"{y}/{id_}/{id_}.jpg\")})\n",
    "            elif path.exists(path.join(path_to_folder, f\"0/{id_}/{id_}.jpg\")):\n",
    "                list_of_available_posters.append({'imdb_title_id': id_, 'img_path': path.join(path_to_folder, f\"0/{id_}/{id_}.jpg\")})\n",
    "    img_paths_df = pd.DataFrame(list_of_available_posters)\n",
    "    return img_paths_df\n"
   ]
  },
  {
   "cell_type": "code",
   "execution_count": 81,
   "metadata": {},
   "outputs": [
    {
     "name": "stderr",
     "output_type": "stream",
     "text": [
      "100%|██████████| 168/168 [00:38<00:00,  4.40it/s]\n"
     ]
    }
   ],
   "source": [
    "img_paths_df = define_paths_to_imgs_kaggle(title_ids_grouped_by_year)"
   ]
  },
  {
   "cell_type": "code",
   "execution_count": 82,
   "metadata": {},
   "outputs": [
    {
     "data": {
      "text/html": [
       "<div>\n",
       "<style scoped>\n",
       "    .dataframe tbody tr th:only-of-type {\n",
       "        vertical-align: middle;\n",
       "    }\n",
       "\n",
       "    .dataframe tbody tr th {\n",
       "        vertical-align: top;\n",
       "    }\n",
       "\n",
       "    .dataframe thead th {\n",
       "        text-align: right;\n",
       "    }\n",
       "</style>\n",
       "<table border=\"1\" class=\"dataframe\">\n",
       "  <thead>\n",
       "    <tr style=\"text-align: right;\">\n",
       "      <th></th>\n",
       "      <th>imdb_title_id</th>\n",
       "      <th>img_path</th>\n",
       "    </tr>\n",
       "  </thead>\n",
       "  <tbody>\n",
       "    <tr>\n",
       "      <th>0</th>\n",
       "      <td>tt0000574</td>\n",
       "      <td>./Poster/1906/tt0000574/tt0000574.jpg</td>\n",
       "    </tr>\n",
       "    <tr>\n",
       "      <th>1</th>\n",
       "      <td>tt0002130</td>\n",
       "      <td>./Poster/1911/tt0002130/tt0002130.jpg</td>\n",
       "    </tr>\n",
       "    <tr>\n",
       "      <th>2</th>\n",
       "      <td>tt0002101</td>\n",
       "      <td>./Poster/1912/tt0002101/tt0002101.jpg</td>\n",
       "    </tr>\n",
       "    <tr>\n",
       "      <th>3</th>\n",
       "      <td>tt0002461</td>\n",
       "      <td>./Poster/1912/tt0002461/tt0002461.jpg</td>\n",
       "    </tr>\n",
       "    <tr>\n",
       "      <th>4</th>\n",
       "      <td>tt0002844</td>\n",
       "      <td>./Poster/1913/tt0002844/tt0002844.jpg</td>\n",
       "    </tr>\n",
       "    <tr>\n",
       "      <th>...</th>\n",
       "      <td>...</td>\n",
       "      <td>...</td>\n",
       "    </tr>\n",
       "    <tr>\n",
       "      <th>29838</th>\n",
       "      <td>tt8580274</td>\n",
       "      <td>./Poster/2020/tt8580274/tt8580274.jpg</td>\n",
       "    </tr>\n",
       "    <tr>\n",
       "      <th>29839</th>\n",
       "      <td>tt8850222</td>\n",
       "      <td>./Poster/2020/tt8850222/tt8850222.jpg</td>\n",
       "    </tr>\n",
       "    <tr>\n",
       "      <th>29840</th>\n",
       "      <td>tt9484998</td>\n",
       "      <td>./Poster/2020/tt9484998/tt9484998.jpg</td>\n",
       "    </tr>\n",
       "    <tr>\n",
       "      <th>29841</th>\n",
       "      <td>tt9777644</td>\n",
       "      <td>./Poster/2020/tt9777644/tt9777644.jpg</td>\n",
       "    </tr>\n",
       "    <tr>\n",
       "      <th>29842</th>\n",
       "      <td>tt9794630</td>\n",
       "      <td>./Poster/2020/tt9794630/tt9794630.jpg</td>\n",
       "    </tr>\n",
       "  </tbody>\n",
       "</table>\n",
       "<p>29843 rows × 2 columns</p>\n",
       "</div>"
      ],
      "text/plain": [
       "      imdb_title_id                               img_path\n",
       "0         tt0000574  ./Poster/1906/tt0000574/tt0000574.jpg\n",
       "1         tt0002130  ./Poster/1911/tt0002130/tt0002130.jpg\n",
       "2         tt0002101  ./Poster/1912/tt0002101/tt0002101.jpg\n",
       "3         tt0002461  ./Poster/1912/tt0002461/tt0002461.jpg\n",
       "4         tt0002844  ./Poster/1913/tt0002844/tt0002844.jpg\n",
       "...             ...                                    ...\n",
       "29838     tt8580274  ./Poster/2020/tt8580274/tt8580274.jpg\n",
       "29839     tt8850222  ./Poster/2020/tt8850222/tt8850222.jpg\n",
       "29840     tt9484998  ./Poster/2020/tt9484998/tt9484998.jpg\n",
       "29841     tt9777644  ./Poster/2020/tt9777644/tt9777644.jpg\n",
       "29842     tt9794630  ./Poster/2020/tt9794630/tt9794630.jpg\n",
       "\n",
       "[29843 rows x 2 columns]"
      ]
     },
     "execution_count": 82,
     "metadata": {},
     "output_type": "execute_result"
    }
   ],
   "source": [
    "img_paths_df"
   ]
  },
  {
   "cell_type": "code",
   "execution_count": 83,
   "metadata": {
    "id": "K9UpUoYcXrrD"
   },
   "outputs": [],
   "source": [
    "kaggle_preprocessed = pd.merge(left=kaggle_movies_df, right=img_paths_df, on='imdb_title_id', how='inner')"
   ]
  },
  {
   "cell_type": "code",
   "execution_count": 84,
   "metadata": {
    "id": "PHLvHKWwZLYN"
   },
   "outputs": [
    {
     "data": {
      "text/html": [
       "<div>\n",
       "<style scoped>\n",
       "    .dataframe tbody tr th:only-of-type {\n",
       "        vertical-align: middle;\n",
       "    }\n",
       "\n",
       "    .dataframe tbody tr th {\n",
       "        vertical-align: top;\n",
       "    }\n",
       "\n",
       "    .dataframe thead th {\n",
       "        text-align: right;\n",
       "    }\n",
       "</style>\n",
       "<table border=\"1\" class=\"dataframe\">\n",
       "  <thead>\n",
       "    <tr style=\"text-align: right;\">\n",
       "      <th></th>\n",
       "      <th>imdb_title_id</th>\n",
       "      <th>title</th>\n",
       "      <th>original_title</th>\n",
       "      <th>description</th>\n",
       "      <th>genre</th>\n",
       "      <th>year</th>\n",
       "      <th>genres_list</th>\n",
       "      <th>first_genre</th>\n",
       "      <th>img_path</th>\n",
       "    </tr>\n",
       "  </thead>\n",
       "  <tbody>\n",
       "    <tr>\n",
       "      <th>0</th>\n",
       "      <td>tt0000574</td>\n",
       "      <td>The Story of the Kelly Gang</td>\n",
       "      <td>The Story of the Kelly Gang</td>\n",
       "      <td>True story of notorious Australian outlaw Ned ...</td>\n",
       "      <td>Biography, Crime, Drama</td>\n",
       "      <td>1906</td>\n",
       "      <td>[Biography, Crime, Drama]</td>\n",
       "      <td>Biography</td>\n",
       "      <td>./Poster/1906/tt0000574/tt0000574.jpg</td>\n",
       "    </tr>\n",
       "    <tr>\n",
       "      <th>1</th>\n",
       "      <td>tt0002101</td>\n",
       "      <td>Cleopatra</td>\n",
       "      <td>Cleopatra</td>\n",
       "      <td>The fabled queen of Egypt's affair with Roman ...</td>\n",
       "      <td>Drama, History</td>\n",
       "      <td>1912</td>\n",
       "      <td>[Drama, History]</td>\n",
       "      <td>Drama</td>\n",
       "      <td>./Poster/1912/tt0002101/tt0002101.jpg</td>\n",
       "    </tr>\n",
       "    <tr>\n",
       "      <th>2</th>\n",
       "      <td>tt0002130</td>\n",
       "      <td>L'Inferno</td>\n",
       "      <td>L'Inferno</td>\n",
       "      <td>Loosely adapted from Dante's Divine Comedy and...</td>\n",
       "      <td>Adventure, Drama, Fantasy</td>\n",
       "      <td>1911</td>\n",
       "      <td>[Adventure, Drama, Fantasy]</td>\n",
       "      <td>Adventure</td>\n",
       "      <td>./Poster/1911/tt0002130/tt0002130.jpg</td>\n",
       "    </tr>\n",
       "    <tr>\n",
       "      <th>3</th>\n",
       "      <td>tt0002461</td>\n",
       "      <td>Richard III</td>\n",
       "      <td>Richard III</td>\n",
       "      <td>Richard of Gloucester uses manipulation and mu...</td>\n",
       "      <td>Drama</td>\n",
       "      <td>1912</td>\n",
       "      <td>[Drama]</td>\n",
       "      <td>Drama</td>\n",
       "      <td>./Poster/1912/tt0002461/tt0002461.jpg</td>\n",
       "    </tr>\n",
       "    <tr>\n",
       "      <th>4</th>\n",
       "      <td>tt0002844</td>\n",
       "      <td>Fantômas - À l'ombre de la guillotine</td>\n",
       "      <td>Fantômas - À l'ombre de la guillotine</td>\n",
       "      <td>Inspector Juve is tasked to investigate and ca...</td>\n",
       "      <td>Crime, Drama</td>\n",
       "      <td>1913</td>\n",
       "      <td>[Crime, Drama]</td>\n",
       "      <td>Crime</td>\n",
       "      <td>./Poster/1913/tt0002844/tt0002844.jpg</td>\n",
       "    </tr>\n",
       "    <tr>\n",
       "      <th>...</th>\n",
       "      <td>...</td>\n",
       "      <td>...</td>\n",
       "      <td>...</td>\n",
       "      <td>...</td>\n",
       "      <td>...</td>\n",
       "      <td>...</td>\n",
       "      <td>...</td>\n",
       "      <td>...</td>\n",
       "      <td>...</td>\n",
       "    </tr>\n",
       "    <tr>\n",
       "      <th>29838</th>\n",
       "      <td>tt8850222</td>\n",
       "      <td>Peninsula</td>\n",
       "      <td>Train to Busan 2</td>\n",
       "      <td>Sequel to the 2016 South Korean zombie film</td>\n",
       "      <td>Action, Horror, Thriller</td>\n",
       "      <td>2020</td>\n",
       "      <td>[Action, Horror, Thriller]</td>\n",
       "      <td>Action</td>\n",
       "      <td>./Poster/2020/tt8850222/tt8850222.jpg</td>\n",
       "    </tr>\n",
       "    <tr>\n",
       "      <th>29839</th>\n",
       "      <td>tt8946378</td>\n",
       "      <td>Cena con delitto - Knives Out</td>\n",
       "      <td>Knives Out</td>\n",
       "      <td>A detective investigates the death of a patria...</td>\n",
       "      <td>Comedy, Crime, Drama</td>\n",
       "      <td>2019</td>\n",
       "      <td>[Comedy, Crime, Drama]</td>\n",
       "      <td>Comedy</td>\n",
       "      <td>./Poster/2019/tt8946378/tt8946378.jpg</td>\n",
       "    </tr>\n",
       "    <tr>\n",
       "      <th>29840</th>\n",
       "      <td>tt9484998</td>\n",
       "      <td>Palm Springs</td>\n",
       "      <td>Palm Springs</td>\n",
       "      <td>When carefree Nyles and reluctant maid of hono...</td>\n",
       "      <td>Comedy, Fantasy, Mystery</td>\n",
       "      <td>2020</td>\n",
       "      <td>[Comedy, Fantasy, Mystery]</td>\n",
       "      <td>Comedy</td>\n",
       "      <td>./Poster/2020/tt9484998/tt9484998.jpg</td>\n",
       "    </tr>\n",
       "    <tr>\n",
       "      <th>29841</th>\n",
       "      <td>tt9777644</td>\n",
       "      <td>Da 5 Bloods - Come fratelli</td>\n",
       "      <td>Da 5 Bloods</td>\n",
       "      <td>Four African American vets battle the forces o...</td>\n",
       "      <td>Adventure, Drama, War</td>\n",
       "      <td>2020</td>\n",
       "      <td>[Adventure, Drama, War]</td>\n",
       "      <td>Adventure</td>\n",
       "      <td>./Poster/2020/tt9777644/tt9777644.jpg</td>\n",
       "    </tr>\n",
       "    <tr>\n",
       "      <th>29842</th>\n",
       "      <td>tt9794630</td>\n",
       "      <td>The Vanished</td>\n",
       "      <td>Hour of Lead</td>\n",
       "      <td>Story of a husband and wife that will stop at ...</td>\n",
       "      <td>Action, Mystery, Thriller</td>\n",
       "      <td>2020</td>\n",
       "      <td>[Action, Mystery, Thriller]</td>\n",
       "      <td>Action</td>\n",
       "      <td>./Poster/2020/tt9794630/tt9794630.jpg</td>\n",
       "    </tr>\n",
       "  </tbody>\n",
       "</table>\n",
       "<p>29843 rows × 9 columns</p>\n",
       "</div>"
      ],
      "text/plain": [
       "      imdb_title_id                                  title  \\\n",
       "0         tt0000574            The Story of the Kelly Gang   \n",
       "1         tt0002101                              Cleopatra   \n",
       "2         tt0002130                              L'Inferno   \n",
       "3         tt0002461                            Richard III   \n",
       "4         tt0002844  Fantômas - À l'ombre de la guillotine   \n",
       "...             ...                                    ...   \n",
       "29838     tt8850222                              Peninsula   \n",
       "29839     tt8946378          Cena con delitto - Knives Out   \n",
       "29840     tt9484998                           Palm Springs   \n",
       "29841     tt9777644            Da 5 Bloods - Come fratelli   \n",
       "29842     tt9794630                           The Vanished   \n",
       "\n",
       "                              original_title  \\\n",
       "0                The Story of the Kelly Gang   \n",
       "1                                  Cleopatra   \n",
       "2                                  L'Inferno   \n",
       "3                                Richard III   \n",
       "4      Fantômas - À l'ombre de la guillotine   \n",
       "...                                      ...   \n",
       "29838                       Train to Busan 2   \n",
       "29839                             Knives Out   \n",
       "29840                           Palm Springs   \n",
       "29841                            Da 5 Bloods   \n",
       "29842                           Hour of Lead   \n",
       "\n",
       "                                             description  \\\n",
       "0      True story of notorious Australian outlaw Ned ...   \n",
       "1      The fabled queen of Egypt's affair with Roman ...   \n",
       "2      Loosely adapted from Dante's Divine Comedy and...   \n",
       "3      Richard of Gloucester uses manipulation and mu...   \n",
       "4      Inspector Juve is tasked to investigate and ca...   \n",
       "...                                                  ...   \n",
       "29838        Sequel to the 2016 South Korean zombie film   \n",
       "29839  A detective investigates the death of a patria...   \n",
       "29840  When carefree Nyles and reluctant maid of hono...   \n",
       "29841  Four African American vets battle the forces o...   \n",
       "29842  Story of a husband and wife that will stop at ...   \n",
       "\n",
       "                           genre  year                  genres_list  \\\n",
       "0        Biography, Crime, Drama  1906    [Biography, Crime, Drama]   \n",
       "1                 Drama, History  1912             [Drama, History]   \n",
       "2      Adventure, Drama, Fantasy  1911  [Adventure, Drama, Fantasy]   \n",
       "3                          Drama  1912                      [Drama]   \n",
       "4                   Crime, Drama  1913               [Crime, Drama]   \n",
       "...                          ...   ...                          ...   \n",
       "29838   Action, Horror, Thriller  2020   [Action, Horror, Thriller]   \n",
       "29839       Comedy, Crime, Drama  2019       [Comedy, Crime, Drama]   \n",
       "29840   Comedy, Fantasy, Mystery  2020   [Comedy, Fantasy, Mystery]   \n",
       "29841      Adventure, Drama, War  2020      [Adventure, Drama, War]   \n",
       "29842  Action, Mystery, Thriller  2020  [Action, Mystery, Thriller]   \n",
       "\n",
       "      first_genre                               img_path  \n",
       "0       Biography  ./Poster/1906/tt0000574/tt0000574.jpg  \n",
       "1           Drama  ./Poster/1912/tt0002101/tt0002101.jpg  \n",
       "2       Adventure  ./Poster/1911/tt0002130/tt0002130.jpg  \n",
       "3           Drama  ./Poster/1912/tt0002461/tt0002461.jpg  \n",
       "4           Crime  ./Poster/1913/tt0002844/tt0002844.jpg  \n",
       "...           ...                                    ...  \n",
       "29838      Action  ./Poster/2020/tt8850222/tt8850222.jpg  \n",
       "29839      Comedy  ./Poster/2019/tt8946378/tt8946378.jpg  \n",
       "29840      Comedy  ./Poster/2020/tt9484998/tt9484998.jpg  \n",
       "29841   Adventure  ./Poster/2020/tt9777644/tt9777644.jpg  \n",
       "29842      Action  ./Poster/2020/tt9794630/tt9794630.jpg  \n",
       "\n",
       "[29843 rows x 9 columns]"
      ]
     },
     "execution_count": 84,
     "metadata": {},
     "output_type": "execute_result"
    }
   ],
   "source": [
    "kaggle_preprocessed"
   ]
  },
  {
   "cell_type": "code",
   "execution_count": 85,
   "metadata": {
    "id": "s6bfamnoZO5F"
   },
   "outputs": [],
   "source": [
    "manually_parsed = pd.read_csv('./our_data/manually_parsed_movies.csv')"
   ]
  },
  {
   "cell_type": "code",
   "execution_count": 86,
   "metadata": {
    "id": "bhEAsOhuZMSp"
   },
   "outputs": [],
   "source": [
    "manually_parsed = manually_parsed.rename({'id': 'imdb_title_id', 'plot': 'description', 'genre': 'first_genre', 'image': 'img_path'}, axis=1)"
   ]
  },
  {
   "cell_type": "code",
   "execution_count": 87,
   "metadata": {
    "id": "7hLw37vJdhbi"
   },
   "outputs": [],
   "source": [
    "manually_parsed = manually_parsed.drop_duplicates()"
   ]
  },
  {
   "cell_type": "code",
   "execution_count": 88,
   "metadata": {
    "colab": {
     "base_uri": "https://localhost:8080/",
     "height": 641
    },
    "id": "NsuOPOyUfdq-",
    "outputId": "70bf3b34-c2b4-4128-ffdd-efffeafc8769"
   },
   "outputs": [
    {
     "data": {
      "text/html": [
       "<div>\n",
       "<style scoped>\n",
       "    .dataframe tbody tr th:only-of-type {\n",
       "        vertical-align: middle;\n",
       "    }\n",
       "\n",
       "    .dataframe tbody tr th {\n",
       "        vertical-align: top;\n",
       "    }\n",
       "\n",
       "    .dataframe thead th {\n",
       "        text-align: right;\n",
       "    }\n",
       "</style>\n",
       "<table border=\"1\" class=\"dataframe\">\n",
       "  <thead>\n",
       "    <tr style=\"text-align: right;\">\n",
       "      <th></th>\n",
       "      <th>imdb_title_id</th>\n",
       "      <th>img_path</th>\n",
       "      <th>title</th>\n",
       "      <th>first_genre</th>\n",
       "      <th>description</th>\n",
       "    </tr>\n",
       "  </thead>\n",
       "  <tbody>\n",
       "    <tr>\n",
       "      <th>0</th>\n",
       "      <td>tt9592704</td>\n",
       "      <td>https://m.media-amazon.com/images/M/MV5BNWMwNm...</td>\n",
       "      <td>Supernoobs</td>\n",
       "      <td>Fantasy</td>\n",
       "      <td>Zen and Mem are experiencing their second snow...</td>\n",
       "    </tr>\n",
       "    <tr>\n",
       "      <th>1</th>\n",
       "      <td>tt9570536</td>\n",
       "      <td>https://m.media-amazon.com/images/M/MV5BNmJmNj...</td>\n",
       "      <td>Supernoobs</td>\n",
       "      <td>Fantasy</td>\n",
       "      <td>The Noobs crash land the Galacticus on a stran...</td>\n",
       "    </tr>\n",
       "    <tr>\n",
       "      <th>2</th>\n",
       "      <td>tt9570404</td>\n",
       "      <td>https://m.media-amazon.com/images/M/MV5BNjU2OD...</td>\n",
       "      <td>Supernoobs</td>\n",
       "      <td>Fantasy</td>\n",
       "      <td>Power's out in Cornbury. The Noobs just want t...</td>\n",
       "    </tr>\n",
       "    <tr>\n",
       "      <th>3</th>\n",
       "      <td>tt9570394</td>\n",
       "      <td>https://m.media-amazon.com/images/M/MV5BMjA3YT...</td>\n",
       "      <td>Supernoobs</td>\n",
       "      <td>Fantasy</td>\n",
       "      <td>The Noobs are given super underwater suits. Th...</td>\n",
       "    </tr>\n",
       "    <tr>\n",
       "      <th>4</th>\n",
       "      <td>tt9570280</td>\n",
       "      <td>https://m.media-amazon.com/images/M/MV5BODU2ZG...</td>\n",
       "      <td>Supernoobs</td>\n",
       "      <td>Fantasy</td>\n",
       "      <td>Mem and Zen fall under scrutiny from the Benev...</td>\n",
       "    </tr>\n",
       "    <tr>\n",
       "      <th>...</th>\n",
       "      <td>...</td>\n",
       "      <td>...</td>\n",
       "      <td>...</td>\n",
       "      <td>...</td>\n",
       "      <td>...</td>\n",
       "    </tr>\n",
       "    <tr>\n",
       "      <th>5264</th>\n",
       "      <td>tt4625048</td>\n",
       "      <td>https://m.media-amazon.com/images/M/MV5BMTgzOT...</td>\n",
       "      <td>Daredevil</td>\n",
       "      <td>Superhero</td>\n",
       "      <td>In the void left by Fisk's removal, a new thre...</td>\n",
       "    </tr>\n",
       "    <tr>\n",
       "      <th>5265</th>\n",
       "      <td>tt4586672</td>\n",
       "      <td>https://m.media-amazon.com/images/M/MV5BMTk5Mj...</td>\n",
       "      <td>Superseven Unchained</td>\n",
       "      <td>Superhero</td>\n",
       "      <td>T.H.E.Y. has programmed Sandra West to become ...</td>\n",
       "    </tr>\n",
       "    <tr>\n",
       "      <th>5266</th>\n",
       "      <td>tt4012658</td>\n",
       "      <td>https://m.media-amazon.com/images/M/MV5BYTNlYz...</td>\n",
       "      <td>Comic Splash: The web-series</td>\n",
       "      <td>Superhero</td>\n",
       "      <td>Tyler Simpson hosts an online TV show satirica...</td>\n",
       "    </tr>\n",
       "    <tr>\n",
       "      <th>5267</th>\n",
       "      <td>tt3179670</td>\n",
       "      <td>https://m.media-amazon.com/images/M/MV5BMGY5ZD...</td>\n",
       "      <td>The Sentry</td>\n",
       "      <td>Superhero</td>\n",
       "      <td>Bob Reynolds, a recovered alcoholic teetering ...</td>\n",
       "    </tr>\n",
       "    <tr>\n",
       "      <th>5268</th>\n",
       "      <td>tt1986832</td>\n",
       "      <td>https://m.media-amazon.com/images/M/MV5BMTYzMz...</td>\n",
       "      <td>Ever Last</td>\n",
       "      <td>Superhero</td>\n",
       "      <td>Kimberly Alves, an assistant bank manager, mee...</td>\n",
       "    </tr>\n",
       "  </tbody>\n",
       "</table>\n",
       "<p>4913 rows × 5 columns</p>\n",
       "</div>"
      ],
      "text/plain": [
       "     imdb_title_id                                           img_path  \\\n",
       "0        tt9592704  https://m.media-amazon.com/images/M/MV5BNWMwNm...   \n",
       "1        tt9570536  https://m.media-amazon.com/images/M/MV5BNmJmNj...   \n",
       "2        tt9570404  https://m.media-amazon.com/images/M/MV5BNjU2OD...   \n",
       "3        tt9570394  https://m.media-amazon.com/images/M/MV5BMjA3YT...   \n",
       "4        tt9570280  https://m.media-amazon.com/images/M/MV5BODU2ZG...   \n",
       "...            ...                                                ...   \n",
       "5264     tt4625048  https://m.media-amazon.com/images/M/MV5BMTgzOT...   \n",
       "5265     tt4586672  https://m.media-amazon.com/images/M/MV5BMTk5Mj...   \n",
       "5266     tt4012658  https://m.media-amazon.com/images/M/MV5BYTNlYz...   \n",
       "5267     tt3179670  https://m.media-amazon.com/images/M/MV5BMGY5ZD...   \n",
       "5268     tt1986832  https://m.media-amazon.com/images/M/MV5BMTYzMz...   \n",
       "\n",
       "                             title first_genre  \\\n",
       "0                       Supernoobs     Fantasy   \n",
       "1                       Supernoobs     Fantasy   \n",
       "2                       Supernoobs     Fantasy   \n",
       "3                       Supernoobs     Fantasy   \n",
       "4                       Supernoobs     Fantasy   \n",
       "...                            ...         ...   \n",
       "5264                     Daredevil   Superhero   \n",
       "5265          Superseven Unchained   Superhero   \n",
       "5266  Comic Splash: The web-series   Superhero   \n",
       "5267                    The Sentry   Superhero   \n",
       "5268                     Ever Last   Superhero   \n",
       "\n",
       "                                            description  \n",
       "0     Zen and Mem are experiencing their second snow...  \n",
       "1     The Noobs crash land the Galacticus on a stran...  \n",
       "2     Power's out in Cornbury. The Noobs just want t...  \n",
       "3     The Noobs are given super underwater suits. Th...  \n",
       "4     Mem and Zen fall under scrutiny from the Benev...  \n",
       "...                                                 ...  \n",
       "5264  In the void left by Fisk's removal, a new thre...  \n",
       "5265  T.H.E.Y. has programmed Sandra West to become ...  \n",
       "5266  Tyler Simpson hosts an online TV show satirica...  \n",
       "5267  Bob Reynolds, a recovered alcoholic teetering ...  \n",
       "5268  Kimberly Alves, an assistant bank manager, mee...  \n",
       "\n",
       "[4913 rows x 5 columns]"
      ]
     },
     "execution_count": 88,
     "metadata": {},
     "output_type": "execute_result"
    }
   ],
   "source": [
    "manually_parsed"
   ]
  },
  {
   "cell_type": "code",
   "execution_count": 89,
   "metadata": {
    "id": "K7ysK1WEdDaH"
   },
   "outputs": [],
   "source": [
    "def define_paths_to_imgs_custom(data, path_to_folder=\"./db_posters/\"):\n",
    "\n",
    "    list_of_available_posters = []\n",
    "    for _, t in tqdm(data[['imdb_title_id']].iterrows(), total=len(data[['imdb_title_id']])):\n",
    "  \n",
    "      if path.exists(path.join(path_to_folder, f\"{t.imdb_title_id}.jpg\")):\n",
    "          list_of_available_posters.append({'imdb_title_id': t.imdb_title_id, 'img_path': path.join(path_to_folder, f\"{t.imdb_title_id}.jpg\")})\n",
    "\n",
    "    img_paths_df = pd.DataFrame(list_of_available_posters)\n",
    "    return img_paths_df\n"
   ]
  },
  {
   "cell_type": "code",
   "execution_count": 90,
   "metadata": {
    "colab": {
     "base_uri": "https://localhost:8080/"
    },
    "id": "7aCGuC1_b82u",
    "outputId": "2d0999f8-fbe5-461b-dd20-5249231ed09d"
   },
   "outputs": [
    {
     "name": "stderr",
     "output_type": "stream",
     "text": [
      "100%|██████████| 4913/4913 [00:00<00:00, 8915.41it/s] \n"
     ]
    }
   ],
   "source": [
    "custom_img_paths_df = define_paths_to_imgs_custom(manually_parsed)"
   ]
  },
  {
   "cell_type": "code",
   "execution_count": 91,
   "metadata": {
    "colab": {
     "base_uri": "https://localhost:8080/",
     "height": 423
    },
    "id": "oSeoRd4Fe0Gv",
    "outputId": "df98c046-fff3-48e0-cc6d-f5ab8dc10370"
   },
   "outputs": [
    {
     "data": {
      "text/html": [
       "<div>\n",
       "<style scoped>\n",
       "    .dataframe tbody tr th:only-of-type {\n",
       "        vertical-align: middle;\n",
       "    }\n",
       "\n",
       "    .dataframe tbody tr th {\n",
       "        vertical-align: top;\n",
       "    }\n",
       "\n",
       "    .dataframe thead th {\n",
       "        text-align: right;\n",
       "    }\n",
       "</style>\n",
       "<table border=\"1\" class=\"dataframe\">\n",
       "  <thead>\n",
       "    <tr style=\"text-align: right;\">\n",
       "      <th></th>\n",
       "      <th>imdb_title_id</th>\n",
       "      <th>img_path</th>\n",
       "    </tr>\n",
       "  </thead>\n",
       "  <tbody>\n",
       "    <tr>\n",
       "      <th>0</th>\n",
       "      <td>tt15498166</td>\n",
       "      <td>./db_posters/tt15498166.jpg</td>\n",
       "    </tr>\n",
       "    <tr>\n",
       "      <th>1</th>\n",
       "      <td>tt10233448</td>\n",
       "      <td>./db_posters/tt10233448.jpg</td>\n",
       "    </tr>\n",
       "    <tr>\n",
       "      <th>2</th>\n",
       "      <td>tt1100089</td>\n",
       "      <td>./db_posters/tt1100089.jpg</td>\n",
       "    </tr>\n",
       "    <tr>\n",
       "      <th>3</th>\n",
       "      <td>tt0106611</td>\n",
       "      <td>./db_posters/tt0106611.jpg</td>\n",
       "    </tr>\n",
       "    <tr>\n",
       "      <th>4</th>\n",
       "      <td>tt1057500</td>\n",
       "      <td>./db_posters/tt1057500.jpg</td>\n",
       "    </tr>\n",
       "    <tr>\n",
       "      <th>...</th>\n",
       "      <td>...</td>\n",
       "      <td>...</td>\n",
       "    </tr>\n",
       "    <tr>\n",
       "      <th>580</th>\n",
       "      <td>tt5215750</td>\n",
       "      <td>./db_posters/tt5215750.jpg</td>\n",
       "    </tr>\n",
       "    <tr>\n",
       "      <th>581</th>\n",
       "      <td>tt4586672</td>\n",
       "      <td>./db_posters/tt4586672.jpg</td>\n",
       "    </tr>\n",
       "    <tr>\n",
       "      <th>582</th>\n",
       "      <td>tt4012658</td>\n",
       "      <td>./db_posters/tt4012658.jpg</td>\n",
       "    </tr>\n",
       "    <tr>\n",
       "      <th>583</th>\n",
       "      <td>tt3179670</td>\n",
       "      <td>./db_posters/tt3179670.jpg</td>\n",
       "    </tr>\n",
       "    <tr>\n",
       "      <th>584</th>\n",
       "      <td>tt1986832</td>\n",
       "      <td>./db_posters/tt1986832.jpg</td>\n",
       "    </tr>\n",
       "  </tbody>\n",
       "</table>\n",
       "<p>585 rows × 2 columns</p>\n",
       "</div>"
      ],
      "text/plain": [
       "    imdb_title_id                     img_path\n",
       "0      tt15498166  ./db_posters/tt15498166.jpg\n",
       "1      tt10233448  ./db_posters/tt10233448.jpg\n",
       "2       tt1100089   ./db_posters/tt1100089.jpg\n",
       "3       tt0106611   ./db_posters/tt0106611.jpg\n",
       "4       tt1057500   ./db_posters/tt1057500.jpg\n",
       "..            ...                          ...\n",
       "580     tt5215750   ./db_posters/tt5215750.jpg\n",
       "581     tt4586672   ./db_posters/tt4586672.jpg\n",
       "582     tt4012658   ./db_posters/tt4012658.jpg\n",
       "583     tt3179670   ./db_posters/tt3179670.jpg\n",
       "584     tt1986832   ./db_posters/tt1986832.jpg\n",
       "\n",
       "[585 rows x 2 columns]"
      ]
     },
     "execution_count": 91,
     "metadata": {},
     "output_type": "execute_result"
    }
   ],
   "source": [
    "custom_img_paths_df"
   ]
  },
  {
   "cell_type": "code",
   "execution_count": 92,
   "metadata": {
    "id": "1mNf_aq0d2LB"
   },
   "outputs": [],
   "source": [
    "manually_parsed = manually_parsed.drop(['img_path'], axis=1)\n",
    "custom_preprocessed = pd.merge(left=manually_parsed, right=custom_img_paths_df, on='imdb_title_id', how='inner')"
   ]
  },
  {
   "cell_type": "code",
   "execution_count": 93,
   "metadata": {
    "colab": {
     "base_uri": "https://localhost:8080/",
     "height": 641
    },
    "id": "HMXPuqLBfHIG",
    "outputId": "c1a0a2d8-1d0a-489d-ae32-2fc224eccaa4"
   },
   "outputs": [],
   "source": [
    "custom_preprocessed = custom_preprocessed.drop_duplicates('imdb_title_id')"
   ]
  },
  {
   "cell_type": "code",
   "execution_count": 95,
   "metadata": {
    "id": "IAcuSuzhfIM6"
   },
   "outputs": [],
   "source": [
    "final_dataset = pd.concat([kaggle_preprocessed[['imdb_title_id', 'img_path', 'title', 'first_genre', 'description']], custom_preprocessed], axis=0, ignore_index=True)\n",
    "final_dataset = final_dataset[~final_dataset.first_genre.isin(['Adult'])]"
   ]
  },
  {
   "cell_type": "code",
   "execution_count": 98,
   "metadata": {
    "id": "7MV_Oilmkl_C"
   },
   "outputs": [],
   "source": [
    "list_of_dfs = []\n",
    "for genre in final_dataset.first_genre.value_counts().index:\n",
    "    df = final_dataset[final_dataset['first_genre']==genre]\n",
    "    if len(df) >= 200:\n",
    "        list_of_dfs.append(df.sample(200))\n",
    "    else:\n",
    "        list_of_dfs.append(df)"
   ]
  },
  {
   "cell_type": "code",
   "execution_count": 99,
   "metadata": {
    "id": "vROos9KblZhg"
   },
   "outputs": [],
   "source": [
    "each_genre200 = pd.concat(list_of_dfs, axis=0, ignore_index=True)"
   ]
  },
  {
   "cell_type": "code",
   "execution_count": 101,
   "metadata": {},
   "outputs": [],
   "source": [
    "each_genre200 = each_genre200[~(each_genre200.first_genre=='Documentary')]"
   ]
  },
  {
   "cell_type": "code",
   "execution_count": 102,
   "metadata": {
    "id": "s03hnIf9pMjQ"
   },
   "outputs": [],
   "source": [
    "each_genre200.to_csv(\"./our_data/each_genre200.csv\", index=False)"
   ]
  },
  {
   "cell_type": "code",
   "execution_count": 103,
   "metadata": {},
   "outputs": [],
   "source": [
    "each_genre200 = pd.read_csv(\"./our_data/each_genre200.csv\")"
   ]
  },
  {
   "cell_type": "code",
   "execution_count": 104,
   "metadata": {
    "colab": {
     "base_uri": "https://localhost:8080/",
     "height": 780
    },
    "id": "4BJ9KkozpxLE",
    "outputId": "530f0a77-6dcd-4aae-8cb1-30f2f1bd9f72"
   },
   "outputs": [
    {
     "data": {
      "text/html": [
       "<div>\n",
       "<style scoped>\n",
       "    .dataframe tbody tr th:only-of-type {\n",
       "        vertical-align: middle;\n",
       "    }\n",
       "\n",
       "    .dataframe tbody tr th {\n",
       "        vertical-align: top;\n",
       "    }\n",
       "\n",
       "    .dataframe thead th {\n",
       "        text-align: right;\n",
       "    }\n",
       "</style>\n",
       "<table border=\"1\" class=\"dataframe\">\n",
       "  <thead>\n",
       "    <tr style=\"text-align: right;\">\n",
       "      <th></th>\n",
       "      <th>imdb_title_id</th>\n",
       "      <th>img_path</th>\n",
       "      <th>title</th>\n",
       "      <th>first_genre</th>\n",
       "      <th>description</th>\n",
       "    </tr>\n",
       "  </thead>\n",
       "  <tbody>\n",
       "    <tr>\n",
       "      <th>0</th>\n",
       "      <td>tt1065106</td>\n",
       "      <td>./Poster/2007/tt1065106/tt1065106.jpg</td>\n",
       "      <td>Pigs</td>\n",
       "      <td>Comedy</td>\n",
       "      <td>Ladies' man Miles takes a challenge to \"comple...</td>\n",
       "    </tr>\n",
       "    <tr>\n",
       "      <th>1</th>\n",
       "      <td>tt0085384</td>\n",
       "      <td>./Poster/1983/tt0085384/tt0085384.jpg</td>\n",
       "      <td>Pantera rosa - Il mistero Clouseau</td>\n",
       "      <td>Comedy</td>\n",
       "      <td>Ensuing after the events of Clouseau's disappe...</td>\n",
       "    </tr>\n",
       "    <tr>\n",
       "      <th>2</th>\n",
       "      <td>tt7431894</td>\n",
       "      <td>./Poster/2017/tt7431894/tt7431894.jpg</td>\n",
       "      <td>Xiu xiu de tie quan</td>\n",
       "      <td>Comedy</td>\n",
       "      <td>A male UFC boxer switches bodies with the fema...</td>\n",
       "    </tr>\n",
       "    <tr>\n",
       "      <th>3</th>\n",
       "      <td>tt1490759</td>\n",
       "      <td>./Poster/2010/tt1490759/tt1490759.jpg</td>\n",
       "      <td>Sex - Una commedia sentimentalmente scorretta</td>\n",
       "      <td>Comedy</td>\n",
       "      <td>Juanjo is a college professor who just got dum...</td>\n",
       "    </tr>\n",
       "    <tr>\n",
       "      <th>4</th>\n",
       "      <td>tt0278501</td>\n",
       "      <td>./Poster/1990/tt0278501/tt0278501.jpg</td>\n",
       "      <td>In Harihar Nagar</td>\n",
       "      <td>Comedy</td>\n",
       "      <td>Four unemployed men try to impress a new neigh...</td>\n",
       "    </tr>\n",
       "    <tr>\n",
       "      <th>...</th>\n",
       "      <td>...</td>\n",
       "      <td>...</td>\n",
       "      <td>...</td>\n",
       "      <td>...</td>\n",
       "      <td>...</td>\n",
       "    </tr>\n",
       "    <tr>\n",
       "      <th>3217</th>\n",
       "      <td>tt0043251</td>\n",
       "      <td>./Poster/1951/tt0043251/tt0043251.jpg</td>\n",
       "      <td>La penna rossa</td>\n",
       "      <td>Film-Noir</td>\n",
       "      <td>Respectable citizens receive anonymous letters...</td>\n",
       "    </tr>\n",
       "    <tr>\n",
       "      <th>3218</th>\n",
       "      <td>tt0045205</td>\n",
       "      <td>./Poster/1952/tt0045205/tt0045205.jpg</td>\n",
       "      <td>So che mi ucciderai</td>\n",
       "      <td>Film-Noir</td>\n",
       "      <td>After an ambitious actor insinuates himself in...</td>\n",
       "    </tr>\n",
       "    <tr>\n",
       "      <th>3219</th>\n",
       "      <td>tt0046126</td>\n",
       "      <td>./Poster/1953/tt0046126/tt0046126.jpg</td>\n",
       "      <td>Niagara</td>\n",
       "      <td>Film-Noir</td>\n",
       "      <td>As two couples are visiting Niagara Falls, ten...</td>\n",
       "    </tr>\n",
       "    <tr>\n",
       "      <th>3220</th>\n",
       "      <td>tt0047976</td>\n",
       "      <td>./Poster/1955/tt0047976/tt0047976.jpg</td>\n",
       "      <td>Dementia</td>\n",
       "      <td>Film-Noir</td>\n",
       "      <td>This film, with no dialogue at all, follows a ...</td>\n",
       "    </tr>\n",
       "    <tr>\n",
       "      <th>3221</th>\n",
       "      <td>tt0048396</td>\n",
       "      <td>./Poster/1955/tt0048396/tt0048396.jpg</td>\n",
       "      <td>Murder Is My Beat</td>\n",
       "      <td>Film-Noir</td>\n",
       "      <td>A police detective helps a singer heading to p...</td>\n",
       "    </tr>\n",
       "  </tbody>\n",
       "</table>\n",
       "<p>3222 rows × 5 columns</p>\n",
       "</div>"
      ],
      "text/plain": [
       "     imdb_title_id                               img_path  \\\n",
       "0        tt1065106  ./Poster/2007/tt1065106/tt1065106.jpg   \n",
       "1        tt0085384  ./Poster/1983/tt0085384/tt0085384.jpg   \n",
       "2        tt7431894  ./Poster/2017/tt7431894/tt7431894.jpg   \n",
       "3        tt1490759  ./Poster/2010/tt1490759/tt1490759.jpg   \n",
       "4        tt0278501  ./Poster/1990/tt0278501/tt0278501.jpg   \n",
       "...            ...                                    ...   \n",
       "3217     tt0043251  ./Poster/1951/tt0043251/tt0043251.jpg   \n",
       "3218     tt0045205  ./Poster/1952/tt0045205/tt0045205.jpg   \n",
       "3219     tt0046126  ./Poster/1953/tt0046126/tt0046126.jpg   \n",
       "3220     tt0047976  ./Poster/1955/tt0047976/tt0047976.jpg   \n",
       "3221     tt0048396  ./Poster/1955/tt0048396/tt0048396.jpg   \n",
       "\n",
       "                                              title first_genre  \\\n",
       "0                                              Pigs      Comedy   \n",
       "1                Pantera rosa - Il mistero Clouseau      Comedy   \n",
       "2                               Xiu xiu de tie quan      Comedy   \n",
       "3     Sex - Una commedia sentimentalmente scorretta      Comedy   \n",
       "4                                  In Harihar Nagar      Comedy   \n",
       "...                                             ...         ...   \n",
       "3217                                 La penna rossa   Film-Noir   \n",
       "3218                            So che mi ucciderai   Film-Noir   \n",
       "3219                                        Niagara   Film-Noir   \n",
       "3220                                       Dementia   Film-Noir   \n",
       "3221                              Murder Is My Beat   Film-Noir   \n",
       "\n",
       "                                            description  \n",
       "0     Ladies' man Miles takes a challenge to \"comple...  \n",
       "1     Ensuing after the events of Clouseau's disappe...  \n",
       "2     A male UFC boxer switches bodies with the fema...  \n",
       "3     Juanjo is a college professor who just got dum...  \n",
       "4     Four unemployed men try to impress a new neigh...  \n",
       "...                                                 ...  \n",
       "3217  Respectable citizens receive anonymous letters...  \n",
       "3218  After an ambitious actor insinuates himself in...  \n",
       "3219  As two couples are visiting Niagara Falls, ten...  \n",
       "3220  This film, with no dialogue at all, follows a ...  \n",
       "3221  A police detective helps a singer heading to p...  \n",
       "\n",
       "[3222 rows x 5 columns]"
      ]
     },
     "execution_count": 104,
     "metadata": {},
     "output_type": "execute_result"
    }
   ],
   "source": [
    "each_genre200"
   ]
  },
  {
   "cell_type": "code",
   "execution_count": 105,
   "metadata": {},
   "outputs": [
    {
     "data": {
      "text/plain": [
       "Comedy       200\n",
       "Drama        200\n",
       "Action       200\n",
       "Crime        200\n",
       "Horror       200\n",
       "Adventure    200\n",
       "Animation    200\n",
       "Biography    200\n",
       "Thriller     200\n",
       "Fantasy      200\n",
       "Superhero    200\n",
       "Western      191\n",
       "Mystery      169\n",
       "Romance      144\n",
       "Sport        127\n",
       "Family       124\n",
       "Sci-Fi       108\n",
       "Musical       71\n",
       "War           27\n",
       "Music         24\n",
       "History       19\n",
       "Film-Noir     18\n",
       "Name: first_genre, dtype: int64"
      ]
     },
     "execution_count": 105,
     "metadata": {},
     "output_type": "execute_result"
    }
   ],
   "source": [
    "each_genre200.first_genre.value_counts()"
   ]
  },
  {
   "cell_type": "markdown",
   "metadata": {
    "id": "1itnlTB6mHE8"
   },
   "source": [
    "## Fine tuning"
   ]
  },
  {
   "cell_type": "code",
   "execution_count": 106,
   "metadata": {
    "id": "kh1HzYhElr3p"
   },
   "outputs": [],
   "source": [
    "from tensorflow.keras.preprocessing.image import load_img, array_to_img\n",
    "from tensorflow import keras\n",
    "import tensorflow as tf\n",
    "from keras.utils import to_categorical\n",
    "from tensorflow.keras.layers import Input, Conv2D, Concatenate, MaxPooling2D, Flatten, Dense, Activation, Dropout, GlobalAveragePooling2D\n",
    "\n",
    "from keras import Model, optimizers\n",
    "from keras.applications import xception\n",
    "import pandas as pd\n",
    "import numpy as np\n",
    "from sklearn import preprocessing\n",
    "from sklearn.model_selection import train_test_split\n",
    "import pickle\n",
    "\n",
    "\n",
    "class PosterSequence(keras.utils.Sequence):\n",
    "    \n",
    "    def __init__(self, batch_size, img_size, images_paths, labels):\n",
    "        self.batch_size = batch_size\n",
    "        self.img_size = img_size\n",
    "        self.images_paths = images_paths\n",
    "        self.labels = labels\n",
    "        self.num_classes = len(set(self.labels))\n",
    "    \n",
    "    def __len__(self):\n",
    "        length = len(self.images_paths) // self.batch_size\n",
    "        return length\n",
    "    \n",
    "    def __getitem__(self, idx):\n",
    "        x = np.zeros((self.batch_size, ) + self.img_size + (3, ), dtype=\"float32\")\n",
    "        y = np.zeros((self.batch_size, ) + (self.num_classes, ), dtype=\"uint8\")\n",
    "        \"\"\"\n",
    "        This method returns the batches themselves including images (x) and masks (y) as np.array\n",
    "            img / 255.0 for images, so that each value is adjacent to the interval [0, 1]\n",
    "        \"\"\"\n",
    "        \n",
    "        batch_x = self.images_paths[idx * self.batch_size:(idx + 1) * self.batch_size]\n",
    "        batch_y = self.labels[idx * self.batch_size:(idx + 1) * self.batch_size]\n",
    "        \n",
    "        x = np.array([keras.preprocessing.image.img_to_array(load_img(file_name, color_mode='rgb', target_size=self.img_size, interpolation='nearest', keep_aspect_ratio=False), dtype=\"float32\") / 255.0 for file_name in batch_x])\n",
    "        y = np.array([to_categorical(label, num_classes=self.num_classes) for label in batch_y])\n",
    "        return x, y "
   ]
  },
  {
   "cell_type": "code",
   "execution_count": 107,
   "metadata": {
    "id": "oYK21XPlnV8k"
   },
   "outputs": [],
   "source": [
    "le = preprocessing.LabelEncoder()\n",
    "le.fit(each_genre200['first_genre'])\n",
    "each_genre200['genre_encoded'] = le.transform(each_genre200['first_genre'])"
   ]
  },
  {
   "cell_type": "code",
   "execution_count": 111,
   "metadata": {
    "id": "KgX22ia2ncuP"
   },
   "outputs": [],
   "source": [
    "X_train = each_genre200.img_path.values\n",
    "y_train = each_genre200.genre_encoded.values\n",
    "image_size = (192, 128)\n",
    "b_size = len(X_train)# 128\n",
    "train_gen = PosterSequence(b_size, image_size, X_train, y_train)\n"
   ]
  },
  {
   "cell_type": "code",
   "execution_count": 112,
   "metadata": {
    "colab": {
     "base_uri": "https://localhost:8080/"
    },
    "id": "Tzs8pJsqnTNa",
    "outputId": "9adc3eb0-836c-4e0e-e0b0-aa3188191758"
   },
   "outputs": [
    {
     "name": "stdout",
     "output_type": "stream",
     "text": [
      "WARNING:tensorflow:`input_shape` is undefined or non-square, or `rows` is not in [96, 128, 160, 192, 224]. Weights for input shape (224, 224) will be loaded as the default.\n"
     ]
    }
   ],
   "source": [
    "keras.backend.clear_session()\n",
    "\n",
    "\n",
    "base_model = tf.keras.applications.MobileNetV2(input_shape=image_size+(3, ),\n",
    "                                                  include_top=False,\n",
    "                                                  weights='imagenet')\n"
   ]
  },
  {
   "cell_type": "code",
   "execution_count": 113,
   "metadata": {
    "tags": []
   },
   "outputs": [
    {
     "name": "stdout",
     "output_type": "stream",
     "text": [
      "1/1 [==============================] - 18s 18s/step\n"
     ]
    }
   ],
   "source": [
    "prediction = base_model.predict(train_gen)"
   ]
  },
  {
   "cell_type": "code",
   "execution_count": 115,
   "metadata": {},
   "outputs": [
    {
     "data": {
      "text/plain": [
       "(3222, 6, 4, 1280)"
      ]
     },
     "execution_count": 115,
     "metadata": {},
     "output_type": "execute_result"
    }
   ],
   "source": [
    "prediction.shape# .flatten().shape"
   ]
  },
  {
   "cell_type": "code",
   "execution_count": 116,
   "metadata": {},
   "outputs": [],
   "source": [
    "prediction_reshaped  = prediction.reshape(len(X_train), -1)"
   ]
  },
  {
   "cell_type": "code",
   "execution_count": 117,
   "metadata": {},
   "outputs": [
    {
     "data": {
      "text/plain": [
       "(3222, 30720)"
      ]
     },
     "execution_count": 117,
     "metadata": {},
     "output_type": "execute_result"
    }
   ],
   "source": [
    "prediction_reshaped.shape"
   ]
  },
  {
   "cell_type": "code",
   "execution_count": 118,
   "metadata": {},
   "outputs": [],
   "source": [
    "np.save('extracted_feature.npy', prediction_reshaped)"
   ]
  },
  {
   "cell_type": "code",
   "execution_count": 119,
   "metadata": {},
   "outputs": [],
   "source": [
    "from sklearn.decomposition import PCA\n",
    "pca = PCA(n_components=96, svd_solver='full')\n",
    "comps = pca.fit_transform(prediction_reshaped)"
   ]
  },
  {
   "cell_type": "code",
   "execution_count": 120,
   "metadata": {},
   "outputs": [],
   "source": [
    "pca_features = pd.concat([pd.DataFrame(comps), pd.DataFrame(y_train, columns=['label'])], axis=1)"
   ]
  },
  {
   "cell_type": "code",
   "execution_count": 172,
   "metadata": {},
   "outputs": [],
   "source": [
    "X_train, X_test, y_train, y_test = train_test_split(pca_features.drop('label', axis=1), pca_features.label.values, test_size=0.10, random_state=42, shuffle=True)"
   ]
  },
  {
   "cell_type": "code",
   "execution_count": 135,
   "metadata": {},
   "outputs": [
    {
     "name": "stderr",
     "output_type": "stream",
     "text": [
      "/data/home/spushkov/.conda/envs/ent_rel_env/lib/python3.8/site-packages/sklearn/linear_model/_logistic.py:444: ConvergenceWarning: lbfgs failed to converge (status=1):\n",
      "STOP: TOTAL NO. of ITERATIONS REACHED LIMIT.\n",
      "\n",
      "Increase the number of iterations (max_iter) or scale the data as shown in:\n",
      "    https://scikit-learn.org/stable/modules/preprocessing.html\n",
      "Please also refer to the documentation for alternative solver options:\n",
      "    https://scikit-learn.org/stable/modules/linear_model.html#logistic-regression\n",
      "  n_iter_i = _check_optimize_result(\n"
     ]
    }
   ],
   "source": [
    "#Fit Logistic Regression model:\n",
    "from sklearn.linear_model import LogisticRegression\n",
    "lr = LogisticRegression(multi_class='multinomial').fit(X_train, y_train)\n",
    "# from lightgbm import LGBMClassifier\n",
    "# lgbm = LGBMClassifier(n_jobs=25)\n",
    "# lgbm.fit(X_train, y_train)"
   ]
  },
  {
   "cell_type": "code",
   "execution_count": 126,
   "metadata": {},
   "outputs": [],
   "source": [
    "labels = pd.DataFrame({'labels': y_train}).labels.value_counts().index"
   ]
  },
  {
   "cell_type": "code",
   "execution_count": 130,
   "metadata": {},
   "outputs": [
    {
     "data": {
      "text/plain": [
       "array(['Superhero', 'Crime', 'Horror', 'Thriller', 'Fantasy', 'Biography',\n",
       "       'Adventure', 'Western', 'Animation', 'Action', 'Drama', 'Comedy',\n",
       "       'Mystery', 'Romance', 'Sport', 'Family', 'Sci-Fi', 'Musical',\n",
       "       'War', 'Music', 'History', 'Film-Noir'], dtype=object)"
      ]
     },
     "execution_count": 130,
     "metadata": {},
     "output_type": "execute_result"
    }
   ],
   "source": [
    "le.inverse_transform(labels)"
   ]
  },
  {
   "cell_type": "code",
   "execution_count": 136,
   "metadata": {},
   "outputs": [],
   "source": [
    "from sklearn.metrics import confusion_matrix\n",
    "\n",
    "y_pred = lr.predict(X_test)\n",
    "# Creating  a confusion matrix,which compares the y_test and y_pred\n",
    "cm = confusion_matrix(y_test, y_pred, labels=labels)\n"
   ]
  },
  {
   "cell_type": "code",
   "execution_count": 137,
   "metadata": {},
   "outputs": [],
   "source": [
    "cm_df = pd.DataFrame(cm, index = le.inverse_transform(labels), columns = le.inverse_transform(labels))\n"
   ]
  },
  {
   "cell_type": "code",
   "execution_count": 138,
   "metadata": {},
   "outputs": [
    {
     "data": {
      "image/png": "[encoded data removed]",
      "text/plain": [
       "<Figure size 1080x1008 with 2 Axes>"
      ]
     },
     "metadata": {
      "needs_background": "light"
     },
     "output_type": "display_data"
    }
   ],
   "source": [
    "#Plotting the confusion matrix\n",
    "plt.figure(figsize=(15,14))\n",
    "sns.heatmap(cm_df, annot=True, fmt=\".0f\")\n",
    "plt.title('Confusion Matrix')\n",
    "plt.ylabel('Actal Values')\n",
    "plt.xlabel('Predicted Values')\n",
    "plt.show()"
   ]
  },
  {
   "cell_type": "code",
   "execution_count": 190,
   "metadata": {},
   "outputs": [],
   "source": [
    "from sklearn.metrics import roc_auc_score\n",
    "\n",
    "# Generate membership scores with .predict_proba\n",
    "y_pred_probs = lr.predict_proba(X_test)\n",
    "\n",
    "# Calculate ROC_AUC\n",
    "roc_auc = roc_auc_score(\n",
    "    y_test, y_pred_probs, multi_class=\"ovr\", average=\"weighted\"\n",
    "  )"
   ]
  },
  {
   "cell_type": "code",
   "execution_count": 191,
   "metadata": {},
   "outputs": [],
   "source": [
    "y_pred_cv = lr.predict(X_test)"
   ]
  },
  {
   "cell_type": "code",
   "execution_count": 140,
   "metadata": {},
   "outputs": [
    {
     "data": {
      "text/plain": [
       "0.7059696614238237"
      ]
     },
     "execution_count": 140,
     "metadata": {},
     "output_type": "execute_result"
    }
   ],
   "source": [
    "roc_auc"
   ]
  },
  {
   "cell_type": "code",
   "execution_count": 223,
   "metadata": {},
   "outputs": [
    {
     "name": "stderr",
     "output_type": "stream",
     "text": [
      "/data/home/spushkov/.conda/envs/ent_rel_env/lib/python3.8/site-packages/sklearn/metrics/_classification.py:1327: UndefinedMetricWarning: Precision is ill-defined and being set to 0.0 in labels with no predicted samples. Use `zero_division` parameter to control this behavior.\n",
      "  _warn_prf(average, modifier, msg_start, len(result))\n"
     ]
    },
    {
     "data": {
      "text/plain": [
       "0.18721391728656997"
      ]
     },
     "execution_count": 223,
     "metadata": {},
     "output_type": "execute_result"
    }
   ],
   "source": [
    "precision_score(y_test,y_pred_cv,average=\"weighted\")"
   ]
  },
  {
   "cell_type": "markdown",
   "metadata": {},
   "source": [
    "# Word2Vec"
   ]
  },
  {
   "cell_type": "code",
   "execution_count": 141,
   "metadata": {},
   "outputs": [
    {
     "name": "stderr",
     "output_type": "stream",
     "text": [
      "[nltk_data] Downloading package stopwords to\n",
      "[nltk_data]     /data/home/spushkov/nltk_data...\n",
      "[nltk_data]   Package stopwords is already up-to-date!\n",
      "[nltk_data] Downloading package wordnet to\n",
      "[nltk_data]     /data/home/spushkov/nltk_data...\n",
      "[nltk_data]   Package wordnet is already up-to-date!\n",
      "[nltk_data] Downloading package punkt to\n",
      "[nltk_data]     /data/home/spushkov/nltk_data...\n",
      "[nltk_data]   Unzipping tokenizers/punkt.zip.\n",
      "[nltk_data] Downloading package averaged_perceptron_tagger to\n",
      "[nltk_data]     /data/home/spushkov/nltk_data...\n",
      "[nltk_data]   Unzipping taggers/averaged_perceptron_tagger.zip.\n",
      "[nltk_data] Downloading package universal_tagset to\n",
      "[nltk_data]     /data/home/spushkov/nltk_data...\n",
      "[nltk_data]   Unzipping taggers/universal_tagset.zip.\n",
      "[nltk_data] Downloading package omw-1.4 to\n",
      "[nltk_data]     /data/home/spushkov/nltk_data...\n",
      "[nltk_data]   Package omw-1.4 is already up-to-date!\n"
     ]
    },
    {
     "data": {
      "text/plain": [
       "True"
      ]
     },
     "execution_count": 141,
     "metadata": {},
     "output_type": "execute_result"
    }
   ],
   "source": [
    "import nltk\n",
    "nltk.download('stopwords')\n",
    "\n",
    "from nltk.corpus import stopwords\n",
    "stop_words = set(stopwords.words('english')) | set(stopwords.words('french')) | set(stopwords.words('italian'))\n",
    "\n",
    "nltk.download('wordnet')\n",
    "from nltk.stem import WordNetLemmatizer \n",
    "lemmatizer = WordNetLemmatizer()\n",
    "\n",
    "nltk.download('punkt')\n",
    "nltk.download('averaged_perceptron_tagger')\n",
    "nltk.download('universal_tagset')\n",
    "nltk.download('omw-1.4')"
   ]
  },
  {
   "cell_type": "code",
   "execution_count": null,
   "metadata": {},
   "outputs": [],
   "source": [
    "# ! kaggle datasets download -d leadbest/googlenewsvectorsnegative300"
   ]
  },
  {
   "cell_type": "code",
   "execution_count": 155,
   "metadata": {},
   "outputs": [],
   "source": [
    "# import zipfile\n",
    "# with zipfile.ZipFile('./googlenewsvectorsnegative300.zip', 'r') as zip_ref:\n",
    "#     zip_ref.extractall('./')"
   ]
  },
  {
   "cell_type": "code",
   "execution_count": 157,
   "metadata": {},
   "outputs": [],
   "source": [
    "import gensim\n",
    "w2vec = gensim.models.KeyedVectors.load_word2vec_format(\n",
    "    \"./GoogleNews-vectors-negative300.bin.gz\", binary=True\n",
    ")"
   ]
  },
  {
   "cell_type": "code",
   "execution_count": 166,
   "metadata": {},
   "outputs": [],
   "source": [
    "import re\n",
    "def clean_text(text):\n",
    "    text = re.sub(r\"[^\\w\\s]\", \"\", text, re.UNICODE)\n",
    "    text = text.lower()\n",
    "    text = [lemmatizer.lemmatize(token) for token in text.split(\" \")]\n",
    "    text = [word for word in text if not word in stop_words]\n",
    "    text = \" \".join(text)\n",
    "    text = ' '.join(text.split())\n",
    "    return text\n",
    "\n",
    "def create_avg_w2v_vectors(sentence):\n",
    "    avg_vector = np.zeros(300)\n",
    "    for word in sentence:\n",
    "        if (word in w2vec):\n",
    "            avg_vector += w2vec[word]\n",
    "    if (len(sentence)==0):\n",
    "        return avg_vector\n",
    "    return avg_vector/len(sentence)\n",
    "\n",
    "def extract_XY(df):\n",
    "    X = df[['title','description', 'imdb_title_id']]\n",
    "    y_encoded = df['genre_encoded']\n",
    "    X['cleaned_titles'] = X['title'].apply(lambda x: clean_text(x))\n",
    "    X['cleaned_descriptions'] = X['description'].apply(lambda x: clean_text(x))\n",
    "    X['tokenized_titles'] = X['cleaned_titles'].apply(lambda x: x.split())\n",
    "    X['tokenized_descriptions'] = X['cleaned_descriptions'].apply(lambda x: x.split())\n",
    "    X['w2v_avg_titles'] = X['tokenized_titles'].apply(lambda line: create_avg_w2v_vectors(line))\n",
    "    X['w2v_avg_descriptions'] = X['tokenized_descriptions'].apply(lambda line: create_avg_w2v_vectors(line))\n",
    "    \n",
    "    return X,y_encoded"
   ]
  },
  {
   "cell_type": "code",
   "execution_count": 185,
   "metadata": {},
   "outputs": [],
   "source": [
    "from sklearn.svm import SVC\n",
    "from sklearn.metrics import roc_auc_score, accuracy_score, precision_score, f1_score\n",
    "def train_model(X_train,y_train):\n",
    "\n",
    "    model = SVC(kernel='rbf', C=1.2, probability=True).fit(X_train,y_train)\n",
    "    \n",
    "    return model\n",
    "\n",
    "def predict(model,X_test,y_test):\n",
    "    y_pred = model.predict(X_test)\n",
    "    y_pred_probs = model.predict_proba(X_test)\n",
    "    \n",
    "    roc_auc = roc_auc_score(y_test, y_pred_probs, multi_class=\"ovr\", average=\"weighted\")\n",
    "    acc = accuracy_score(y_test,y_pred)\n",
    "    prec = precision_score(y_test,y_pred,average=\"weighted\")\n",
    "    f1 = f1_score(y_test,y_pred,average=\"weighted\")\n",
    "    print(f\"ROC_AUC:{roc_auc}\")\n",
    "    print(f\"Accuracy:{acc}\")\n",
    "    print(f\"Precision:{prec}\")\n",
    "    print(f\"F1-score:{f1}\")\n",
    "    \n",
    "    return y_pred,y_pred_probs"
   ]
  },
  {
   "cell_type": "code",
   "execution_count": 167,
   "metadata": {},
   "outputs": [
    {
     "name": "stderr",
     "output_type": "stream",
     "text": [
      "/tmp/ipykernel_1382481/868413430.py:23: SettingWithCopyWarning: \n",
      "A value is trying to be set on a copy of a slice from a DataFrame.\n",
      "Try using .loc[row_indexer,col_indexer] = value instead\n",
      "\n",
      "See the caveats in the documentation: https://pandas.pydata.org/pandas-docs/stable/user_guide/indexing.html#returning-a-view-versus-a-copy\n",
      "  X['cleaned_titles'] = X['title'].apply(lambda x: clean_text(x))\n",
      "/tmp/ipykernel_1382481/868413430.py:24: SettingWithCopyWarning: \n",
      "A value is trying to be set on a copy of a slice from a DataFrame.\n",
      "Try using .loc[row_indexer,col_indexer] = value instead\n",
      "\n",
      "See the caveats in the documentation: https://pandas.pydata.org/pandas-docs/stable/user_guide/indexing.html#returning-a-view-versus-a-copy\n",
      "  X['cleaned_descriptions'] = X['description'].apply(lambda x: clean_text(x))\n"
     ]
    }
   ],
   "source": [
    "X,y = extract_XY(each_genre200)"
   ]
  },
  {
   "cell_type": "code",
   "execution_count": 168,
   "metadata": {},
   "outputs": [
    {
     "data": {
      "text/html": [
       "<div>\n",
       "<style scoped>\n",
       "    .dataframe tbody tr th:only-of-type {\n",
       "        vertical-align: middle;\n",
       "    }\n",
       "\n",
       "    .dataframe tbody tr th {\n",
       "        vertical-align: top;\n",
       "    }\n",
       "\n",
       "    .dataframe thead th {\n",
       "        text-align: right;\n",
       "    }\n",
       "</style>\n",
       "<table border=\"1\" class=\"dataframe\">\n",
       "  <thead>\n",
       "    <tr style=\"text-align: right;\">\n",
       "      <th></th>\n",
       "      <th>title</th>\n",
       "      <th>description</th>\n",
       "      <th>imdb_title_id</th>\n",
       "      <th>cleaned_titles</th>\n",
       "      <th>cleaned_descriptions</th>\n",
       "      <th>tokenized_titles</th>\n",
       "      <th>tokenized_descriptions</th>\n",
       "      <th>w2v_avg_titles</th>\n",
       "      <th>w2v_avg_descriptions</th>\n",
       "    </tr>\n",
       "  </thead>\n",
       "  <tbody>\n",
       "    <tr>\n",
       "      <th>0</th>\n",
       "      <td>Pigs</td>\n",
       "      <td>Ladies' man Miles takes a challenge to \"comple...</td>\n",
       "      <td>tt1065106</td>\n",
       "      <td>pig</td>\n",
       "      <td>lady man mile take challenge complete entire a...</td>\n",
       "      <td>[pig]</td>\n",
       "      <td>[lady, man, mile, take, challenge, complete, e...</td>\n",
       "      <td>[-0.08447265625, -0.0771484375, -0.04223632812...</td>\n",
       "      <td>[0.01146598484205163, 0.014055998429008152, 0....</td>\n",
       "    </tr>\n",
       "    <tr>\n",
       "      <th>1</th>\n",
       "      <td>Pantera rosa - Il mistero Clouseau</td>\n",
       "      <td>Ensuing after the events of Clouseau's disappe...</td>\n",
       "      <td>tt0085384</td>\n",
       "      <td>pantera rosa mistero clouseau</td>\n",
       "      <td>ensuing event clouseaus disappearance boss sur...</td>\n",
       "      <td>[pantera, rosa, mistero, clouseau]</td>\n",
       "      <td>[ensuing, event, clouseaus, disappearance, bos...</td>\n",
       "      <td>[0.0081787109375, -0.015625, 0.016845703125, 0...</td>\n",
       "      <td>[0.06348374310661764, 0.007604262408088236, 0....</td>\n",
       "    </tr>\n",
       "    <tr>\n",
       "      <th>2</th>\n",
       "      <td>Xiu xiu de tie quan</td>\n",
       "      <td>A male UFC boxer switches bodies with the fema...</td>\n",
       "      <td>tt7431894</td>\n",
       "      <td>xiu xiu tie quan</td>\n",
       "      <td>male ufc boxer switch body female reporter exp...</td>\n",
       "      <td>[xiu, xiu, tie, quan]</td>\n",
       "      <td>[male, ufc, boxer, switch, body, female, repor...</td>\n",
       "      <td>[-0.058837890625, -0.03179931640625, 0.0403442...</td>\n",
       "      <td>[-0.06985708383413461, 0.014183631310096154, 0...</td>\n",
       "    </tr>\n",
       "    <tr>\n",
       "      <th>3</th>\n",
       "      <td>Sex - Una commedia sentimentalmente scorretta</td>\n",
       "      <td>Juanjo is a college professor who just got dum...</td>\n",
       "      <td>tt1490759</td>\n",
       "      <td>sex commedia sentimentalmente scorretta</td>\n",
       "      <td>juanjo college professor got dumped girlfriend...</td>\n",
       "      <td>[sex, commedia, sentimentalmente, scorretta]</td>\n",
       "      <td>[juanjo, college, professor, got, dumped, girl...</td>\n",
       "      <td>[0.08978271484375, -0.01416015625, -0.01812744...</td>\n",
       "      <td>[0.05626902860753676, 0.05977855009191176, 0.0...</td>\n",
       "    </tr>\n",
       "    <tr>\n",
       "      <th>4</th>\n",
       "      <td>In Harihar Nagar</td>\n",
       "      <td>Four unemployed men try to impress a new neigh...</td>\n",
       "      <td>tt0278501</td>\n",
       "      <td>harihar nagar</td>\n",
       "      <td>four unemployed men try impress new neighbor h...</td>\n",
       "      <td>[harihar, nagar]</td>\n",
       "      <td>[four, unemployed, men, try, impress, new, nei...</td>\n",
       "      <td>[0.044921875, 0.048583984375, 0.07373046875, 0...</td>\n",
       "      <td>[0.13507080078125, 0.051177978515625, -0.00811...</td>\n",
       "    </tr>\n",
       "    <tr>\n",
       "      <th>...</th>\n",
       "      <td>...</td>\n",
       "      <td>...</td>\n",
       "      <td>...</td>\n",
       "      <td>...</td>\n",
       "      <td>...</td>\n",
       "      <td>...</td>\n",
       "      <td>...</td>\n",
       "      <td>...</td>\n",
       "      <td>...</td>\n",
       "    </tr>\n",
       "    <tr>\n",
       "      <th>3217</th>\n",
       "      <td>La penna rossa</td>\n",
       "      <td>Respectable citizens receive anonymous letters...</td>\n",
       "      <td>tt0043251</td>\n",
       "      <td>penna rossa</td>\n",
       "      <td>respectable citizen receive anonymous letter r...</td>\n",
       "      <td>[penna, rossa]</td>\n",
       "      <td>[respectable, citizen, receive, anonymous, let...</td>\n",
       "      <td>[0.00830078125, -0.00592041015625, 0.064453125...</td>\n",
       "      <td>[0.0656585693359375, 0.02346038818359375, -0.1...</td>\n",
       "    </tr>\n",
       "    <tr>\n",
       "      <th>3218</th>\n",
       "      <td>So che mi ucciderai</td>\n",
       "      <td>After an ambitious actor insinuates himself in...</td>\n",
       "      <td>tt0045205</td>\n",
       "      <td>ucciderai</td>\n",
       "      <td>ambitious actor insinuates life wealthy middle...</td>\n",
       "      <td>[ucciderai]</td>\n",
       "      <td>[ambitious, actor, insinuates, life, wealthy, ...</td>\n",
       "      <td>[0.0, 0.0, 0.0, 0.0, 0.0, 0.0, 0.0, 0.0, 0.0, ...</td>\n",
       "      <td>[0.03891823508522727, -0.010725541548295454, -...</td>\n",
       "    </tr>\n",
       "    <tr>\n",
       "      <th>3219</th>\n",
       "      <td>Niagara</td>\n",
       "      <td>As two couples are visiting Niagara Falls, ten...</td>\n",
       "      <td>tt0046126</td>\n",
       "      <td>niagara</td>\n",
       "      <td>two couple visiting niagara fall tension one w...</td>\n",
       "      <td>[niagara]</td>\n",
       "      <td>[two, couple, visiting, niagara, fall, tension...</td>\n",
       "      <td>[-0.130859375, -0.1767578125, 0.0517578125, 0....</td>\n",
       "      <td>[0.004689534505208333, -0.03637059529622396, -...</td>\n",
       "    </tr>\n",
       "    <tr>\n",
       "      <th>3220</th>\n",
       "      <td>Dementia</td>\n",
       "      <td>This film, with no dialogue at all, follows a ...</td>\n",
       "      <td>tt0047976</td>\n",
       "      <td>dementia</td>\n",
       "      <td>film dialogue follows psychotic young woman ni...</td>\n",
       "      <td>[dementia]</td>\n",
       "      <td>[film, dialogue, follows, psychotic, young, wo...</td>\n",
       "      <td>[-0.078125, -0.1572265625, -0.19921875, 0.2597...</td>\n",
       "      <td>[0.043654008345170456, 0.002985174005681818, -...</td>\n",
       "    </tr>\n",
       "    <tr>\n",
       "      <th>3221</th>\n",
       "      <td>Murder Is My Beat</td>\n",
       "      <td>A police detective helps a singer heading to p...</td>\n",
       "      <td>tt0048396</td>\n",
       "      <td>murder beat</td>\n",
       "      <td>police detective help singer heading prison mu...</td>\n",
       "      <td>[murder, beat]</td>\n",
       "      <td>[police, detective, help, singer, heading, pri...</td>\n",
       "      <td>[-0.02294921875, 0.135223388671875, 0.33056640...</td>\n",
       "      <td>[0.08489435369318182, 0.028237082741477272, 0....</td>\n",
       "    </tr>\n",
       "  </tbody>\n",
       "</table>\n",
       "<p>3222 rows × 9 columns</p>\n",
       "</div>"
      ],
      "text/plain": [
       "                                              title  \\\n",
       "0                                              Pigs   \n",
       "1                Pantera rosa - Il mistero Clouseau   \n",
       "2                               Xiu xiu de tie quan   \n",
       "3     Sex - Una commedia sentimentalmente scorretta   \n",
       "4                                  In Harihar Nagar   \n",
       "...                                             ...   \n",
       "3217                                 La penna rossa   \n",
       "3218                            So che mi ucciderai   \n",
       "3219                                        Niagara   \n",
       "3220                                       Dementia   \n",
       "3221                              Murder Is My Beat   \n",
       "\n",
       "                                            description imdb_title_id  \\\n",
       "0     Ladies' man Miles takes a challenge to \"comple...     tt1065106   \n",
       "1     Ensuing after the events of Clouseau's disappe...     tt0085384   \n",
       "2     A male UFC boxer switches bodies with the fema...     tt7431894   \n",
       "3     Juanjo is a college professor who just got dum...     tt1490759   \n",
       "4     Four unemployed men try to impress a new neigh...     tt0278501   \n",
       "...                                                 ...           ...   \n",
       "3217  Respectable citizens receive anonymous letters...     tt0043251   \n",
       "3218  After an ambitious actor insinuates himself in...     tt0045205   \n",
       "3219  As two couples are visiting Niagara Falls, ten...     tt0046126   \n",
       "3220  This film, with no dialogue at all, follows a ...     tt0047976   \n",
       "3221  A police detective helps a singer heading to p...     tt0048396   \n",
       "\n",
       "                               cleaned_titles  \\\n",
       "0                                         pig   \n",
       "1               pantera rosa mistero clouseau   \n",
       "2                            xiu xiu tie quan   \n",
       "3     sex commedia sentimentalmente scorretta   \n",
       "4                               harihar nagar   \n",
       "...                                       ...   \n",
       "3217                              penna rossa   \n",
       "3218                                ucciderai   \n",
       "3219                                  niagara   \n",
       "3220                                 dementia   \n",
       "3221                              murder beat   \n",
       "\n",
       "                                   cleaned_descriptions  \\\n",
       "0     lady man mile take challenge complete entire a...   \n",
       "1     ensuing event clouseaus disappearance boss sur...   \n",
       "2     male ufc boxer switch body female reporter exp...   \n",
       "3     juanjo college professor got dumped girlfriend...   \n",
       "4     four unemployed men try impress new neighbor h...   \n",
       "...                                                 ...   \n",
       "3217  respectable citizen receive anonymous letter r...   \n",
       "3218  ambitious actor insinuates life wealthy middle...   \n",
       "3219  two couple visiting niagara fall tension one w...   \n",
       "3220  film dialogue follows psychotic young woman ni...   \n",
       "3221  police detective help singer heading prison mu...   \n",
       "\n",
       "                                  tokenized_titles  \\\n",
       "0                                            [pig]   \n",
       "1               [pantera, rosa, mistero, clouseau]   \n",
       "2                            [xiu, xiu, tie, quan]   \n",
       "3     [sex, commedia, sentimentalmente, scorretta]   \n",
       "4                                 [harihar, nagar]   \n",
       "...                                            ...   \n",
       "3217                                [penna, rossa]   \n",
       "3218                                   [ucciderai]   \n",
       "3219                                     [niagara]   \n",
       "3220                                    [dementia]   \n",
       "3221                                [murder, beat]   \n",
       "\n",
       "                                 tokenized_descriptions  \\\n",
       "0     [lady, man, mile, take, challenge, complete, e...   \n",
       "1     [ensuing, event, clouseaus, disappearance, bos...   \n",
       "2     [male, ufc, boxer, switch, body, female, repor...   \n",
       "3     [juanjo, college, professor, got, dumped, girl...   \n",
       "4     [four, unemployed, men, try, impress, new, nei...   \n",
       "...                                                 ...   \n",
       "3217  [respectable, citizen, receive, anonymous, let...   \n",
       "3218  [ambitious, actor, insinuates, life, wealthy, ...   \n",
       "3219  [two, couple, visiting, niagara, fall, tension...   \n",
       "3220  [film, dialogue, follows, psychotic, young, wo...   \n",
       "3221  [police, detective, help, singer, heading, pri...   \n",
       "\n",
       "                                         w2v_avg_titles  \\\n",
       "0     [-0.08447265625, -0.0771484375, -0.04223632812...   \n",
       "1     [0.0081787109375, -0.015625, 0.016845703125, 0...   \n",
       "2     [-0.058837890625, -0.03179931640625, 0.0403442...   \n",
       "3     [0.08978271484375, -0.01416015625, -0.01812744...   \n",
       "4     [0.044921875, 0.048583984375, 0.07373046875, 0...   \n",
       "...                                                 ...   \n",
       "3217  [0.00830078125, -0.00592041015625, 0.064453125...   \n",
       "3218  [0.0, 0.0, 0.0, 0.0, 0.0, 0.0, 0.0, 0.0, 0.0, ...   \n",
       "3219  [-0.130859375, -0.1767578125, 0.0517578125, 0....   \n",
       "3220  [-0.078125, -0.1572265625, -0.19921875, 0.2597...   \n",
       "3221  [-0.02294921875, 0.135223388671875, 0.33056640...   \n",
       "\n",
       "                                   w2v_avg_descriptions  \n",
       "0     [0.01146598484205163, 0.014055998429008152, 0....  \n",
       "1     [0.06348374310661764, 0.007604262408088236, 0....  \n",
       "2     [-0.06985708383413461, 0.014183631310096154, 0...  \n",
       "3     [0.05626902860753676, 0.05977855009191176, 0.0...  \n",
       "4     [0.13507080078125, 0.051177978515625, -0.00811...  \n",
       "...                                                 ...  \n",
       "3217  [0.0656585693359375, 0.02346038818359375, -0.1...  \n",
       "3218  [0.03891823508522727, -0.010725541548295454, -...  \n",
       "3219  [0.004689534505208333, -0.03637059529622396, -...  \n",
       "3220  [0.043654008345170456, 0.002985174005681818, -...  \n",
       "3221  [0.08489435369318182, 0.028237082741477272, 0....  \n",
       "\n",
       "[3222 rows x 9 columns]"
      ]
     },
     "execution_count": 168,
     "metadata": {},
     "output_type": "execute_result"
    }
   ],
   "source": [
    "X"
   ]
  },
  {
   "cell_type": "code",
   "execution_count": 183,
   "metadata": {},
   "outputs": [],
   "source": [
    "X_train_plot, X_test_plot, y_train_plot, y_test_plot = train_test_split(X['w2v_avg_descriptions'], y, test_size=0.10, random_state=42, shuffle=True)"
   ]
  },
  {
   "cell_type": "code",
   "execution_count": 186,
   "metadata": {},
   "outputs": [
    {
     "name": "stdout",
     "output_type": "stream",
     "text": [
      "ROC_AUC:0.8386449934875883\n",
      "Accuracy:0.3560371517027864\n",
      "Precision:0.336966457176475\n",
      "F1-score:0.3333531278979238\n"
     ]
    },
    {
     "name": "stderr",
     "output_type": "stream",
     "text": [
      "/data/home/spushkov/.conda/envs/ent_rel_env/lib/python3.8/site-packages/sklearn/metrics/_classification.py:1327: UndefinedMetricWarning: Precision is ill-defined and being set to 0.0 in labels with no predicted samples. Use `zero_division` parameter to control this behavior.\n",
      "  _warn_prf(average, modifier, msg_start, len(result))\n"
     ]
    }
   ],
   "source": [
    "svm_plot = train_model(list(X_train_plot),list(y_train_plot))\n"
   ]
  },
  {
   "cell_type": "code",
   "execution_count": 187,
   "metadata": {},
   "outputs": [
    {
     "name": "stdout",
     "output_type": "stream",
     "text": [
      "ROC_AUC:0.8386449934875883\n",
      "Accuracy:0.3560371517027864\n",
      "Precision:0.336966457176475\n",
      "F1-score:0.3333531278979238\n"
     ]
    },
    {
     "name": "stderr",
     "output_type": "stream",
     "text": [
      "/data/home/spushkov/.conda/envs/ent_rel_env/lib/python3.8/site-packages/sklearn/metrics/_classification.py:1327: UndefinedMetricWarning: Precision is ill-defined and being set to 0.0 in labels with no predicted samples. Use `zero_division` parameter to control this behavior.\n",
      "  _warn_prf(average, modifier, msg_start, len(result))\n"
     ]
    }
   ],
   "source": [
    "svm_pred_y_plot, plot_probs = predict(svm_plot,list(X_test_plot),list(y_test_plot))"
   ]
  },
  {
   "cell_type": "code",
   "execution_count": 204,
   "metadata": {},
   "outputs": [],
   "source": [
    "\n",
    "X_train_titles, X_test_titles, y_train_titles, y_test_titles = train_test_split(X[f'w2v_avg_titles'], y, test_size=0.1, random_state=42, stratify=y)\n",
    "X_train_titles, X_test_titles = list(X_train_titles), list(X_test_titles)\n"
   ]
  },
  {
   "cell_type": "code",
   "execution_count": 205,
   "metadata": {},
   "outputs": [],
   "source": [
    "svm_titles = train_model(X_train_titles,y_train_titles)\n"
   ]
  },
  {
   "cell_type": "code",
   "execution_count": 206,
   "metadata": {},
   "outputs": [
    {
     "name": "stdout",
     "output_type": "stream",
     "text": [
      "ROC_AUC:0.6297641592592421\n",
      "Accuracy:0.14241486068111456\n",
      "Precision:0.14596751116515774\n",
      "F1-score:0.1280448362359166\n"
     ]
    },
    {
     "name": "stderr",
     "output_type": "stream",
     "text": [
      "/data/home/spushkov/.conda/envs/ent_rel_env/lib/python3.8/site-packages/sklearn/metrics/_classification.py:1327: UndefinedMetricWarning: Precision is ill-defined and being set to 0.0 in labels with no predicted samples. Use `zero_division` parameter to control this behavior.\n",
      "  _warn_prf(average, modifier, msg_start, len(result))\n"
     ]
    }
   ],
   "source": [
    "svm_pred_y_titles, titles_probs = predict(svm_titles, X_test_titles,y_test_titles)"
   ]
  },
  {
   "cell_type": "code",
   "execution_count": 202,
   "metadata": {},
   "outputs": [
    {
     "data": {
      "text/plain": [
       "645"
      ]
     },
     "execution_count": 202,
     "metadata": {},
     "output_type": "execute_result"
    }
   ],
   "source": [
    "len(svm_pred_y_titles)"
   ]
  },
  {
   "cell_type": "code",
   "execution_count": 203,
   "metadata": {},
   "outputs": [
    {
     "data": {
      "text/plain": [
       "323"
      ]
     },
     "execution_count": 203,
     "metadata": {},
     "output_type": "execute_result"
    }
   ],
   "source": [
    "len(svm_pred_y_plot)"
   ]
  },
  {
   "cell_type": "code",
   "execution_count": 228,
   "metadata": {},
   "outputs": [
    {
     "data": {
      "text/plain": [
       "0.8331405780606883"
      ]
     },
     "execution_count": 228,
     "metadata": {},
     "output_type": "execute_result"
    }
   ],
   "source": [
    "roc_auc_score(y_test, np.array([titles_probs, plot_probs, y_pred_probs]).mean(0), multi_class=\"ovr\", average=\"weighted\")"
   ]
  },
  {
   "cell_type": "code",
   "execution_count": 229,
   "metadata": {},
   "outputs": [],
   "source": [
    "final_preds_probs = pd.DataFrame({'CV': y_pred_cv, 'plot': svm_pred_y_plot, 'titles': svm_pred_y_titles, 'true': y_test_plot})"
   ]
  },
  {
   "cell_type": "code",
   "execution_count": 210,
   "metadata": {},
   "outputs": [],
   "source": [
    "np.array([titles_probs, plot_probs, y_pred_probs]).mean(0)"
   ]
  },
  {
   "cell_type": "code",
   "execution_count": 216,
   "metadata": {},
   "outputs": [
    {
     "data": {
      "text/plain": [
       "323"
      ]
     },
     "execution_count": 216,
     "metadata": {},
     "output_type": "execute_result"
    }
   ],
   "source": [
    "len(final_preds['true'].values)"
   ]
  },
  {
   "cell_type": "code",
   "execution_count": 215,
   "metadata": {},
   "outputs": [
    {
     "data": {
      "text/plain": [
       "323"
      ]
     },
     "execution_count": 215,
     "metadata": {},
     "output_type": "execute_result"
    }
   ],
   "source": [
    "len(final_preds['majority'].values)"
   ]
  },
  {
   "cell_type": "code",
   "execution_count": 221,
   "metadata": {},
   "outputs": [
    {
     "data": {
      "text/html": [
       "<div>\n",
       "<style scoped>\n",
       "    .dataframe tbody tr th:only-of-type {\n",
       "        vertical-align: middle;\n",
       "    }\n",
       "\n",
       "    .dataframe tbody tr th {\n",
       "        vertical-align: top;\n",
       "    }\n",
       "\n",
       "    .dataframe thead th {\n",
       "        text-align: right;\n",
       "    }\n",
       "</style>\n",
       "<table border=\"1\" class=\"dataframe\">\n",
       "  <thead>\n",
       "    <tr style=\"text-align: right;\">\n",
       "      <th></th>\n",
       "      <th>CV</th>\n",
       "      <th>plot</th>\n",
       "      <th>titles</th>\n",
       "      <th>true</th>\n",
       "      <th>majority</th>\n",
       "    </tr>\n",
       "  </thead>\n",
       "  <tbody>\n",
       "    <tr>\n",
       "      <th>299</th>\n",
       "      <td>17</td>\n",
       "      <td>8</td>\n",
       "      <td>5</td>\n",
       "      <td>6</td>\n",
       "      <td>5.0</td>\n",
       "    </tr>\n",
       "    <tr>\n",
       "      <th>501</th>\n",
       "      <td>8</td>\n",
       "      <td>0</td>\n",
       "      <td>1</td>\n",
       "      <td>0</td>\n",
       "      <td>0.0</td>\n",
       "    </tr>\n",
       "    <tr>\n",
       "      <th>631</th>\n",
       "      <td>0</td>\n",
       "      <td>3</td>\n",
       "      <td>11</td>\n",
       "      <td>5</td>\n",
       "      <td>0.0</td>\n",
       "    </tr>\n",
       "    <tr>\n",
       "      <th>2098</th>\n",
       "      <td>17</td>\n",
       "      <td>2</td>\n",
       "      <td>5</td>\n",
       "      <td>18</td>\n",
       "      <td>2.0</td>\n",
       "    </tr>\n",
       "    <tr>\n",
       "      <th>1377</th>\n",
       "      <td>18</td>\n",
       "      <td>2</td>\n",
       "      <td>11</td>\n",
       "      <td>2</td>\n",
       "      <td>2.0</td>\n",
       "    </tr>\n",
       "    <tr>\n",
       "      <th>...</th>\n",
       "      <td>...</td>\n",
       "      <td>...</td>\n",
       "      <td>...</td>\n",
       "      <td>...</td>\n",
       "      <td>...</td>\n",
       "    </tr>\n",
       "    <tr>\n",
       "      <th>1644</th>\n",
       "      <td>11</td>\n",
       "      <td>11</td>\n",
       "      <td>17</td>\n",
       "      <td>19</td>\n",
       "      <td>11.0</td>\n",
       "    </tr>\n",
       "    <tr>\n",
       "      <th>2458</th>\n",
       "      <td>0</td>\n",
       "      <td>19</td>\n",
       "      <td>17</td>\n",
       "      <td>14</td>\n",
       "      <td>0.0</td>\n",
       "    </tr>\n",
       "    <tr>\n",
       "      <th>2828</th>\n",
       "      <td>18</td>\n",
       "      <td>18</td>\n",
       "      <td>5</td>\n",
       "      <td>17</td>\n",
       "      <td>18.0</td>\n",
       "    </tr>\n",
       "    <tr>\n",
       "      <th>2942</th>\n",
       "      <td>2</td>\n",
       "      <td>6</td>\n",
       "      <td>11</td>\n",
       "      <td>7</td>\n",
       "      <td>2.0</td>\n",
       "    </tr>\n",
       "    <tr>\n",
       "      <th>693</th>\n",
       "      <td>6</td>\n",
       "      <td>6</td>\n",
       "      <td>1</td>\n",
       "      <td>5</td>\n",
       "      <td>6.0</td>\n",
       "    </tr>\n",
       "  </tbody>\n",
       "</table>\n",
       "<p>323 rows × 5 columns</p>\n",
       "</div>"
      ],
      "text/plain": [
       "      CV  plot  titles  true  majority\n",
       "299   17     8       5     6       5.0\n",
       "501    8     0       1     0       0.0\n",
       "631    0     3      11     5       0.0\n",
       "2098  17     2       5    18       2.0\n",
       "1377  18     2      11     2       2.0\n",
       "...   ..   ...     ...   ...       ...\n",
       "1644  11    11      17    19      11.0\n",
       "2458   0    19      17    14       0.0\n",
       "2828  18    18       5    17      18.0\n",
       "2942   2     6      11     7       2.0\n",
       "693    6     6       1     5       6.0\n",
       "\n",
       "[323 rows x 5 columns]"
      ]
     },
     "execution_count": 221,
     "metadata": {},
     "output_type": "execute_result"
    }
   ],
   "source": [
    "final_preds"
   ]
  },
  {
   "cell_type": "code",
   "execution_count": 222,
   "metadata": {},
   "outputs": [
    {
     "name": "stderr",
     "output_type": "stream",
     "text": [
      "/data/home/spushkov/.conda/envs/ent_rel_env/lib/python3.8/site-packages/sklearn/metrics/_classification.py:1327: UndefinedMetricWarning: Precision is ill-defined and being set to 0.0 in labels with no predicted samples. Use `zero_division` parameter to control this behavior.\n",
      "  _warn_prf(average, modifier, msg_start, len(result))\n"
     ]
    },
    {
     "data": {
      "text/plain": [
       "0.23843104652509514"
      ]
     },
     "execution_count": 222,
     "metadata": {},
     "output_type": "execute_result"
    }
   ],
   "source": [
    "precision_score(final_preds['true'],final_preds['majority'],average=\"weighted\")"
   ]
  },
  {
   "cell_type": "code",
   "execution_count": null,
   "metadata": {},
   "outputs": [],
   "source": []
  }
 ],
 "metadata": {
  "accelerator": "GPU",
  "colab": {
   "provenance": []
  },
  "gpuClass": "standard",
  "kernelspec": {
   "display_name": "Python [conda env:.conda-ent_rel_env]",
   "language": "python",
   "name": "conda-env-.conda-ent_rel_env-py"
  },
  "language_info": {
   "codemirror_mode": {
    "name": "ipython",
    "version": 3
   },
   "file_extension": ".py",
   "mimetype": "text/x-python",
   "name": "python",
   "nbconvert_exporter": "python",
   "pygments_lexer": "ipython3",
   "version": "3.8.13"
  }
 },
 "nbformat": 4,
 "nbformat_minor": 4
}
