{
 "cells": [
  {
   "cell_type": "code",
   "execution_count": 2,
   "id": "6509c0ea-741a-4451-9352-399d08be6155",
   "metadata": {},
   "outputs": [],
   "source": [
    "import pandas as pd\n",
    "import numpy as np\n",
    "import matplotlib.pyplot as plt\n",
    "import math\n",
    "import random\n",
    "import string\n",
    "from collections import Counter\n",
    "from sklearn.model_selection import train_test_split\n",
    "from sklearn.feature_extraction.text import TfidfVectorizer\n",
    "from scipy.sparse import coo_matrix\n",
    "import torch\n",
    "\n",
    "device = torch.device(\"cuda\" if torch.cuda.is_available() else \"cpu\")"
   ]
  },
  {
   "cell_type": "code",
   "execution_count": 3,
   "id": "6d57c0c8-7bb6-455c-a507-93a906bebc7b",
   "metadata": {},
   "outputs": [],
   "source": [
    "df = pd.read_csv('each_genre200.csv')"
   ]
  },
  {
   "cell_type": "code",
   "execution_count": 4,
   "id": "1c363c9a-5aec-438f-8145-0464c9289d23",
   "metadata": {},
   "outputs": [
    {
     "data": {
      "text/html": [
       "<div>\n",
       "<style scoped>\n",
       "    .dataframe tbody tr th:only-of-type {\n",
       "        vertical-align: middle;\n",
       "    }\n",
       "\n",
       "    .dataframe tbody tr th {\n",
       "        vertical-align: top;\n",
       "    }\n",
       "\n",
       "    .dataframe thead th {\n",
       "        text-align: right;\n",
       "    }\n",
       "</style>\n",
       "<table border=\"1\" class=\"dataframe\">\n",
       "  <thead>\n",
       "    <tr style=\"text-align: right;\">\n",
       "      <th></th>\n",
       "      <th>imdb_title_id</th>\n",
       "      <th>img_path</th>\n",
       "      <th>title</th>\n",
       "      <th>first_genre</th>\n",
       "      <th>description</th>\n",
       "    </tr>\n",
       "  </thead>\n",
       "  <tbody>\n",
       "    <tr>\n",
       "      <th>0</th>\n",
       "      <td>tt0068334</td>\n",
       "      <td>/content/drive/MyDrive/itmo/3sem/ML for Indust...</td>\n",
       "      <td>Il candidato</td>\n",
       "      <td>Comedy</td>\n",
       "      <td>Bill McKay is a candidate for the U.S. Senate ...</td>\n",
       "    </tr>\n",
       "    <tr>\n",
       "      <th>1</th>\n",
       "      <td>tt1305714</td>\n",
       "      <td>/content/drive/MyDrive/itmo/3sem/ML for Indust...</td>\n",
       "      <td>Make the Yuletide Gay</td>\n",
       "      <td>Comedy</td>\n",
       "      <td>A gay student who is \"out\" at college but not ...</td>\n",
       "    </tr>\n",
       "    <tr>\n",
       "      <th>2</th>\n",
       "      <td>tt0081689</td>\n",
       "      <td>/content/drive/MyDrive/itmo/3sem/ML for Indust...</td>\n",
       "      <td>Uno contro l'altro, praticamente amici</td>\n",
       "      <td>Comedy</td>\n",
       "      <td>An industrialist wants to corrupt a politician...</td>\n",
       "    </tr>\n",
       "    <tr>\n",
       "      <th>3</th>\n",
       "      <td>tt0057004</td>\n",
       "      <td>/content/drive/MyDrive/itmo/3sem/ML for Indust...</td>\n",
       "      <td>Dottore nei guai</td>\n",
       "      <td>Comedy</td>\n",
       "      <td>Dr. Simon Sparrow's (Sir Dirk Bogarde's) love ...</td>\n",
       "    </tr>\n",
       "    <tr>\n",
       "      <th>4</th>\n",
       "      <td>tt0042665</td>\n",
       "      <td>/content/drive/MyDrive/itmo/3sem/ML for Indust...</td>\n",
       "      <td>Last Holiday</td>\n",
       "      <td>Comedy</td>\n",
       "      <td>When a lonely, unappreciated farm equipment sa...</td>\n",
       "    </tr>\n",
       "  </tbody>\n",
       "</table>\n",
       "</div>"
      ],
      "text/plain": [
       "  imdb_title_id                                           img_path  \\\n",
       "0     tt0068334  /content/drive/MyDrive/itmo/3sem/ML for Indust...   \n",
       "1     tt1305714  /content/drive/MyDrive/itmo/3sem/ML for Indust...   \n",
       "2     tt0081689  /content/drive/MyDrive/itmo/3sem/ML for Indust...   \n",
       "3     tt0057004  /content/drive/MyDrive/itmo/3sem/ML for Indust...   \n",
       "4     tt0042665  /content/drive/MyDrive/itmo/3sem/ML for Indust...   \n",
       "\n",
       "                                    title first_genre  \\\n",
       "0                            Il candidato      Comedy   \n",
       "1                   Make the Yuletide Gay      Comedy   \n",
       "2  Uno contro l'altro, praticamente amici      Comedy   \n",
       "3                        Dottore nei guai      Comedy   \n",
       "4                            Last Holiday      Comedy   \n",
       "\n",
       "                                         description  \n",
       "0  Bill McKay is a candidate for the U.S. Senate ...  \n",
       "1  A gay student who is \"out\" at college but not ...  \n",
       "2  An industrialist wants to corrupt a politician...  \n",
       "3  Dr. Simon Sparrow's (Sir Dirk Bogarde's) love ...  \n",
       "4  When a lonely, unappreciated farm equipment sa...  "
      ]
     },
     "execution_count": 4,
     "metadata": {},
     "output_type": "execute_result"
    }
   ],
   "source": [
    "df.head()"
   ]
  },
  {
   "cell_type": "code",
   "execution_count": 5,
   "id": "ccbd4bb3-d5ce-407f-afc9-937972c83ef3",
   "metadata": {},
   "outputs": [],
   "source": [
    "X = df[['title','description']]\n",
    "y = df['first_genre']"
   ]
  },
  {
   "cell_type": "code",
   "execution_count": 6,
   "id": "d81b6246-f2d3-4d27-a05b-b8b32049f938",
   "metadata": {
    "tags": []
   },
   "outputs": [
    {
     "name": "stderr",
     "output_type": "stream",
     "text": [
      "[nltk_data] Downloading package stopwords to\n",
      "[nltk_data]     C:\\Users\\artem.kuzmin\\AppData\\Roaming\\nltk_data...\n",
      "[nltk_data]   Package stopwords is already up-to-date!\n",
      "[nltk_data] Downloading package wordnet to\n",
      "[nltk_data]     C:\\Users\\artem.kuzmin\\AppData\\Roaming\\nltk_data...\n",
      "[nltk_data]   Package wordnet is already up-to-date!\n",
      "[nltk_data] Downloading package punkt to\n",
      "[nltk_data]     C:\\Users\\artem.kuzmin\\AppData\\Roaming\\nltk_data...\n",
      "[nltk_data]   Package punkt is already up-to-date!\n",
      "[nltk_data] Downloading package averaged_perceptron_tagger to\n",
      "[nltk_data]     C:\\Users\\artem.kuzmin\\AppData\\Roaming\\nltk_data...\n",
      "[nltk_data]   Package averaged_perceptron_tagger is already up-to-\n",
      "[nltk_data]       date!\n",
      "[nltk_data] Downloading package universal_tagset to\n",
      "[nltk_data]     C:\\Users\\artem.kuzmin\\AppData\\Roaming\\nltk_data...\n",
      "[nltk_data]   Package universal_tagset is already up-to-date!\n",
      "[nltk_data] Downloading package omw-1.4 to\n",
      "[nltk_data]     C:\\Users\\artem.kuzmin\\AppData\\Roaming\\nltk_data...\n",
      "[nltk_data]   Package omw-1.4 is already up-to-date!\n"
     ]
    },
    {
     "data": {
      "text/plain": [
       "True"
      ]
     },
     "execution_count": 6,
     "metadata": {},
     "output_type": "execute_result"
    }
   ],
   "source": [
    "import nltk\n",
    "nltk.download('stopwords')\n",
    "\n",
    "from nltk.corpus import stopwords\n",
    "stop_words = set(stopwords.words('english')) | set(stopwords.words('french')) | set(stopwords.words('italian'))\n",
    "\n",
    "nltk.download('wordnet')\n",
    "from nltk.stem import WordNetLemmatizer \n",
    "lemmatizer = WordNetLemmatizer()\n",
    "\n",
    "nltk.download('punkt')\n",
    "nltk.download('averaged_perceptron_tagger')\n",
    "nltk.download('universal_tagset')\n",
    "nltk.download('omw-1.4')"
   ]
  },
  {
   "cell_type": "code",
   "execution_count": 7,
   "id": "c397e601-ef38-49f7-bb60-fb8a169f9259",
   "metadata": {},
   "outputs": [],
   "source": [
    "import re\n",
    "\n",
    "def clean_text(text):\n",
    "    text = re.sub(r\"[^\\w\\s]\", \"\", text, re.UNICODE)\n",
    "    text = text.lower()\n",
    "    text = [lemmatizer.lemmatize(token) for token in text.split(\" \")]\n",
    "    text = [word for word in text if not word in stop_words]\n",
    "    text = \" \".join(text)\n",
    "    text = ' '.join(text.split())\n",
    "    return text"
   ]
  },
  {
   "cell_type": "code",
   "execution_count": 8,
   "id": "5d87aeee-8612-4468-8ae1-c671e48824d8",
   "metadata": {},
   "outputs": [],
   "source": [
    "titles = X['title']\n",
    "descriptions = X['description']"
   ]
  },
  {
   "cell_type": "code",
   "execution_count": 9,
   "id": "961ca43f-7593-49a1-ad6a-c24e0f734a01",
   "metadata": {
    "tags": []
   },
   "outputs": [
    {
     "name": "stderr",
     "output_type": "stream",
     "text": [
      "C:\\Users\\artem.kuzmin\\AppData\\Local\\Temp\\ipykernel_8540\\2812944492.py:1: SettingWithCopyWarning: \n",
      "A value is trying to be set on a copy of a slice from a DataFrame.\n",
      "Try using .loc[row_indexer,col_indexer] = value instead\n",
      "\n",
      "See the caveats in the documentation: https://pandas.pydata.org/pandas-docs/stable/user_guide/indexing.html#returning-a-view-versus-a-copy\n",
      "  X['cleaned_titles'] = X['title'].apply(lambda x: clean_text(x))\n",
      "C:\\Users\\artem.kuzmin\\AppData\\Local\\Temp\\ipykernel_8540\\2812944492.py:2: SettingWithCopyWarning: \n",
      "A value is trying to be set on a copy of a slice from a DataFrame.\n",
      "Try using .loc[row_indexer,col_indexer] = value instead\n",
      "\n",
      "See the caveats in the documentation: https://pandas.pydata.org/pandas-docs/stable/user_guide/indexing.html#returning-a-view-versus-a-copy\n",
      "  X['cleaned_descriptions'] = X['description'].apply(lambda x: clean_text(x))\n"
     ]
    }
   ],
   "source": [
    "X['cleaned_titles'] = X['title'].apply(lambda x: clean_text(x))\n",
    "X['cleaned_descriptions'] = X['description'].apply(lambda x: clean_text(x))"
   ]
  },
  {
   "cell_type": "code",
   "execution_count": 10,
   "id": "0c20254f-4c67-40da-b3de-7360cbe3f661",
   "metadata": {},
   "outputs": [],
   "source": [
    "X['tokenized_titles'] = X['cleaned_titles'].apply(lambda x: x.split())\n",
    "X['tokenized_descriptions'] = X['cleaned_descriptions'].apply(lambda x: x.split())"
   ]
  },
  {
   "cell_type": "code",
   "execution_count": 11,
   "id": "704e903a-0d1b-4a40-84a1-866f8eff17f2",
   "metadata": {},
   "outputs": [],
   "source": [
    "from sklearn.preprocessing import LabelEncoder\n",
    "\n",
    "le = LabelEncoder()\n",
    "y_encoded = le.fit_transform(y)"
   ]
  },
  {
   "cell_type": "code",
   "execution_count": 12,
   "id": "9431a586-0512-46cd-a5b5-6865e2c90557",
   "metadata": {},
   "outputs": [],
   "source": [
    "X['target_encoded'] = y_encoded"
   ]
  },
  {
   "cell_type": "code",
   "execution_count": 13,
   "id": "dd2f4336-8432-4793-b5d5-503bebf67b29",
   "metadata": {},
   "outputs": [],
   "source": [
    "X_train, X_test, y_train, y_test = train_test_split(X['cleaned_descriptions'], y_encoded, test_size=0.2, random_state=42, stratify=y_encoded)"
   ]
  },
  {
   "cell_type": "code",
   "execution_count": 14,
   "id": "24b0d9e5-8b83-4306-a1ec-22482bdc1d07",
   "metadata": {},
   "outputs": [],
   "source": [
    "# create TF-IDF features\n",
    "tfidf_vectorizer = TfidfVectorizer()\n",
    "\n",
    "X_train_tfidf = tfidf_vectorizer.fit_transform(X_train)\n",
    "X_test_tfidf = tfidf_vectorizer.transform(X_test)"
   ]
  },
  {
   "cell_type": "code",
   "execution_count": 15,
   "id": "1095c18e-56f3-4cf9-8766-8e8adca2626b",
   "metadata": {
    "tags": []
   },
   "outputs": [],
   "source": [
    "from sklearn.linear_model import LogisticRegression\n",
    "lr = LogisticRegression(multi_class='multinomial',max_iter=1000).fit(X_train_tfidf, y_train)"
   ]
  },
  {
   "cell_type": "code",
   "execution_count": 16,
   "id": "a68578d9-6ab5-4df3-8ecd-f2cfde6f58f3",
   "metadata": {},
   "outputs": [],
   "source": [
    "y_pred = lr.predict(X_test_tfidf)\n",
    "y_pred_probs = lr.predict_proba(X_test_tfidf)"
   ]
  },
  {
   "cell_type": "code",
   "execution_count": 17,
   "id": "1b2ea128-5bb5-4bf8-a858-4e9dc044dbf9",
   "metadata": {},
   "outputs": [
    {
     "name": "stderr",
     "output_type": "stream",
     "text": [
      "C:\\Users\\artem.kuzmin\\Anaconda3\\lib\\site-packages\\sklearn\\metrics\\_classification.py:1318: UndefinedMetricWarning: Precision is ill-defined and being set to 0.0 in labels with no predicted samples. Use `zero_division` parameter to control this behavior.\n",
      "  _warn_prf(average, modifier, msg_start, len(result))\n"
     ]
    }
   ],
   "source": [
    "from sklearn.metrics import roc_auc_score, accuracy_score, precision_score, f1_score\n",
    "roc_auc = roc_auc_score(y_test, y_pred_probs, multi_class=\"ovr\", average=\"weighted\")\n",
    "acc = accuracy_score(y_test,y_pred)\n",
    "prec = precision_score(y_test,y_pred,average=\"weighted\")\n",
    "f1 = f1_score(y_test,y_pred,average=\"weighted\")"
   ]
  },
  {
   "cell_type": "code",
   "execution_count": 18,
   "id": "1d7484e0-3126-4384-a877-4eb0db27fea5",
   "metadata": {},
   "outputs": [
    {
     "name": "stdout",
     "output_type": "stream",
     "text": [
      "0.8190857936494454\n",
      "0.32505910165484636\n",
      "0.32353067678425407\n",
      "0.3037537516707412\n"
     ]
    }
   ],
   "source": [
    "print(roc_auc)\n",
    "print(acc)\n",
    "print(prec)\n",
    "print(f1)"
   ]
  },
  {
   "cell_type": "code",
   "execution_count": 20,
   "id": "a83f94c2-209a-4271-80ce-c5415e1dd2d9",
   "metadata": {},
   "outputs": [],
   "source": [
    "from sklearn.tree import DecisionTreeClassifier\n",
    "dt = DecisionTreeClassifier().fit(X_train_tfidf, y_train)"
   ]
  },
  {
   "cell_type": "code",
   "execution_count": 29,
   "id": "ddb2c99d-753e-46f8-a238-19f78d3aac9a",
   "metadata": {},
   "outputs": [],
   "source": [
    "y_pred = dt.predict(X_test_tfidf)\n",
    "y_pred_probs = dt.predict_proba(X_test_tfidf)"
   ]
  },
  {
   "cell_type": "code",
   "execution_count": 30,
   "id": "a8ef1002-8bdf-4ef3-8435-3d7819905e8f",
   "metadata": {},
   "outputs": [
    {
     "name": "stdout",
     "output_type": "stream",
     "text": [
      "0.5686278285395313\n",
      "0.17612293144208038\n",
      "0.18354734510285056\n",
      "0.17652615275984765\n"
     ]
    }
   ],
   "source": [
    "roc_auc = roc_auc_score(y_test, y_pred_probs, multi_class=\"ovr\", average=\"weighted\")\n",
    "acc = accuracy_score(y_test,y_pred)\n",
    "prec = precision_score(y_test,y_pred,average=\"weighted\")\n",
    "f1 = f1_score(y_test,y_pred,average=\"weighted\")\n",
    "print(roc_auc)\n",
    "print(acc)\n",
    "print(prec)\n",
    "print(f1)"
   ]
  },
  {
   "cell_type": "code",
   "execution_count": 42,
   "id": "7821df58-03b9-4aaa-9d87-76ab753eb88d",
   "metadata": {},
   "outputs": [],
   "source": [
    "from sklearn.ensemble import RandomForestClassifier\n",
    "rf = RandomForestClassifier()#.fit(X_train_tfidf, y_train)\n",
    "rf_params = {\"n_estimators\":[50,100,300,500],\n",
    "             \"max_depth\":[3,5,7,15,20],\n",
    "             \"max_features\":[2,4,6,8,10,20],\n",
    "             \"min_samples_split\":[2,4,6,8,15,20]}"
   ]
  },
  {
   "cell_type": "code",
   "execution_count": 43,
   "id": "db6f932a-e93b-41a5-806a-358231cf69ff",
   "metadata": {},
   "outputs": [
    {
     "name": "stdout",
     "output_type": "stream",
     "text": [
      "Fitting 5 folds for each of 720 candidates, totalling 3600 fits\n"
     ]
    }
   ],
   "source": [
    "from sklearn.model_selection import GridSearchCV\n",
    "rf_cv_model = GridSearchCV(rf, rf_params, cv=5, n_jobs=-1, verbose=2).fit(X_train_tfidf,y_train)"
   ]
  },
  {
   "cell_type": "code",
   "execution_count": 44,
   "id": "0b4d798b-2452-4cf9-8a69-2568fba155a8",
   "metadata": {},
   "outputs": [
    {
     "data": {
      "text/plain": [
       "{'max_depth': 20,\n",
       " 'max_features': 20,\n",
       " 'min_samples_split': 20,\n",
       " 'n_estimators': 500}"
      ]
     },
     "execution_count": 44,
     "metadata": {},
     "output_type": "execute_result"
    }
   ],
   "source": [
    "rf_cv_model.best_params_"
   ]
  },
  {
   "cell_type": "code",
   "execution_count": 54,
   "id": "f7a85ab3-af01-4b32-8e26-27c5477214a6",
   "metadata": {},
   "outputs": [],
   "source": [
    "rf_tuned = RandomForestClassifier(max_depth=50,max_features=20,min_samples_split=5,n_estimators=1000).fit(X_train_tfidf, y_train)"
   ]
  },
  {
   "cell_type": "code",
   "execution_count": 55,
   "id": "6ac8c7c3-feb0-4a40-ac8e-148efe05b6f2",
   "metadata": {},
   "outputs": [],
   "source": [
    "y_pred = rf_tuned.predict(X_test_tfidf)\n",
    "y_pred_probs = rf_tuned.predict_proba(X_test_tfidf)"
   ]
  },
  {
   "cell_type": "code",
   "execution_count": 56,
   "id": "9e8c1ef9-56b4-4d84-862a-6a2775a8996f",
   "metadata": {},
   "outputs": [
    {
     "name": "stdout",
     "output_type": "stream",
     "text": [
      "0.8042654738414443\n",
      "0.3073286052009456\n",
      "0.2862683793682286\n",
      "0.27855233569460525\n"
     ]
    },
    {
     "name": "stderr",
     "output_type": "stream",
     "text": [
      "C:\\Users\\artem.kuzmin\\Anaconda3\\lib\\site-packages\\sklearn\\metrics\\_classification.py:1318: UndefinedMetricWarning: Precision is ill-defined and being set to 0.0 in labels with no predicted samples. Use `zero_division` parameter to control this behavior.\n",
      "  _warn_prf(average, modifier, msg_start, len(result))\n"
     ]
    }
   ],
   "source": [
    "roc_auc = roc_auc_score(y_test, y_pred_probs, multi_class=\"ovr\", average=\"weighted\")\n",
    "acc = accuracy_score(y_test,y_pred)\n",
    "prec = precision_score(y_test,y_pred,average=\"weighted\")\n",
    "f1 = f1_score(y_test,y_pred,average=\"weighted\")\n",
    "print(roc_auc)\n",
    "print(acc)\n",
    "print(prec)\n",
    "print(f1)"
   ]
  },
  {
   "cell_type": "markdown",
   "id": "96c70144-e596-4430-9afb-a271468b31df",
   "metadata": {},
   "source": [
    "PyTorch Neural Network"
   ]
  },
  {
   "cell_type": "code",
   "execution_count": 95,
   "id": "f6172a78-ef7a-4f8c-b933-200f1c8a7911",
   "metadata": {},
   "outputs": [],
   "source": [
    "class MovieDataset(torch.utils.data.Dataset):\n",
    "    def __init__(self,n_rows=None):\n",
    "        mat = coo_matrix(X_train_tfidf)\n",
    "        values = mat.data\n",
    "        indices = np.vstack((mat.row, mat.col))\n",
    "\n",
    "        i = torch.LongTensor(indices)\n",
    "        v = torch.FloatTensor(values)\n",
    "        shape = mat.shape\n",
    "\n",
    "        self.x_data = torch.sparse.FloatTensor(i, v, torch.Size(shape)).to_dense().to(device)\n",
    "        self.y_data = torch.Tensor(y_train).to(device)\n",
    "        \n",
    "    def __len__(self):\n",
    "        return len(self.x_data)\n",
    "    \n",
    "    def __getitem__(self,idx):\n",
    "        preds = self.x_data[idx]\n",
    "        targets = self.y_data[idx]\n",
    "        sample = {\n",
    "            'predictors' : preds,\n",
    "            'targets': targets\n",
    "        }\n",
    "        return sample"
   ]
  },
  {
   "cell_type": "code",
   "execution_count": 96,
   "id": "9f70cf9c-3c9a-4029-908e-b9048cb54723",
   "metadata": {},
   "outputs": [],
   "source": [
    "class MyLogisticRegression(torch.nn.Module):\n",
    "    def __init__(self):\n",
    "        super(MyLogisticRegression,self).__init__()\n",
    "        input_size = t.shape[1]\n",
    "        output_size = len(np.unique(y_encoded))\n",
    "        self.hid1 = torch.nn.Linear(input_size,1000)\n",
    "        self.hid2 = torch.nn.Linear(1000,1000)\n",
    "        self.output = torch.nn.Linear(1000,output_size)\n",
    "        \n",
    "        torch.nn.init.xavier_uniform_(self.hid1.weight)\n",
    "        torch.nn.init.zeros_(self.hid1.bias)\n",
    "        torch.nn.init.xavier_uniform_(self.hid2.weight)\n",
    "        torch.nn.init.zeros_(self.hid2.bias)\n",
    "        torch.nn.init.xavier_uniform_(self.output.weight)\n",
    "        torch.nn.init.zeros_(self.output.bias)\n",
    "    \n",
    "    def forward(self,x):\n",
    "        z = torch.tanh(self.hid1(x))\n",
    "        z = torch.tanh(self.hid2(z))\n",
    "        z = self.output(z)\n",
    "        return z"
   ]
  },
  {
   "cell_type": "code",
   "execution_count": 97,
   "id": "4deb5937-b757-47f5-86a1-388fc5f33909",
   "metadata": {},
   "outputs": [
    {
     "data": {
      "text/plain": [
       "MyLogisticRegression(\n",
       "  (hid1): Linear(in_features=12908, out_features=1000, bias=True)\n",
       "  (hid2): Linear(in_features=1000, out_features=1000, bias=True)\n",
       "  (output): Linear(in_features=1000, out_features=24, bias=True)\n",
       ")"
      ]
     },
     "execution_count": 97,
     "metadata": {},
     "output_type": "execute_result"
    }
   ],
   "source": [
    "train_df = MovieDataset()\n",
    "batch_size = 32\n",
    "train_ldr = torch.utils.data.DataLoader(train_df,batch_size=batch_size,shuffle=True)\n",
    "model = MyLogisticRegression().to(device)\n",
    "model.train()"
   ]
  },
  {
   "cell_type": "code",
   "execution_count": 98,
   "id": "42d92f22-4acf-471e-9125-044440dd435e",
   "metadata": {},
   "outputs": [],
   "source": [
    "l_rate = 0.01\n",
    "loss = torch.nn.CrossEntropyLoss()\n",
    "optimizer = torch.optim.Adam(model.parameters(), lr=l_rate)"
   ]
  },
  {
   "cell_type": "code",
   "execution_count": 99,
   "id": "a04fd862-2756-4b70-a02c-5d2e2c642598",
   "metadata": {},
   "outputs": [
    {
     "name": "stdout",
     "output_type": "stream",
     "text": [
      "epoch =    0   loss = 385.5736\n",
      "epoch =   10   loss = 35.7186\n",
      "epoch =   20   loss = 32.2070\n",
      "epoch =   30   loss = 35.2560\n",
      "epoch =   40   loss = 29.1059\n",
      "epoch =   50   loss = 28.3657\n",
      "epoch =   60   loss = 39.6487\n",
      "epoch =   70   loss = 30.9993\n",
      "epoch =   80   loss = 26.4739\n",
      "epoch =   90   loss = 32.8540\n"
     ]
    }
   ],
   "source": [
    "for epoch in range(0,100):\n",
    "    epoch_loss = 0.0\n",
    "    \n",
    "    for (batch_idx,batch) in enumerate(train_ldr):\n",
    "        X = batch['predictors']\n",
    "        Y = batch['targets'].type(torch.LongTensor).to(device)\n",
    "        \n",
    "        optimizer.zero_grad()\n",
    "        output = model(X)\n",
    "        \n",
    "        loss_val = loss(output,Y)\n",
    "        epoch_loss += loss_val.item()\n",
    "        loss_val.backward()\n",
    "        optimizer.step()\n",
    "    \n",
    "    if (epoch%10==0):\n",
    "        print(\"epoch = %4d   loss = %0.4f\" % (epoch, epoch_loss))"
   ]
  },
  {
   "cell_type": "code",
   "execution_count": 100,
   "id": "4c4100a4-1398-4e75-9871-c96268e23fb8",
   "metadata": {},
   "outputs": [],
   "source": [
    "mat = coo_matrix(X_test_tfidf)\n",
    "values = mat.data\n",
    "indices = np.vstack((mat.row, mat.col))\n",
    "\n",
    "i = torch.LongTensor(indices)\n",
    "v = torch.FloatTensor(values)\n",
    "shape = mat.shape\n",
    "\n",
    "X_test_data = torch.sparse.FloatTensor(i, v, torch.Size(shape)).to_dense().to(device)"
   ]
  },
  {
   "cell_type": "code",
   "execution_count": 103,
   "id": "1d27d28f-3023-4b86-bc86-b712c3f6b53d",
   "metadata": {},
   "outputs": [],
   "source": [
    "y_pred = model(X_test_data)"
   ]
  },
  {
   "cell_type": "code",
   "execution_count": 104,
   "id": "4a68a30b-852f-46cb-8f48-4c5ceacdf7bc",
   "metadata": {},
   "outputs": [],
   "source": [
    "y_pred = [torch.argmax(y_item).item() for y_item in y_pred]"
   ]
  },
  {
   "cell_type": "code",
   "execution_count": 108,
   "id": "6c941cb7-e9db-4dd5-ad35-4c0d8d1fee75",
   "metadata": {},
   "outputs": [],
   "source": [
    "#roc_auc = roc_auc_score(y_test, y_pred_probs, multi_class=\"ovr\", average=\"weighted\")\n",
    "acc = accuracy_score(y_test,y_pred)\n",
    "prec = precision_score(y_test,y_pred,average=\"weighted\")\n",
    "f1 = f1_score(y_test,y_pred,average=\"weighted\")"
   ]
  },
  {
   "cell_type": "code",
   "execution_count": 109,
   "id": "7729e28f-3a8d-4bc8-8795-b84940f7dfcf",
   "metadata": {},
   "outputs": [
    {
     "name": "stdout",
     "output_type": "stream",
     "text": [
      "0.19976359338061467\n",
      "0.21129318547531345\n",
      "0.1968468552155207\n"
     ]
    }
   ],
   "source": [
    "print(acc)\n",
    "print(prec)\n",
    "print(f1)"
   ]
  },
  {
   "cell_type": "code",
   "execution_count": null,
   "id": "28b1339e-c564-4773-9381-94fb7f8fea28",
   "metadata": {},
   "outputs": [],
   "source": []
  }
 ],
 "metadata": {
  "kernelspec": {
   "display_name": "Python 3 (ipykernel)",
   "language": "python",
   "name": "python3"
  },
  "language_info": {
   "codemirror_mode": {
    "name": "ipython",
    "version": 3
   },
   "file_extension": ".py",
   "mimetype": "text/x-python",
   "name": "python",
   "nbconvert_exporter": "python",
   "pygments_lexer": "ipython3",
   "version": "3.9.13"
  }
 },
 "nbformat": 4,
 "nbformat_minor": 5
}
