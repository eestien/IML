{
 "cells": [
  {
   "cell_type": "code",
   "execution_count": 1,
   "id": "02706dbf-f9f5-45db-8ae0-0e6fc5d464b2",
   "metadata": {},
   "outputs": [],
   "source": [
    "import pandas as pd"
   ]
  },
  {
   "cell_type": "code",
   "execution_count": 2,
   "id": "b78d19d7-641f-4bfc-ad1c-8a746680c487",
   "metadata": {},
   "outputs": [],
   "source": [
    "from scipy import stats\n",
    "import numpy as np\n",
    "\n",
    "## Remove outliers using Z score\n",
    "\n",
    "def drop_coordinates_outliers(data):\n",
    "    data = data.copy()\n",
    "    print('Data shape before removing outliers: ', data.shape)\n",
    "    data = data[((data.lat > 0.0)&(data.lon> 0.0))]\n",
    "    z_lat, z_lon = np.abs(stats.zscore(data.lat)), np.abs(stats.zscore(data.lon))\n",
    "    \n",
    "    threshold = 2.5\n",
    "    lat_outliers = np.where(z_lat > threshold)\n",
    "    lon_outliers = np.where(z_lon > threshold)\n",
    "    \n",
    "    data_no_outliers = data.loc[~data.index.isin(np.concatenate((lat_outliers[0], lon_outliers[0])))].reset_index(drop=True)\n",
    "    print('Data shape after removing outliers: ', data.shape)\n",
    "    return data_no_outliers"
   ]
  },
  {
   "cell_type": "markdown",
   "id": "bd0018ec-824e-43ca-8595-12c373e580d6",
   "metadata": {},
   "source": [
    "### First of all we need to know the bounds of area which we will use for training"
   ]
  },
  {
   "cell_type": "code",
   "execution_count": 3,
   "id": "f7a78ef5-f8f7-4a25-9764-41d84426fd8f",
   "metadata": {},
   "outputs": [],
   "source": [
    "valid = pd.read_csv('./valid.csv')\n",
    "valid = valid.drop_duplicates()\n",
    "\n",
    "valid['hour'] = pd.to_datetime(valid['hour'], unit='s')"
   ]
  },
  {
   "cell_type": "code",
   "execution_count": 4,
   "id": "758c5c76-5e43-43ec-b9dc-18c69755811a",
   "metadata": {},
   "outputs": [
    {
     "name": "stdout",
     "output_type": "stream",
     "text": [
      "Data shape before removing outliers:  (709, 6)\n",
      "Data shape after removing outliers:  (686, 6)\n"
     ]
    },
    {
     "data": {
      "text/html": [
       "<div>\n",
       "<style scoped>\n",
       "    .dataframe tbody tr th:only-of-type {\n",
       "        vertical-align: middle;\n",
       "    }\n",
       "\n",
       "    .dataframe tbody tr th {\n",
       "        vertical-align: top;\n",
       "    }\n",
       "\n",
       "    .dataframe thead th {\n",
       "        text-align: right;\n",
       "    }\n",
       "</style>\n",
       "<table border=\"1\" class=\"dataframe\">\n",
       "  <thead>\n",
       "    <tr style=\"text-align: right;\">\n",
       "      <th></th>\n",
       "      <th>hour</th>\n",
       "      <th>lat</th>\n",
       "      <th>lon</th>\n",
       "      <th>point</th>\n",
       "      <th>sum</th>\n",
       "      <th>error</th>\n",
       "    </tr>\n",
       "  </thead>\n",
       "  <tbody>\n",
       "    <tr>\n",
       "      <th>0</th>\n",
       "      <td>2020-02-23 09:00:00</td>\n",
       "      <td>59.926986</td>\n",
       "      <td>30.318141</td>\n",
       "      <td>0101000020E6100000202C93AD71513E4070B5CC78A7F6...</td>\n",
       "      <td>5</td>\n",
       "      <td>0.421402</td>\n",
       "    </tr>\n",
       "    <tr>\n",
       "      <th>1</th>\n",
       "      <td>2020-02-20 19:00:00</td>\n",
       "      <td>59.924735</td>\n",
       "      <td>30.241784</td>\n",
       "      <td>0101000020E6100000C5FE0F8FE53D3E4033438EB75DF6...</td>\n",
       "      <td>14</td>\n",
       "      <td>0.310291</td>\n",
       "    </tr>\n",
       "    <tr>\n",
       "      <th>2</th>\n",
       "      <td>2020-02-09 15:00:00</td>\n",
       "      <td>60.002300</td>\n",
       "      <td>30.295683</td>\n",
       "      <td>0101000020E6100000AB00D6E0B14B3E40CB88A75E4B00...</td>\n",
       "      <td>5</td>\n",
       "      <td>3.754735</td>\n",
       "    </tr>\n",
       "    <tr>\n",
       "      <th>3</th>\n",
       "      <td>2020-02-17 17:00:00</td>\n",
       "      <td>59.935988</td>\n",
       "      <td>30.324878</td>\n",
       "      <td>0101000020E61000005DECCB372B533E40E4A1F770CEF7...</td>\n",
       "      <td>7</td>\n",
       "      <td>0.504735</td>\n",
       "    </tr>\n",
       "    <tr>\n",
       "      <th>4</th>\n",
       "      <td>2020-02-27 05:00:00</td>\n",
       "      <td>59.933737</td>\n",
       "      <td>30.306912</td>\n",
       "      <td>0101000020E6100000669634C7914E3E407AB3D8B484F7...</td>\n",
       "      <td>14</td>\n",
       "      <td>1.554735</td>\n",
       "    </tr>\n",
       "  </tbody>\n",
       "</table>\n",
       "</div>"
      ],
      "text/plain": [
       "                 hour        lat        lon  \\\n",
       "0 2020-02-23 09:00:00  59.926986  30.318141   \n",
       "1 2020-02-20 19:00:00  59.924735  30.241784   \n",
       "2 2020-02-09 15:00:00  60.002300  30.295683   \n",
       "3 2020-02-17 17:00:00  59.935988  30.324878   \n",
       "4 2020-02-27 05:00:00  59.933737  30.306912   \n",
       "\n",
       "                                               point  sum     error  \n",
       "0  0101000020E6100000202C93AD71513E4070B5CC78A7F6...    5  0.421402  \n",
       "1  0101000020E6100000C5FE0F8FE53D3E4033438EB75DF6...   14  0.310291  \n",
       "2  0101000020E6100000AB00D6E0B14B3E40CB88A75E4B00...    5  3.754735  \n",
       "3  0101000020E61000005DECCB372B533E40E4A1F770CEF7...    7  0.504735  \n",
       "4  0101000020E6100000669634C7914E3E407AB3D8B484F7...   14  1.554735  "
      ]
     },
     "execution_count": 4,
     "metadata": {},
     "output_type": "execute_result"
    }
   ],
   "source": [
    "valid_no_outliers = drop_coordinates_outliers(data=valid.copy())\n",
    "valid_no_outliers.head(5)"
   ]
  },
  {
   "cell_type": "code",
   "execution_count": 5,
   "id": "e612c88f-b827-4219-b971-5959102801dc",
   "metadata": {},
   "outputs": [],
   "source": [
    "LAT_MIN_BOUND, LAT_MAX_BOUND = valid_no_outliers.lat.min(), valid_no_outliers.lat.max()\n",
    "LON_MIN_BOUND, LON_MAX_BOUND = valid_no_outliers.lon.min(), valid_no_outliers.lon.max()"
   ]
  },
  {
   "cell_type": "code",
   "execution_count": 6,
   "id": "2662770f-4ae4-4602-b717-dc660fbc638f",
   "metadata": {},
   "outputs": [
    {
     "name": "stdout",
     "output_type": "stream",
     "text": [
      "Rectangle of interest:  59.82893394227072 60.03933228251395 30.14296935863054 30.53598229543283\n"
     ]
    }
   ],
   "source": [
    "print('Rectangle of interest: ', LAT_MIN_BOUND, LAT_MAX_BOUND, LON_MIN_BOUND, LON_MAX_BOUND)"
   ]
  },
  {
   "cell_type": "markdown",
   "id": "d7142112-512b-4d0e-90eb-818928258c59",
   "metadata": {},
   "source": [
    "## Read and process train data according to rectangle of interest"
   ]
  },
  {
   "cell_type": "code",
   "execution_count": 8,
   "id": "5318331e-9c59-4ce1-b708-145526df08d8",
   "metadata": {},
   "outputs": [
    {
     "name": "stdout",
     "output_type": "stream",
     "text": [
      "Train before dropping duplicates:  (8526526, 12)\n",
      "Train after dropping duplicates:  (8456776, 12)\n",
      "Train after filtering out rare cubes:  (8454375, 12)\n"
     ]
    }
   ],
   "source": [
    "train = pd.read_csv('./train_data.zip')\n",
    "print('Train before dropping duplicates: ', train.shape)\n",
    "\n",
    "train = train.drop_duplicates()\n",
    "print('Train after dropping duplicates: ', train.shape)\n",
    "\n",
    "# Filter all locations with less than 5 events in it \n",
    "train = train.groupby(\"point\").filter(lambda x: len(x) > 5)\n",
    "print('Train after filtering out rare cubes: ', train.shape)\n",
    "\n",
    "# Convert unix timestamp to normal time\n",
    "train['timestamp'] = pd.to_datetime(train['timestamp'], unit='s')\n",
    "train = train.reset_index(drop=True)"
   ]
  },
  {
   "cell_type": "code",
   "execution_count": 9,
   "id": "552bf19f-f06d-4062-a7d4-da6c795566f6",
   "metadata": {},
   "outputs": [
    {
     "name": "stdout",
     "output_type": "stream",
     "text": [
      "Train after removing cubes which are out of rectangle of interest:  (8295361, 12)\n"
     ]
    }
   ],
   "source": [
    "# Drop all cubes that are not included in rectangle of interest\n",
    "train_processed = train[((train.lat <= LAT_MAX_BOUND)&(train.lat >= LAT_MIN_BOUND)&(train.lon <= LON_MAX_BOUND)&(train.lon >= LON_MIN_BOUND))]\n",
    "print('Train after removing cubes which are out of rectangle of interest: ', train_processed.shape)"
   ]
  },
  {
   "cell_type": "code",
   "execution_count": 19,
   "id": "cc628e76-b483-4cd5-9c18-25efbfb14586",
   "metadata": {},
   "outputs": [
    {
     "data": {
      "text/html": [
       "<div>\n",
       "<style scoped>\n",
       "    .dataframe tbody tr th:only-of-type {\n",
       "        vertical-align: middle;\n",
       "    }\n",
       "\n",
       "    .dataframe tbody tr th {\n",
       "        vertical-align: top;\n",
       "    }\n",
       "\n",
       "    .dataframe thead th {\n",
       "        text-align: right;\n",
       "    }\n",
       "</style>\n",
       "<table border=\"1\" class=\"dataframe\">\n",
       "  <thead>\n",
       "    <tr style=\"text-align: right;\">\n",
       "      <th></th>\n",
       "      <th>timestamp</th>\n",
       "      <th>point</th>\n",
       "      <th>num_of_posts</th>\n",
       "    </tr>\n",
       "  </thead>\n",
       "  <tbody>\n",
       "    <tr>\n",
       "      <th>0</th>\n",
       "      <td>2019-01-01 00:00:00</td>\n",
       "      <td>0101000020E610000002BF48199F3F3E4010C569574E02...</td>\n",
       "      <td>1</td>\n",
       "    </tr>\n",
       "    <tr>\n",
       "      <th>2094695</th>\n",
       "      <td>2019-09-06 13:00:00</td>\n",
       "      <td>0101000020E6100000B8194F56B7663E4041CA35D0FCFC...</td>\n",
       "      <td>1</td>\n",
       "    </tr>\n",
       "    <tr>\n",
       "      <th>2094696</th>\n",
       "      <td>2019-09-06 13:00:00</td>\n",
       "      <td>0101000020E6100000B8194F56B7663E4053FFA7E47BF3...</td>\n",
       "      <td>1</td>\n",
       "    </tr>\n",
       "    <tr>\n",
       "      <th>2094698</th>\n",
       "      <td>2019-09-06 13:00:00</td>\n",
       "      <td>0101000020E6100000B8FFF2B7CB443E408991431816F7...</td>\n",
       "      <td>1</td>\n",
       "    </tr>\n",
       "    <tr>\n",
       "      <th>2094699</th>\n",
       "      <td>2019-09-06 13:00:00</td>\n",
       "      <td>0101000020E6100000BE54A7FF7E423E400D42027446FD...</td>\n",
       "      <td>1</td>\n",
       "    </tr>\n",
       "    <tr>\n",
       "      <th>...</th>\n",
       "      <td>...</td>\n",
       "      <td>...</td>\n",
       "      <td>...</td>\n",
       "    </tr>\n",
       "    <tr>\n",
       "      <th>1646443</th>\n",
       "      <td>2019-07-21 20:00:00</td>\n",
       "      <td>0101000020E6100000597DBB518C333E400262E887FEFD...</td>\n",
       "      <td>377</td>\n",
       "    </tr>\n",
       "    <tr>\n",
       "      <th>2562728</th>\n",
       "      <td>2019-10-19 17:00:00</td>\n",
       "      <td>0101000020E610000050D352C225383E4030E11C588EFC...</td>\n",
       "      <td>393</td>\n",
       "    </tr>\n",
       "    <tr>\n",
       "      <th>2846146</th>\n",
       "      <td>2019-11-16 17:00:00</td>\n",
       "      <td>0101000020E610000050D352C225383E4030E11C588EFC...</td>\n",
       "      <td>401</td>\n",
       "    </tr>\n",
       "    <tr>\n",
       "      <th>1646846</th>\n",
       "      <td>2019-07-21 21:00:00</td>\n",
       "      <td>0101000020E6100000597DBB518C333E400262E887FEFD...</td>\n",
       "      <td>411</td>\n",
       "    </tr>\n",
       "    <tr>\n",
       "      <th>2845545</th>\n",
       "      <td>2019-11-16 16:00:00</td>\n",
       "      <td>0101000020E610000050D352C225383E4030E11C588EFC...</td>\n",
       "      <td>540</td>\n",
       "    </tr>\n",
       "  </tbody>\n",
       "</table>\n",
       "<p>3571093 rows × 3 columns</p>\n",
       "</div>"
      ],
      "text/plain": [
       "                  timestamp  \\\n",
       "0       2019-01-01 00:00:00   \n",
       "2094695 2019-09-06 13:00:00   \n",
       "2094696 2019-09-06 13:00:00   \n",
       "2094698 2019-09-06 13:00:00   \n",
       "2094699 2019-09-06 13:00:00   \n",
       "...                     ...   \n",
       "1646443 2019-07-21 20:00:00   \n",
       "2562728 2019-10-19 17:00:00   \n",
       "2846146 2019-11-16 17:00:00   \n",
       "1646846 2019-07-21 21:00:00   \n",
       "2845545 2019-11-16 16:00:00   \n",
       "\n",
       "                                                     point  num_of_posts  \n",
       "0        0101000020E610000002BF48199F3F3E4010C569574E02...             1  \n",
       "2094695  0101000020E6100000B8194F56B7663E4041CA35D0FCFC...             1  \n",
       "2094696  0101000020E6100000B8194F56B7663E4053FFA7E47BF3...             1  \n",
       "2094698  0101000020E6100000B8FFF2B7CB443E408991431816F7...             1  \n",
       "2094699  0101000020E6100000BE54A7FF7E423E400D42027446FD...             1  \n",
       "...                                                    ...           ...  \n",
       "1646443  0101000020E6100000597DBB518C333E400262E887FEFD...           377  \n",
       "2562728  0101000020E610000050D352C225383E4030E11C588EFC...           393  \n",
       "2846146  0101000020E610000050D352C225383E4030E11C588EFC...           401  \n",
       "1646846  0101000020E6100000597DBB518C333E400262E887FEFD...           411  \n",
       "2845545  0101000020E610000050D352C225383E4030E11C588EFC...           540  \n",
       "\n",
       "[3571093 rows x 3 columns]"
      ]
     },
     "execution_count": 19,
     "metadata": {},
     "output_type": "execute_result"
    }
   ],
   "source": [
    "train_processed_x = train_processed.groupby(by=['timestamp', 'point']).size().reset_index(name='num_of_posts')\n",
    "train_processed_x.sort_values('num_of_posts')"
   ]
  },
  {
   "cell_type": "markdown",
   "id": "1b630812-5535-495b-a141-acd5648104c8",
   "metadata": {},
   "source": [
    "### Add lat and lon to grouped dataframe"
   ]
  },
  {
   "cell_type": "code",
   "execution_count": 20,
   "id": "a7046674-b830-44fc-9094-73b07a17bca5",
   "metadata": {},
   "outputs": [],
   "source": [
    "tp = train_processed.drop_duplicates(['lon', 'lat', 'point'])"
   ]
  },
  {
   "cell_type": "code",
   "execution_count": 21,
   "id": "ddd3c02a-6183-4a22-939e-3eb6dbc7a3ee",
   "metadata": {},
   "outputs": [],
   "source": [
    "train_processed_x = pd.merge(left=tp[['lon', 'lat', 'point']], right=train_processed_x, on='point', how='right')"
   ]
  },
  {
   "cell_type": "code",
   "execution_count": 47,
   "id": "3336c2bb-3c70-43dd-8784-0e72f434a2ca",
   "metadata": {},
   "outputs": [
    {
     "data": {
      "text/html": [
       "<div>\n",
       "<style scoped>\n",
       "    .dataframe tbody tr th:only-of-type {\n",
       "        vertical-align: middle;\n",
       "    }\n",
       "\n",
       "    .dataframe tbody tr th {\n",
       "        vertical-align: top;\n",
       "    }\n",
       "\n",
       "    .dataframe thead th {\n",
       "        text-align: right;\n",
       "    }\n",
       "</style>\n",
       "<table border=\"1\" class=\"dataframe\">\n",
       "  <thead>\n",
       "    <tr style=\"text-align: right;\">\n",
       "      <th></th>\n",
       "      <th>lon</th>\n",
       "      <th>lat</th>\n",
       "      <th>point</th>\n",
       "      <th>timestamp</th>\n",
       "      <th>num_of_posts</th>\n",
       "    </tr>\n",
       "  </thead>\n",
       "  <tbody>\n",
       "    <tr>\n",
       "      <th>0</th>\n",
       "      <td>30.248521</td>\n",
       "      <td>60.018016</td>\n",
       "      <td>0101000020E610000002BF48199F3F3E4010C569574E02...</td>\n",
       "      <td>2019-01-01</td>\n",
       "      <td>1</td>\n",
       "    </tr>\n",
       "    <tr>\n",
       "      <th>1</th>\n",
       "      <td>30.248521</td>\n",
       "      <td>59.850372</td>\n",
       "      <td>0101000020E610000002BF48199F3F3E40586790FFD8EC...</td>\n",
       "      <td>2019-01-01</td>\n",
       "      <td>1</td>\n",
       "    </tr>\n",
       "    <tr>\n",
       "      <th>2</th>\n",
       "      <td>30.239538</td>\n",
       "      <td>59.965226</td>\n",
       "      <td>0101000020E61000000614FD60523D3E400086058A8CFB...</td>\n",
       "      <td>2019-01-01</td>\n",
       "      <td>1</td>\n",
       "    </tr>\n",
       "    <tr>\n",
       "      <th>3</th>\n",
       "      <td>30.239538</td>\n",
       "      <td>59.858267</td>\n",
       "      <td>0101000020E61000000614FD60523D3E4074DD5BB2DBED...</td>\n",
       "      <td>2019-01-01</td>\n",
       "      <td>2</td>\n",
       "    </tr>\n",
       "    <tr>\n",
       "      <th>4</th>\n",
       "      <td>30.239538</td>\n",
       "      <td>60.037089</td>\n",
       "      <td>0101000020E61000000614FD60523D3E40D800D455BF04...</td>\n",
       "      <td>2019-01-01</td>\n",
       "      <td>1</td>\n",
       "    </tr>\n",
       "  </tbody>\n",
       "</table>\n",
       "</div>"
      ],
      "text/plain": [
       "         lon        lat                                              point  \\\n",
       "0  30.248521  60.018016  0101000020E610000002BF48199F3F3E4010C569574E02...   \n",
       "1  30.248521  59.850372  0101000020E610000002BF48199F3F3E40586790FFD8EC...   \n",
       "2  30.239538  59.965226  0101000020E61000000614FD60523D3E400086058A8CFB...   \n",
       "3  30.239538  59.858267  0101000020E61000000614FD60523D3E4074DD5BB2DBED...   \n",
       "4  30.239538  60.037089  0101000020E61000000614FD60523D3E40D800D455BF04...   \n",
       "\n",
       "   timestamp  num_of_posts  \n",
       "0 2019-01-01             1  \n",
       "1 2019-01-01             1  \n",
       "2 2019-01-01             1  \n",
       "3 2019-01-01             2  \n",
       "4 2019-01-01             1  "
      ]
     },
     "execution_count": 47,
     "metadata": {},
     "output_type": "execute_result"
    }
   ],
   "source": [
    "train_processed_x.head()"
   ]
  },
  {
   "cell_type": "code",
   "execution_count": 495,
   "id": "6cacee0c-e7ce-4bf5-9046-337de16a47f8",
   "metadata": {},
   "outputs": [],
   "source": [
    "train_processed_x.to_pickle('./train_processed.pickle')"
   ]
  },
  {
   "cell_type": "code",
   "execution_count": 8,
   "id": "aedca6e8-335b-4106-8e4b-04c851c1ad12",
   "metadata": {},
   "outputs": [],
   "source": [
    "train_processed_x = pd.read_pickle('./train_processed.pickle')"
   ]
  },
  {
   "cell_type": "code",
   "execution_count": 61,
   "id": "c52d15a3-2db5-46fe-b5a1-8402129c4398",
   "metadata": {},
   "outputs": [],
   "source": [
    "valid_no_outliers.to_pickle('./valid_processed.pickle')"
   ]
  },
  {
   "cell_type": "code",
   "execution_count": 47,
   "id": "be71c7b5-2f6d-4381-9d80-b1930c3ff383",
   "metadata": {},
   "outputs": [],
   "source": [
    "valid_no_outliers = pd.read_pickle('./valid_processed.pickle')"
   ]
  },
  {
   "cell_type": "markdown",
   "id": "8457bf27-0ccf-456b-b148-f24f2a9116fa",
   "metadata": {},
   "source": [
    "## Prepare data for LGBMRegressor"
   ]
  },
  {
   "cell_type": "markdown",
   "id": "5f99972c-6d49-4abe-95f6-f22ec7abc7e8",
   "metadata": {},
   "source": [
    "### Encode point"
   ]
  },
  {
   "cell_type": "code",
   "execution_count": 30,
   "id": "9dc112f7-35b7-4b60-896a-ce151692aced",
   "metadata": {},
   "outputs": [],
   "source": [
    "import holidays"
   ]
  },
  {
   "cell_type": "code",
   "execution_count": 20,
   "id": "77e3b306-6670-4604-82c6-9c12fe6616ad",
   "metadata": {},
   "outputs": [],
   "source": [
    "from sklearn import preprocessing\n",
    "le = preprocessing.LabelEncoder()\n",
    "le.fit(list(train_processed_x['point'])+list(valid_no_outliers['point']))\n",
    "train_processed_x['point_enc'] = le.transform(train_processed_x['point'])"
   ]
  },
  {
   "cell_type": "code",
   "execution_count": 52,
   "id": "8ed4f1c7-48b3-4a7c-b223-fae110259783",
   "metadata": {},
   "outputs": [],
   "source": [
    "valid_no_outliers['point_enc'] = le.transform(valid_no_outliers['point'])"
   ]
  },
  {
   "cell_type": "markdown",
   "id": "eb956954-5dca-4319-9603-a89ee264d226",
   "metadata": {},
   "source": [
    "### Extract features from datetime"
   ]
  },
  {
   "cell_type": "code",
   "execution_count": 31,
   "id": "6fec9005-8d06-4b03-b14d-3da1fa537c40",
   "metadata": {},
   "outputs": [],
   "source": [
    "ru_holidays = holidays.RU()\n",
    "\n",
    "def extract_features(data):\n",
    "    data[\"year\"] = data[\"timestamp\"].dt.year\n",
    "    data[\"month\"] = data[\"timestamp\"].dt.month\n",
    "    data[\"day\"] = data[\"timestamp\"].dt.day\n",
    "    data[\"weekday\"] = data[\"timestamp\"].dt.weekday\n",
    "    data[\"hour\"] = data[\"timestamp\"].dt.hour\n",
    "    data[\"weekend\"] = data[\"timestamp\"].dt.weekday // 5\n",
    "    data[\"holidays\"] = data[\"timestamp\"].apply(lambda x: int(x in ru_holidays))\n",
    "    return data"
   ]
  },
  {
   "cell_type": "code",
   "execution_count": 33,
   "id": "60d174b4-0a3d-4ad1-9c6b-e93b56966530",
   "metadata": {},
   "outputs": [],
   "source": [
    "train_processed_x = extract_features(train_processed_x)"
   ]
  },
  {
   "cell_type": "code",
   "execution_count": 37,
   "id": "dbaa56b8-df58-480d-b70d-cc5267837a70",
   "metadata": {},
   "outputs": [
    {
     "data": {
      "text/html": [
       "<div>\n",
       "<style scoped>\n",
       "    .dataframe tbody tr th:only-of-type {\n",
       "        vertical-align: middle;\n",
       "    }\n",
       "\n",
       "    .dataframe tbody tr th {\n",
       "        vertical-align: top;\n",
       "    }\n",
       "\n",
       "    .dataframe thead th {\n",
       "        text-align: right;\n",
       "    }\n",
       "</style>\n",
       "<table border=\"1\" class=\"dataframe\">\n",
       "  <thead>\n",
       "    <tr style=\"text-align: right;\">\n",
       "      <th></th>\n",
       "      <th>lon</th>\n",
       "      <th>lat</th>\n",
       "      <th>point</th>\n",
       "      <th>timestamp</th>\n",
       "      <th>num_of_posts</th>\n",
       "      <th>point_enc</th>\n",
       "      <th>year</th>\n",
       "      <th>month</th>\n",
       "      <th>day</th>\n",
       "      <th>weekday</th>\n",
       "      <th>hour</th>\n",
       "      <th>weekend</th>\n",
       "      <th>holidays</th>\n",
       "    </tr>\n",
       "  </thead>\n",
       "  <tbody>\n",
       "    <tr>\n",
       "      <th>0</th>\n",
       "      <td>30.248521</td>\n",
       "      <td>60.018016</td>\n",
       "      <td>0101000020E610000002BF48199F3F3E4010C569574E02...</td>\n",
       "      <td>2019-01-01</td>\n",
       "      <td>1</td>\n",
       "      <td>4</td>\n",
       "      <td>2019</td>\n",
       "      <td>1</td>\n",
       "      <td>1</td>\n",
       "      <td>1</td>\n",
       "      <td>0</td>\n",
       "      <td>0</td>\n",
       "      <td>1</td>\n",
       "    </tr>\n",
       "    <tr>\n",
       "      <th>1</th>\n",
       "      <td>30.248521</td>\n",
       "      <td>59.850372</td>\n",
       "      <td>0101000020E610000002BF48199F3F3E40586790FFD8EC...</td>\n",
       "      <td>2019-01-01</td>\n",
       "      <td>1</td>\n",
       "      <td>19</td>\n",
       "      <td>2019</td>\n",
       "      <td>1</td>\n",
       "      <td>1</td>\n",
       "      <td>1</td>\n",
       "      <td>0</td>\n",
       "      <td>0</td>\n",
       "      <td>1</td>\n",
       "    </tr>\n",
       "    <tr>\n",
       "      <th>2</th>\n",
       "      <td>30.239538</td>\n",
       "      <td>59.965226</td>\n",
       "      <td>0101000020E61000000614FD60523D3E400086058A8CFB...</td>\n",
       "      <td>2019-01-01</td>\n",
       "      <td>1</td>\n",
       "      <td>120</td>\n",
       "      <td>2019</td>\n",
       "      <td>1</td>\n",
       "      <td>1</td>\n",
       "      <td>1</td>\n",
       "      <td>0</td>\n",
       "      <td>0</td>\n",
       "      <td>1</td>\n",
       "    </tr>\n",
       "    <tr>\n",
       "      <th>3</th>\n",
       "      <td>30.239538</td>\n",
       "      <td>59.858267</td>\n",
       "      <td>0101000020E61000000614FD60523D3E4074DD5BB2DBED...</td>\n",
       "      <td>2019-01-01</td>\n",
       "      <td>2</td>\n",
       "      <td>137</td>\n",
       "      <td>2019</td>\n",
       "      <td>1</td>\n",
       "      <td>1</td>\n",
       "      <td>1</td>\n",
       "      <td>0</td>\n",
       "      <td>0</td>\n",
       "      <td>1</td>\n",
       "    </tr>\n",
       "    <tr>\n",
       "      <th>4</th>\n",
       "      <td>30.239538</td>\n",
       "      <td>60.037089</td>\n",
       "      <td>0101000020E61000000614FD60523D3E40D800D455BF04...</td>\n",
       "      <td>2019-01-01</td>\n",
       "      <td>1</td>\n",
       "      <td>153</td>\n",
       "      <td>2019</td>\n",
       "      <td>1</td>\n",
       "      <td>1</td>\n",
       "      <td>1</td>\n",
       "      <td>0</td>\n",
       "      <td>0</td>\n",
       "      <td>1</td>\n",
       "    </tr>\n",
       "  </tbody>\n",
       "</table>\n",
       "</div>"
      ],
      "text/plain": [
       "         lon        lat                                              point  \\\n",
       "0  30.248521  60.018016  0101000020E610000002BF48199F3F3E4010C569574E02...   \n",
       "1  30.248521  59.850372  0101000020E610000002BF48199F3F3E40586790FFD8EC...   \n",
       "2  30.239538  59.965226  0101000020E61000000614FD60523D3E400086058A8CFB...   \n",
       "3  30.239538  59.858267  0101000020E61000000614FD60523D3E4074DD5BB2DBED...   \n",
       "4  30.239538  60.037089  0101000020E61000000614FD60523D3E40D800D455BF04...   \n",
       "\n",
       "   timestamp  num_of_posts  point_enc  year  month  day  weekday  hour  \\\n",
       "0 2019-01-01             1          4  2019      1    1        1     0   \n",
       "1 2019-01-01             1         19  2019      1    1        1     0   \n",
       "2 2019-01-01             1        120  2019      1    1        1     0   \n",
       "3 2019-01-01             2        137  2019      1    1        1     0   \n",
       "4 2019-01-01             1        153  2019      1    1        1     0   \n",
       "\n",
       "   weekend  holidays  \n",
       "0        0         1  \n",
       "1        0         1  \n",
       "2        0         1  \n",
       "3        0         1  \n",
       "4        0         1  "
      ]
     },
     "execution_count": 37,
     "metadata": {},
     "output_type": "execute_result"
    }
   ],
   "source": [
    "train_processed_x.head()"
   ]
  },
  {
   "cell_type": "code",
   "execution_count": 48,
   "id": "33d4b2ef-d1c9-4d6b-8997-432c1f5aeda4",
   "metadata": {},
   "outputs": [],
   "source": [
    "valid_no_outliers = valid_no_outliers.rename({'hour': 'timestamp', 'sum': 'num_of_posts'}, axis=1)"
   ]
  },
  {
   "cell_type": "code",
   "execution_count": 50,
   "id": "8b79cad5-4657-46b8-9750-3435fdfc08fa",
   "metadata": {},
   "outputs": [],
   "source": [
    "valid_no_outliers = extract_features(valid_no_outliers.copy())"
   ]
  },
  {
   "cell_type": "code",
   "execution_count": 53,
   "id": "26e6cd3b-9913-46c3-b49b-51d5fabd6929",
   "metadata": {},
   "outputs": [
    {
     "data": {
      "text/html": [
       "<div>\n",
       "<style scoped>\n",
       "    .dataframe tbody tr th:only-of-type {\n",
       "        vertical-align: middle;\n",
       "    }\n",
       "\n",
       "    .dataframe tbody tr th {\n",
       "        vertical-align: top;\n",
       "    }\n",
       "\n",
       "    .dataframe thead th {\n",
       "        text-align: right;\n",
       "    }\n",
       "</style>\n",
       "<table border=\"1\" class=\"dataframe\">\n",
       "  <thead>\n",
       "    <tr style=\"text-align: right;\">\n",
       "      <th></th>\n",
       "      <th>timestamp</th>\n",
       "      <th>lat</th>\n",
       "      <th>lon</th>\n",
       "      <th>point</th>\n",
       "      <th>num_of_posts</th>\n",
       "      <th>error</th>\n",
       "      <th>year</th>\n",
       "      <th>month</th>\n",
       "      <th>day</th>\n",
       "      <th>weekday</th>\n",
       "      <th>hour</th>\n",
       "      <th>weekend</th>\n",
       "      <th>holidays</th>\n",
       "      <th>point_enc</th>\n",
       "    </tr>\n",
       "  </thead>\n",
       "  <tbody>\n",
       "    <tr>\n",
       "      <th>0</th>\n",
       "      <td>2020-02-23 09:00:00</td>\n",
       "      <td>59.926986</td>\n",
       "      <td>30.318141</td>\n",
       "      <td>0101000020E6100000202C93AD71513E4070B5CC78A7F6...</td>\n",
       "      <td>5</td>\n",
       "      <td>0.421402</td>\n",
       "      <td>2020</td>\n",
       "      <td>2</td>\n",
       "      <td>23</td>\n",
       "      <td>6</td>\n",
       "      <td>9</td>\n",
       "      <td>1</td>\n",
       "      <td>1</td>\n",
       "      <td>771</td>\n",
       "    </tr>\n",
       "    <tr>\n",
       "      <th>1</th>\n",
       "      <td>2020-02-20 19:00:00</td>\n",
       "      <td>59.924735</td>\n",
       "      <td>30.241784</td>\n",
       "      <td>0101000020E6100000C5FE0F8FE53D3E4033438EB75DF6...</td>\n",
       "      <td>14</td>\n",
       "      <td>0.310291</td>\n",
       "      <td>2020</td>\n",
       "      <td>2</td>\n",
       "      <td>20</td>\n",
       "      <td>3</td>\n",
       "      <td>19</td>\n",
       "      <td>0</td>\n",
       "      <td>0</td>\n",
       "      <td>4511</td>\n",
       "    </tr>\n",
       "    <tr>\n",
       "      <th>2</th>\n",
       "      <td>2020-02-09 15:00:00</td>\n",
       "      <td>60.002300</td>\n",
       "      <td>30.295683</td>\n",
       "      <td>0101000020E6100000AB00D6E0B14B3E40CB88A75E4B00...</td>\n",
       "      <td>5</td>\n",
       "      <td>3.754735</td>\n",
       "      <td>2020</td>\n",
       "      <td>2</td>\n",
       "      <td>9</td>\n",
       "      <td>6</td>\n",
       "      <td>15</td>\n",
       "      <td>1</td>\n",
       "      <td>0</td>\n",
       "      <td>3887</td>\n",
       "    </tr>\n",
       "    <tr>\n",
       "      <th>3</th>\n",
       "      <td>2020-02-17 17:00:00</td>\n",
       "      <td>59.935988</td>\n",
       "      <td>30.324878</td>\n",
       "      <td>0101000020E61000005DECCB372B533E40E4A1F770CEF7...</td>\n",
       "      <td>7</td>\n",
       "      <td>0.504735</td>\n",
       "      <td>2020</td>\n",
       "      <td>2</td>\n",
       "      <td>17</td>\n",
       "      <td>0</td>\n",
       "      <td>17</td>\n",
       "      <td>0</td>\n",
       "      <td>0</td>\n",
       "      <td>2169</td>\n",
       "    </tr>\n",
       "    <tr>\n",
       "      <th>4</th>\n",
       "      <td>2020-02-27 05:00:00</td>\n",
       "      <td>59.933737</td>\n",
       "      <td>30.306912</td>\n",
       "      <td>0101000020E6100000669634C7914E3E407AB3D8B484F7...</td>\n",
       "      <td>14</td>\n",
       "      <td>1.554735</td>\n",
       "      <td>2020</td>\n",
       "      <td>2</td>\n",
       "      <td>27</td>\n",
       "      <td>3</td>\n",
       "      <td>5</td>\n",
       "      <td>0</td>\n",
       "      <td>0</td>\n",
       "      <td>2342</td>\n",
       "    </tr>\n",
       "    <tr>\n",
       "      <th>...</th>\n",
       "      <td>...</td>\n",
       "      <td>...</td>\n",
       "      <td>...</td>\n",
       "      <td>...</td>\n",
       "      <td>...</td>\n",
       "      <td>...</td>\n",
       "      <td>...</td>\n",
       "      <td>...</td>\n",
       "      <td>...</td>\n",
       "      <td>...</td>\n",
       "      <td>...</td>\n",
       "      <td>...</td>\n",
       "      <td>...</td>\n",
       "      <td>...</td>\n",
       "    </tr>\n",
       "    <tr>\n",
       "      <th>645</th>\n",
       "      <td>2020-02-02 16:00:00</td>\n",
       "      <td>59.905597</td>\n",
       "      <td>30.297929</td>\n",
       "      <td>0101000020E61000006AEBE80E454C3E407F614299EAF3...</td>\n",
       "      <td>7</td>\n",
       "      <td>2.254735</td>\n",
       "      <td>2020</td>\n",
       "      <td>2</td>\n",
       "      <td>2</td>\n",
       "      <td>6</td>\n",
       "      <td>16</td>\n",
       "      <td>1</td>\n",
       "      <td>0</td>\n",
       "      <td>2429</td>\n",
       "    </tr>\n",
       "    <tr>\n",
       "      <th>646</th>\n",
       "      <td>2020-02-07 04:00:00</td>\n",
       "      <td>59.950610</td>\n",
       "      <td>30.315895</td>\n",
       "      <td>0101000020E61000006141807FDE503E402B348A98ADF9...</td>\n",
       "      <td>8</td>\n",
       "      <td>6.754735</td>\n",
       "      <td>2020</td>\n",
       "      <td>2</td>\n",
       "      <td>7</td>\n",
       "      <td>4</td>\n",
       "      <td>4</td>\n",
       "      <td>0</td>\n",
       "      <td>0</td>\n",
       "      <td>2228</td>\n",
       "    </tr>\n",
       "    <tr>\n",
       "      <th>647</th>\n",
       "      <td>2020-02-14 05:00:00</td>\n",
       "      <td>59.933737</td>\n",
       "      <td>30.309158</td>\n",
       "      <td>0101000020E6100000268147F5244F3E407AB3D8B484F7...</td>\n",
       "      <td>6</td>\n",
       "      <td>4.754735</td>\n",
       "      <td>2020</td>\n",
       "      <td>2</td>\n",
       "      <td>14</td>\n",
       "      <td>4</td>\n",
       "      <td>5</td>\n",
       "      <td>0</td>\n",
       "      <td>0</td>\n",
       "      <td>870</td>\n",
       "    </tr>\n",
       "    <tr>\n",
       "      <th>648</th>\n",
       "      <td>2020-02-03 10:00:00</td>\n",
       "      <td>59.931487</td>\n",
       "      <td>30.358565</td>\n",
       "      <td>0101000020E61000008EADE7EACA5B3E40CAE971F73AF7...</td>\n",
       "      <td>8</td>\n",
       "      <td>1.421402</td>\n",
       "      <td>2020</td>\n",
       "      <td>2</td>\n",
       "      <td>3</td>\n",
       "      <td>0</td>\n",
       "      <td>10</td>\n",
       "      <td>0</td>\n",
       "      <td>0</td>\n",
       "      <td>3199</td>\n",
       "    </tr>\n",
       "    <tr>\n",
       "      <th>649</th>\n",
       "      <td>2020-02-17 12:00:00</td>\n",
       "      <td>59.925860</td>\n",
       "      <td>30.295683</td>\n",
       "      <td>0101000020E6100000AB00D6E0B14B3E406379569882F6...</td>\n",
       "      <td>11</td>\n",
       "      <td>0.588069</td>\n",
       "      <td>2020</td>\n",
       "      <td>2</td>\n",
       "      <td>17</td>\n",
       "      <td>0</td>\n",
       "      <td>12</td>\n",
       "      <td>0</td>\n",
       "      <td>0</td>\n",
       "      <td>3872</td>\n",
       "    </tr>\n",
       "  </tbody>\n",
       "</table>\n",
       "<p>650 rows × 14 columns</p>\n",
       "</div>"
      ],
      "text/plain": [
       "              timestamp        lat        lon  \\\n",
       "0   2020-02-23 09:00:00  59.926986  30.318141   \n",
       "1   2020-02-20 19:00:00  59.924735  30.241784   \n",
       "2   2020-02-09 15:00:00  60.002300  30.295683   \n",
       "3   2020-02-17 17:00:00  59.935988  30.324878   \n",
       "4   2020-02-27 05:00:00  59.933737  30.306912   \n",
       "..                  ...        ...        ...   \n",
       "645 2020-02-02 16:00:00  59.905597  30.297929   \n",
       "646 2020-02-07 04:00:00  59.950610  30.315895   \n",
       "647 2020-02-14 05:00:00  59.933737  30.309158   \n",
       "648 2020-02-03 10:00:00  59.931487  30.358565   \n",
       "649 2020-02-17 12:00:00  59.925860  30.295683   \n",
       "\n",
       "                                                 point  num_of_posts  \\\n",
       "0    0101000020E6100000202C93AD71513E4070B5CC78A7F6...             5   \n",
       "1    0101000020E6100000C5FE0F8FE53D3E4033438EB75DF6...            14   \n",
       "2    0101000020E6100000AB00D6E0B14B3E40CB88A75E4B00...             5   \n",
       "3    0101000020E61000005DECCB372B533E40E4A1F770CEF7...             7   \n",
       "4    0101000020E6100000669634C7914E3E407AB3D8B484F7...            14   \n",
       "..                                                 ...           ...   \n",
       "645  0101000020E61000006AEBE80E454C3E407F614299EAF3...             7   \n",
       "646  0101000020E61000006141807FDE503E402B348A98ADF9...             8   \n",
       "647  0101000020E6100000268147F5244F3E407AB3D8B484F7...             6   \n",
       "648  0101000020E61000008EADE7EACA5B3E40CAE971F73AF7...             8   \n",
       "649  0101000020E6100000AB00D6E0B14B3E406379569882F6...            11   \n",
       "\n",
       "        error  year  month  day  weekday  hour  weekend  holidays  point_enc  \n",
       "0    0.421402  2020      2   23        6     9        1         1        771  \n",
       "1    0.310291  2020      2   20        3    19        0         0       4511  \n",
       "2    3.754735  2020      2    9        6    15        1         0       3887  \n",
       "3    0.504735  2020      2   17        0    17        0         0       2169  \n",
       "4    1.554735  2020      2   27        3     5        0         0       2342  \n",
       "..        ...   ...    ...  ...      ...   ...      ...       ...        ...  \n",
       "645  2.254735  2020      2    2        6    16        1         0       2429  \n",
       "646  6.754735  2020      2    7        4     4        0         0       2228  \n",
       "647  4.754735  2020      2   14        4     5        0         0        870  \n",
       "648  1.421402  2020      2    3        0    10        0         0       3199  \n",
       "649  0.588069  2020      2   17        0    12        0         0       3872  \n",
       "\n",
       "[650 rows x 14 columns]"
      ]
     },
     "execution_count": 53,
     "metadata": {},
     "output_type": "execute_result"
    }
   ],
   "source": [
    "valid_no_outliers"
   ]
  },
  {
   "cell_type": "markdown",
   "id": "f9d6a899-de8b-4243-9d44-3073b39a8c62",
   "metadata": {},
   "source": [
    "## LGBMRegressor"
   ]
  },
  {
   "cell_type": "code",
   "execution_count": 11,
   "id": "8624528c-ef10-4c3b-be20-7c439b7caf1d",
   "metadata": {},
   "outputs": [],
   "source": [
    "from lightgbm import LGBMRegressor"
   ]
  },
  {
   "cell_type": "code",
   "execution_count": 54,
   "id": "353bafab-36a7-4678-b529-ffb4b10463d5",
   "metadata": {},
   "outputs": [],
   "source": [
    "X_train, y_train = train_processed_x[['point_enc', 'year', 'month', 'day', 'weekday', 'hour', 'weekend', 'holidays']], train_processed_x['num_of_posts']\n",
    "X_valid, y_valid = valid_no_outliers[['point_enc', 'year', 'month', 'day', 'weekday', 'hour', 'weekend', 'holidays']], valid_no_outliers['num_of_posts']"
   ]
  },
  {
   "cell_type": "code",
   "execution_count": 55,
   "id": "d3d2f455-b22b-427d-86d5-76c44401033d",
   "metadata": {},
   "outputs": [
    {
     "data": {
      "text/html": [
       "<style>#sk-container-id-1 {color: black;background-color: white;}#sk-container-id-1 pre{padding: 0;}#sk-container-id-1 div.sk-toggleable {background-color: white;}#sk-container-id-1 label.sk-toggleable__label {cursor: pointer;display: block;width: 100%;margin-bottom: 0;padding: 0.3em;box-sizing: border-box;text-align: center;}#sk-container-id-1 label.sk-toggleable__label-arrow:before {content: \"▸\";float: left;margin-right: 0.25em;color: #696969;}#sk-container-id-1 label.sk-toggleable__label-arrow:hover:before {color: black;}#sk-container-id-1 div.sk-estimator:hover label.sk-toggleable__label-arrow:before {color: black;}#sk-container-id-1 div.sk-toggleable__content {max-height: 0;max-width: 0;overflow: hidden;text-align: left;background-color: #f0f8ff;}#sk-container-id-1 div.sk-toggleable__content pre {margin: 0.2em;color: black;border-radius: 0.25em;background-color: #f0f8ff;}#sk-container-id-1 input.sk-toggleable__control:checked~div.sk-toggleable__content {max-height: 200px;max-width: 100%;overflow: auto;}#sk-container-id-1 input.sk-toggleable__control:checked~label.sk-toggleable__label-arrow:before {content: \"▾\";}#sk-container-id-1 div.sk-estimator input.sk-toggleable__control:checked~label.sk-toggleable__label {background-color: #d4ebff;}#sk-container-id-1 div.sk-label input.sk-toggleable__control:checked~label.sk-toggleable__label {background-color: #d4ebff;}#sk-container-id-1 input.sk-hidden--visually {border: 0;clip: rect(1px 1px 1px 1px);clip: rect(1px, 1px, 1px, 1px);height: 1px;margin: -1px;overflow: hidden;padding: 0;position: absolute;width: 1px;}#sk-container-id-1 div.sk-estimator {font-family: monospace;background-color: #f0f8ff;border: 1px dotted black;border-radius: 0.25em;box-sizing: border-box;margin-bottom: 0.5em;}#sk-container-id-1 div.sk-estimator:hover {background-color: #d4ebff;}#sk-container-id-1 div.sk-parallel-item::after {content: \"\";width: 100%;border-bottom: 1px solid gray;flex-grow: 1;}#sk-container-id-1 div.sk-label:hover label.sk-toggleable__label {background-color: #d4ebff;}#sk-container-id-1 div.sk-serial::before {content: \"\";position: absolute;border-left: 1px solid gray;box-sizing: border-box;top: 0;bottom: 0;left: 50%;z-index: 0;}#sk-container-id-1 div.sk-serial {display: flex;flex-direction: column;align-items: center;background-color: white;padding-right: 0.2em;padding-left: 0.2em;position: relative;}#sk-container-id-1 div.sk-item {position: relative;z-index: 1;}#sk-container-id-1 div.sk-parallel {display: flex;align-items: stretch;justify-content: center;background-color: white;position: relative;}#sk-container-id-1 div.sk-item::before, #sk-container-id-1 div.sk-parallel-item::before {content: \"\";position: absolute;border-left: 1px solid gray;box-sizing: border-box;top: 0;bottom: 0;left: 50%;z-index: -1;}#sk-container-id-1 div.sk-parallel-item {display: flex;flex-direction: column;z-index: 1;position: relative;background-color: white;}#sk-container-id-1 div.sk-parallel-item:first-child::after {align-self: flex-end;width: 50%;}#sk-container-id-1 div.sk-parallel-item:last-child::after {align-self: flex-start;width: 50%;}#sk-container-id-1 div.sk-parallel-item:only-child::after {width: 0;}#sk-container-id-1 div.sk-dashed-wrapped {border: 1px dashed gray;margin: 0 0.4em 0.5em 0.4em;box-sizing: border-box;padding-bottom: 0.4em;background-color: white;}#sk-container-id-1 div.sk-label label {font-family: monospace;font-weight: bold;display: inline-block;line-height: 1.2em;}#sk-container-id-1 div.sk-label-container {text-align: center;}#sk-container-id-1 div.sk-container {/* jupyter's `normalize.less` sets `[hidden] { display: none; }` but bootstrap.min.css set `[hidden] { display: none !important; }` so we also need the `!important` here to be able to override the default hidden behavior on the sphinx rendered scikit-learn.org. See: https://github.com/scikit-learn/scikit-learn/issues/21755 */display: inline-block !important;position: relative;}#sk-container-id-1 div.sk-text-repr-fallback {display: none;}</style><div id=\"sk-container-id-1\" class=\"sk-top-container\"><div class=\"sk-text-repr-fallback\"><pre>LGBMRegressor(n_jobs=25)</pre><b>In a Jupyter environment, please rerun this cell to show the HTML representation or trust the notebook. <br />On GitHub, the HTML representation is unable to render, please try loading this page with nbviewer.org.</b></div><div class=\"sk-container\" hidden><div class=\"sk-item\"><div class=\"sk-estimator sk-toggleable\"><input class=\"sk-toggleable__control sk-hidden--visually\" id=\"sk-estimator-id-1\" type=\"checkbox\" checked><label for=\"sk-estimator-id-1\" class=\"sk-toggleable__label sk-toggleable__label-arrow\">LGBMRegressor</label><div class=\"sk-toggleable__content\"><pre>LGBMRegressor(n_jobs=25)</pre></div></div></div></div></div>"
      ],
      "text/plain": [
       "LGBMRegressor(n_jobs=25)"
      ]
     },
     "execution_count": 55,
     "metadata": {},
     "output_type": "execute_result"
    }
   ],
   "source": [
    "model = LGBMRegressor(n_jobs=25)\n",
    "model.fit(X_train, y_train)\n"
   ]
  },
  {
   "cell_type": "code",
   "execution_count": 59,
   "id": "f1b25fef-e638-46dc-979d-2733fbce9828",
   "metadata": {},
   "outputs": [],
   "source": [
    "from sklearn.metrics import mean_squared_error, mean_absolute_percentage_error"
   ]
  },
  {
   "cell_type": "code",
   "execution_count": 57,
   "id": "97a8b192-9c26-42b7-bd96-2c3d49687081",
   "metadata": {},
   "outputs": [],
   "source": [
    "predicted = model.predict(X_valid)"
   ]
  },
  {
   "cell_type": "code",
   "execution_count": 67,
   "id": "8cb5028c-a22c-4b64-834f-b9572c62a1cf",
   "metadata": {},
   "outputs": [
    {
     "name": "stdout",
     "output_type": "stream",
     "text": [
      "RMSE: 62.67240069230096\n",
      "MAPE: 0.5934143461072732\n",
      "Custom metric:  1.837237587668303\n"
     ]
    }
   ],
   "source": [
    "print('RMSE:', mean_squared_error(y_valid, predicted))\n",
    "print(\"MAPE:\", mean_absolute_percentage_error(y_valid, predicted))\n",
    "print('Custom metric: ', np.mean(abs(predicted-y_valid)/predicted))"
   ]
  },
  {
   "cell_type": "code",
   "execution_count": 63,
   "id": "da4b1b51-595e-4103-99db-08190b3fead5",
   "metadata": {},
   "outputs": [],
   "source": [
    "df_pred_true = pd.DataFrame({'true': y_valid, 'predicted': predicted})"
   ]
  },
  {
   "cell_type": "code",
   "execution_count": 64,
   "id": "c35154ef-b7b5-4cdd-b826-43eb881a721a",
   "metadata": {},
   "outputs": [],
   "source": [
    "df_pred_true['Custom_M'] = np.abs(df_pred_true['predicted'] - df_pred_true['true']) / df_pred_true['predicted']"
   ]
  },
  {
   "cell_type": "markdown",
   "id": "37289fa8-1030-41bf-af68-d1ff3a0ad5e7",
   "metadata": {},
   "source": [
    "## Read test data"
   ]
  },
  {
   "cell_type": "code",
   "execution_count": 68,
   "id": "8892d329-a625-4189-b750-e127689b1b70",
   "metadata": {},
   "outputs": [],
   "source": [
    "test = pd.read_csv('./test.csv')"
   ]
  },
  {
   "cell_type": "code",
   "execution_count": 69,
   "id": "b9b17e61-fd45-4464-bb49-2ab8bd0f3e32",
   "metadata": {},
   "outputs": [
    {
     "name": "stdout",
     "output_type": "stream",
     "text": [
      "Test before dropping duplicates: (700, 6)\n",
      "Test after dropping duplicates: (700, 6)\n"
     ]
    }
   ],
   "source": [
    "print('Test before dropping duplicates:', test.shape)\n",
    "test = test.drop_duplicates()\n",
    "print('Test after dropping duplicates:', test.shape)"
   ]
  },
  {
   "cell_type": "code",
   "execution_count": 70,
   "id": "22399bcf-eb10-4499-b8fd-9a43c2dac971",
   "metadata": {},
   "outputs": [],
   "source": [
    "test['timestamp'] = pd.to_datetime(test['hour'], unit='s')"
   ]
  },
  {
   "cell_type": "code",
   "execution_count": 74,
   "id": "6bcde74b-0747-4785-96e0-23be9e05c670",
   "metadata": {},
   "outputs": [
    {
     "name": "stdout",
     "output_type": "stream",
     "text": [
      "Test after removing cubes which are out of rectangle of interest:  (700, 7)\n"
     ]
    }
   ],
   "source": [
    "# Drop all cubes that are not included in rectangle of interest\n",
    "test_processed = test[((test.lat <= LAT_MAX_BOUND)&(test.lat >= LAT_MIN_BOUND)&(test.lon <= LON_MAX_BOUND)&(test.lon >= LON_MIN_BOUND))]\n",
    "print('Test after removing cubes which are out of rectangle of interest: ', test_processed.shape)"
   ]
  },
  {
   "cell_type": "code",
   "execution_count": 75,
   "id": "3ce511b6-10f2-4893-91f0-25f56df1e902",
   "metadata": {},
   "outputs": [],
   "source": [
    "test_processed = extract_features(test_processed)\n",
    "test_processed = test_processed.rename({'sum': 'num_of_posts'}, axis=1)"
   ]
  },
  {
   "cell_type": "code",
   "execution_count": 77,
   "id": "11411f6e-ee29-4456-9662-af2b33170b7a",
   "metadata": {},
   "outputs": [],
   "source": [
    "test_processed['point_enc'] = le.transform(test_processed['point'])"
   ]
  },
  {
   "cell_type": "code",
   "execution_count": 78,
   "id": "f476672e-8d03-47f1-be1b-c0e7af44fdb9",
   "metadata": {},
   "outputs": [
    {
     "data": {
      "text/html": [
       "<div>\n",
       "<style scoped>\n",
       "    .dataframe tbody tr th:only-of-type {\n",
       "        vertical-align: middle;\n",
       "    }\n",
       "\n",
       "    .dataframe tbody tr th {\n",
       "        vertical-align: top;\n",
       "    }\n",
       "\n",
       "    .dataframe thead th {\n",
       "        text-align: right;\n",
       "    }\n",
       "</style>\n",
       "<table border=\"1\" class=\"dataframe\">\n",
       "  <thead>\n",
       "    <tr style=\"text-align: right;\">\n",
       "      <th></th>\n",
       "      <th>hour</th>\n",
       "      <th>lat</th>\n",
       "      <th>lon</th>\n",
       "      <th>point</th>\n",
       "      <th>num_of_posts</th>\n",
       "      <th>error</th>\n",
       "      <th>timestamp</th>\n",
       "      <th>year</th>\n",
       "      <th>month</th>\n",
       "      <th>day</th>\n",
       "      <th>weekday</th>\n",
       "      <th>weekend</th>\n",
       "      <th>holidays</th>\n",
       "      <th>point_enc</th>\n",
       "    </tr>\n",
       "  </thead>\n",
       "  <tbody>\n",
       "    <tr>\n",
       "      <th>0</th>\n",
       "      <td>10</td>\n",
       "      <td>59.934863</td>\n",
       "      <td>30.331616</td>\n",
       "      <td>0101000020E61000009BAC04C2E4543E40DB251193A9F7...</td>\n",
       "      <td>7</td>\n",
       "      <td>0.370265</td>\n",
       "      <td>2020-02-26 10:00:00</td>\n",
       "      <td>2020</td>\n",
       "      <td>2</td>\n",
       "      <td>26</td>\n",
       "      <td>2</td>\n",
       "      <td>0</td>\n",
       "      <td>0</td>\n",
       "      <td>3547</td>\n",
       "    </tr>\n",
       "    <tr>\n",
       "      <th>1</th>\n",
       "      <td>11</td>\n",
       "      <td>59.940488</td>\n",
       "      <td>30.329370</td>\n",
       "      <td>0101000020E6100000DBC1F19351543E4006FC5DE561F8...</td>\n",
       "      <td>6</td>\n",
       "      <td>0.754735</td>\n",
       "      <td>2020-02-17 11:00:00</td>\n",
       "      <td>2020</td>\n",
       "      <td>2</td>\n",
       "      <td>17</td>\n",
       "      <td>0</td>\n",
       "      <td>0</td>\n",
       "      <td>0</td>\n",
       "      <td>5030</td>\n",
       "    </tr>\n",
       "    <tr>\n",
       "      <th>2</th>\n",
       "      <td>16</td>\n",
       "      <td>59.905597</td>\n",
       "      <td>30.297929</td>\n",
       "      <td>0101000020E61000006AEBE80E454C3E407F614299EAF3...</td>\n",
       "      <td>5</td>\n",
       "      <td>3.754735</td>\n",
       "      <td>2020-02-12 16:00:00</td>\n",
       "      <td>2020</td>\n",
       "      <td>2</td>\n",
       "      <td>12</td>\n",
       "      <td>2</td>\n",
       "      <td>0</td>\n",
       "      <td>0</td>\n",
       "      <td>2429</td>\n",
       "    </tr>\n",
       "    <tr>\n",
       "      <th>3</th>\n",
       "      <td>13</td>\n",
       "      <td>59.921359</td>\n",
       "      <td>30.356319</td>\n",
       "      <td>0101000020E6100000CFC2D4BC375B3E401FBF4913EFF5...</td>\n",
       "      <td>16</td>\n",
       "      <td>4.088069</td>\n",
       "      <td>2020-02-12 13:00:00</td>\n",
       "      <td>2020</td>\n",
       "      <td>2</td>\n",
       "      <td>12</td>\n",
       "      <td>2</td>\n",
       "      <td>0</td>\n",
       "      <td>0</td>\n",
       "      <td>4691</td>\n",
       "    </tr>\n",
       "    <tr>\n",
       "      <th>4</th>\n",
       "      <td>13</td>\n",
       "      <td>59.939363</td>\n",
       "      <td>30.315895</td>\n",
       "      <td>0101000020E61000006141807FDE503E40A554BF083DF8...</td>\n",
       "      <td>10</td>\n",
       "      <td>2.088069</td>\n",
       "      <td>2020-02-15 13:00:00</td>\n",
       "      <td>2020</td>\n",
       "      <td>2</td>\n",
       "      <td>15</td>\n",
       "      <td>5</td>\n",
       "      <td>1</td>\n",
       "      <td>0</td>\n",
       "      <td>2259</td>\n",
       "    </tr>\n",
       "    <tr>\n",
       "      <th>...</th>\n",
       "      <td>...</td>\n",
       "      <td>...</td>\n",
       "      <td>...</td>\n",
       "      <td>...</td>\n",
       "      <td>...</td>\n",
       "      <td>...</td>\n",
       "      <td>...</td>\n",
       "      <td>...</td>\n",
       "      <td>...</td>\n",
       "      <td>...</td>\n",
       "      <td>...</td>\n",
       "      <td>...</td>\n",
       "      <td>...</td>\n",
       "      <td>...</td>\n",
       "    </tr>\n",
       "    <tr>\n",
       "      <th>695</th>\n",
       "      <td>21</td>\n",
       "      <td>59.926986</td>\n",
       "      <td>30.331616</td>\n",
       "      <td>0101000020E61000009BAC04C2E4543E4070B5CC78A7F6...</td>\n",
       "      <td>6</td>\n",
       "      <td>0.754735</td>\n",
       "      <td>2020-02-18 21:00:00</td>\n",
       "      <td>2020</td>\n",
       "      <td>2</td>\n",
       "      <td>18</td>\n",
       "      <td>1</td>\n",
       "      <td>0</td>\n",
       "      <td>0</td>\n",
       "      <td>3530</td>\n",
       "    </tr>\n",
       "    <tr>\n",
       "      <th>696</th>\n",
       "      <td>15</td>\n",
       "      <td>59.925860</td>\n",
       "      <td>30.295683</td>\n",
       "      <td>0101000020E6100000AB00D6E0B14B3E406379569882F6...</td>\n",
       "      <td>15</td>\n",
       "      <td>1.215399</td>\n",
       "      <td>2020-02-18 15:00:00</td>\n",
       "      <td>2020</td>\n",
       "      <td>2</td>\n",
       "      <td>18</td>\n",
       "      <td>1</td>\n",
       "      <td>0</td>\n",
       "      <td>0</td>\n",
       "      <td>3872</td>\n",
       "    </tr>\n",
       "    <tr>\n",
       "      <th>697</th>\n",
       "      <td>8</td>\n",
       "      <td>59.937113</td>\n",
       "      <td>30.282208</td>\n",
       "      <td>0101000020E6100000328064CC3E483E400C288C4EF3F7...</td>\n",
       "      <td>20</td>\n",
       "      <td>18.754735</td>\n",
       "      <td>2020-02-17 08:00:00</td>\n",
       "      <td>2020</td>\n",
       "      <td>2</td>\n",
       "      <td>17</td>\n",
       "      <td>0</td>\n",
       "      <td>0</td>\n",
       "      <td>0</td>\n",
       "      <td>1122</td>\n",
       "    </tr>\n",
       "    <tr>\n",
       "      <th>698</th>\n",
       "      <td>8</td>\n",
       "      <td>59.933737</td>\n",
       "      <td>30.322632</td>\n",
       "      <td>0101000020E61000009E01B90998523E407AB3D8B484F7...</td>\n",
       "      <td>8</td>\n",
       "      <td>2.754735</td>\n",
       "      <td>2020-02-19 08:00:00</td>\n",
       "      <td>2020</td>\n",
       "      <td>2</td>\n",
       "      <td>19</td>\n",
       "      <td>2</td>\n",
       "      <td>0</td>\n",
       "      <td>0</td>\n",
       "      <td>3623</td>\n",
       "    </tr>\n",
       "    <tr>\n",
       "      <th>699</th>\n",
       "      <td>11</td>\n",
       "      <td>59.921359</td>\n",
       "      <td>30.356319</td>\n",
       "      <td>0101000020E6100000CFC2D4BC375B3E401FBF4913EFF5...</td>\n",
       "      <td>12</td>\n",
       "      <td>0.254735</td>\n",
       "      <td>2020-02-15 11:00:00</td>\n",
       "      <td>2020</td>\n",
       "      <td>2</td>\n",
       "      <td>15</td>\n",
       "      <td>5</td>\n",
       "      <td>1</td>\n",
       "      <td>0</td>\n",
       "      <td>4691</td>\n",
       "    </tr>\n",
       "  </tbody>\n",
       "</table>\n",
       "<p>700 rows × 14 columns</p>\n",
       "</div>"
      ],
      "text/plain": [
       "     hour        lat        lon  \\\n",
       "0      10  59.934863  30.331616   \n",
       "1      11  59.940488  30.329370   \n",
       "2      16  59.905597  30.297929   \n",
       "3      13  59.921359  30.356319   \n",
       "4      13  59.939363  30.315895   \n",
       "..    ...        ...        ...   \n",
       "695    21  59.926986  30.331616   \n",
       "696    15  59.925860  30.295683   \n",
       "697     8  59.937113  30.282208   \n",
       "698     8  59.933737  30.322632   \n",
       "699    11  59.921359  30.356319   \n",
       "\n",
       "                                                 point  num_of_posts  \\\n",
       "0    0101000020E61000009BAC04C2E4543E40DB251193A9F7...             7   \n",
       "1    0101000020E6100000DBC1F19351543E4006FC5DE561F8...             6   \n",
       "2    0101000020E61000006AEBE80E454C3E407F614299EAF3...             5   \n",
       "3    0101000020E6100000CFC2D4BC375B3E401FBF4913EFF5...            16   \n",
       "4    0101000020E61000006141807FDE503E40A554BF083DF8...            10   \n",
       "..                                                 ...           ...   \n",
       "695  0101000020E61000009BAC04C2E4543E4070B5CC78A7F6...             6   \n",
       "696  0101000020E6100000AB00D6E0B14B3E406379569882F6...            15   \n",
       "697  0101000020E6100000328064CC3E483E400C288C4EF3F7...            20   \n",
       "698  0101000020E61000009E01B90998523E407AB3D8B484F7...             8   \n",
       "699  0101000020E6100000CFC2D4BC375B3E401FBF4913EFF5...            12   \n",
       "\n",
       "         error           timestamp  year  month  day  weekday  weekend  \\\n",
       "0     0.370265 2020-02-26 10:00:00  2020      2   26        2        0   \n",
       "1     0.754735 2020-02-17 11:00:00  2020      2   17        0        0   \n",
       "2     3.754735 2020-02-12 16:00:00  2020      2   12        2        0   \n",
       "3     4.088069 2020-02-12 13:00:00  2020      2   12        2        0   \n",
       "4     2.088069 2020-02-15 13:00:00  2020      2   15        5        1   \n",
       "..         ...                 ...   ...    ...  ...      ...      ...   \n",
       "695   0.754735 2020-02-18 21:00:00  2020      2   18        1        0   \n",
       "696   1.215399 2020-02-18 15:00:00  2020      2   18        1        0   \n",
       "697  18.754735 2020-02-17 08:00:00  2020      2   17        0        0   \n",
       "698   2.754735 2020-02-19 08:00:00  2020      2   19        2        0   \n",
       "699   0.254735 2020-02-15 11:00:00  2020      2   15        5        1   \n",
       "\n",
       "     holidays  point_enc  \n",
       "0           0       3547  \n",
       "1           0       5030  \n",
       "2           0       2429  \n",
       "3           0       4691  \n",
       "4           0       2259  \n",
       "..        ...        ...  \n",
       "695         0       3530  \n",
       "696         0       3872  \n",
       "697         0       1122  \n",
       "698         0       3623  \n",
       "699         0       4691  \n",
       "\n",
       "[700 rows x 14 columns]"
      ]
     },
     "execution_count": 78,
     "metadata": {},
     "output_type": "execute_result"
    }
   ],
   "source": [
    "test_processed"
   ]
  },
  {
   "cell_type": "code",
   "execution_count": 79,
   "id": "f873dac0-f377-4642-a8ca-83cb467b4f09",
   "metadata": {},
   "outputs": [],
   "source": [
    "X_test, y_test = test_processed[['point_enc', 'year', 'month', 'day', 'weekday', 'hour', 'weekend', 'holidays']], test_processed['num_of_posts']"
   ]
  },
  {
   "cell_type": "code",
   "execution_count": 82,
   "id": "b3942e85-cc3d-49eb-90d4-eb635de252bb",
   "metadata": {},
   "outputs": [],
   "source": [
    "test_predicted = model.predict(X_test)"
   ]
  },
  {
   "cell_type": "code",
   "execution_count": 83,
   "id": "48866270-e042-4790-97d9-8926d5f39038",
   "metadata": {},
   "outputs": [
    {
     "name": "stdout",
     "output_type": "stream",
     "text": [
      "RMSE: 65.30194982295582\n",
      "MAPE: 0.5999656840325795\n",
      "Custom metric:  1.8059154467632166\n"
     ]
    }
   ],
   "source": [
    "print('RMSE:', mean_squared_error(y_test, test_predicted))\n",
    "print(\"MAPE:\", mean_absolute_percentage_error(y_test, test_predicted))\n",
    "print('Custom metric: ', np.mean(abs(test_predicted-y_test)/test_predicted))"
   ]
  },
  {
   "cell_type": "code",
   "execution_count": 114,
   "id": "98616287-58fe-430b-8b02-3534234c319c",
   "metadata": {},
   "outputs": [],
   "source": [
    "df_pred_true = pd.DataFrame({'true': y_test, 'predicted': test_predicted})\n",
    "df_pred_true['custom_error'] = np.abs(df_pred_true['predicted'] - df_pred_true['true']) / df_pred_true['predicted']"
   ]
  },
  {
   "cell_type": "code",
   "execution_count": 115,
   "id": "1f65d3a0-99a9-4a85-bd9a-5cfe9cc1d334",
   "metadata": {},
   "outputs": [],
   "source": [
    "df_pred_true = pd.concat([df_pred_true, test_processed[['point_enc', 'timestamp']]], axis=1)"
   ]
  },
  {
   "cell_type": "code",
   "execution_count": 116,
   "id": "ae152139-b7f8-4bf7-8087-ec71497ec2b6",
   "metadata": {},
   "outputs": [
    {
     "data": {
      "text/html": [
       "<div>\n",
       "<style scoped>\n",
       "    .dataframe tbody tr th:only-of-type {\n",
       "        vertical-align: middle;\n",
       "    }\n",
       "\n",
       "    .dataframe tbody tr th {\n",
       "        vertical-align: top;\n",
       "    }\n",
       "\n",
       "    .dataframe thead th {\n",
       "        text-align: right;\n",
       "    }\n",
       "</style>\n",
       "<table border=\"1\" class=\"dataframe\">\n",
       "  <thead>\n",
       "    <tr style=\"text-align: right;\">\n",
       "      <th></th>\n",
       "      <th>true</th>\n",
       "      <th>predicted</th>\n",
       "      <th>custom_error</th>\n",
       "      <th>point_enc</th>\n",
       "      <th>timestamp</th>\n",
       "    </tr>\n",
       "  </thead>\n",
       "  <tbody>\n",
       "    <tr>\n",
       "      <th>0</th>\n",
       "      <td>7</td>\n",
       "      <td>4.203236</td>\n",
       "      <td>0.665384</td>\n",
       "      <td>3547</td>\n",
       "      <td>2020-02-26 10:00:00</td>\n",
       "    </tr>\n",
       "    <tr>\n",
       "      <th>1</th>\n",
       "      <td>6</td>\n",
       "      <td>2.812785</td>\n",
       "      <td>1.133118</td>\n",
       "      <td>5030</td>\n",
       "      <td>2020-02-17 11:00:00</td>\n",
       "    </tr>\n",
       "    <tr>\n",
       "      <th>2</th>\n",
       "      <td>5</td>\n",
       "      <td>1.679937</td>\n",
       "      <td>1.976301</td>\n",
       "      <td>2429</td>\n",
       "      <td>2020-02-12 16:00:00</td>\n",
       "    </tr>\n",
       "    <tr>\n",
       "      <th>3</th>\n",
       "      <td>16</td>\n",
       "      <td>4.314327</td>\n",
       "      <td>2.708573</td>\n",
       "      <td>4691</td>\n",
       "      <td>2020-02-12 13:00:00</td>\n",
       "    </tr>\n",
       "    <tr>\n",
       "      <th>4</th>\n",
       "      <td>10</td>\n",
       "      <td>4.339450</td>\n",
       "      <td>1.304439</td>\n",
       "      <td>2259</td>\n",
       "      <td>2020-02-15 13:00:00</td>\n",
       "    </tr>\n",
       "    <tr>\n",
       "      <th>...</th>\n",
       "      <td>...</td>\n",
       "      <td>...</td>\n",
       "      <td>...</td>\n",
       "      <td>...</td>\n",
       "      <td>...</td>\n",
       "    </tr>\n",
       "    <tr>\n",
       "      <th>695</th>\n",
       "      <td>6</td>\n",
       "      <td>2.206492</td>\n",
       "      <td>1.719248</td>\n",
       "      <td>3530</td>\n",
       "      <td>2020-02-18 21:00:00</td>\n",
       "    </tr>\n",
       "    <tr>\n",
       "      <th>696</th>\n",
       "      <td>15</td>\n",
       "      <td>2.584371</td>\n",
       "      <td>4.804119</td>\n",
       "      <td>3872</td>\n",
       "      <td>2020-02-18 15:00:00</td>\n",
       "    </tr>\n",
       "    <tr>\n",
       "      <th>697</th>\n",
       "      <td>20</td>\n",
       "      <td>3.614502</td>\n",
       "      <td>4.533265</td>\n",
       "      <td>1122</td>\n",
       "      <td>2020-02-17 08:00:00</td>\n",
       "    </tr>\n",
       "    <tr>\n",
       "      <th>698</th>\n",
       "      <td>8</td>\n",
       "      <td>4.199872</td>\n",
       "      <td>0.904820</td>\n",
       "      <td>3623</td>\n",
       "      <td>2020-02-19 08:00:00</td>\n",
       "    </tr>\n",
       "    <tr>\n",
       "      <th>699</th>\n",
       "      <td>12</td>\n",
       "      <td>4.563600</td>\n",
       "      <td>1.629503</td>\n",
       "      <td>4691</td>\n",
       "      <td>2020-02-15 11:00:00</td>\n",
       "    </tr>\n",
       "  </tbody>\n",
       "</table>\n",
       "<p>700 rows × 5 columns</p>\n",
       "</div>"
      ],
      "text/plain": [
       "     true  predicted  custom_error  point_enc           timestamp\n",
       "0       7   4.203236      0.665384       3547 2020-02-26 10:00:00\n",
       "1       6   2.812785      1.133118       5030 2020-02-17 11:00:00\n",
       "2       5   1.679937      1.976301       2429 2020-02-12 16:00:00\n",
       "3      16   4.314327      2.708573       4691 2020-02-12 13:00:00\n",
       "4      10   4.339450      1.304439       2259 2020-02-15 13:00:00\n",
       "..    ...        ...           ...        ...                 ...\n",
       "695     6   2.206492      1.719248       3530 2020-02-18 21:00:00\n",
       "696    15   2.584371      4.804119       3872 2020-02-18 15:00:00\n",
       "697    20   3.614502      4.533265       1122 2020-02-17 08:00:00\n",
       "698     8   4.199872      0.904820       3623 2020-02-19 08:00:00\n",
       "699    12   4.563600      1.629503       4691 2020-02-15 11:00:00\n",
       "\n",
       "[700 rows x 5 columns]"
      ]
     },
     "execution_count": 116,
     "metadata": {},
     "output_type": "execute_result"
    }
   ],
   "source": [
    "df_pred_true"
   ]
  },
  {
   "cell_type": "code",
   "execution_count": 117,
   "id": "1251aa27-6ef8-41c7-a0ca-20851a298de9",
   "metadata": {},
   "outputs": [
    {
     "data": {
      "text/plain": [
       "1.8059154467632166"
      ]
     },
     "execution_count": 117,
     "metadata": {},
     "output_type": "execute_result"
    }
   ],
   "source": [
    "df_pred_true.custom_error.mean()"
   ]
  },
  {
   "cell_type": "code",
   "execution_count": 89,
   "id": "1eb0d70c-6a4d-4df6-a32a-a5a610484ec3",
   "metadata": {},
   "outputs": [],
   "source": [
    "from matplotlib import pyplot as plt"
   ]
  },
  {
   "cell_type": "code",
   "execution_count": 141,
   "id": "6b5a2f05-6c97-4fe0-ab26-c2b7a388d815",
   "metadata": {},
   "outputs": [
    {
     "data": {
      "text/plain": [
       "point_enc\n",
       "179      1\n",
       "3571     1\n",
       "3530     1\n",
       "3527     1\n",
       "3514     1\n",
       "        ..\n",
       "372     18\n",
       "3503    18\n",
       "4691    19\n",
       "4362    19\n",
       "5431    27\n",
       "Name: num_of_posts, Length: 149, dtype: int64"
      ]
     },
     "execution_count": 141,
     "metadata": {},
     "output_type": "execute_result"
    }
   ],
   "source": [
    "test_processed.groupby('point_enc').num_of_posts.apply(len).sort_values()"
   ]
  },
  {
   "cell_type": "code",
   "execution_count": 136,
   "id": "2ea6253d-12fc-43d3-a16c-7500174d4f75",
   "metadata": {},
   "outputs": [],
   "source": [
    "the_most_popular_area = df_pred_true[df_pred_true.point_enc == 2503]\n",
    "the_less_popular_area = df_pred_true[df_pred_true.point_enc == 1968]"
   ]
  },
  {
   "cell_type": "code",
   "execution_count": 139,
   "id": "85e08dfb-0942-4694-b6f0-c3c273fab7ca",
   "metadata": {},
   "outputs": [
    {
     "data": {
      "image/png": "[encoded data removed]",
      "text/plain": [
       "<Figure size 1080x432 with 1 Axes>"
      ]
     },
     "metadata": {
      "needs_background": "light"
     },
     "output_type": "display_data"
    }
   ],
   "source": [
    "fig = plt.figure(figsize=(15, 6))\n",
    "ax = fig.add_subplot(111)\n",
    "plt.title('Predictions vs Real number of posts for one of the most popular areas')\n",
    "the_most_popular_area.plot( x = 'timestamp' , y = 'true', ax = ax )\n",
    "the_most_popular_area.plot( x = 'timestamp' , y = 'predicted' , ax = ax )\n",
    "plt.ylabel('Number of posts')\n",
    "plt.show()"
   ]
  },
  {
   "cell_type": "code",
   "execution_count": 140,
   "id": "7f49a9ec-2c66-4fe2-9c45-4bdd997d4ac5",
   "metadata": {},
   "outputs": [
    {
     "data": {
      "image/png": "[encoded data removed]",
      "text/plain": [
       "<Figure size 1080x432 with 1 Axes>"
      ]
     },
     "metadata": {
      "needs_background": "light"
     },
     "output_type": "display_data"
    }
   ],
   "source": [
    "fig = plt.figure(figsize=(15, 6))\n",
    "ax = fig.add_subplot(111)\n",
    "plt.title('Predictions vs Real number of posts for one of the less popular areas')\n",
    "the_less_popular_area.plot( x = 'timestamp' , y = 'true', ax = ax )\n",
    "the_less_popular_area.plot( x = 'timestamp' , y = 'predicted' , ax = ax )\n",
    "plt.ylabel('Number of posts')\n",
    "plt.show()"
   ]
  },
  {
   "cell_type": "code",
   "execution_count": null,
   "id": "0defef52-350f-4ea6-a3dd-adc097f81ba1",
   "metadata": {},
   "outputs": [],
   "source": []
  }
 ],
 "metadata": {
  "kernelspec": {
   "display_name": "Python [conda env:.conda-ent_rel_env]",
   "language": "python",
   "name": "conda-env-.conda-ent_rel_env-py"
  },
  "language_info": {
   "codemirror_mode": {
    "name": "ipython",
    "version": 3
   },
   "file_extension": ".py",
   "mimetype": "text/x-python",
   "name": "python",
   "nbconvert_exporter": "python",
   "pygments_lexer": "ipython3",
   "version": "3.8.13"
  }
 },
 "nbformat": 4,
 "nbformat_minor": 5
}
